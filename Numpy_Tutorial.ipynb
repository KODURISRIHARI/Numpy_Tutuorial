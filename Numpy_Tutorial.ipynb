{
  "nbformat": 4,
  "nbformat_minor": 0,
  "metadata": {
    "colab": {
      "provenance": [],
      "authorship_tag": "ABX9TyPCD/wV9om6CFEe3qwq92uV",
      "include_colab_link": true
    },
    "kernelspec": {
      "name": "python3",
      "display_name": "Python 3"
    },
    "language_info": {
      "name": "python"
    }
  },
  "cells": [
    {
      "cell_type": "markdown",
      "metadata": {
        "id": "view-in-github",
        "colab_type": "text"
      },
      "source": [
        "<a href=\"https://colab.research.google.com/github/KODURISRIHARI/Numpy_Tutuorial/blob/main/Numpy_Tutorial.ipynb\" target=\"_parent\"><img src=\"https://colab.research.google.com/assets/colab-badge.svg\" alt=\"Open In Colab\"/></a>"
      ]
    },
    {
      "cell_type": "markdown",
      "source": [
        "#import numpy"
      ],
      "metadata": {
        "id": "A8zloKk95zrk"
      }
    },
    {
      "cell_type": "code",
      "source": [
        "import numpy as np"
      ],
      "metadata": {
        "id": "BGNY5puN5-pI"
      },
      "execution_count": 3,
      "outputs": []
    },
    {
      "cell_type": "markdown",
      "source": [
        "##check python and numpy version"
      ],
      "metadata": {
        "id": "M_GFC-aK5zSu"
      }
    },
    {
      "cell_type": "code",
      "source": [
        "import platform\n",
        "print('Python version: ' + platform.python_version())\n",
        "print('Numpy version: ' + np.__version__)"
      ],
      "metadata": {
        "colab": {
          "base_uri": "https://localhost:8080/"
        },
        "id": "7kOoXYmo5t-B",
        "outputId": "34fe1d3d-096a-4fe8-c83e-dbb65f8da6b5"
      },
      "execution_count": null,
      "outputs": [
        {
          "output_type": "stream",
          "name": "stdout",
          "text": [
            "Python version: 3.11.11\n",
            "Numpy version: 1.26.4\n"
          ]
        }
      ]
    },
    {
      "cell_type": "markdown",
      "source": [
        "Numpy Data Types \\\n",
        "Numpy has the following data types:\n",
        "\n",
        "**int \\\n",
        "float \\\n",
        "complex\\\n",
        "bool\\\n",
        "string\\\n",
        "unicode\\\n",
        "object**"
      ],
      "metadata": {
        "id": "uRsRS2M_o_oe"
      }
    },
    {
      "cell_type": "markdown",
      "source": [
        "The numeric data types have various precisions like 32-bit or 64-bit.\n",
        "\n",
        "Numpy data types can be represented using either Type or Type Code"
      ],
      "metadata": {
        "id": "nb3CkFPLpjQy"
      }
    },
    {
      "cell_type": "markdown",
      "source": [
        "# *Numpy Data Types*"
      ],
      "metadata": {
        "id": "1W5Z5xQl6Ld-"
      }
    },
    {
      "cell_type": "code",
      "source": [
        "import pandas as pd\n",
        "dtypes = pd.DataFrame(\n",
        "    {\n",
        "        'Type': ['int8', 'uint8', 'int16', 'uint16', 'int32', 'uint32', 'int64', 'uint64', 'float16', 'float32', 'float64', 'float128', 'complex64', 'complex128', 'bool', 'object', 'string_', 'unicode_'],\n",
        "        'Type Code': ['i1', 'u1', 'i2', 'u2', 'i4', 'u4', 'i8', 'u8', 'f2', 'f4 or f', 'f8 or d', 'f16 or g', 'c8', 'c16', '', 'O', 'S', 'U']\n",
        "    }\n",
        ")\n",
        "\n",
        "dtypes"
      ],
      "metadata": {
        "id": "CbPn6_mBpuji",
        "colab": {
          "base_uri": "https://localhost:8080/",
          "height": 614
        },
        "outputId": "472ac5d1-60fd-444f-f415-54b0d340df85"
      },
      "execution_count": 1,
      "outputs": [
        {
          "output_type": "execute_result",
          "data": {
            "text/plain": [
              "          Type Type Code\n",
              "0         int8        i1\n",
              "1        uint8        u1\n",
              "2        int16        i2\n",
              "3       uint16        u2\n",
              "4        int32        i4\n",
              "5       uint32        u4\n",
              "6        int64        i8\n",
              "7       uint64        u8\n",
              "8      float16        f2\n",
              "9      float32   f4 or f\n",
              "10     float64   f8 or d\n",
              "11    float128  f16 or g\n",
              "12   complex64        c8\n",
              "13  complex128       c16\n",
              "14        bool          \n",
              "15      object         O\n",
              "16     string_         S\n",
              "17    unicode_         U"
            ],
            "text/html": [
              "\n",
              "  <div id=\"df-76eddd46-e38b-4aab-be2d-33fd06cf38e9\" class=\"colab-df-container\">\n",
              "    <div>\n",
              "<style scoped>\n",
              "    .dataframe tbody tr th:only-of-type {\n",
              "        vertical-align: middle;\n",
              "    }\n",
              "\n",
              "    .dataframe tbody tr th {\n",
              "        vertical-align: top;\n",
              "    }\n",
              "\n",
              "    .dataframe thead th {\n",
              "        text-align: right;\n",
              "    }\n",
              "</style>\n",
              "<table border=\"1\" class=\"dataframe\">\n",
              "  <thead>\n",
              "    <tr style=\"text-align: right;\">\n",
              "      <th></th>\n",
              "      <th>Type</th>\n",
              "      <th>Type Code</th>\n",
              "    </tr>\n",
              "  </thead>\n",
              "  <tbody>\n",
              "    <tr>\n",
              "      <th>0</th>\n",
              "      <td>int8</td>\n",
              "      <td>i1</td>\n",
              "    </tr>\n",
              "    <tr>\n",
              "      <th>1</th>\n",
              "      <td>uint8</td>\n",
              "      <td>u1</td>\n",
              "    </tr>\n",
              "    <tr>\n",
              "      <th>2</th>\n",
              "      <td>int16</td>\n",
              "      <td>i2</td>\n",
              "    </tr>\n",
              "    <tr>\n",
              "      <th>3</th>\n",
              "      <td>uint16</td>\n",
              "      <td>u2</td>\n",
              "    </tr>\n",
              "    <tr>\n",
              "      <th>4</th>\n",
              "      <td>int32</td>\n",
              "      <td>i4</td>\n",
              "    </tr>\n",
              "    <tr>\n",
              "      <th>5</th>\n",
              "      <td>uint32</td>\n",
              "      <td>u4</td>\n",
              "    </tr>\n",
              "    <tr>\n",
              "      <th>6</th>\n",
              "      <td>int64</td>\n",
              "      <td>i8</td>\n",
              "    </tr>\n",
              "    <tr>\n",
              "      <th>7</th>\n",
              "      <td>uint64</td>\n",
              "      <td>u8</td>\n",
              "    </tr>\n",
              "    <tr>\n",
              "      <th>8</th>\n",
              "      <td>float16</td>\n",
              "      <td>f2</td>\n",
              "    </tr>\n",
              "    <tr>\n",
              "      <th>9</th>\n",
              "      <td>float32</td>\n",
              "      <td>f4 or f</td>\n",
              "    </tr>\n",
              "    <tr>\n",
              "      <th>10</th>\n",
              "      <td>float64</td>\n",
              "      <td>f8 or d</td>\n",
              "    </tr>\n",
              "    <tr>\n",
              "      <th>11</th>\n",
              "      <td>float128</td>\n",
              "      <td>f16 or g</td>\n",
              "    </tr>\n",
              "    <tr>\n",
              "      <th>12</th>\n",
              "      <td>complex64</td>\n",
              "      <td>c8</td>\n",
              "    </tr>\n",
              "    <tr>\n",
              "      <th>13</th>\n",
              "      <td>complex128</td>\n",
              "      <td>c16</td>\n",
              "    </tr>\n",
              "    <tr>\n",
              "      <th>14</th>\n",
              "      <td>bool</td>\n",
              "      <td></td>\n",
              "    </tr>\n",
              "    <tr>\n",
              "      <th>15</th>\n",
              "      <td>object</td>\n",
              "      <td>O</td>\n",
              "    </tr>\n",
              "    <tr>\n",
              "      <th>16</th>\n",
              "      <td>string_</td>\n",
              "      <td>S</td>\n",
              "    </tr>\n",
              "    <tr>\n",
              "      <th>17</th>\n",
              "      <td>unicode_</td>\n",
              "      <td>U</td>\n",
              "    </tr>\n",
              "  </tbody>\n",
              "</table>\n",
              "</div>\n",
              "    <div class=\"colab-df-buttons\">\n",
              "\n",
              "  <div class=\"colab-df-container\">\n",
              "    <button class=\"colab-df-convert\" onclick=\"convertToInteractive('df-76eddd46-e38b-4aab-be2d-33fd06cf38e9')\"\n",
              "            title=\"Convert this dataframe to an interactive table.\"\n",
              "            style=\"display:none;\">\n",
              "\n",
              "  <svg xmlns=\"http://www.w3.org/2000/svg\" height=\"24px\" viewBox=\"0 -960 960 960\">\n",
              "    <path d=\"M120-120v-720h720v720H120Zm60-500h600v-160H180v160Zm220 220h160v-160H400v160Zm0 220h160v-160H400v160ZM180-400h160v-160H180v160Zm440 0h160v-160H620v160ZM180-180h160v-160H180v160Zm440 0h160v-160H620v160Z\"/>\n",
              "  </svg>\n",
              "    </button>\n",
              "\n",
              "  <style>\n",
              "    .colab-df-container {\n",
              "      display:flex;\n",
              "      gap: 12px;\n",
              "    }\n",
              "\n",
              "    .colab-df-convert {\n",
              "      background-color: #E8F0FE;\n",
              "      border: none;\n",
              "      border-radius: 50%;\n",
              "      cursor: pointer;\n",
              "      display: none;\n",
              "      fill: #1967D2;\n",
              "      height: 32px;\n",
              "      padding: 0 0 0 0;\n",
              "      width: 32px;\n",
              "    }\n",
              "\n",
              "    .colab-df-convert:hover {\n",
              "      background-color: #E2EBFA;\n",
              "      box-shadow: 0px 1px 2px rgba(60, 64, 67, 0.3), 0px 1px 3px 1px rgba(60, 64, 67, 0.15);\n",
              "      fill: #174EA6;\n",
              "    }\n",
              "\n",
              "    .colab-df-buttons div {\n",
              "      margin-bottom: 4px;\n",
              "    }\n",
              "\n",
              "    [theme=dark] .colab-df-convert {\n",
              "      background-color: #3B4455;\n",
              "      fill: #D2E3FC;\n",
              "    }\n",
              "\n",
              "    [theme=dark] .colab-df-convert:hover {\n",
              "      background-color: #434B5C;\n",
              "      box-shadow: 0px 1px 3px 1px rgba(0, 0, 0, 0.15);\n",
              "      filter: drop-shadow(0px 1px 2px rgba(0, 0, 0, 0.3));\n",
              "      fill: #FFFFFF;\n",
              "    }\n",
              "  </style>\n",
              "\n",
              "    <script>\n",
              "      const buttonEl =\n",
              "        document.querySelector('#df-76eddd46-e38b-4aab-be2d-33fd06cf38e9 button.colab-df-convert');\n",
              "      buttonEl.style.display =\n",
              "        google.colab.kernel.accessAllowed ? 'block' : 'none';\n",
              "\n",
              "      async function convertToInteractive(key) {\n",
              "        const element = document.querySelector('#df-76eddd46-e38b-4aab-be2d-33fd06cf38e9');\n",
              "        const dataTable =\n",
              "          await google.colab.kernel.invokeFunction('convertToInteractive',\n",
              "                                                    [key], {});\n",
              "        if (!dataTable) return;\n",
              "\n",
              "        const docLinkHtml = 'Like what you see? Visit the ' +\n",
              "          '<a target=\"_blank\" href=https://colab.research.google.com/notebooks/data_table.ipynb>data table notebook</a>'\n",
              "          + ' to learn more about interactive tables.';\n",
              "        element.innerHTML = '';\n",
              "        dataTable['output_type'] = 'display_data';\n",
              "        await google.colab.output.renderOutput(dataTable, element);\n",
              "        const docLink = document.createElement('div');\n",
              "        docLink.innerHTML = docLinkHtml;\n",
              "        element.appendChild(docLink);\n",
              "      }\n",
              "    </script>\n",
              "  </div>\n",
              "\n",
              "\n",
              "<div id=\"df-98e31dd0-4ebd-48ac-a3f4-f0d7149687c5\">\n",
              "  <button class=\"colab-df-quickchart\" onclick=\"quickchart('df-98e31dd0-4ebd-48ac-a3f4-f0d7149687c5')\"\n",
              "            title=\"Suggest charts\"\n",
              "            style=\"display:none;\">\n",
              "\n",
              "<svg xmlns=\"http://www.w3.org/2000/svg\" height=\"24px\"viewBox=\"0 0 24 24\"\n",
              "     width=\"24px\">\n",
              "    <g>\n",
              "        <path d=\"M19 3H5c-1.1 0-2 .9-2 2v14c0 1.1.9 2 2 2h14c1.1 0 2-.9 2-2V5c0-1.1-.9-2-2-2zM9 17H7v-7h2v7zm4 0h-2V7h2v10zm4 0h-2v-4h2v4z\"/>\n",
              "    </g>\n",
              "</svg>\n",
              "  </button>\n",
              "\n",
              "<style>\n",
              "  .colab-df-quickchart {\n",
              "      --bg-color: #E8F0FE;\n",
              "      --fill-color: #1967D2;\n",
              "      --hover-bg-color: #E2EBFA;\n",
              "      --hover-fill-color: #174EA6;\n",
              "      --disabled-fill-color: #AAA;\n",
              "      --disabled-bg-color: #DDD;\n",
              "  }\n",
              "\n",
              "  [theme=dark] .colab-df-quickchart {\n",
              "      --bg-color: #3B4455;\n",
              "      --fill-color: #D2E3FC;\n",
              "      --hover-bg-color: #434B5C;\n",
              "      --hover-fill-color: #FFFFFF;\n",
              "      --disabled-bg-color: #3B4455;\n",
              "      --disabled-fill-color: #666;\n",
              "  }\n",
              "\n",
              "  .colab-df-quickchart {\n",
              "    background-color: var(--bg-color);\n",
              "    border: none;\n",
              "    border-radius: 50%;\n",
              "    cursor: pointer;\n",
              "    display: none;\n",
              "    fill: var(--fill-color);\n",
              "    height: 32px;\n",
              "    padding: 0;\n",
              "    width: 32px;\n",
              "  }\n",
              "\n",
              "  .colab-df-quickchart:hover {\n",
              "    background-color: var(--hover-bg-color);\n",
              "    box-shadow: 0 1px 2px rgba(60, 64, 67, 0.3), 0 1px 3px 1px rgba(60, 64, 67, 0.15);\n",
              "    fill: var(--button-hover-fill-color);\n",
              "  }\n",
              "\n",
              "  .colab-df-quickchart-complete:disabled,\n",
              "  .colab-df-quickchart-complete:disabled:hover {\n",
              "    background-color: var(--disabled-bg-color);\n",
              "    fill: var(--disabled-fill-color);\n",
              "    box-shadow: none;\n",
              "  }\n",
              "\n",
              "  .colab-df-spinner {\n",
              "    border: 2px solid var(--fill-color);\n",
              "    border-color: transparent;\n",
              "    border-bottom-color: var(--fill-color);\n",
              "    animation:\n",
              "      spin 1s steps(1) infinite;\n",
              "  }\n",
              "\n",
              "  @keyframes spin {\n",
              "    0% {\n",
              "      border-color: transparent;\n",
              "      border-bottom-color: var(--fill-color);\n",
              "      border-left-color: var(--fill-color);\n",
              "    }\n",
              "    20% {\n",
              "      border-color: transparent;\n",
              "      border-left-color: var(--fill-color);\n",
              "      border-top-color: var(--fill-color);\n",
              "    }\n",
              "    30% {\n",
              "      border-color: transparent;\n",
              "      border-left-color: var(--fill-color);\n",
              "      border-top-color: var(--fill-color);\n",
              "      border-right-color: var(--fill-color);\n",
              "    }\n",
              "    40% {\n",
              "      border-color: transparent;\n",
              "      border-right-color: var(--fill-color);\n",
              "      border-top-color: var(--fill-color);\n",
              "    }\n",
              "    60% {\n",
              "      border-color: transparent;\n",
              "      border-right-color: var(--fill-color);\n",
              "    }\n",
              "    80% {\n",
              "      border-color: transparent;\n",
              "      border-right-color: var(--fill-color);\n",
              "      border-bottom-color: var(--fill-color);\n",
              "    }\n",
              "    90% {\n",
              "      border-color: transparent;\n",
              "      border-bottom-color: var(--fill-color);\n",
              "    }\n",
              "  }\n",
              "</style>\n",
              "\n",
              "  <script>\n",
              "    async function quickchart(key) {\n",
              "      const quickchartButtonEl =\n",
              "        document.querySelector('#' + key + ' button');\n",
              "      quickchartButtonEl.disabled = true;  // To prevent multiple clicks.\n",
              "      quickchartButtonEl.classList.add('colab-df-spinner');\n",
              "      try {\n",
              "        const charts = await google.colab.kernel.invokeFunction(\n",
              "            'suggestCharts', [key], {});\n",
              "      } catch (error) {\n",
              "        console.error('Error during call to suggestCharts:', error);\n",
              "      }\n",
              "      quickchartButtonEl.classList.remove('colab-df-spinner');\n",
              "      quickchartButtonEl.classList.add('colab-df-quickchart-complete');\n",
              "    }\n",
              "    (() => {\n",
              "      let quickchartButtonEl =\n",
              "        document.querySelector('#df-98e31dd0-4ebd-48ac-a3f4-f0d7149687c5 button');\n",
              "      quickchartButtonEl.style.display =\n",
              "        google.colab.kernel.accessAllowed ? 'block' : 'none';\n",
              "    })();\n",
              "  </script>\n",
              "</div>\n",
              "\n",
              "  <div id=\"id_c3862a9b-963f-45c3-8958-84c8952d7cd8\">\n",
              "    <style>\n",
              "      .colab-df-generate {\n",
              "        background-color: #E8F0FE;\n",
              "        border: none;\n",
              "        border-radius: 50%;\n",
              "        cursor: pointer;\n",
              "        display: none;\n",
              "        fill: #1967D2;\n",
              "        height: 32px;\n",
              "        padding: 0 0 0 0;\n",
              "        width: 32px;\n",
              "      }\n",
              "\n",
              "      .colab-df-generate:hover {\n",
              "        background-color: #E2EBFA;\n",
              "        box-shadow: 0px 1px 2px rgba(60, 64, 67, 0.3), 0px 1px 3px 1px rgba(60, 64, 67, 0.15);\n",
              "        fill: #174EA6;\n",
              "      }\n",
              "\n",
              "      [theme=dark] .colab-df-generate {\n",
              "        background-color: #3B4455;\n",
              "        fill: #D2E3FC;\n",
              "      }\n",
              "\n",
              "      [theme=dark] .colab-df-generate:hover {\n",
              "        background-color: #434B5C;\n",
              "        box-shadow: 0px 1px 3px 1px rgba(0, 0, 0, 0.15);\n",
              "        filter: drop-shadow(0px 1px 2px rgba(0, 0, 0, 0.3));\n",
              "        fill: #FFFFFF;\n",
              "      }\n",
              "    </style>\n",
              "    <button class=\"colab-df-generate\" onclick=\"generateWithVariable('dtypes')\"\n",
              "            title=\"Generate code using this dataframe.\"\n",
              "            style=\"display:none;\">\n",
              "\n",
              "  <svg xmlns=\"http://www.w3.org/2000/svg\" height=\"24px\"viewBox=\"0 0 24 24\"\n",
              "       width=\"24px\">\n",
              "    <path d=\"M7,19H8.4L18.45,9,17,7.55,7,17.6ZM5,21V16.75L18.45,3.32a2,2,0,0,1,2.83,0l1.4,1.43a1.91,1.91,0,0,1,.58,1.4,1.91,1.91,0,0,1-.58,1.4L9.25,21ZM18.45,9,17,7.55Zm-12,3A5.31,5.31,0,0,0,4.9,8.1,5.31,5.31,0,0,0,1,6.5,5.31,5.31,0,0,0,4.9,4.9,5.31,5.31,0,0,0,6.5,1,5.31,5.31,0,0,0,8.1,4.9,5.31,5.31,0,0,0,12,6.5,5.46,5.46,0,0,0,6.5,12Z\"/>\n",
              "  </svg>\n",
              "    </button>\n",
              "    <script>\n",
              "      (() => {\n",
              "      const buttonEl =\n",
              "        document.querySelector('#id_c3862a9b-963f-45c3-8958-84c8952d7cd8 button.colab-df-generate');\n",
              "      buttonEl.style.display =\n",
              "        google.colab.kernel.accessAllowed ? 'block' : 'none';\n",
              "\n",
              "      buttonEl.onclick = () => {\n",
              "        google.colab.notebook.generateWithVariable('dtypes');\n",
              "      }\n",
              "      })();\n",
              "    </script>\n",
              "  </div>\n",
              "\n",
              "    </div>\n",
              "  </div>\n"
            ],
            "application/vnd.google.colaboratory.intrinsic+json": {
              "type": "dataframe",
              "variable_name": "dtypes",
              "summary": "{\n  \"name\": \"dtypes\",\n  \"rows\": 18,\n  \"fields\": [\n    {\n      \"column\": \"Type\",\n      \"properties\": {\n        \"dtype\": \"string\",\n        \"num_unique_values\": 18,\n        \"samples\": [\n          \"int8\",\n          \"uint8\",\n          \"float16\"\n        ],\n        \"semantic_type\": \"\",\n        \"description\": \"\"\n      }\n    },\n    {\n      \"column\": \"Type Code\",\n      \"properties\": {\n        \"dtype\": \"string\",\n        \"num_unique_values\": 18,\n        \"samples\": [\n          \"i1\",\n          \"u1\",\n          \"f2\"\n        ],\n        \"semantic_type\": \"\",\n        \"description\": \"\"\n      }\n    }\n  ]\n}"
            }
          },
          "metadata": {},
          "execution_count": 1
        }
      ]
    },
    {
      "cell_type": "markdown",
      "source": [
        "Data types can be defined at creating the numpy array and converted to other types later.\n",
        "\n",
        "You can use either type, type code or np dot methods to define the data type of an array, but when you use np dot method to define the data type, it can only follow type rather than type code."
      ],
      "metadata": {
        "id": "X-LiEoDNqeP7"
      }
    },
    {
      "cell_type": "code",
      "source": [
        "arr = np.array([1,2,3], dtype='f4')\n",
        "arr.dtype"
      ],
      "metadata": {
        "colab": {
          "base_uri": "https://localhost:8080/"
        },
        "id": "xpAYsulCqwdK",
        "outputId": "8fabc9e0-997b-4095-8c61-85663797dcb9"
      },
      "execution_count": null,
      "outputs": [
        {
          "output_type": "execute_result",
          "data": {
            "text/plain": [
              "dtype('float32')"
            ]
          },
          "metadata": {},
          "execution_count": 4
        }
      ]
    },
    {
      "cell_type": "code",
      "source": [
        "# Identical to the above\n",
        "arr = np.array([1,2,3], dtype='float32')\n",
        "arr.dtype"
      ],
      "metadata": {
        "colab": {
          "base_uri": "https://localhost:8080/"
        },
        "id": "0xA1rNaJqzak",
        "outputId": "612b52b6-f89b-4f86-88e4-62bdd4c4ba8a"
      },
      "execution_count": null,
      "outputs": [
        {
          "output_type": "execute_result",
          "data": {
            "text/plain": [
              "dtype('float32')"
            ]
          },
          "metadata": {},
          "execution_count": 5
        }
      ]
    },
    {
      "cell_type": "code",
      "source": [
        "arr = np.array([1+2j, 3-4j], dtype=np.complex64)\n",
        "arr.dtype"
      ],
      "metadata": {
        "colab": {
          "base_uri": "https://localhost:8080/"
        },
        "id": "djEMvBBdq1fF",
        "outputId": "833a4e1e-50f0-488b-c739-0fdfab1a5375"
      },
      "execution_count": null,
      "outputs": [
        {
          "output_type": "execute_result",
          "data": {
            "text/plain": [
              "dtype('complex64')"
            ]
          },
          "metadata": {},
          "execution_count": 6
        }
      ]
    },
    {
      "cell_type": "code",
      "source": [
        "# Identical to the above\n",
        "arr = np.array([1+2j, 3-4j], dtype='c8')\n",
        "arr.dtype"
      ],
      "metadata": {
        "colab": {
          "base_uri": "https://localhost:8080/"
        },
        "id": "n_N1CXM3q35G",
        "outputId": "1a3ffbbc-8036-477c-f581-b76ca4e9a619"
      },
      "execution_count": null,
      "outputs": [
        {
          "output_type": "execute_result",
          "data": {
            "text/plain": [
              "dtype('complex64')"
            ]
          },
          "metadata": {},
          "execution_count": 7
        }
      ]
    },
    {
      "cell_type": "code",
      "source": [
        "# ERROR\n",
        "arr = np.array([1+2j, 3-4j], dtype=np.c8)\n",
        "arr.dtype"
      ],
      "metadata": {
        "colab": {
          "base_uri": "https://localhost:8080/",
          "height": 297
        },
        "id": "OWNwltpmq8Ft",
        "outputId": "3bfe9f2e-baba-4c74-e14e-3fd7f818ad3f"
      },
      "execution_count": null,
      "outputs": [
        {
          "output_type": "error",
          "ename": "AttributeError",
          "evalue": "module 'numpy' has no attribute 'c8'",
          "traceback": [
            "\u001b[0;31m---------------------------------------------------------------------------\u001b[0m",
            "\u001b[0;31mAttributeError\u001b[0m                            Traceback (most recent call last)",
            "\u001b[0;32m<ipython-input-8-a5f30f9069f2>\u001b[0m in \u001b[0;36m<cell line: 0>\u001b[0;34m()\u001b[0m\n\u001b[1;32m      1\u001b[0m \u001b[0;31m# ERROR\u001b[0m\u001b[0;34m\u001b[0m\u001b[0;34m\u001b[0m\u001b[0m\n\u001b[0;32m----> 2\u001b[0;31m \u001b[0marr\u001b[0m \u001b[0;34m=\u001b[0m \u001b[0mnp\u001b[0m\u001b[0;34m.\u001b[0m\u001b[0marray\u001b[0m\u001b[0;34m(\u001b[0m\u001b[0;34m[\u001b[0m\u001b[0;36m1\u001b[0m\u001b[0;34m+\u001b[0m\u001b[0;36m2j\u001b[0m\u001b[0;34m,\u001b[0m \u001b[0;36m3\u001b[0m\u001b[0;34m-\u001b[0m\u001b[0;36m4j\u001b[0m\u001b[0;34m]\u001b[0m\u001b[0;34m,\u001b[0m \u001b[0mdtype\u001b[0m\u001b[0;34m=\u001b[0m\u001b[0mnp\u001b[0m\u001b[0;34m.\u001b[0m\u001b[0mc8\u001b[0m\u001b[0;34m)\u001b[0m\u001b[0;34m\u001b[0m\u001b[0;34m\u001b[0m\u001b[0m\n\u001b[0m\u001b[1;32m      3\u001b[0m \u001b[0marr\u001b[0m\u001b[0;34m.\u001b[0m\u001b[0mdtype\u001b[0m\u001b[0;34m\u001b[0m\u001b[0;34m\u001b[0m\u001b[0m\n",
            "\u001b[0;32m/usr/local/lib/python3.11/dist-packages/numpy/__init__.py\u001b[0m in \u001b[0;36m__getattr__\u001b[0;34m(attr)\u001b[0m\n\u001b[1;32m    331\u001b[0m             \u001b[0;32mraise\u001b[0m \u001b[0mRuntimeError\u001b[0m\u001b[0;34m(\u001b[0m\u001b[0;34m\"Tester was removed in NumPy 1.25.\"\u001b[0m\u001b[0;34m)\u001b[0m\u001b[0;34m\u001b[0m\u001b[0;34m\u001b[0m\u001b[0m\n\u001b[1;32m    332\u001b[0m \u001b[0;34m\u001b[0m\u001b[0m\n\u001b[0;32m--> 333\u001b[0;31m         raise AttributeError(\"module {!r} has no attribute \"\n\u001b[0m\u001b[1;32m    334\u001b[0m                              \"{!r}\".format(__name__, attr))\n\u001b[1;32m    335\u001b[0m \u001b[0;34m\u001b[0m\u001b[0m\n",
            "\u001b[0;31mAttributeError\u001b[0m: module 'numpy' has no attribute 'c8'"
          ]
        }
      ]
    },
    {
      "cell_type": "markdown",
      "source": [
        "Type Conversion\n",
        "astype method: convert the data type of an array to other data types.\n",
        "\n",
        "Notice that astype returns a copy of the array instead of converting the data type in place. You need to assign the copy to the original array or a new array."
      ],
      "metadata": {
        "id": "imAMjht8rALh"
      }
    },
    {
      "cell_type": "code",
      "source": [
        "arr = np.array([1,2,3], dtype='int16')\n",
        "print('Original Data Type: ' + str(arr.dtype))\n",
        "\n",
        "arr = arr.astype(np.float32)\n",
        "print('Data Type After Conversion: ' + str(arr.dtype))"
      ],
      "metadata": {
        "colab": {
          "base_uri": "https://localhost:8080/"
        },
        "id": "1SWkNBxXrZQn",
        "outputId": "83367fd2-ab84-4942-9360-c6958607c692"
      },
      "execution_count": null,
      "outputs": [
        {
          "output_type": "stream",
          "name": "stdout",
          "text": [
            "Original Data Type: int16\n",
            "Data Type After Conversion: float32\n"
          ]
        }
      ]
    },
    {
      "cell_type": "markdown",
      "source": [
        "WARNING: be cautious about data overflow when you downcast the data type (from higher precision to lower precision). Some unexpected and undefined values might occur and it is usually difficult to debug such issues."
      ],
      "metadata": {
        "id": "brv4KutDrlTT"
      }
    },
    {
      "cell_type": "code",
      "source": [
        "# An example of integer overflow at downcasting\n",
        "arr = np.array([126,127,256], dtype='int16')\n",
        "print('np array before type conversion: ' + str(arr))\n",
        "\n",
        "# Range of int8 [-128, 127], 256 overflows after conversion\n",
        "arr = arr.astype('int8')\n",
        "print('np array after type conversion: ' + str(arr))"
      ],
      "metadata": {
        "colab": {
          "base_uri": "https://localhost:8080/"
        },
        "id": "yXq8aOTaroT2",
        "outputId": "1c4e65b2-0a76-480b-8f66-f70c042df8f1"
      },
      "execution_count": null,
      "outputs": [
        {
          "output_type": "stream",
          "name": "stdout",
          "text": [
            "np array before type conversion: [126 127 256]\n",
            "np array after type conversion: [126 127   0]\n"
          ]
        }
      ]
    },
    {
      "cell_type": "markdown",
      "source": [
        "String and Unicode Data Type\n",
        "The string_ and unicode_ data types are all implicitly fixed-length.\n",
        "\n",
        "The length of the string is given by their type code appended with a number. For example, S3 represents string of length 3; U10 represents unicode of length 10. Otherwise, the default length is the length of the longest string in the array.\n",
        "\n",
        "If the length of a string in the array is shorter than the length of the data type defined or converted to, the string will be truncated."
      ],
      "metadata": {
        "id": "O9DKlCVgr8My"
      }
    },
    {
      "cell_type": "code",
      "source": [
        "\n",
        "# An example of truncated string\n",
        "s = np.array(['abc', 'defg'], dtype='S3')\n",
        "print(s)\n",
        "\n",
        "# An example of truncated unicode\n",
        "s = np.array(['abcd', 'efghi'], dtype='U3')\n",
        "print(s)"
      ],
      "metadata": {
        "colab": {
          "base_uri": "https://localhost:8080/"
        },
        "id": "p0LJ8c2fsMr-",
        "outputId": "87ec4269-30ec-4f78-99e9-87325b5fb4d8"
      },
      "execution_count": null,
      "outputs": [
        {
          "output_type": "stream",
          "name": "stdout",
          "text": [
            "[b'abc' b'def']\n",
            "['abc' 'efg']\n"
          ]
        }
      ]
    },
    {
      "cell_type": "code",
      "source": [
        "arr = np.array(['a', 'ab', 'abc'], dtype=np.string_)\n",
        "print('The array is ' + str(arr))\n",
        "print('The data type is ' + str(arr.dtype) + ' because the longest string in the array is \"abc\" and its length is 3.')\n",
        "\n",
        "arr = np.array(['a', 'abc', 'abcd'], dtype=np.unicode_)\n",
        "print('The array is ' + str(arr))\n",
        "print('The data type is ' + str(arr.dtype) + ' because the longest unicode in the array is \"abcd\" and its length is 4.')"
      ],
      "metadata": {
        "colab": {
          "base_uri": "https://localhost:8080/"
        },
        "id": "qx8U1iv7sNdg",
        "outputId": "3d19680c-36ae-4d44-f43f-47f75f1ef594"
      },
      "execution_count": null,
      "outputs": [
        {
          "output_type": "stream",
          "name": "stdout",
          "text": [
            "The array is [b'a' b'ab' b'abc']\n",
            "The data type is |S3 because the longest string in the array is \"abc\" and its length is 3.\n",
            "The array is ['a' 'abc' 'abcd']\n",
            "The data type is <U4 because the longest unicode in the array is \"abcd\" and its length is 4.\n"
          ]
        }
      ]
    },
    {
      "cell_type": "markdown",
      "source": [
        "# Create arrays"
      ],
      "metadata": {
        "id": "bY6xWYzu6kxJ"
      }
    },
    {
      "cell_type": "markdown",
      "source": [
        "Create an array from an iterable\n",
        "Such as\n",
        "\n",
        "list\n",
        "\n",
        "tuple\n",
        "\n",
        "range iterator\n",
        "\n",
        "Notice that not all iterables can be used to create a numpy array, such as set and dict"
      ],
      "metadata": {
        "id": "xBJw08UCsSLY"
      }
    },
    {
      "cell_type": "markdown",
      "source": [
        "**np.array(object, dtype=None, copy=True, order='K', subok=False, ndmin=0, like=None)**"
      ],
      "metadata": {
        "id": "Kcx_6eu-udUJ"
      }
    },
    {
      "cell_type": "code",
      "source": [
        "arr = np.array([1,2,3,4,5])\n",
        "print(arr)"
      ],
      "metadata": {
        "colab": {
          "base_uri": "https://localhost:8080/"
        },
        "id": "3hRe-_1RtGuD",
        "outputId": "860859a2-d6e8-4a45-cbc1-407a29dfce02"
      },
      "execution_count": null,
      "outputs": [
        {
          "output_type": "stream",
          "name": "stdout",
          "text": [
            "[1 2 3 4 5]\n"
          ]
        }
      ]
    },
    {
      "cell_type": "code",
      "source": [
        "arr = np.array((1,2,3,4,5))\n",
        "print(arr)"
      ],
      "metadata": {
        "colab": {
          "base_uri": "https://localhost:8080/"
        },
        "id": "wR_eNOyctJCf",
        "outputId": "866cf877-4549-4990-cd9c-c75a77097b21"
      },
      "execution_count": null,
      "outputs": [
        {
          "output_type": "stream",
          "name": "stdout",
          "text": [
            "[1 2 3 4 5]\n"
          ]
        }
      ]
    },
    {
      "cell_type": "code",
      "source": [
        "arr = np.array(range(10))\n",
        "print(arr)"
      ],
      "metadata": {
        "colab": {
          "base_uri": "https://localhost:8080/"
        },
        "id": "1FPUumFotKsr",
        "outputId": "321a3fd3-376b-44c5-d6d3-912b1f53e97b"
      },
      "execution_count": null,
      "outputs": [
        {
          "output_type": "stream",
          "name": "stdout",
          "text": [
            "[0 1 2 3 4 5 6 7 8 9]\n"
          ]
        }
      ]
    },
    {
      "cell_type": "markdown",
      "source": [
        "Create an array with specified data type"
      ],
      "metadata": {
        "id": "tEhTuNxXtOAs"
      }
    },
    {
      "cell_type": "code",
      "source": [
        "arr = np.array([[1,2,3], [4,5,6]], dtype='i2')\n",
        "print(arr)\n",
        "print('Data Type: ' + str(arr.dtype))"
      ],
      "metadata": {
        "colab": {
          "base_uri": "https://localhost:8080/"
        },
        "id": "g0nwlq-3tRQn",
        "outputId": "4531162a-699e-457f-f9ec-720c982ebf8c"
      },
      "execution_count": null,
      "outputs": [
        {
          "output_type": "stream",
          "name": "stdout",
          "text": [
            "[[1 2 3]\n",
            " [4 5 6]]\n",
            "Data Type: int16\n"
          ]
        }
      ]
    },
    {
      "cell_type": "markdown",
      "source": [
        "Create an aray within specified range \\\n",
        "np.arange() method can be used to replace np.array(range()) method"
      ],
      "metadata": {
        "id": "JRnK2W4ttVsJ"
      }
    },
    {
      "cell_type": "code",
      "source": [
        "# np.arange(start, stop, step)\n",
        "arr = np.arange(0, 20, 2)\n",
        "print(arr)"
      ],
      "metadata": {
        "colab": {
          "base_uri": "https://localhost:8080/"
        },
        "id": "XFhOr8fKteV4",
        "outputId": "6c2819c3-9c3f-47c2-db2e-f7e7cea0c822"
      },
      "execution_count": null,
      "outputs": [
        {
          "output_type": "stream",
          "name": "stdout",
          "text": [
            "[ 0  2  4  6  8 10 12 14 16 18]\n"
          ]
        }
      ]
    },
    {
      "cell_type": "markdown",
      "source": [
        "Create an array of evenly spaced numbers within specified range\n",
        "###**np.linspace(start, stop, num_of_elements, endpoint=True, retstep=False)**\n",
        "has 5 parameters:\n",
        "\n",
        "start: start number (inclusive) \\\n",
        "stop: end number (inclusive unless endpoint set to False) \\\n",
        "num_of_elements: number of elements contained in the array \\\n",
        "endpoint: boolean value representing whether the stop number is inclusive or not \\\n",
        "retstep: boolean value representing whether to return the step size"
      ],
      "metadata": {
        "id": "sMrhBcTktggu"
      }
    },
    {
      "cell_type": "code",
      "source": [
        "arr, step_size = np.linspace(0, 5, 8, endpoint=False, retstep=True)\n",
        "print(arr)\n",
        "print('The step size is ' + str(step_size))"
      ],
      "metadata": {
        "colab": {
          "base_uri": "https://localhost:8080/"
        },
        "id": "hZ74y_LYti4e",
        "outputId": "bcd188b0-024a-4e9a-938d-02f9abf7bc57"
      },
      "execution_count": null,
      "outputs": [
        {
          "output_type": "stream",
          "name": "stdout",
          "text": [
            "[0.    0.625 1.25  1.875 2.5   3.125 3.75  4.375]\n",
            "The step size is 0.625\n"
          ]
        }
      ]
    },
    {
      "cell_type": "markdown",
      "source": [
        "Create an array of random values of given shape\n",
        "np.random.rand() method returns values in the range [0,1)"
      ],
      "metadata": {
        "id": "XJ7b01lyt5PO"
      }
    },
    {
      "cell_type": "code",
      "source": [
        "arr = np.random.rand(3, 3)\n",
        "print(arr)"
      ],
      "metadata": {
        "colab": {
          "base_uri": "https://localhost:8080/"
        },
        "id": "3HuIvkx2uHRM",
        "outputId": "3b64dbe2-1a70-447a-e481-f38ff37f4d9f"
      },
      "execution_count": null,
      "outputs": [
        {
          "output_type": "stream",
          "name": "stdout",
          "text": [
            "[[0.88118799 0.694348   0.87219205]\n",
            " [0.88229357 0.57906044 0.83140587]\n",
            " [0.02211234 0.70500482 0.57218232]]\n"
          ]
        }
      ]
    },
    {
      "cell_type": "markdown",
      "source": [
        "Create an array of zeros of given shape \\\n",
        "\n",
        "np.zeros(): create array of all zeros in given shape \\\n",
        "np.zeros_like(): create array of all zeros with the same shape and data type as the given input array"
      ],
      "metadata": {
        "id": "anSts4BmuKoK"
      }
    },
    {
      "cell_type": "code",
      "source": [
        "arr = np.array([1, 2, 3, 4, 5, 6])\n",
        "\n",
        "# Reshape to a 2x3 array\n",
        "reshaped_arr = np.reshape(arr, (2, 3),order='F')\n",
        "\n",
        "print(reshaped_arr)  # Output: [[1 2 3]                   #          [4 5 6]]"
      ],
      "metadata": {
        "colab": {
          "base_uri": "https://localhost:8080/"
        },
        "id": "co53A5yVhC10",
        "outputId": "621a0a06-e46c-4026-dfcb-5fda9fdc9c90"
      },
      "execution_count": 4,
      "outputs": [
        {
          "output_type": "stream",
          "name": "stdout",
          "text": [
            "[[1 3 5]\n",
            " [2 4 6]]\n"
          ]
        }
      ]
    },
    {
      "cell_type": "code",
      "source": [
        "zeros = np.zeros((2,3))\n",
        "print(zeros)"
      ],
      "metadata": {
        "colab": {
          "base_uri": "https://localhost:8080/"
        },
        "id": "b5adIfaquTO7",
        "outputId": "f7864d68-dbb1-43a5-a41d-1441a3ae1c82"
      },
      "execution_count": null,
      "outputs": [
        {
          "output_type": "stream",
          "name": "stdout",
          "text": [
            "[[0. 0. 0.]\n",
            " [0. 0. 0.]]\n"
          ]
        }
      ]
    },
    {
      "cell_type": "code",
      "source": [],
      "metadata": {
        "id": "oK0m7Hkscavg"
      },
      "execution_count": null,
      "outputs": []
    },
    {
      "cell_type": "code",
      "source": [
        "arr = np.array([[1,2], [3,4],[5,6]], dtype=np.complex64)\n",
        "zeros = np.zeros_like(arr)\n",
        "print(zeros)\n",
        "print('Data Type: ' + str(zeros.dtype))"
      ],
      "metadata": {
        "colab": {
          "base_uri": "https://localhost:8080/"
        },
        "id": "ScFP2cGzucZw",
        "outputId": "3075c6dc-1b0c-4c3f-d69e-8caf53b1f330"
      },
      "execution_count": null,
      "outputs": [
        {
          "output_type": "stream",
          "name": "stdout",
          "text": [
            "[[0.+0.j 0.+0.j]\n",
            " [0.+0.j 0.+0.j]\n",
            " [0.+0.j 0.+0.j]]\n",
            "Data Type: complex64\n"
          ]
        }
      ]
    },
    {
      "cell_type": "markdown",
      "source": [
        "\n",
        "Create an array of ones of given shape\n",
        "\n",
        "np.ones(): create array of all ones in given shape \\\n",
        "np.ones_like(): create array of all ones with the same shape and data type as the given input array"
      ],
      "metadata": {
        "id": "AhegA_byu4GN"
      }
    },
    {
      "cell_type": "code",
      "source": [
        "ones = np.ones((3,2))\n",
        "print(ones)"
      ],
      "metadata": {
        "colab": {
          "base_uri": "https://localhost:8080/"
        },
        "id": "tOe1M7asvEPY",
        "outputId": "fbbf0a80-efae-4ebe-f9f8-05de375c44fc"
      },
      "execution_count": null,
      "outputs": [
        {
          "output_type": "stream",
          "name": "stdout",
          "text": [
            "[[1. 1.]\n",
            " [1. 1.]\n",
            " [1. 1.]]\n"
          ]
        }
      ]
    },
    {
      "cell_type": "code",
      "source": [
        "arr = [[1,2,3], [4,5,6]]\n",
        "ones = np.ones_like(arr)\n",
        "print(ones)\n",
        "print('Data Type: ' + str(ones.dtype))"
      ],
      "metadata": {
        "colab": {
          "base_uri": "https://localhost:8080/"
        },
        "id": "cqh42-QIvGTw",
        "outputId": "ffcfb93a-daf5-409d-c185-58fba8ab9150"
      },
      "execution_count": null,
      "outputs": [
        {
          "output_type": "stream",
          "name": "stdout",
          "text": [
            "[[1 1 1]\n",
            " [1 1 1]]\n",
            "Data Type: int64\n"
          ]
        }
      ]
    },
    {
      "cell_type": "markdown",
      "source": [
        "Create an empty array of given shape\n",
        "\n",
        "np.empty(): create array of empty values in given shape\n",
        "\n",
        "np.empty_like(): create array of empty values with the same shape and data type as the given input array\n",
        "\n",
        "Notice that the initial values are not necessarily set to zeroes.\n",
        "\n",
        "They are just some garbage values in random memory addresses."
      ],
      "metadata": {
        "id": "aDVyd9Y_vI0h"
      }
    },
    {
      "cell_type": "code",
      "source": [
        "empty = np.empty((5,5))\n",
        "print(empty)"
      ],
      "metadata": {
        "colab": {
          "base_uri": "https://localhost:8080/"
        },
        "id": "hvOy3Rbeveux",
        "outputId": "abbe3980-437b-4bee-c019-a8a61f771d0b"
      },
      "execution_count": null,
      "outputs": [
        {
          "output_type": "stream",
          "name": "stdout",
          "text": [
            "[[ 4.00743058e-316  0.00000000e+000  1.24362093e-033  7.71867738e-304\n",
            "  -2.01346939e-197]\n",
            " [-1.99439970e-114  9.82328242e-082  1.96956953e-208  8.97831878e-227\n",
            "   1.64304299e-265]\n",
            " [-8.37524292e-114 -1.16615712e-230  1.41034535e-026  8.97509015e-171\n",
            "   1.51976236e-091]\n",
            " [ 6.81487694e-106 -1.07546223e-172  3.68302919e-304  1.24425812e+268\n",
            "   3.23611948e-188]\n",
            " [ 1.10081394e-289  9.06092918e-312  2.22507386e-307  1.95649823e-316\n",
            "   6.93788656e-310]]\n"
          ]
        }
      ]
    },
    {
      "cell_type": "code",
      "source": [
        "arr = np.array([[1,2,3], [4,5,6]], dtype=np.int64)\n",
        "empty = np.empty_like(arr)\n",
        "print(empty)\n",
        "print('Data Type: ' + str(empty.dtype))"
      ],
      "metadata": {
        "colab": {
          "base_uri": "https://localhost:8080/"
        },
        "id": "kPS5PnrBvhsm",
        "outputId": "3b2e7589-04ba-47b0-e11e-96cf77ac5db6"
      },
      "execution_count": null,
      "outputs": [
        {
          "output_type": "stream",
          "name": "stdout",
          "text": [
            "[[1065353216 1073741824 1077936128]\n",
            " [1082130432 1084227584 1086324736]]\n",
            "Data Type: int64\n"
          ]
        }
      ]
    },
    {
      "cell_type": "markdown",
      "source": [
        "Create an array of constant values of given shape\n",
        "\n",
        "np.full(): create array of constant values in given shape\n",
        "\n",
        "np.full_like(): create array of constant values with the same shape and data type as the given input array"
      ],
      "metadata": {
        "id": "v7ojIfWGvyUO"
      }
    },
    {
      "cell_type": "code",
      "source": [
        "full = np.full((4,4), 5)\n",
        "print(full)\n"
      ],
      "metadata": {
        "colab": {
          "base_uri": "https://localhost:8080/"
        },
        "id": "diuinLtBwHL6",
        "outputId": "d480bc22-2879-4791-a4bf-84e2dfbc82c2"
      },
      "execution_count": null,
      "outputs": [
        {
          "output_type": "stream",
          "name": "stdout",
          "text": [
            "[[5 5 5 5]\n",
            " [5 5 5 5]\n",
            " [5 5 5 5]\n",
            " [5 5 5 5]]\n"
          ]
        }
      ]
    },
    {
      "cell_type": "code",
      "source": [
        "arr = np.array([[1,2], [3,4]], dtype=np.float64)\n",
        "full = np.full_like(arr, 5)\n",
        "print(full)\n",
        "print('Data Type: ' + str(full.dtype))"
      ],
      "metadata": {
        "colab": {
          "base_uri": "https://localhost:8080/"
        },
        "id": "dLqO7HfjwO3V",
        "outputId": "f048e8d0-0f4a-4928-e964-1945bb63de02"
      },
      "execution_count": null,
      "outputs": [
        {
          "output_type": "stream",
          "name": "stdout",
          "text": [
            "[[5. 5.]\n",
            " [5. 5.]]\n",
            "Data Type: float64\n"
          ]
        }
      ]
    },
    {
      "cell_type": "markdown",
      "source": [
        "Create an array in a repetitive manner \\\n",
        "np.repeat(iterable, reps, axis=None): repeat each element by n times \\\n",
        "iterable: input array \\\n",
        "reps: number of repetitions\\\n",
        "axis: which axis to repeat\n",
        "along, default is None which will flatten the input array and then repeat\n",
        "np.tile(): repeat the whole array by n times\n",
        "iterable: input array\n",
        "reps: number of repetitions, it can be a tuple to represent repetitions along x-axis and y-axis"
      ],
      "metadata": {
        "id": "OV0OrD3FwRmX"
      }
    },
    {
      "cell_type": "code",
      "source": [
        "# No axis specified, then flatten the input array first and repeat\n",
        "arr = [[0, 1, 2], [3, 4, 5]]\n",
        "print(np.repeat(arr, 3))"
      ],
      "metadata": {
        "colab": {
          "base_uri": "https://localhost:8080/"
        },
        "id": "RCvGVZplwf8H",
        "outputId": "60801445-d7b2-41e5-9deb-725273723831"
      },
      "execution_count": null,
      "outputs": [
        {
          "output_type": "stream",
          "name": "stdout",
          "text": [
            "[0 0 0 1 1 1 2 2 2 3 3 3 4 4 4 5 5 5]\n"
          ]
        }
      ]
    },
    {
      "cell_type": "code",
      "source": [
        "# An example of repeating along x-axis\n",
        "arr = [[0, 1, 2], [3, 4, 5]]\n",
        "print(np.repeat(arr, 3, axis=0))"
      ],
      "metadata": {
        "colab": {
          "base_uri": "https://localhost:8080/"
        },
        "id": "nElTl_yzwkxf",
        "outputId": "d7eef8ef-2091-4e57-ab18-6ad4b454b249"
      },
      "execution_count": null,
      "outputs": [
        {
          "output_type": "stream",
          "name": "stdout",
          "text": [
            "[[0 1 2]\n",
            " [0 1 2]\n",
            " [0 1 2]\n",
            " [3 4 5]\n",
            " [3 4 5]\n",
            " [3 4 5]]\n"
          ]
        }
      ]
    },
    {
      "cell_type": "code",
      "source": [
        "# An example of repeating along y-axis\n",
        "arr = [[0, 1, 2], [3, 4, 5]]\n",
        "print(np.repeat(arr, 3, axis=1))"
      ],
      "metadata": {
        "colab": {
          "base_uri": "https://localhost:8080/"
        },
        "id": "ZfQZA7DmwoZz",
        "outputId": "e10a8ef8-ba48-4967-ec5d-dc51bc45df27"
      },
      "execution_count": null,
      "outputs": [
        {
          "output_type": "stream",
          "name": "stdout",
          "text": [
            "[[0 0 0 1 1 1 2 2 2]\n",
            " [3 3 3 4 4 4 5 5 5]]\n"
          ]
        }
      ]
    },
    {
      "cell_type": "code",
      "source": [
        "# Repeat the whole array by a specified number of times\n",
        "arr = [0, 1, 2]\n",
        "print(np.tile(arr, 3))"
      ],
      "metadata": {
        "colab": {
          "base_uri": "https://localhost:8080/"
        },
        "id": "QNh4FuQcwrqc",
        "outputId": "2fe7d96b-ebbd-45fd-bccc-e029465a1674"
      },
      "execution_count": null,
      "outputs": [
        {
          "output_type": "stream",
          "name": "stdout",
          "text": [
            "[0 1 2 0 1 2 0 1 2]\n"
          ]
        }
      ]
    },
    {
      "cell_type": "code",
      "source": [
        "# Repeat along specified axes\n",
        "print(np.tile(arr, (2,2)))"
      ],
      "metadata": {
        "colab": {
          "base_uri": "https://localhost:8080/"
        },
        "id": "Byu_MUf3wubT",
        "outputId": "6175ef68-6ed0-45fa-fcbe-5d515fd54a13"
      },
      "execution_count": null,
      "outputs": [
        {
          "output_type": "stream",
          "name": "stdout",
          "text": [
            "[[0 1 2 0 1 2]\n",
            " [0 1 2 0 1 2]]\n"
          ]
        }
      ]
    },
    {
      "cell_type": "markdown",
      "source": [
        "###Create an identity matrix of given size\n",
        "\n",
        "np.eye(size, k=0): create an identity matrix of given size \\\n",
        "size: the size of the identity matrix \\\n",
        "k: the diagonal offset\\\n",
        "np.identity(): same as np.eye() but does not carry parameters"
      ],
      "metadata": {
        "id": "2HKV8rpPw7WH"
      }
    },
    {
      "cell_type": "code",
      "source": [
        "identity_matrix = np.eye(5)\n",
        "print(identity_matrix)"
      ],
      "metadata": {
        "colab": {
          "base_uri": "https://localhost:8080/"
        },
        "id": "skBmdzmcxKy4",
        "outputId": "2378d240-bf7e-4296-a693-a4877541b2ef"
      },
      "execution_count": null,
      "outputs": [
        {
          "output_type": "stream",
          "name": "stdout",
          "text": [
            "[[1. 0. 0. 0. 0.]\n",
            " [0. 1. 0. 0. 0.]\n",
            " [0. 0. 1. 0. 0.]\n",
            " [0. 0. 0. 1. 0.]\n",
            " [0. 0. 0. 0. 1.]]\n"
          ]
        }
      ]
    },
    {
      "cell_type": "code",
      "source": [
        "\n",
        "# An example of diagonal offset\n",
        "identity_matrix = np.eye(5, k=-1)\n",
        "print(identity_matrix)"
      ],
      "metadata": {
        "colab": {
          "base_uri": "https://localhost:8080/"
        },
        "id": "7aQAyybdxOmU",
        "outputId": "242071c9-d080-4bae-ff44-e28440f6d083"
      },
      "execution_count": null,
      "outputs": [
        {
          "output_type": "stream",
          "name": "stdout",
          "text": [
            "[[0. 0. 0. 0. 0.]\n",
            " [1. 0. 0. 0. 0.]\n",
            " [0. 1. 0. 0. 0.]\n",
            " [0. 0. 1. 0. 0.]\n",
            " [0. 0. 0. 1. 0.]]\n"
          ]
        }
      ]
    },
    {
      "cell_type": "code",
      "source": [
        "\n",
        "identity_matrix = np.identity(5)\n",
        "print(identity_matrix)"
      ],
      "metadata": {
        "colab": {
          "base_uri": "https://localhost:8080/"
        },
        "id": "LE-0rSpmxQ0M",
        "outputId": "ca85f679-7993-48e6-bd5f-e2a30ee724c4"
      },
      "execution_count": null,
      "outputs": [
        {
          "output_type": "stream",
          "name": "stdout",
          "text": [
            "[[1. 0. 0. 0. 0.]\n",
            " [0. 1. 0. 0. 0.]\n",
            " [0. 0. 1. 0. 0.]\n",
            " [0. 0. 0. 1. 0.]\n",
            " [0. 0. 0. 0. 1.]]\n"
          ]
        }
      ]
    },
    {
      "cell_type": "markdown",
      "source": [
        "Create an array with given values on the diagonal\n"
      ],
      "metadata": {
        "id": "Dc-u-hUAxVTD"
      }
    },
    {
      "cell_type": "code",
      "source": [
        "arr = np.random.rand(5,5)\n",
        "print(arr)\n",
        "# Extract values on the diagonal\n",
        "print('Values on the diagonal: ' + str(np.diag(arr)))"
      ],
      "metadata": {
        "colab": {
          "base_uri": "https://localhost:8080/"
        },
        "id": "NEiPSo0-xi30",
        "outputId": "ee0f7b8b-077c-4f83-c79e-74f3affe74f1"
      },
      "execution_count": null,
      "outputs": [
        {
          "output_type": "stream",
          "name": "stdout",
          "text": [
            "[[0.39106592 0.353825   0.09099307 0.92465065 0.28040603]\n",
            " [0.26532197 0.41893426 0.85148129 0.13806684 0.37116812]\n",
            " [0.4594456  0.82279367 0.36026414 0.05825279 0.25613669]\n",
            " [0.87786486 0.12550069 0.69445054 0.36757315 0.56933979]\n",
            " [0.65778642 0.20595904 0.71285681 0.49282037 0.95949298]]\n",
            "Values on the diagonal: [0.39106592 0.41893426 0.36026414 0.36757315 0.95949298]\n"
          ]
        }
      ]
    },
    {
      "cell_type": "code",
      "source": [
        "# Not necessarily to be a square matrix\n",
        "arr = np.random.rand(10,3)\n",
        "print(arr)\n",
        "# Extract values on the diagonal\n",
        "print('Values on the diagonal: ' + str(np.diag(arr)))"
      ],
      "metadata": {
        "colab": {
          "base_uri": "https://localhost:8080/"
        },
        "id": "Tc40ijo-xz4n",
        "outputId": "7b3342b7-6b53-4c4c-c443-4284f8bfaed3"
      },
      "execution_count": null,
      "outputs": [
        {
          "output_type": "stream",
          "name": "stdout",
          "text": [
            "[[0.13165709 0.43783742 0.87964397]\n",
            " [0.35180048 0.15918997 0.6635004 ]\n",
            " [0.28681795 0.59359901 0.22264161]\n",
            " [0.49594462 0.24085257 0.26764839]\n",
            " [0.30931607 0.44172183 0.43832435]\n",
            " [0.99572881 0.76206396 0.15561091]\n",
            " [0.56270279 0.24953673 0.79925299]\n",
            " [0.44504887 0.07542262 0.03403838]\n",
            " [0.35135974 0.80517607 0.42319845]\n",
            " [0.17429636 0.62140564 0.58156008]]\n",
            "Values on the diagonal: [0.13165709 0.15918997 0.22264161]\n"
          ]
        }
      ]
    },
    {
      "cell_type": "code",
      "source": [
        "# Create a matrix given values on the diagonal\n",
        "# All non-diagonal values set to zeros\n",
        "arr = np.diag([1,2,3,4,5])\n",
        "print(arr)"
      ],
      "metadata": {
        "colab": {
          "base_uri": "https://localhost:8080/"
        },
        "id": "cFTJkNMkx51m",
        "outputId": "7a803ca1-d47e-4d84-dd51-f83106ca9041"
      },
      "execution_count": null,
      "outputs": [
        {
          "output_type": "stream",
          "name": "stdout",
          "text": [
            "[[1 0 0 0 0]\n",
            " [0 2 0 0 0]\n",
            " [0 0 3 0 0]\n",
            " [0 0 0 4 0]\n",
            " [0 0 0 0 5]]\n"
          ]
        }
      ]
    },
    {
      "cell_type": "markdown",
      "source": [
        "# Sampling Methods\n"
      ],
      "metadata": {
        "id": "TkcD9bT56_o4"
      }
    },
    {
      "cell_type": "code",
      "source": [
        "np.random.seed(123)"
      ],
      "metadata": {
        "id": "Q3Wrg0TE67_t"
      },
      "execution_count": null,
      "outputs": []
    },
    {
      "cell_type": "markdown",
      "source": [
        "set random state which is independent from the global seed\n"
      ],
      "metadata": {
        "id": "5QZjo7zKx9EJ"
      }
    },
    {
      "cell_type": "code",
      "source": [
        "rs = np.random.RandomState(321)\n",
        "rs.rand(10)"
      ],
      "metadata": {
        "colab": {
          "base_uri": "https://localhost:8080/"
        },
        "id": "i8ob1pEey9dd",
        "outputId": "1d136b26-ec30-40f8-d345-9f5082cc3ba2"
      },
      "execution_count": null,
      "outputs": [
        {
          "output_type": "execute_result",
          "data": {
            "text/plain": [
              "array([0.88594794, 0.07791236, 0.97964616, 0.24767146, 0.75288472,\n",
              "       0.52667564, 0.90755375, 0.8840703 , 0.08926896, 0.5173446 ])"
            ]
          },
          "metadata": {},
          "execution_count": 45
        }
      ]
    },
    {
      "cell_type": "markdown",
      "source": [
        "\n",
        "generate a random sample from interval [0, 1) in a given shape"
      ],
      "metadata": {
        "id": "p04Uaidzy-EJ"
      }
    },
    {
      "cell_type": "code",
      "source": [
        "# generate a random scalar\n",
        "print(np.random.rand())"
      ],
      "metadata": {
        "colab": {
          "base_uri": "https://localhost:8080/"
        },
        "id": "_R2rqelqzCQp",
        "outputId": "a6bd73c4-15f4-4382-a0e9-772abcf11a6c"
      },
      "execution_count": null,
      "outputs": [
        {
          "output_type": "stream",
          "name": "stdout",
          "text": [
            "0.5699849330879277\n"
          ]
        }
      ]
    },
    {
      "cell_type": "code",
      "source": [
        "# generate a 1-D array\n",
        "print(np.random.rand(3))"
      ],
      "metadata": {
        "colab": {
          "base_uri": "https://localhost:8080/"
        },
        "id": "SNDxJRmyzIAM",
        "outputId": "b0b8e111-ba3a-43f7-84ae-d2a162165114"
      },
      "execution_count": null,
      "outputs": [
        {
          "output_type": "stream",
          "name": "stdout",
          "text": [
            "[0.0101435  0.02510073 0.21741478]\n"
          ]
        }
      ]
    },
    {
      "cell_type": "code",
      "source": [
        "# generate a 2-D array\n",
        "print(np.random.rand(3,3))"
      ],
      "metadata": {
        "colab": {
          "base_uri": "https://localhost:8080/"
        },
        "id": "PNoPZ3udzKy1",
        "outputId": "8fc28823-58a7-4071-e3db-31c66c281e20"
      },
      "execution_count": null,
      "outputs": [
        {
          "output_type": "stream",
          "name": "stdout",
          "text": [
            "[[0.75524275 0.03920224 0.18570446]\n",
            " [0.50721628 0.92080329 0.52894868]\n",
            " [0.95217287 0.49321175 0.04724005]]\n"
          ]
        }
      ]
    },
    {
      "cell_type": "markdown",
      "source": [
        "\n",
        "generate a sample from the standard normal distribution (mean = 0, var = 1)"
      ],
      "metadata": {
        "id": "UEeDkpcRzQdM"
      }
    },
    {
      "cell_type": "code",
      "source": [
        "print(np.random.randn(3,3))"
      ],
      "metadata": {
        "colab": {
          "base_uri": "https://localhost:8080/"
        },
        "id": "01S9z1ltzloD",
        "outputId": "3b40f547-41d1-40e5-9a24-504c740cd0ff"
      },
      "execution_count": null,
      "outputs": [
        {
          "output_type": "stream",
          "name": "stdout",
          "text": [
            "[[ 1.33793709 -0.29277249 -0.3342595 ]\n",
            " [ 1.20744967  1.38838595 -0.67430609]\n",
            " [ 1.35899867 -0.26409987 -0.35140804]]\n"
          ]
        }
      ]
    },
    {
      "cell_type": "markdown",
      "source": [
        "generate an array of random integers in a given interval [low, high)\n"
      ],
      "metadata": {
        "id": "7MrVyKcizrtq"
      }
    },
    {
      "cell_type": "code",
      "source": [
        "# np.ranodm.randint(low, high, size, dtype)\n",
        "print(np.random.randint(1, 10, 3, 'i8'))"
      ],
      "metadata": {
        "colab": {
          "base_uri": "https://localhost:8080/"
        },
        "id": "PDlenWMfzvs4",
        "outputId": "e67f7300-1fb6-4d8e-8b46-020863206cd9"
      },
      "execution_count": null,
      "outputs": [
        {
          "output_type": "stream",
          "name": "stdout",
          "text": [
            "[2 4 7]\n"
          ]
        }
      ]
    },
    {
      "cell_type": "markdown",
      "source": [
        "generate an array of random floating-point numbers in the interval [0.0, 1.0)\n"
      ],
      "metadata": {
        "id": "hWAIIp95z8g4"
      }
    },
    {
      "cell_type": "code",
      "source": [
        "# the following methods are the same as np.random.rand()\n",
        "print(np.random.random_sample(10))\n",
        "print(np.random.random(10))\n",
        "print(np.random.ranf(10))\n",
        "print(np.random.sample(10))"
      ],
      "metadata": {
        "colab": {
          "base_uri": "https://localhost:8080/"
        },
        "id": "9HK3OCE80NMJ",
        "outputId": "80f1d508-86e9-4673-f7d7-cd74d11873a0"
      },
      "execution_count": null,
      "outputs": [
        {
          "output_type": "stream",
          "name": "stdout",
          "text": [
            "[0.78623564 0.12225665 0.62124533 0.69620687 0.44737251 0.8891414\n",
            " 0.41439759 0.92380641 0.68998013 0.16117871]\n",
            "[0.35153323 0.89134335 0.8319148  0.04258719 0.45332023 0.73815446\n",
            " 0.25381082 0.8967563  0.46430358 0.43895692]\n",
            "[0.78858326 0.39429354 0.44282151 0.35643505 0.46215881 0.99248193\n",
            " 0.51356675 0.79853416 0.52550416 0.47092887]\n",
            "[0.16726054 0.27636035 0.35540647 0.4254086  0.77120075 0.04435212\n",
            " 0.02742692 0.02096286 0.33309364 0.18015601]\n"
          ]
        }
      ]
    },
    {
      "cell_type": "markdown",
      "source": [
        "generate a random sample from a given 1-D array\n"
      ],
      "metadata": {
        "id": "TIMytCgP0bc1"
      }
    },
    {
      "cell_type": "code",
      "source": [
        "\n",
        "# np.random.choice(iterable_or_int, size, replace=True, p=weights)\n",
        "print(np.random.choice(range(3), 10, replace=True, p=[0.1, 0.8, 0.1]))"
      ],
      "metadata": {
        "colab": {
          "base_uri": "https://localhost:8080/"
        },
        "id": "dMUfVfHN0eRP",
        "outputId": "b214d8a9-a357-45c2-aa96-32ac4a5c1741"
      },
      "execution_count": null,
      "outputs": [
        {
          "output_type": "stream",
          "name": "stdout",
          "text": [
            "[1 1 0 1 2 1 1 1 1 1]\n"
          ]
        }
      ]
    },
    {
      "cell_type": "code",
      "source": [
        "print(np.random.choice(3, 10))"
      ],
      "metadata": {
        "colab": {
          "base_uri": "https://localhost:8080/"
        },
        "id": "f2YJVRcP0hwH",
        "outputId": "c00c9e5a-efee-469d-9725-36a46a72e31e"
      },
      "execution_count": null,
      "outputs": [
        {
          "output_type": "stream",
          "name": "stdout",
          "text": [
            "[2 1 0 2 1 2 1 1 2 0]\n"
          ]
        }
      ]
    },
    {
      "cell_type": "code",
      "source": [
        "print(np.random.choice([1,2,3], 10))"
      ],
      "metadata": {
        "colab": {
          "base_uri": "https://localhost:8080/"
        },
        "id": "fVOO7yKv1B0a",
        "outputId": "65af21c7-0dc2-481b-f760-f36fd82eece6"
      },
      "execution_count": null,
      "outputs": [
        {
          "output_type": "stream",
          "name": "stdout",
          "text": [
            "[2 2 2 1 2 2 3 1 1 2]\n"
          ]
        }
      ]
    },
    {
      "cell_type": "markdown",
      "source": [
        "shuffle an array in place\n"
      ],
      "metadata": {
        "id": "h7DvoXqt1Dl2"
      }
    },
    {
      "cell_type": "code",
      "source": [
        "arr = np.array(range(10))\n",
        "print(arr)"
      ],
      "metadata": {
        "colab": {
          "base_uri": "https://localhost:8080/"
        },
        "id": "T2W5LFcY1IpM",
        "outputId": "29d3139c-f8ff-4cb9-db06-08dafe375e5a"
      },
      "execution_count": null,
      "outputs": [
        {
          "output_type": "stream",
          "name": "stdout",
          "text": [
            "[0 1 2 3 4 5 6 7 8 9]\n"
          ]
        }
      ]
    },
    {
      "cell_type": "code",
      "source": [
        "np.random.shuffle(arr)\n",
        "print(arr)"
      ],
      "metadata": {
        "colab": {
          "base_uri": "https://localhost:8080/"
        },
        "id": "BBo3Dw2O1Jd7",
        "outputId": "f05a4c4d-7a4c-46dd-fd31-72f0fce79c9d"
      },
      "execution_count": null,
      "outputs": [
        {
          "output_type": "stream",
          "name": "stdout",
          "text": [
            "[9 0 7 8 6 5 4 3 2 1]\n"
          ]
        }
      ]
    },
    {
      "cell_type": "markdown",
      "source": [
        "generate a permutation of an array\n"
      ],
      "metadata": {
        "id": "5Ws9FlSV1L88"
      }
    },
    {
      "cell_type": "code",
      "source": [
        "# similar to np.random.shuffle(), but it returns a copy rather than making changes in place\n",
        "arr = np.array(range(10))\n",
        "print('The initial array: ', arr)\n",
        "print('A permutation of the array: ', np.random.permutation(arr))"
      ],
      "metadata": {
        "colab": {
          "base_uri": "https://localhost:8080/"
        },
        "id": "LLT9_nmP1bQ1",
        "outputId": "3ca28d00-7530-4681-8ed7-4bd9ce55d0b5"
      },
      "execution_count": null,
      "outputs": [
        {
          "output_type": "stream",
          "name": "stdout",
          "text": [
            "The initial array:  [0 1 2 3 4 5 6 7 8 9]\n",
            "A permutation of the array:  [1 7 4 5 2 6 9 3 8 0]\n"
          ]
        }
      ]
    },
    {
      "cell_type": "markdown",
      "source": [
        "#2. Inspect Arrays\n"
      ],
      "metadata": {
        "id": "HeFKhDhn1e7B"
      }
    },
    {
      "cell_type": "code",
      "source": [
        "arr = np.array([[1,2,3], [4,5,6]], dtype=np.int64)\n",
        "print(arr)"
      ],
      "metadata": {
        "id": "wN7y3KLJ2bgC",
        "colab": {
          "base_uri": "https://localhost:8080/"
        },
        "outputId": "10342220-3c66-428c-a4e2-c463403c1aad"
      },
      "execution_count": 5,
      "outputs": [
        {
          "output_type": "stream",
          "name": "stdout",
          "text": [
            "[[1 2 3]\n",
            " [4 5 6]]\n"
          ]
        }
      ]
    },
    {
      "cell_type": "code",
      "source": [
        "print(np.info(arr))"
      ],
      "metadata": {
        "colab": {
          "base_uri": "https://localhost:8080/"
        },
        "id": "pPYSBwaW2eOT",
        "outputId": "37a0504e-3abb-47c7-fa87-1cafbd6e7ab4"
      },
      "execution_count": 7,
      "outputs": [
        {
          "output_type": "stream",
          "name": "stdout",
          "text": [
            "class:  ndarray\n",
            "shape:  (2, 3)\n",
            "strides:  (24, 8)\n",
            "itemsize:  8\n",
            "aligned:  True\n",
            "contiguous:  True\n",
            "fortran:  False\n",
            "data pointer: 0x3c222d0\n",
            "byteorder:  little\n",
            "byteswap:  False\n",
            "type: int64\n",
            "None\n"
          ]
        }
      ]
    },
    {
      "cell_type": "markdown",
      "source": [
        "inspect the data type of an array\n"
      ],
      "metadata": {
        "id": "HkkjoLY63fif"
      }
    },
    {
      "cell_type": "code",
      "source": [
        "print(arr.dtype)"
      ],
      "metadata": {
        "colab": {
          "base_uri": "https://localhost:8080/"
        },
        "id": "vpXIZesw2gBS",
        "outputId": "418a406f-d19e-4a40-f3c6-dd7ede612b18"
      },
      "execution_count": null,
      "outputs": [
        {
          "output_type": "stream",
          "name": "stdout",
          "text": [
            "int64\n"
          ]
        }
      ]
    },
    {
      "cell_type": "markdown",
      "source": [
        "inspect the dimension of an array\n"
      ],
      "metadata": {
        "id": "JZ1fiSyK3m-7"
      }
    },
    {
      "cell_type": "code",
      "source": [
        "print(arr.shape)"
      ],
      "metadata": {
        "colab": {
          "base_uri": "https://localhost:8080/"
        },
        "id": "sn_m-zws26id",
        "outputId": "38b13632-0e0d-4aac-d361-5469a904d02e"
      },
      "execution_count": null,
      "outputs": [
        {
          "output_type": "stream",
          "name": "stdout",
          "text": [
            "(2, 3)\n"
          ]
        }
      ]
    },
    {
      "cell_type": "markdown",
      "source": [
        "inspect the length of an array\n"
      ],
      "metadata": {
        "id": "hx-Wiy2D3p71"
      }
    },
    {
      "cell_type": "code",
      "source": [
        "print(len(arr))"
      ],
      "metadata": {
        "colab": {
          "base_uri": "https://localhost:8080/"
        },
        "id": "eB-0Y8Iy2_57",
        "outputId": "88477569-4527-4208-824a-8f0fbd4acea4"
      },
      "execution_count": null,
      "outputs": [
        {
          "output_type": "stream",
          "name": "stdout",
          "text": [
            "2\n"
          ]
        }
      ]
    },
    {
      "cell_type": "markdown",
      "source": [
        "inspect the number of elements of an array\n"
      ],
      "metadata": {
        "id": "m0R0odGJ3uYO"
      }
    },
    {
      "cell_type": "code",
      "source": [
        "print(arr.size)"
      ],
      "metadata": {
        "colab": {
          "base_uri": "https://localhost:8080/"
        },
        "id": "sR5p9Er_3Cno",
        "outputId": "5e0523e8-1460-4082-caa0-db3b9bb6348b"
      },
      "execution_count": null,
      "outputs": [
        {
          "output_type": "stream",
          "name": "stdout",
          "text": [
            "6\n"
          ]
        }
      ]
    },
    {
      "cell_type": "markdown",
      "source": [
        "inspect the no of bytes for every individual of an array\n"
      ],
      "metadata": {
        "id": "WEyp6K1E4uMo"
      }
    },
    {
      "cell_type": "code",
      "source": [
        "print(arr.itemsize)"
      ],
      "metadata": {
        "colab": {
          "base_uri": "https://localhost:8080/"
        },
        "id": "VhnbgeiY3FhT",
        "outputId": "af80d8b4-2bcf-4796-87b6-c10079f534ee"
      },
      "execution_count": null,
      "outputs": [
        {
          "output_type": "stream",
          "name": "stdout",
          "text": [
            "8\n"
          ]
        }
      ]
    },
    {
      "cell_type": "markdown",
      "source": [
        "inspect the memory size of an array (in byte)\n"
      ],
      "metadata": {
        "id": "JfMgY9H45FUa"
      }
    },
    {
      "cell_type": "code",
      "source": [
        "print(arr.nbytes)"
      ],
      "metadata": {
        "colab": {
          "base_uri": "https://localhost:8080/"
        },
        "id": "OEkEXoiv3Irv",
        "outputId": "080e3d34-af23-44ab-c01d-b53792e98e52"
      },
      "execution_count": null,
      "outputs": [
        {
          "output_type": "stream",
          "name": "stdout",
          "text": [
            "48\n"
          ]
        }
      ]
    },
    {
      "cell_type": "markdown",
      "source": [
        "inspect the no of  dimensions an array (in byte)\n"
      ],
      "metadata": {
        "id": "ane12AEO5ZmP"
      }
    },
    {
      "cell_type": "code",
      "source": [
        "print(arr.ndim)"
      ],
      "metadata": {
        "colab": {
          "base_uri": "https://localhost:8080/"
        },
        "id": "dwo2p_uq3ZDU",
        "outputId": "4771d70e-a55c-4e2b-83aa-5408fadc2e42"
      },
      "execution_count": null,
      "outputs": [
        {
          "output_type": "stream",
          "name": "stdout",
          "text": [
            "2\n"
          ]
        }
      ]
    },
    {
      "cell_type": "markdown",
      "source": [
        "#. Math Functions"
      ],
      "metadata": {
        "id": "U5qi-97T5YP4"
      }
    },
    {
      "cell_type": "markdown",
      "source": [
        "element-wise addition, subtraction, multiplication and division\n"
      ],
      "metadata": {
        "id": "-so8ct6w5qwX"
      }
    },
    {
      "cell_type": "code",
      "source": [
        "arr = np.random.rand(5,5)\n",
        "print(arr)"
      ],
      "metadata": {
        "colab": {
          "base_uri": "https://localhost:8080/"
        },
        "id": "GImvN-T18d-0",
        "outputId": "2002677e-3afe-4476-a33b-858dbff39e11"
      },
      "execution_count": null,
      "outputs": [
        {
          "output_type": "stream",
          "name": "stdout",
          "text": [
            "[[0.32295891 0.36178866 0.22826323 0.29371405 0.63097612]\n",
            " [0.09210494 0.43370117 0.43086276 0.4936851  0.42583029]\n",
            " [0.31226122 0.42635131 0.89338916 0.94416002 0.50183668]\n",
            " [0.62395295 0.1156184  0.31728548 0.41482621 0.86630916]\n",
            " [0.25045537 0.48303426 0.98555979 0.51948512 0.61289453]]\n"
          ]
        }
      ]
    },
    {
      "cell_type": "code",
      "source": [
        "print(arr + 10)\n",
        "print(\"\\n\")\n",
        "print(arr - 10)\n",
        "print(\"\\n\")\n",
        "print(arr * 10)\n",
        "print(\"\\n\")\n",
        "print(arr / 10)"
      ],
      "metadata": {
        "colab": {
          "base_uri": "https://localhost:8080/"
        },
        "id": "itiTfsu75tS0",
        "outputId": "a227fe0a-38f7-4013-e2d0-5e0cee9e5530"
      },
      "execution_count": 8,
      "outputs": [
        {
          "output_type": "stream",
          "name": "stdout",
          "text": [
            "[[11 12 13]\n",
            " [14 15 16]]\n",
            "\n",
            "\n",
            "[[-9 -8 -7]\n",
            " [-6 -5 -4]]\n",
            "\n",
            "\n",
            "[[10 20 30]\n",
            " [40 50 60]]\n",
            "\n",
            "\n",
            "[[0.1 0.2 0.3]\n",
            " [0.4 0.5 0.6]]\n"
          ]
        }
      ]
    },
    {
      "cell_type": "code",
      "source": [
        "arr1 = np.array([1,2,3])\n",
        "# the above operations can be performed using numpy built-in functions\n",
        "# which can save memory as the output can be stored in the original array rather than assigning new memoryarr = np.array([1,2,3])\n",
        "np.add(arr1, [8,9,10], out=arr1)\n",
        "print(arr1)\n",
        "\n",
        "np.subtract(arr1, [8,9,10], out=arr1)\n",
        "print(arr1)\n",
        "\n",
        "np.multiply(arr1, [1,2,3], out=arr1)\n",
        "print(arr1)"
      ],
      "metadata": {
        "colab": {
          "base_uri": "https://localhost:8080/"
        },
        "id": "0NRUYeAG5v64",
        "outputId": "d3958dc7-067d-4b74-eeb9-786f93cb2d13"
      },
      "execution_count": null,
      "outputs": [
        {
          "output_type": "stream",
          "name": "stdout",
          "text": [
            "[ 9 11 13]\n",
            "[1 2 3]\n",
            "[1 4 9]\n"
          ]
        }
      ]
    },
    {
      "cell_type": "markdown",
      "source": [
        "###element-wise exponentiation\n"
      ],
      "metadata": {
        "id": "kOOMY5Sy50fo"
      }
    },
    {
      "cell_type": "code",
      "source": [
        "print(np.exp(arr))"
      ],
      "metadata": {
        "colab": {
          "base_uri": "https://localhost:8080/"
        },
        "id": "J6yE35FP55nu",
        "outputId": "193be3ff-c192-46b7-ccbe-84f0f1c24d3b"
      },
      "execution_count": null,
      "outputs": [
        {
          "output_type": "stream",
          "name": "stdout",
          "text": [
            "[[2.00665506 1.33127794 1.25464348 1.73553334 2.05334253]\n",
            " [1.52669682 2.66649319 1.9834341  1.61758113 1.48011164]\n",
            " [1.40941964 2.07310961 1.55049191 1.06149458 1.48890992]\n",
            " [2.09173822 1.20020423 1.19178449 1.70157003 1.70204009]\n",
            " [1.88589208 2.33831783 2.0636068  1.84231606 2.05945911]]\n"
          ]
        }
      ]
    },
    {
      "cell_type": "markdown",
      "source": [
        "###element-wise logorithm"
      ],
      "metadata": {
        "id": "HIF_GbFU56kY"
      }
    },
    {
      "cell_type": "code",
      "source": [
        "# natural log\n",
        "print(np.log(arr))"
      ],
      "metadata": {
        "colab": {
          "base_uri": "https://localhost:8080/"
        },
        "id": "GIwLPlkO6imw",
        "outputId": "0ea7c226-4e9c-4db5-c2bc-f1451ae768e6"
      },
      "execution_count": null,
      "outputs": [
        {
          "output_type": "stream",
          "name": "stdout",
          "text": [
            "[[-0.36173173 -1.2512764  -1.48345987 -0.59544936 -0.32924188]\n",
            " [-0.86013145 -0.01942322 -0.37858503 -0.7320296  -0.93619369]\n",
            " [-1.06950597 -0.31601336 -0.82423073 -2.81879357 -0.92119209]\n",
            " [-0.30381768 -1.70105042 -1.74039117 -0.63195543 -0.63143593]\n",
            " [-0.4550741  -0.16318763 -0.32233518 -0.49261984 -0.32511623]]\n"
          ]
        }
      ]
    },
    {
      "cell_type": "code",
      "source": [
        "# base 2\n",
        "print(np.log2(arr))"
      ],
      "metadata": {
        "colab": {
          "base_uri": "https://localhost:8080/"
        },
        "id": "1kew518k6kx2",
        "outputId": "6da81766-eed6-4473-986d-1e3cdec26073"
      },
      "execution_count": null,
      "outputs": [
        {
          "output_type": "stream",
          "name": "stdout",
          "text": [
            "[[-0.52186857 -1.80521026 -2.14018019 -0.85905184 -0.47499563]\n",
            " [-1.24090738 -0.02802178 -0.54618274 -1.05609547 -1.350642  ]\n",
            " [-1.54297096 -0.45591091 -1.18911358 -4.0666595  -1.32899925]\n",
            " [-0.43831626 -2.454097   -2.51085371 -0.91171896 -0.91096948]\n",
            " [-0.65653314 -0.23542999 -0.46503137 -0.7107002  -0.46904357]]\n"
          ]
        }
      ]
    },
    {
      "cell_type": "code",
      "source": [
        "# base 10\n",
        "print(np.log10(arr))"
      ],
      "metadata": {
        "colab": {
          "base_uri": "https://localhost:8080/"
        },
        "id": "fG8QOFzs60eh",
        "outputId": "4b333c1b-99b6-4a16-fc98-dbcb215c84c2"
      },
      "execution_count": null,
      "outputs": [
        {
          "output_type": "stream",
          "name": "stdout",
          "text": [
            "[[-0.15709809 -0.54342244 -0.64425843 -0.25860037 -0.14298793]\n",
            " [-0.37355034 -0.0084354  -0.16441739 -0.31791641 -0.40658375]\n",
            " [-0.46448054 -0.13724286 -0.35795886 -1.22418649 -0.40006864]\n",
            " [-0.13194634 -0.73875681 -0.75584228 -0.27445476 -0.27422914]\n",
            " [-0.19763617 -0.07087149 -0.13998839 -0.21394208 -0.14119618]]\n"
          ]
        }
      ]
    },
    {
      "cell_type": "markdown",
      "source": [
        "###element-wise square root\n"
      ],
      "metadata": {
        "id": "q8FRekf98Nxp"
      }
    },
    {
      "cell_type": "code",
      "source": [
        "print(np.sqrt(arr))"
      ],
      "metadata": {
        "colab": {
          "base_uri": "https://localhost:8080/"
        },
        "id": "LBkw4hyz8N4z",
        "outputId": "165a0da6-d85c-49e2-a785-0ef9f66ed3e7"
      },
      "execution_count": null,
      "outputs": [
        {
          "output_type": "stream",
          "name": "stdout",
          "text": [
            "[[0.83454729 0.53491993 0.47628925 0.74250574 0.84821517]\n",
            " [0.65046634 0.9903354  0.8275444  0.69349254 0.62619288]\n",
            " [0.58581398 0.85384408 0.66224787 0.2442906  0.63090749]\n",
            " [0.85906659 0.42719051 0.41886962 0.7290757  0.7292651 ]\n",
            " [0.79649291 0.92164624 0.85114941 0.78167993 0.84996669]]\n"
          ]
        }
      ]
    },
    {
      "cell_type": "code",
      "source": [
        "print(np.sin(arr))"
      ],
      "metadata": {
        "colab": {
          "base_uri": "https://localhost:8080/"
        },
        "id": "wmNFS23V8ODF",
        "outputId": "a6f63f21-65eb-41ef-edb3-fcfa30a83ca4"
      },
      "execution_count": null,
      "outputs": [
        {
          "output_type": "stream",
          "name": "stdout",
          "text": [
            "[[0.64151316 0.28225064 0.22491076 0.52380765 0.65898535]\n",
            " [0.41059496 0.8309228  0.63254115 0.46260557 0.38214607]\n",
            " [0.33648149 0.6661612  0.42464727 0.05964248 0.38761624]\n",
            " [0.67280623 0.18148049 0.17455298 0.50687127 0.50710935]\n",
            " [0.59269514 0.75090528 0.66272766 0.57370608 0.66121965]]\n"
          ]
        }
      ]
    },
    {
      "cell_type": "code",
      "source": [
        "print(np.cos(arr))"
      ],
      "metadata": {
        "colab": {
          "base_uri": "https://localhost:8080/"
        },
        "id": "q_4nsTbk8ORH",
        "outputId": "a58cb94b-fa49-4d50-ef61-27dbec6b95d0"
      },
      "execution_count": null,
      "outputs": [
        {
          "output_type": "stream",
          "name": "stdout",
          "text": [
            "[[0.76711203 0.9593407  0.97437937 0.85183657 0.75215578]\n",
            " [0.91181785 0.55638772 0.77452676 0.8865642  0.92410193]\n",
            " [0.94169008 0.74580779 0.90535888 0.9982198  0.92182083]\n",
            " [0.73981875 0.98339455 0.98464778 0.86202176 0.86188172]\n",
            " [0.80542689 0.66040992 0.7488605  0.81906125 0.75019236]]\n"
          ]
        }
      ]
    },
    {
      "cell_type": "markdown",
      "source": [
        "### sum along a specified axis"
      ],
      "metadata": {
        "id": "8qhbk8pn8OXU"
      }
    },
    {
      "cell_type": "code",
      "source": [
        "print(np.sum(arr,axis=0))"
      ],
      "metadata": {
        "colab": {
          "base_uri": "https://localhost:8080/"
        },
        "id": "wM5hukkG8Odm",
        "outputId": "872040c0-dd91-4ac7-8e12-22e3151b3132"
      },
      "execution_count": null,
      "outputs": [
        {
          "output_type": "stream",
          "name": "stdout",
          "text": [
            "[2.83515003 3.02787677 2.25016052 2.23449945 2.76390171]\n"
          ]
        }
      ]
    },
    {
      "cell_type": "code",
      "source": [
        "# sum along the column\n",
        "print(np.sum(arr, axis=1))"
      ],
      "metadata": {
        "colab": {
          "base_uri": "https://localhost:8080/"
        },
        "id": "wg1F0tVj8Ojg",
        "outputId": "9e8c3c53-ff15-408f-c059-cc5e4cb6255e"
      },
      "execution_count": null,
      "outputs": [
        {
          "output_type": "stream",
          "name": "stdout",
          "text": [
            "[2.48024371 2.96174982 1.96852212 2.15931785 3.54175497]\n"
          ]
        }
      ]
    },
    {
      "cell_type": "markdown",
      "source": [
        "### compute the min and max along a specified axis\n"
      ],
      "metadata": {
        "id": "j2GmEVAU8OqL"
      }
    },
    {
      "cell_type": "code",
      "source": [
        "print(np.min(arr, axis=0))"
      ],
      "metadata": {
        "colab": {
          "base_uri": "https://localhost:8080/"
        },
        "id": "8eaP6CXE8Ow7",
        "outputId": "cc26c122-321c-4469-dcf2-ceea2488774f"
      },
      "execution_count": null,
      "outputs": [
        {
          "output_type": "stream",
          "name": "stdout",
          "text": [
            "[0.34317802 0.18249173 0.17545176 0.0596779  0.39211752]\n"
          ]
        }
      ]
    },
    {
      "cell_type": "code",
      "source": [
        "print(np.max(arr, axis=1))"
      ],
      "metadata": {
        "colab": {
          "base_uri": "https://localhost:8080/"
        },
        "id": "fRk2mWy-8O4l",
        "outputId": "2dc99574-e832-4607-e7a2-60a1c18ddad1"
      },
      "execution_count": null,
      "outputs": [
        {
          "output_type": "stream",
          "name": "stdout",
          "text": [
            "[0.71946897 0.9807642  0.72904971 0.73799541 0.84943179]\n"
          ]
        }
      ]
    },
    {
      "cell_type": "code",
      "source": [
        "print(np.max(arr))\n",
        "print(np.min(arr))"
      ],
      "metadata": {
        "colab": {
          "base_uri": "https://localhost:8080/"
        },
        "id": "nEMO9Ove8O__",
        "outputId": "2b21ee9a-a3ee-4aa2-a3e6-804312a123e8"
      },
      "execution_count": null,
      "outputs": [
        {
          "output_type": "stream",
          "name": "stdout",
          "text": [
            "0.9807641983846155\n",
            "0.05967789660956835\n"
          ]
        }
      ]
    },
    {
      "cell_type": "markdown",
      "source": [
        "###compute the indices of the min and max along a specified axis\n"
      ],
      "metadata": {
        "id": "7XR0JErZ8PM_"
      }
    },
    {
      "cell_type": "code",
      "source": [
        "# along the row\n",
        "print(np.argmin(arr, axis=0))\n",
        "print(np.argmax(arr, axis=0))"
      ],
      "metadata": {
        "colab": {
          "base_uri": "https://localhost:8080/"
        },
        "id": "pVrl7dd49QxH",
        "outputId": "a5fffd2c-a37a-46e7-be43-17624ccef25c"
      },
      "execution_count": null,
      "outputs": [
        {
          "output_type": "stream",
          "name": "stdout",
          "text": [
            "[2 3 3 2 1]\n",
            "[3 1 4 4 4]\n"
          ]
        }
      ]
    },
    {
      "cell_type": "code",
      "source": [
        "# along the column\n",
        "print(np.argmin(arr, axis=1))\n",
        "print(np.argmax(arr, axis=1))"
      ],
      "metadata": {
        "colab": {
          "base_uri": "https://localhost:8080/"
        },
        "id": "_JHQdsNa9Q48",
        "outputId": "1c512b3d-4def-434d-c97a-c65258530141"
      },
      "execution_count": null,
      "outputs": [
        {
          "output_type": "stream",
          "name": "stdout",
          "text": [
            "[2 0 0 1 0]\n",
            "[4 3 3 4 2]\n"
          ]
        }
      ]
    },
    {
      "cell_type": "code",
      "source": [
        "# if axis not specified, return the index of the flattened array\n",
        "print(np.argmin(arr))\n",
        "print(np.argmax(arr))"
      ],
      "metadata": {
        "colab": {
          "base_uri": "https://localhost:8080/"
        },
        "id": "KbYmqete9RBA",
        "outputId": "1f4e642c-0a75-4557-bb80-22c90896057c"
      },
      "execution_count": null,
      "outputs": [
        {
          "output_type": "stream",
          "name": "stdout",
          "text": [
            "5\n",
            "22\n"
          ]
        }
      ]
    },
    {
      "cell_type": "markdown",
      "source": [
        "###compute element-wise min and max of two arrays"
      ],
      "metadata": {
        "id": "HW0OssCf9RG0"
      }
    },
    {
      "cell_type": "code",
      "source": [
        "arr1 = np.array([1, 3, 5, 7, 9])\n",
        "arr2 = np.array([0, 4, 3, 8, 7])\n",
        "print(np.maximum(arr1, arr2))\n",
        "print(np.minimum(arr1, arr2))"
      ],
      "metadata": {
        "colab": {
          "base_uri": "https://localhost:8080/"
        },
        "id": "z7_ADTIy9ROw",
        "outputId": "59cd337e-f0ea-4d7d-cd1c-d2b898aba74d"
      },
      "execution_count": null,
      "outputs": [
        {
          "output_type": "stream",
          "name": "stdout",
          "text": [
            "[1 4 5 8 9]\n",
            "[0 3 3 7 7]\n"
          ]
        }
      ]
    },
    {
      "cell_type": "markdown",
      "source": [
        "###split fractional and integral parts of a floating-point array\n"
      ],
      "metadata": {
        "id": "IVsVmyIT9RYC"
      }
    },
    {
      "cell_type": "code",
      "source": [
        "arr1 = np.random.rand(10) * 10\n",
        "re, intg = np.modf(arr1)\n",
        "print('fractional: ', re)\n",
        "print('integral: ', intg)"
      ],
      "metadata": {
        "colab": {
          "base_uri": "https://localhost:8080/"
        },
        "id": "eEue79bp8PT_",
        "outputId": "5318d847-b740-4cf1-d250-ea45f1e4408a"
      },
      "execution_count": null,
      "outputs": [
        {
          "output_type": "stream",
          "name": "stdout",
          "text": [
            "fractional:  [0.20628666 0.26340801 0.03060128 0.45068006 0.42763834 0.04120789\n",
            " 0.17022211 0.81300766 0.75456842 0.10422337]\n",
            "integral:  [1. 8. 6. 5. 3. 3. 4. 6. 8. 5.]\n"
          ]
        }
      ]
    },
    {
      "cell_type": "markdown",
      "source": [
        "### compute the mean"
      ],
      "metadata": {
        "id": "XAUiURwH-Edq"
      }
    },
    {
      "cell_type": "code",
      "source": [
        "# compute the overall mean\n",
        "print(np.mean(arr))"
      ],
      "metadata": {
        "colab": {
          "base_uri": "https://localhost:8080/"
        },
        "id": "WWSUkaz1-EJ1",
        "outputId": "28a85294-d3dc-45b7-df16-6faa53655430"
      },
      "execution_count": null,
      "outputs": [
        {
          "output_type": "stream",
          "name": "stdout",
          "text": [
            "0.4792521952184076\n"
          ]
        }
      ]
    },
    {
      "cell_type": "code",
      "source": [
        "# compute the mean along the row\n",
        "print(np.mean(arr, axis=0))"
      ],
      "metadata": {
        "colab": {
          "base_uri": "https://localhost:8080/"
        },
        "id": "NoW6OMX7-D_J",
        "outputId": "d4ec2f89-7729-4560-c22f-063ad2eafc83"
      },
      "execution_count": null,
      "outputs": [
        {
          "output_type": "stream",
          "name": "stdout",
          "text": [
            "[0.32034668 0.36409876 0.57107208 0.5331741  0.60756935]\n"
          ]
        }
      ]
    },
    {
      "cell_type": "code",
      "source": [
        "# compute the mean along the column\n",
        "print(np.mean(arr, axis=1))"
      ],
      "metadata": {
        "colab": {
          "base_uri": "https://localhost:8080/"
        },
        "id": "z7Bfb4y9-L3E",
        "outputId": "fc71e349-5b48-4c78-d194-9898d0892341"
      },
      "execution_count": null,
      "outputs": [
        {
          "output_type": "stream",
          "name": "stdout",
          "text": [
            "[0.36754019 0.37523685 0.61559968 0.46759844 0.57028581]\n"
          ]
        }
      ]
    },
    {
      "cell_type": "markdown",
      "source": [
        "### compute the median"
      ],
      "metadata": {
        "id": "31S61rsW-L_0"
      }
    },
    {
      "cell_type": "code",
      "source": [
        "# compute the overall median\n",
        "print(np.median(arr))"
      ],
      "metadata": {
        "colab": {
          "base_uri": "https://localhost:8080/"
        },
        "id": "MiGixh0T-MIl",
        "outputId": "53aa80c7-cb1e-4295-a889-417e06d64249"
      },
      "execution_count": null,
      "outputs": [
        {
          "output_type": "stream",
          "name": "stdout",
          "text": [
            "0.4308627633296438\n"
          ]
        }
      ]
    },
    {
      "cell_type": "code",
      "source": [
        "# compute the median along the row\n",
        "print(np.median(arr, axis=0))"
      ],
      "metadata": {
        "colab": {
          "base_uri": "https://localhost:8080/"
        },
        "id": "avGceRjd-MR6",
        "outputId": "72a72dc8-2947-4571-80b6-c61aff978251"
      },
      "execution_count": null,
      "outputs": [
        {
          "output_type": "stream",
          "name": "stdout",
          "text": [
            "[0.31226122 0.42635131 0.43086276 0.4936851  0.61289453]\n"
          ]
        }
      ]
    },
    {
      "cell_type": "code",
      "source": [
        "# compute the median along the column\n",
        "print(np.median(arr, axis=1))"
      ],
      "metadata": {
        "colab": {
          "base_uri": "https://localhost:8080/"
        },
        "id": "5cC4KNtG-Mb4",
        "outputId": "37226aaf-83e1-4036-ee52-dbfb57b249e5"
      },
      "execution_count": null,
      "outputs": [
        {
          "output_type": "stream",
          "name": "stdout",
          "text": [
            "[0.32295891 0.43086276 0.50183668 0.41482621 0.51948512]\n"
          ]
        }
      ]
    },
    {
      "cell_type": "markdown",
      "source": [
        "###compute the percentile\n"
      ],
      "metadata": {
        "id": "X3bFbeUW-Mma"
      }
    },
    {
      "cell_type": "code",
      "source": [
        "arr1 = np.random.rand(100)\n",
        "# compute 5, 65, and 95 percentiles of the array\n",
        "print(np.percentile(arr1, [5, 65, 95]))"
      ],
      "metadata": {
        "colab": {
          "base_uri": "https://localhost:8080/"
        },
        "id": "Vxk0yCd4-MwU",
        "outputId": "69a85b3d-8347-4e81-85f7-c311a7b02881"
      },
      "execution_count": null,
      "outputs": [
        {
          "output_type": "stream",
          "name": "stdout",
          "text": [
            "[0.08300353 0.6650086  0.92525508]\n"
          ]
        }
      ]
    },
    {
      "cell_type": "markdown",
      "source": [
        "###compute the standard deviation & variance\n"
      ],
      "metadata": {
        "id": "KcdPqL8l-M6o"
      }
    },
    {
      "cell_type": "code",
      "source": [
        "# compute the overall standard deviation\n",
        "print(np.std(arr))"
      ],
      "metadata": {
        "colab": {
          "base_uri": "https://localhost:8080/"
        },
        "id": "hkWthAtE-D3c",
        "outputId": "150147a9-b4bc-478c-8780-22ef025f7621"
      },
      "execution_count": null,
      "outputs": [
        {
          "output_type": "stream",
          "name": "stdout",
          "text": [
            "0.2363407440309854\n"
          ]
        }
      ]
    },
    {
      "cell_type": "code",
      "source": [
        "# compute the standard deviation along the row\n",
        "print(np.std(arr, axis=0))"
      ],
      "metadata": {
        "colab": {
          "base_uri": "https://localhost:8080/"
        },
        "id": "NfxzJmHZ-Dvx",
        "outputId": "bb85159f-c14c-40bb-f2cd-e147e74ea4aa"
      },
      "execution_count": null,
      "outputs": [
        {
          "output_type": "stream",
          "name": "stdout",
          "text": [
            "[0.17275882 0.13008717 0.30895714 0.22000161 0.14948646]\n"
          ]
        }
      ]
    },
    {
      "cell_type": "code",
      "source": [
        "# compute the standard deviation along the column\n",
        "print(np.std(arr, axis=1))"
      ],
      "metadata": {
        "colab": {
          "base_uri": "https://localhost:8080/"
        },
        "id": "AzN9owtM-p3p",
        "outputId": "da684c5b-68f7-428f-d422-4ff5e07dcef0"
      },
      "execution_count": null,
      "outputs": [
        {
          "output_type": "stream",
          "name": "stdout",
          "text": [
            "[0.13875693 0.14371199 0.25529986 0.25794799 0.23947987]\n"
          ]
        }
      ]
    },
    {
      "cell_type": "code",
      "source": [
        "# compute the overall variance\n",
        "print(np.var(arr))"
      ],
      "metadata": {
        "colab": {
          "base_uri": "https://localhost:8080/"
        },
        "id": "Kp2wHSyG-qB8",
        "outputId": "9282c579-1b87-4dbb-b1c7-c3ce1dcee7f0"
      },
      "execution_count": null,
      "outputs": [
        {
          "output_type": "stream",
          "name": "stdout",
          "text": [
            "0.05585694728911976\n"
          ]
        }
      ]
    },
    {
      "cell_type": "code",
      "source": [
        "# compute the variance along the row\n",
        "print(np.var(arr, axis=0))"
      ],
      "metadata": {
        "colab": {
          "base_uri": "https://localhost:8080/"
        },
        "id": "nCYJBdph-qJ_",
        "outputId": "effb1c2f-c61e-443a-dd7e-38804000f121"
      },
      "execution_count": null,
      "outputs": [
        {
          "output_type": "stream",
          "name": "stdout",
          "text": [
            "[0.02984561 0.01692267 0.09545451 0.04840071 0.0223462 ]\n"
          ]
        }
      ]
    },
    {
      "cell_type": "code",
      "source": [
        "# compute the variance along the column\n",
        "print(np.var(arr, axis=1))"
      ],
      "metadata": {
        "colab": {
          "base_uri": "https://localhost:8080/"
        },
        "id": "3MemkTKT-qQz",
        "outputId": "77e411d9-063f-494c-8d06-c52102b5f920"
      },
      "execution_count": null,
      "outputs": [
        {
          "output_type": "stream",
          "name": "stdout",
          "text": [
            "[0.01925349 0.02065314 0.06517802 0.06653716 0.05735061]\n"
          ]
        }
      ]
    },
    {
      "cell_type": "markdown",
      "source": [
        "###compute the covariance & correlation\n"
      ],
      "metadata": {
        "id": "XNQk9xsB-qXD"
      }
    },
    {
      "cell_type": "code",
      "source": [
        "# Generate a 5x5 matrix with random values between 5 and 50\n",
        "arr = np.random.randint(5, 51, size=(5, 5))\n",
        "\n",
        "# Print the array\n",
        "print(arr)"
      ],
      "metadata": {
        "colab": {
          "base_uri": "https://localhost:8080/"
        },
        "id": "DZVr6pYZ-qdt",
        "outputId": "39f4caca-ce34-4b3a-d437-0004d5bb92d9"
      },
      "execution_count": null,
      "outputs": [
        {
          "output_type": "stream",
          "name": "stdout",
          "text": [
            "[[23 37 35  8 36]\n",
            " [46 32 20 47 32]\n",
            " [19 26 35 25 36]\n",
            " [11 37 12 18 29]\n",
            " [36 32  6 21 31]]\n"
          ]
        }
      ]
    },
    {
      "cell_type": "code",
      "source": [
        "print(np.cov(arr))"
      ],
      "metadata": {
        "colab": {
          "base_uri": "https://localhost:8080/"
        },
        "id": "dt8RVklm-qku",
        "outputId": "fc661cc2-282b-4df5-d20a-6183f9074f24"
      },
      "execution_count": null,
      "outputs": [
        {
          "output_type": "stream",
          "name": "stdout",
          "text": [
            "[[ 154.7  -112.65   50.05   63.85    0.8 ]\n",
            " [-112.65  126.8   -64.6   -20.95   79.65]\n",
            " [  50.05  -64.6    51.7    16.9   -46.55]\n",
            " [  63.85  -20.95   16.9   127.3    58.15]\n",
            " [   0.8    79.65  -46.55   58.15  145.7 ]]\n"
          ]
        }
      ]
    },
    {
      "cell_type": "code",
      "source": [
        "print(np.corrcoef(arr[:,0], arr[:,1]))"
      ],
      "metadata": {
        "colab": {
          "base_uri": "https://localhost:8080/"
        },
        "id": "V0qA3m-h-qrW",
        "outputId": "ae19f044-60c1-4d09-ebdb-8731288cba04"
      },
      "execution_count": null,
      "outputs": [
        {
          "output_type": "stream",
          "name": "stdout",
          "text": [
            "[[ 1.         -0.20487944]\n",
            " [-0.20487944  1.        ]]\n"
          ]
        }
      ]
    },
    {
      "cell_type": "markdown",
      "source": [
        "### compute cumulative sum & product"
      ],
      "metadata": {
        "id": "7qxFHRos-rAm"
      }
    },
    {
      "cell_type": "code",
      "source": [
        "# calculate the cumulative sums along the row\n",
        "print(np.cumsum(arr, axis=0))"
      ],
      "metadata": {
        "colab": {
          "base_uri": "https://localhost:8080/"
        },
        "id": "SmrBnbBW-rKb",
        "outputId": "81e0525f-f8de-4c73-d60f-74a30bd55afc"
      },
      "execution_count": null,
      "outputs": [
        {
          "output_type": "stream",
          "name": "stdout",
          "text": [
            "[[ 23  37  35   8  36]\n",
            " [ 69  69  55  55  68]\n",
            " [ 88  95  90  80 104]\n",
            " [ 99 132 102  98 133]\n",
            " [135 164 108 119 164]]\n"
          ]
        }
      ]
    },
    {
      "cell_type": "code",
      "source": [
        "# calculate the cumulative sums along the column\n",
        "print(np.cumsum(arr, axis=1))"
      ],
      "metadata": {
        "colab": {
          "base_uri": "https://localhost:8080/"
        },
        "id": "zLzmLqN2-rTJ",
        "outputId": "9b0fb4b0-d2c0-44c7-ace6-ef500104ce27"
      },
      "execution_count": null,
      "outputs": [
        {
          "output_type": "stream",
          "name": "stdout",
          "text": [
            "[[ 23  60  95 103 139]\n",
            " [ 46  78  98 145 177]\n",
            " [ 19  45  80 105 141]\n",
            " [ 11  48  60  78 107]\n",
            " [ 36  68  74  95 126]]\n"
          ]
        }
      ]
    },
    {
      "cell_type": "code",
      "source": [
        "# calculate the cumulative product along the row\n",
        "print(np.cumprod(arr, axis=0))"
      ],
      "metadata": {
        "colab": {
          "base_uri": "https://localhost:8080/"
        },
        "id": "cqE9MxiI-ra2",
        "outputId": "fa3426e1-b5bf-46b0-841a-1387d9f7c6d0"
      },
      "execution_count": null,
      "outputs": [
        {
          "output_type": "stream",
          "name": "stdout",
          "text": [
            "[[      23       37       35        8       36]\n",
            " [    1058     1184      700      376     1152]\n",
            " [   20102    30784    24500     9400    41472]\n",
            " [  221122  1139008   294000   169200  1202688]\n",
            " [ 7960392 36448256  1764000  3553200 37283328]]\n"
          ]
        }
      ]
    },
    {
      "cell_type": "code",
      "source": [
        "# calculate the cumulative product along the column\n",
        "print(np.cumprod(arr, axis=1))"
      ],
      "metadata": {
        "colab": {
          "base_uri": "https://localhost:8080/"
        },
        "id": "nrXea_xb-rjP",
        "outputId": "46c31f6c-0eac-45f1-e349-b85200951836"
      },
      "execution_count": null,
      "outputs": [
        {
          "output_type": "stream",
          "name": "stdout",
          "text": [
            "[[      23      851    29785   238280  8578080]\n",
            " [      46     1472    29440  1383680 44277760]\n",
            " [      19      494    17290   432250 15561000]\n",
            " [      11      407     4884    87912  2549448]\n",
            " [      36     1152     6912   145152  4499712]]\n"
          ]
        }
      ]
    },
    {
      "cell_type": "markdown",
      "source": [
        "###element-wise comparison"
      ],
      "metadata": {
        "id": "vLc9MBMD-rrM"
      }
    },
    {
      "cell_type": "code",
      "source": [
        "arr1 = np.arange(1,6)\n",
        "arr2 = np.arange(2,12,2)\n",
        "print(arr1)\n",
        "print(arr2)"
      ],
      "metadata": {
        "colab": {
          "base_uri": "https://localhost:8080/"
        },
        "id": "auxBrsVOACWi",
        "outputId": "35eb1903-bcad-44a7-9436-26c1e5fb34b6"
      },
      "execution_count": null,
      "outputs": [
        {
          "output_type": "stream",
          "name": "stdout",
          "text": [
            "[1 2 3 4 5]\n",
            "[ 2  4  6  8 10]\n"
          ]
        }
      ]
    },
    {
      "cell_type": "code",
      "source": [
        "# return an array of bools\n",
        "print(arr1 == arr2)\n",
        "print(arr1 < 3)\n"
      ],
      "metadata": {
        "colab": {
          "base_uri": "https://localhost:8080/"
        },
        "id": "OnhzOs1UADMC",
        "outputId": "2b30f95c-e4e6-4c00-a497-1757adc8ec9a"
      },
      "execution_count": null,
      "outputs": [
        {
          "output_type": "stream",
          "name": "stdout",
          "text": [
            "[False False False False False]\n",
            "[ True  True False False False]\n"
          ]
        }
      ]
    },
    {
      "cell_type": "markdown",
      "source": [
        "# *Linear algebra*"
      ],
      "metadata": {
        "id": "qTZs-y7C2mDP"
      }
    },
    {
      "cell_type": "code",
      "source": [
        "arr1 = np.random.rand(5,5)\n",
        "arr2 = np.random.rand(5,5)"
      ],
      "metadata": {
        "id": "164s78kf2l8C"
      },
      "execution_count": null,
      "outputs": []
    },
    {
      "cell_type": "markdown",
      "source": [
        "###matrix multiplication"
      ],
      "metadata": {
        "id": "HS5k2a1C36Oy"
      }
    },
    {
      "cell_type": "code",
      "source": [
        "print(arr1.dot(arr2))\n",
        "# or\n",
        "print(\"\\n\")\n",
        "print(np.dot(arr1, arr2))\n",
        "# or\n",
        "print(\"\\n\")\n",
        "print(arr1 @ arr2)"
      ],
      "metadata": {
        "colab": {
          "base_uri": "https://localhost:8080/"
        },
        "id": "EK_cxWmT2l0s",
        "outputId": "afab7aec-a76b-4ee6-efc6-f3f09e43032e"
      },
      "execution_count": null,
      "outputs": [
        {
          "output_type": "stream",
          "name": "stdout",
          "text": [
            "[[0.94947524 0.43465217 1.04235987 1.60172599 0.85755955]\n",
            " [1.33763084 0.79342586 1.38610424 2.12088416 1.39568631]\n",
            " [1.93971156 0.8411649  2.21084153 2.43512351 1.32432791]\n",
            " [1.11298316 0.27102013 1.41559575 1.26736668 0.50712777]\n",
            " [1.71339824 0.62632397 1.36500312 2.24965183 1.45423638]]\n",
            "\n",
            "\n",
            "[[0.94947524 0.43465217 1.04235987 1.60172599 0.85755955]\n",
            " [1.33763084 0.79342586 1.38610424 2.12088416 1.39568631]\n",
            " [1.93971156 0.8411649  2.21084153 2.43512351 1.32432791]\n",
            " [1.11298316 0.27102013 1.41559575 1.26736668 0.50712777]\n",
            " [1.71339824 0.62632397 1.36500312 2.24965183 1.45423638]]\n",
            "\n",
            "\n",
            "[[0.94947524 0.43465217 1.04235987 1.60172599 0.85755955]\n",
            " [1.33763084 0.79342586 1.38610424 2.12088416 1.39568631]\n",
            " [1.93971156 0.8411649  2.21084153 2.43512351 1.32432791]\n",
            " [1.11298316 0.27102013 1.41559575 1.26736668 0.50712777]\n",
            " [1.71339824 0.62632397 1.36500312 2.24965183 1.45423638]]\n"
          ]
        }
      ]
    },
    {
      "cell_type": "markdown",
      "source": [
        "###QR factorization\n"
      ],
      "metadata": {
        "id": "1OeiFsRZ4FqM"
      }
    },
    {
      "cell_type": "code",
      "source": [
        "arr = np.random.rand(5,5)\n",
        "q, r = np.linalg.qr(arr)\n",
        "print(q,\"\\n\")\n",
        "print(r)"
      ],
      "metadata": {
        "colab": {
          "base_uri": "https://localhost:8080/"
        },
        "id": "peWon5PY2lr-",
        "outputId": "39fe5772-2407-48e2-c2af-fe37addf58a8"
      },
      "execution_count": null,
      "outputs": [
        {
          "output_type": "stream",
          "name": "stdout",
          "text": [
            "[[-0.75338261  0.50064451  0.19696348  0.35110902  0.14034798]\n",
            " [-0.1876773  -0.66413404  0.41252954  0.46231415 -0.37388262]\n",
            " [-0.43124003 -0.07086705 -0.60789963 -0.23556047 -0.61966056]\n",
            " [-0.38186097 -0.25407884  0.42427311 -0.76240223  0.16840818]\n",
            " [-0.25574618 -0.48857226 -0.49140119  0.16199442  0.65434984]] \n",
            "\n",
            "[[-0.97072249 -1.70734588 -1.29610876 -1.55114034 -1.54299354]\n",
            " [ 0.         -0.63668285 -1.2097192  -0.35896987 -0.22524927]\n",
            " [ 0.          0.         -0.13839977  0.02070195  0.15828929]\n",
            " [ 0.          0.          0.         -0.38507152 -0.3401064 ]\n",
            " [ 0.          0.          0.          0.         -0.22892095]]\n"
          ]
        }
      ]
    },
    {
      "cell_type": "markdown",
      "source": [
        "###singular value decomposition (SVD)\n"
      ],
      "metadata": {
        "id": "57sO57ii4KEE"
      }
    },
    {
      "cell_type": "code",
      "source": [
        "arr = np.random.rand(5,5)\n",
        "\n",
        "u, s, v = np.linalg.svd(arr)\n",
        "print(u)\n",
        "print(s)\n",
        "print(v)"
      ],
      "metadata": {
        "colab": {
          "base_uri": "https://localhost:8080/"
        },
        "id": "ZLRlJYFx2lYa",
        "outputId": "ff786cce-9672-4857-ad75-f46bf86c6c92"
      },
      "execution_count": null,
      "outputs": [
        {
          "output_type": "stream",
          "name": "stdout",
          "text": [
            "[[-0.56051161  0.42170615 -0.2871973  -0.29398803 -0.58230525]\n",
            " [-0.54398252 -0.06521528  0.57929178 -0.44017425  0.4129136 ]\n",
            " [-0.27825573 -0.23780893  0.51514734  0.6164693  -0.46969083]\n",
            " [-0.32280536 -0.82382985 -0.45640153 -0.09275624 -0.01396424]\n",
            " [-0.45637726  0.28751031 -0.32902827  0.57548201  0.51924798]]\n",
            "[2.81726349e+00 6.51223228e-01 5.28188617e-01 2.81395478e-01\n",
            " 1.07921413e-03]\n",
            "[[-0.52470438 -0.40996963 -0.53276713 -0.17415914 -0.49237992]\n",
            " [-0.22692175  0.12600148  0.73296373 -0.31254425 -0.54562845]\n",
            " [ 0.24886837 -0.85269677  0.28244578 -0.27454374  0.23626862]\n",
            " [-0.45785312 -0.25953296  0.30759092  0.78727656  0.0927179 ]\n",
            " [-0.63374039  0.14696728  0.0673465  -0.42048311  0.62883395]]\n"
          ]
        }
      ]
    },
    {
      "cell_type": "markdown",
      "source": [
        "###compute eigen values\n"
      ],
      "metadata": {
        "id": "6_wVi4Ia3WUL"
      }
    },
    {
      "cell_type": "code",
      "source": [
        "arr = np.random.rand(5,5)\n",
        "print(np.linalg.eigvals(arr))"
      ],
      "metadata": {
        "colab": {
          "base_uri": "https://localhost:8080/"
        },
        "id": "GqL04c1N3Wcv",
        "outputId": "88f94686-336b-4f3c-e242-5576c0be2902"
      },
      "execution_count": null,
      "outputs": [
        {
          "output_type": "stream",
          "name": "stdout",
          "text": [
            "[ 2.79324019+0.j          0.25069791+0.26740775j  0.25069791-0.26740775j\n",
            " -0.2152348 +0.30526548j -0.2152348 -0.30526548j]\n"
          ]
        }
      ]
    },
    {
      "cell_type": "markdown",
      "source": [
        "###eigen value decomposition\n"
      ],
      "metadata": {
        "id": "mLHZBsFr3Wi8"
      }
    },
    {
      "cell_type": "code",
      "source": [
        "arr = np.random.rand(5,5)\n",
        "\n",
        "w, v = np.linalg.eig(arr)\n",
        "print(w)    # eigen values\n",
        "print(v)    # eigen vectors"
      ],
      "metadata": {
        "colab": {
          "base_uri": "https://localhost:8080/"
        },
        "id": "QWLbVDHe3WvN",
        "outputId": "bf4ee914-7214-41bf-f986-33cf523e3d77"
      },
      "execution_count": null,
      "outputs": [
        {
          "output_type": "stream",
          "name": "stdout",
          "text": [
            "[ 2.72228306+0.j          0.48174907+0.j          0.04551495+0.27179108j\n",
            "  0.04551495-0.27179108j -0.23589797+0.j        ]\n",
            "[[ 0.49889058+0.j          0.09129305+0.j         -0.54536196+0.16686421j\n",
            "  -0.54536196-0.16686421j  0.53367382+0.j        ]\n",
            " [ 0.40090643+0.j          0.66137586+0.j          0.69525218+0.j\n",
            "   0.69525218-0.j         -0.47817078+0.j        ]\n",
            " [ 0.28150506+0.j         -0.7340859 +0.j         -0.20570547+0.19002133j\n",
            "  -0.20570547-0.19002133j -0.01215494+0.j        ]\n",
            " [ 0.55540104+0.j          0.09270604+0.j         -0.15319126-0.1334533j\n",
            "  -0.15319126+0.1334533j  -0.45346722+0.j        ]\n",
            " [ 0.45018531+0.j         -0.0822863 +0.j         -0.1067153 -0.24550506j\n",
            "  -0.1067153 +0.24550506j  0.52987234+0.j        ]]\n"
          ]
        }
      ]
    },
    {
      "cell_type": "markdown",
      "source": [
        "###compute the trace & determinant\n"
      ],
      "metadata": {
        "id": "uSPV00LN3W2z"
      }
    },
    {
      "cell_type": "code",
      "source": [
        "# notice this is not a function in linalg!!!\n",
        "print(np.trace(arr))"
      ],
      "metadata": {
        "colab": {
          "base_uri": "https://localhost:8080/"
        },
        "id": "mUhGptD53W-u",
        "outputId": "e842f68a-47c3-435c-db09-daf17010b755"
      },
      "execution_count": null,
      "outputs": [
        {
          "output_type": "stream",
          "name": "stdout",
          "text": [
            "3.0591640619938465\n"
          ]
        }
      ]
    },
    {
      "cell_type": "code",
      "source": [
        "print(np.linalg.det(arr))"
      ],
      "metadata": {
        "colab": {
          "base_uri": "https://localhost:8080/"
        },
        "id": "4wbOBuwM3XFF",
        "outputId": "3d2aa563-593d-42e4-c472-c105200c981c"
      },
      "execution_count": null,
      "outputs": [
        {
          "output_type": "stream",
          "name": "stdout",
          "text": [
            "-0.023494186676471573\n"
          ]
        }
      ]
    },
    {
      "cell_type": "markdown",
      "source": [
        "###calculate the inverse/psedo-inverse of a matrix"
      ],
      "metadata": {
        "id": "33Korym73XL2"
      }
    },
    {
      "cell_type": "code",
      "source": [
        "arr = np.random.rand(5,5)"
      ],
      "metadata": {
        "id": "Ck02DWp23XTN"
      },
      "execution_count": null,
      "outputs": []
    },
    {
      "cell_type": "code",
      "source": [
        "# compute the inverse of a matrix\n",
        "print(np.linalg.inv(arr))"
      ],
      "metadata": {
        "colab": {
          "base_uri": "https://localhost:8080/"
        },
        "id": "nuOfrmGK3XZz",
        "outputId": "dfcf5f9c-7594-4af9-dd0a-6174270050d2"
      },
      "execution_count": null,
      "outputs": [
        {
          "output_type": "stream",
          "name": "stdout",
          "text": [
            "[[-10.1003745   -2.73726227   3.1408319   18.5392584  -18.61525974]\n",
            " [ 17.49103332   6.62545038  -5.36245855 -33.26412207  32.64235549]\n",
            " [ -6.61171884  -3.99786069   3.58407899  12.78142812 -12.94607754]\n",
            " [ -8.59107102  -3.01132103   2.22436482  15.47544522 -12.12797211]\n",
            " [ 12.33233604   4.69786756  -3.92531219 -20.19485149  17.03080663]]\n"
          ]
        }
      ]
    },
    {
      "cell_type": "code",
      "source": [
        "# compute the psudo-inverse of a matrix\n",
        "print(np.linalg.pinv(arr))"
      ],
      "metadata": {
        "colab": {
          "base_uri": "https://localhost:8080/"
        },
        "id": "lZoIoDHM3Xmr",
        "outputId": "9f31b5cf-2359-4ac8-edbe-58e38a0840a2"
      },
      "execution_count": null,
      "outputs": [
        {
          "output_type": "stream",
          "name": "stdout",
          "text": [
            "[[-10.1003745   -2.73726227   3.1408319   18.5392584  -18.61525974]\n",
            " [ 17.49103332   6.62545038  -5.36245855 -33.26412207  32.64235549]\n",
            " [ -6.61171884  -3.99786069   3.58407899  12.78142812 -12.94607754]\n",
            " [ -8.59107102  -3.01132103   2.22436482  15.47544522 -12.12797211]\n",
            " [ 12.33233604   4.69786756  -3.92531219 -20.19485149  17.03080663]]\n"
          ]
        }
      ]
    },
    {
      "cell_type": "markdown",
      "source": [
        "###solve a linear system\n"
      ],
      "metadata": {
        "id": "F-kVxh3M4nPm"
      }
    },
    {
      "cell_type": "code",
      "source": [
        "# solve a linear system in closed form\n",
        "y = [1,2,3,4,5]\n",
        "print(np.linalg.solve(arr, y))"
      ],
      "metadata": {
        "id": "ZyPMedSb3XuI"
      },
      "execution_count": null,
      "outputs": []
    },
    {
      "cell_type": "code",
      "source": [
        "# calculate the least-squares solution of a linear system\n",
        "y = [1,2,3,4,5]\n",
        "solution, residuals, rank, singular = np.linalg.lstsq(arr, y)\n",
        "print(solution)\n",
        "print(\"\\n\")\n",
        "print(residuals)\n",
        "print(\"\\n\")\n",
        "print(rank)\n",
        "print(\"\\n\")\n",
        "print(singular)"
      ],
      "metadata": {
        "id": "XyjGSvAa3X0h"
      },
      "execution_count": null,
      "outputs": []
    },
    {
      "cell_type": "markdown",
      "source": [
        "#Sort an Array"
      ],
      "metadata": {
        "id": "GsFlWmzYwZ0V"
      }
    },
    {
      "cell_type": "code",
      "source": [
        "arr = np.random.rand(5,5)\n",
        "arr"
      ],
      "metadata": {
        "colab": {
          "base_uri": "https://localhost:8080/"
        },
        "id": "iQEQBAczwaKC",
        "outputId": "2a87dd5b-bacb-4c33-ae0d-3e36fbc09ff1"
      },
      "execution_count": 12,
      "outputs": [
        {
          "output_type": "execute_result",
          "data": {
            "text/plain": [
              "array([[4.40714482e-01, 4.81636344e-02, 2.80450779e-03, 2.50963344e-04,\n",
              "        6.46725112e-01],\n",
              "       [2.72679296e-01, 6.95917259e-01, 4.14852279e-01, 6.19698280e-01,\n",
              "        8.58041738e-01],\n",
              "       [2.74563773e-01, 8.99329759e-01, 3.06427257e-01, 7.89606426e-01,\n",
              "        2.31867196e-01],\n",
              "       [9.60389200e-01, 7.49095215e-01, 5.86112015e-01, 3.21681335e-01,\n",
              "        5.61961731e-01],\n",
              "       [2.79279853e-01, 6.71808465e-02, 4.02053590e-01, 5.41916211e-01,\n",
              "        3.68311177e-01]])"
            ]
          },
          "metadata": {},
          "execution_count": 12
        }
      ]
    },
    {
      "cell_type": "code",
      "source": [
        "arr1 = np.random.randn(5,5)\n",
        "arr1"
      ],
      "metadata": {
        "colab": {
          "base_uri": "https://localhost:8080/"
        },
        "id": "Fyn7LTuawac6",
        "outputId": "e9612b92-ecfa-4fa1-9214-b5c36f703e58"
      },
      "execution_count": 13,
      "outputs": [
        {
          "output_type": "execute_result",
          "data": {
            "text/plain": [
              "array([[ 0.2281025 ,  0.85834175, -1.00196423, -0.37118213,  1.09446066],\n",
              "       [ 0.7759036 , -0.56304709,  1.16831622, -1.20473656,  0.39666544],\n",
              "       [-0.57251972,  1.84273117,  0.44142591, -1.29706324, -1.19960254],\n",
              "       [-1.90129605,  2.14485418,  0.97744518, -0.51628765,  0.61484647],\n",
              "       [ 0.96524759,  0.34513229, -0.4739721 ,  0.53771161, -1.14170441]])"
            ]
          },
          "metadata": {},
          "execution_count": 13
        }
      ]
    },
    {
      "cell_type": "markdown",
      "source": [
        "###sort an array along a specified axis\n"
      ],
      "metadata": {
        "id": "QdG1YFJ0wan_"
      }
    },
    {
      "cell_type": "code",
      "source": [
        "# sort along the row and return a copy\n",
        "print(np.sort(arr, axis=0))"
      ],
      "metadata": {
        "colab": {
          "base_uri": "https://localhost:8080/"
        },
        "id": "7A8W1gNwwawR",
        "outputId": "06a539e8-76bf-4e3a-d73c-861f99365fb1"
      },
      "execution_count": 14,
      "outputs": [
        {
          "output_type": "stream",
          "name": "stdout",
          "text": [
            "[[2.72679296e-01 4.81636344e-02 2.80450779e-03 2.50963344e-04\n",
            "  2.31867196e-01]\n",
            " [2.74563773e-01 6.71808465e-02 3.06427257e-01 3.21681335e-01\n",
            "  3.68311177e-01]\n",
            " [2.79279853e-01 6.95917259e-01 4.02053590e-01 5.41916211e-01\n",
            "  5.61961731e-01]\n",
            " [4.40714482e-01 7.49095215e-01 4.14852279e-01 6.19698280e-01\n",
            "  6.46725112e-01]\n",
            " [9.60389200e-01 8.99329759e-01 5.86112015e-01 7.89606426e-01\n",
            "  8.58041738e-01]]\n"
          ]
        }
      ]
    },
    {
      "cell_type": "code",
      "source": [
        "# sort along the row in place\n",
        "arr.sort(axis=0)\n",
        "print(arr)"
      ],
      "metadata": {
        "colab": {
          "base_uri": "https://localhost:8080/"
        },
        "id": "9tEdlN4-wa5p",
        "outputId": "8dac2256-778f-4aee-8ed7-6fa2b6e031bc"
      },
      "execution_count": 15,
      "outputs": [
        {
          "output_type": "stream",
          "name": "stdout",
          "text": [
            "[[2.72679296e-01 4.81636344e-02 2.80450779e-03 2.50963344e-04\n",
            "  2.31867196e-01]\n",
            " [2.74563773e-01 6.71808465e-02 3.06427257e-01 3.21681335e-01\n",
            "  3.68311177e-01]\n",
            " [2.79279853e-01 6.95917259e-01 4.02053590e-01 5.41916211e-01\n",
            "  5.61961731e-01]\n",
            " [4.40714482e-01 7.49095215e-01 4.14852279e-01 6.19698280e-01\n",
            "  6.46725112e-01]\n",
            " [9.60389200e-01 8.99329759e-01 5.86112015e-01 7.89606426e-01\n",
            "  8.58041738e-01]]\n"
          ]
        }
      ]
    },
    {
      "cell_type": "code",
      "source": [
        "# sort along the column and return a copy\n",
        "print(np.sort(arr, axis=1))"
      ],
      "metadata": {
        "colab": {
          "base_uri": "https://localhost:8080/"
        },
        "id": "3odCA3zpwbCW",
        "outputId": "5d7dd376-3009-4377-eae8-e8b4844a3674"
      },
      "execution_count": 16,
      "outputs": [
        {
          "output_type": "stream",
          "name": "stdout",
          "text": [
            "[[2.50963344e-04 2.80450779e-03 4.81636344e-02 2.31867196e-01\n",
            "  2.72679296e-01]\n",
            " [6.71808465e-02 2.74563773e-01 3.06427257e-01 3.21681335e-01\n",
            "  3.68311177e-01]\n",
            " [2.79279853e-01 4.02053590e-01 5.41916211e-01 5.61961731e-01\n",
            "  6.95917259e-01]\n",
            " [4.14852279e-01 4.40714482e-01 6.19698280e-01 6.46725112e-01\n",
            "  7.49095215e-01]\n",
            " [5.86112015e-01 7.89606426e-01 8.58041738e-01 8.99329759e-01\n",
            "  9.60389200e-01]]\n"
          ]
        }
      ]
    },
    {
      "cell_type": "code",
      "source": [
        "# sort along the column in place\n",
        "arr.sort(axis=1)\n",
        "print(arr)"
      ],
      "metadata": {
        "colab": {
          "base_uri": "https://localhost:8080/"
        },
        "id": "dik66RcrwbQl",
        "outputId": "83446ad8-c2f9-433f-d345-b58c42bcae1d"
      },
      "execution_count": 17,
      "outputs": [
        {
          "output_type": "stream",
          "name": "stdout",
          "text": [
            "[[2.50963344e-04 2.80450779e-03 4.81636344e-02 2.31867196e-01\n",
            "  2.72679296e-01]\n",
            " [6.71808465e-02 2.74563773e-01 3.06427257e-01 3.21681335e-01\n",
            "  3.68311177e-01]\n",
            " [2.79279853e-01 4.02053590e-01 5.41916211e-01 5.61961731e-01\n",
            "  6.95917259e-01]\n",
            " [4.14852279e-01 4.40714482e-01 6.19698280e-01 6.46725112e-01\n",
            "  7.49095215e-01]\n",
            " [5.86112015e-01 7.89606426e-01 8.58041738e-01 8.99329759e-01\n",
            "  9.60389200e-01]]\n"
          ]
        }
      ]
    },
    {
      "cell_type": "markdown",
      "source": [
        "###compute the indices that would sort an array along a specified axis\n"
      ],
      "metadata": {
        "id": "1tTyFhkywbaV"
      }
    },
    {
      "cell_type": "code",
      "source": [
        "arr = np.random.rand(5,5)\n",
        "print(arr)"
      ],
      "metadata": {
        "colab": {
          "base_uri": "https://localhost:8080/"
        },
        "id": "3jjYTQBHwbip",
        "outputId": "e8dbc78e-0838-48b4-9896-7184ff68089b"
      },
      "execution_count": 20,
      "outputs": [
        {
          "output_type": "stream",
          "name": "stdout",
          "text": [
            "[[0.78344065 0.60299652 0.38614719 0.67196199 0.84111522]\n",
            " [0.35491589 0.89749984 0.24329534 0.84580727 0.035373  ]\n",
            " [0.65693911 0.47791162 0.22964279 0.5786724  0.82144916]\n",
            " [0.59029862 0.57171164 0.25600033 0.42611183 0.3001487 ]\n",
            " [0.8738261  0.63508732 0.18276542 0.98134495 0.99808702]]\n"
          ]
        }
      ]
    },
    {
      "cell_type": "code",
      "source": [
        "# along the row\n",
        "print(np.argsort(arr, axis=0))"
      ],
      "metadata": {
        "colab": {
          "base_uri": "https://localhost:8080/"
        },
        "id": "BAedQN9vwbsO",
        "outputId": "ff701635-cded-4d64-ecea-dc3e514e7161"
      },
      "execution_count": 21,
      "outputs": [
        {
          "output_type": "stream",
          "name": "stdout",
          "text": [
            "[[1 2 4 3 1]\n",
            " [3 3 2 2 3]\n",
            " [2 0 1 0 2]\n",
            " [0 4 3 1 0]\n",
            " [4 1 0 4 4]]\n"
          ]
        }
      ]
    },
    {
      "cell_type": "code",
      "source": [
        "# along the column\n",
        "print(np.argsort(arr, axis=1))"
      ],
      "metadata": {
        "id": "pjVf_UBLwb3W"
      },
      "execution_count": null,
      "outputs": []
    },
    {
      "cell_type": "markdown",
      "source": [
        "Key Differences:\n",
        "\n",
        "**np.sort() returns a sorted copy of the array, leaving the original array unchanged.** \\\n",
        "\n",
        "**np.argsort() returns the indices that would sort the array, without modifying the original array.**"
      ],
      "metadata": {
        "id": "RT9u4tLUwcJp"
      }
    },
    {
      "cell_type": "markdown",
      "source": [
        "#Slicing & Indexing"
      ],
      "metadata": {
        "id": "OrDSj36yyjZA"
      }
    },
    {
      "cell_type": "code",
      "source": [
        "arr = np.array(np.arange(100).reshape((10,10)))\n",
        "arr"
      ],
      "metadata": {
        "colab": {
          "base_uri": "https://localhost:8080/"
        },
        "id": "p09nfOGyyjSd",
        "outputId": "ec1cef59-5bc5-4201-8938-d10b0af57cec"
      },
      "execution_count": 24,
      "outputs": [
        {
          "output_type": "execute_result",
          "data": {
            "text/plain": [
              "array([[ 0,  1,  2,  3,  4,  5,  6,  7,  8,  9],\n",
              "       [10, 11, 12, 13, 14, 15, 16, 17, 18, 19],\n",
              "       [20, 21, 22, 23, 24, 25, 26, 27, 28, 29],\n",
              "       [30, 31, 32, 33, 34, 35, 36, 37, 38, 39],\n",
              "       [40, 41, 42, 43, 44, 45, 46, 47, 48, 49],\n",
              "       [50, 51, 52, 53, 54, 55, 56, 57, 58, 59],\n",
              "       [60, 61, 62, 63, 64, 65, 66, 67, 68, 69],\n",
              "       [70, 71, 72, 73, 74, 75, 76, 77, 78, 79],\n",
              "       [80, 81, 82, 83, 84, 85, 86, 87, 88, 89],\n",
              "       [90, 91, 92, 93, 94, 95, 96, 97, 98, 99]])"
            ]
          },
          "metadata": {},
          "execution_count": 24
        }
      ]
    },
    {
      "cell_type": "markdown",
      "source": [
        "###select an element by row and column indices\n"
      ],
      "metadata": {
        "id": "xGRiUUyRyjL2"
      }
    },
    {
      "cell_type": "code",
      "source": [
        "print(arr[4][4])\n",
        "print(arr[4,4])"
      ],
      "metadata": {
        "colab": {
          "base_uri": "https://localhost:8080/"
        },
        "id": "BNqrPnVkyjE_",
        "outputId": "edc24c2e-7a7a-4af5-cdfd-1d11644f2ff0"
      },
      "execution_count": 26,
      "outputs": [
        {
          "output_type": "stream",
          "name": "stdout",
          "text": [
            "44\n",
            "44\n"
          ]
        }
      ]
    },
    {
      "cell_type": "markdown",
      "source": [
        "###indexing with slicing\n"
      ],
      "metadata": {
        "id": "o1-AAKdzyi-r"
      }
    },
    {
      "cell_type": "code",
      "source": [
        "print(arr[1:3,4:6])"
      ],
      "metadata": {
        "colab": {
          "base_uri": "https://localhost:8080/"
        },
        "id": "Dmh6MRRsyi4L",
        "outputId": "364fde37-08f9-4ecf-d445-ef20933516c0"
      },
      "execution_count": 28,
      "outputs": [
        {
          "output_type": "stream",
          "name": "stdout",
          "text": [
            "[[14 15]\n",
            " [24 25]]\n"
          ]
        }
      ]
    },
    {
      "cell_type": "markdown",
      "source": [
        "###assign a scalar to a slice by broadcasting\n"
      ],
      "metadata": {
        "id": "jhkHG6bp1WkF"
      }
    },
    {
      "cell_type": "code",
      "source": [
        "arr[1:3,:] = 100    # or simply arr[1:3]\n",
        "arr[:,8:] = 100\n",
        "print(arr)"
      ],
      "metadata": {
        "colab": {
          "base_uri": "https://localhost:8080/"
        },
        "id": "LLkeUa9Hyir_",
        "outputId": "695ef9b2-0cf5-4cf5-c6f7-6360b4e3f59c"
      },
      "execution_count": 30,
      "outputs": [
        {
          "output_type": "stream",
          "name": "stdout",
          "text": [
            "[[[[  0   1]\n",
            "   [  2   3]]\n",
            "\n",
            "  [[  4   5]\n",
            "   [  6   7]]]\n",
            "\n",
            "\n",
            " [[[100 100]\n",
            "   [100 100]]\n",
            "\n",
            "  [[100 100]\n",
            "   [100 100]]]]\n"
          ]
        }
      ]
    },
    {
      "cell_type": "markdown",
      "source": [
        "###boolean indexing\n"
      ],
      "metadata": {
        "id": "NAULp4Q2yil5"
      }
    },
    {
      "cell_type": "code",
      "source": [
        "arr1 = np.arange(25).reshape((5,5))\n",
        "bools = np.array([True, True, False, True, False])\n",
        "print(arr1[bools])"
      ],
      "metadata": {
        "colab": {
          "base_uri": "https://localhost:8080/"
        },
        "id": "lQDtOIDpyier",
        "outputId": "8a6e3cdf-1d47-45e6-ddd4-7591a65ba70b"
      },
      "execution_count": 31,
      "outputs": [
        {
          "output_type": "stream",
          "name": "stdout",
          "text": [
            "[[ 0  1  2  3  4]\n",
            " [ 5  6  7  8  9]\n",
            " [15 16 17 18 19]]\n"
          ]
        }
      ]
    },
    {
      "cell_type": "code",
      "source": [
        "# negate the condition\n",
        "print(arr1[~bools])"
      ],
      "metadata": {
        "colab": {
          "base_uri": "https://localhost:8080/"
        },
        "id": "8xU0VRcayiWb",
        "outputId": "b6b99d9a-72a3-44a3-fb2b-b7a7e7b03b34"
      },
      "execution_count": 32,
      "outputs": [
        {
          "output_type": "stream",
          "name": "stdout",
          "text": [
            "[[10 11 12 13 14]\n",
            " [20 21 22 23 24]]\n"
          ]
        }
      ]
    },
    {
      "cell_type": "code",
      "source": [
        "arr2 = np.array([1,2,3,4,5])\n",
        "# multiple conditions\n",
        "print(arr1[(arr2<2) | (arr2>4)])"
      ],
      "metadata": {
        "colab": {
          "base_uri": "https://localhost:8080/"
        },
        "id": "C0mS25rxyiMU",
        "outputId": "33e284d6-f42e-433f-b1a3-cf045f100007"
      },
      "execution_count": 33,
      "outputs": [
        {
          "output_type": "stream",
          "name": "stdout",
          "text": [
            "[[ 0  1  2  3  4]\n",
            " [20 21 22 23 24]]\n"
          ]
        }
      ]
    },
    {
      "cell_type": "markdown",
      "source": [
        "###fancy indexing\n"
      ],
      "metadata": {
        "id": "3K2bysUzyh62"
      }
    },
    {
      "cell_type": "code",
      "source": [
        "arr = np.random.rand(10,10)"
      ],
      "metadata": {
        "id": "99vi5jEwyhy5"
      },
      "execution_count": 34,
      "outputs": []
    },
    {
      "cell_type": "code",
      "source": [
        "# select arr[3,3], arr[1,2], arr[2,1]\n",
        "print(arr[[3,1,2], [3,2,1]])"
      ],
      "metadata": {
        "colab": {
          "base_uri": "https://localhost:8080/"
        },
        "id": "-T8oBWo1yhqm",
        "outputId": "775b78b5-50d4-4420-86e8-7d87d8c0c301"
      },
      "execution_count": 35,
      "outputs": [
        {
          "output_type": "stream",
          "name": "stdout",
          "text": [
            "[0.42434072 0.96148882 0.01874556]\n"
          ]
        }
      ]
    },
    {
      "cell_type": "code",
      "source": [
        "# select rows 3,1,2 and columns 6,4,8\n",
        "print(arr[[3,1,2]][:, [6,4,8]])"
      ],
      "metadata": {
        "colab": {
          "base_uri": "https://localhost:8080/"
        },
        "id": "19z2aOR1yhiw",
        "outputId": "942a9a91-7bf5-42b0-db41-074d2f83c24a"
      },
      "execution_count": 36,
      "outputs": [
        {
          "output_type": "stream",
          "name": "stdout",
          "text": [
            "[[0.99301134 0.32390525 0.77060707]\n",
            " [0.80289217 0.88140979 0.87170063]\n",
            " [0.86776868 0.59815456 0.24894824]]\n"
          ]
        }
      ]
    },
    {
      "cell_type": "markdown",
      "source": [
        "###dimension inference\n"
      ],
      "metadata": {
        "id": "XQav2NR8yha3"
      }
    },
    {
      "cell_type": "code",
      "source": [
        "# dimension inference using any negative number (usually -1)\n",
        "arr = np.array(range(16)).reshape((4,-1))\n",
        "print(arr.shape)"
      ],
      "metadata": {
        "colab": {
          "base_uri": "https://localhost:8080/"
        },
        "id": "_rjV56PVyhTF",
        "outputId": "85f6e2d7-cc6b-423b-9b00-95880cfdc24f"
      },
      "execution_count": 37,
      "outputs": [
        {
          "output_type": "stream",
          "name": "stdout",
          "text": [
            "(4, 4)\n"
          ]
        }
      ]
    },
    {
      "cell_type": "markdown",
      "source": [
        "###find elements/indices by conditions\n"
      ],
      "metadata": {
        "id": "cLyHKrsMyhJ6"
      }
    },
    {
      "cell_type": "code",
      "source": [
        "arr = np.arange(16).reshape(4,4)"
      ],
      "metadata": {
        "id": "OnW1_yneyhA_"
      },
      "execution_count": 38,
      "outputs": []
    },
    {
      "cell_type": "code",
      "source": [
        "# find the elements greater than 5 and return a flattened array\n",
        "print(arr[arr>5])    # or arr[np.where(arr>5)]"
      ],
      "metadata": {
        "colab": {
          "base_uri": "https://localhost:8080/"
        },
        "id": "R_9OmR-9ygxi",
        "outputId": "911f6858-0f12-4912-c1ef-d398789f37f0"
      },
      "execution_count": 39,
      "outputs": [
        {
          "output_type": "stream",
          "name": "stdout",
          "text": [
            "[ 6  7  8  9 10 11 12 13 14 15]\n"
          ]
        }
      ]
    },
    {
      "cell_type": "code",
      "source": [
        "# return values based on conditions\n",
        "# np.where(condition, true_return, false_return)\n",
        "print(np.where(arr>5, -1, 10))"
      ],
      "metadata": {
        "colab": {
          "base_uri": "https://localhost:8080/"
        },
        "id": "FXSsS003ygo_",
        "outputId": "dc39c505-38f4-46cc-d250-5ee14a5c8ac7"
      },
      "execution_count": 40,
      "outputs": [
        {
          "output_type": "stream",
          "name": "stdout",
          "text": [
            "[[10 10 10 10]\n",
            " [10 10 -1 -1]\n",
            " [-1 -1 -1 -1]\n",
            " [-1 -1 -1 -1]]\n"
          ]
        }
      ]
    },
    {
      "cell_type": "code",
      "source": [
        "# find the indices of the elements on conditions\n",
        "print(np.argwhere(arr>5))"
      ],
      "metadata": {
        "colab": {
          "base_uri": "https://localhost:8080/"
        },
        "id": "iLp0XBwSyggl",
        "outputId": "065ddb20-e326-43a4-c011-3a140960054f"
      },
      "execution_count": 41,
      "outputs": [
        {
          "output_type": "stream",
          "name": "stdout",
          "text": [
            "[[1 2]\n",
            " [1 3]\n",
            " [2 0]\n",
            " [2 1]\n",
            " [2 2]\n",
            " [2 3]\n",
            " [3 0]\n",
            " [3 1]\n",
            " [3 2]\n",
            " [3 3]]\n"
          ]
        }
      ]
    },
    {
      "cell_type": "markdown",
      "source": [
        "#Manuplate an array"
      ],
      "metadata": {
        "id": "08y6oyODygYE"
      }
    },
    {
      "cell_type": "code",
      "source": [
        "arr = np.random.rand(3,4)"
      ],
      "metadata": {
        "id": "XRRvIiSqygPq"
      },
      "execution_count": 42,
      "outputs": []
    },
    {
      "cell_type": "markdown",
      "source": [
        "###transpose an array\n"
      ],
      "metadata": {
        "id": "uibcDxzeygHZ"
      }
    },
    {
      "cell_type": "code",
      "source": [
        "# the following methods return a copy\n",
        "print(arr.T)\n",
        "# or\n",
        "print(np.transpose(arr))\n",
        "# or\n",
        "print(arr.transpose())"
      ],
      "metadata": {
        "colab": {
          "base_uri": "https://localhost:8080/"
        },
        "id": "tJvGvaQDyf-t",
        "outputId": "4ac2b978-4a50-4ccc-d885-17ca94a3832e"
      },
      "execution_count": 43,
      "outputs": [
        {
          "output_type": "stream",
          "name": "stdout",
          "text": [
            "[[0.4884476  0.67218972 0.54520167]\n",
            " [0.43126234 0.36275074 0.26482955]\n",
            " [0.16396966 0.54473151 0.66577389]\n",
            " [0.53541945 0.05299796 0.67145447]]\n",
            "[[0.4884476  0.67218972 0.54520167]\n",
            " [0.43126234 0.36275074 0.26482955]\n",
            " [0.16396966 0.54473151 0.66577389]\n",
            " [0.53541945 0.05299796 0.67145447]]\n",
            "[[0.4884476  0.67218972 0.54520167]\n",
            " [0.43126234 0.36275074 0.26482955]\n",
            " [0.16396966 0.54473151 0.66577389]\n",
            " [0.53541945 0.05299796 0.67145447]]\n"
          ]
        }
      ]
    },
    {
      "cell_type": "markdown",
      "source": [
        "###transpose of a high dimensional array with specified order of axes"
      ],
      "metadata": {
        "id": "osSYTr73yftx"
      }
    },
    {
      "cell_type": "code",
      "source": [
        "arr1 = np.arange(16).reshape((2,2,4))\n",
        "print(arr1)\n",
        "\n",
        "arr1.transpose((1,0,2))\n",
        "print(arr1)"
      ],
      "metadata": {
        "colab": {
          "base_uri": "https://localhost:8080/"
        },
        "id": "SAZm6zOPyflQ",
        "outputId": "42fe1088-c8f6-4831-93d2-185b775cb0b3"
      },
      "execution_count": 44,
      "outputs": [
        {
          "output_type": "stream",
          "name": "stdout",
          "text": [
            "[[[ 0  1  2  3]\n",
            "  [ 4  5  6  7]]\n",
            "\n",
            " [[ 8  9 10 11]\n",
            "  [12 13 14 15]]]\n",
            "[[[ 0  1  2  3]\n",
            "  [ 4  5  6  7]]\n",
            "\n",
            " [[ 8  9 10 11]\n",
            "  [12 13 14 15]]]\n"
          ]
        }
      ]
    },
    {
      "cell_type": "markdown",
      "source": [
        "###swap axes\n"
      ],
      "metadata": {
        "id": "gkzIX_ftyfdB"
      }
    },
    {
      "cell_type": "code",
      "source": [
        "arr1 = np.arange(16).reshape((2,2,4))\n",
        "print(arr1.swapaxes(1,2))"
      ],
      "metadata": {
        "colab": {
          "base_uri": "https://localhost:8080/"
        },
        "id": "DTgAwlI-yfUE",
        "outputId": "7f36cebc-6ca4-45df-eb55-896ce104870a"
      },
      "execution_count": 46,
      "outputs": [
        {
          "output_type": "stream",
          "name": "stdout",
          "text": [
            "[[[ 0  4]\n",
            "  [ 1  5]\n",
            "  [ 2  6]\n",
            "  [ 3  7]]\n",
            "\n",
            " [[ 8 12]\n",
            "  [ 9 13]\n",
            "  [10 14]\n",
            "  [11 15]]]\n"
          ]
        }
      ]
    },
    {
      "cell_type": "markdown",
      "source": [
        "###change the shape of an array\n"
      ],
      "metadata": {
        "id": "bT1HxdDSyfJF"
      }
    },
    {
      "cell_type": "code",
      "source": [
        "# change the shape of an array and return a copy\n",
        "arr.reshape((2,6))"
      ],
      "metadata": {
        "colab": {
          "base_uri": "https://localhost:8080/"
        },
        "id": "9TMyq1Fmye4o",
        "outputId": "751d416b-d681-4913-cdf2-0a6e754d817f"
      },
      "execution_count": 47,
      "outputs": [
        {
          "output_type": "execute_result",
          "data": {
            "text/plain": [
              "array([[0.4884476 , 0.43126234, 0.16396966, 0.53541945, 0.67218972,\n",
              "        0.36275074],\n",
              "       [0.54473151, 0.05299796, 0.54520167, 0.26482955, 0.66577389,\n",
              "        0.67145447]])"
            ]
          },
          "metadata": {},
          "execution_count": 47
        }
      ]
    },
    {
      "cell_type": "code",
      "source": [
        "# change the shape of an array in place\n",
        "arr.resize((2,6))"
      ],
      "metadata": {
        "id": "-AV_SOG93CCT"
      },
      "execution_count": 48,
      "outputs": []
    },
    {
      "cell_type": "markdown",
      "source": [
        "###flatten an array\n"
      ],
      "metadata": {
        "id": "vUNoXB2p3CRh"
      }
    },
    {
      "cell_type": "code",
      "source": [
        "# return a copy\n",
        "arr.flatten()"
      ],
      "metadata": {
        "colab": {
          "base_uri": "https://localhost:8080/"
        },
        "id": "BW7dMKUr3OPj",
        "outputId": "5f42d69a-46cb-44e9-9699-402a787b71b8"
      },
      "execution_count": 49,
      "outputs": [
        {
          "output_type": "execute_result",
          "data": {
            "text/plain": [
              "array([0.4884476 , 0.43126234, 0.16396966, 0.53541945, 0.67218972,\n",
              "       0.36275074, 0.54473151, 0.05299796, 0.54520167, 0.26482955,\n",
              "       0.66577389, 0.67145447])"
            ]
          },
          "metadata": {},
          "execution_count": 49
        }
      ]
    },
    {
      "cell_type": "code",
      "source": [
        "# return a view\n",
        "# change any element in the view will change the initial array\n",
        "arr.ravel()"
      ],
      "metadata": {
        "colab": {
          "base_uri": "https://localhost:8080/"
        },
        "id": "MdjtRqBs3Oc8",
        "outputId": "d25f21d7-8c51-4f2f-8f7b-abf3d3d83b70"
      },
      "execution_count": 50,
      "outputs": [
        {
          "output_type": "execute_result",
          "data": {
            "text/plain": [
              "array([0.4884476 , 0.43126234, 0.16396966, 0.53541945, 0.67218972,\n",
              "       0.36275074, 0.54473151, 0.05299796, 0.54520167, 0.26482955,\n",
              "       0.66577389, 0.67145447])"
            ]
          },
          "metadata": {},
          "execution_count": 50
        }
      ]
    },
    {
      "cell_type": "code",
      "source": [
        "arr"
      ],
      "metadata": {
        "colab": {
          "base_uri": "https://localhost:8080/"
        },
        "id": "ZJsbBMz83Ome",
        "outputId": "46b5938d-f359-4d44-f536-99206fb61740"
      },
      "execution_count": 51,
      "outputs": [
        {
          "output_type": "execute_result",
          "data": {
            "text/plain": [
              "array([[0.4884476 , 0.43126234, 0.16396966, 0.53541945, 0.67218972,\n",
              "        0.36275074],\n",
              "       [0.54473151, 0.05299796, 0.54520167, 0.26482955, 0.66577389,\n",
              "        0.67145447]])"
            ]
          },
          "metadata": {},
          "execution_count": 51
        }
      ]
    },
    {
      "cell_type": "markdown",
      "source": [
        "###append elements to an array\n"
      ],
      "metadata": {
        "id": "5gCZFWHB3OxV"
      }
    },
    {
      "cell_type": "code",
      "source": [
        "arr = np.array([1,2,3])"
      ],
      "metadata": {
        "id": "wNNsrsUJ3O94"
      },
      "execution_count": 52,
      "outputs": []
    },
    {
      "cell_type": "code",
      "source": [
        "# append a scalar and return a copy\n",
        "arr1 = np.append(arr, 4)\n",
        "print(arr1)"
      ],
      "metadata": {
        "colab": {
          "base_uri": "https://localhost:8080/"
        },
        "id": "0Df5rdtm3PLE",
        "outputId": "fa12134b-ce3b-47df-df58-21bc12705301"
      },
      "execution_count": 53,
      "outputs": [
        {
          "output_type": "stream",
          "name": "stdout",
          "text": [
            "[[[ 0  1  2  3]\n",
            "  [ 4  5  6  7]]\n",
            "\n",
            " [[ 8  9 10 11]\n",
            "  [12 13 14 15]]]\n"
          ]
        }
      ]
    },
    {
      "cell_type": "code",
      "source": [
        "# append an array and return a copy\n",
        "arr2 = np.append(arr, [4,5,6])\n",
        "print(arr2)"
      ],
      "metadata": {
        "colab": {
          "base_uri": "https://localhost:8080/"
        },
        "id": "eqzEQJdv3PWp",
        "outputId": "5e9e22e4-c365-4323-d913-ec407e295980"
      },
      "execution_count": 54,
      "outputs": [
        {
          "output_type": "stream",
          "name": "stdout",
          "text": [
            "[1 2 3 4 5 6]\n"
          ]
        }
      ]
    },
    {
      "cell_type": "markdown",
      "source": [
        "###insert elements into an array\n"
      ],
      "metadata": {
        "id": "BqGD-Yan3Pt9"
      }
    },
    {
      "cell_type": "code",
      "source": [
        "# np.insert(array, position, element)\n",
        "\n",
        "# insert a scalar at a certain position\n",
        "arr3 = np.insert(arr, 0, 100)\n",
        "print(arr3)"
      ],
      "metadata": {
        "colab": {
          "base_uri": "https://localhost:8080/"
        },
        "id": "cbBHufpB3P6L",
        "outputId": "262b84b8-f616-491d-88cf-96e702b85076"
      },
      "execution_count": 55,
      "outputs": [
        {
          "output_type": "stream",
          "name": "stdout",
          "text": [
            "[100   1   2   3]\n"
          ]
        }
      ]
    },
    {
      "cell_type": "code",
      "source": [
        "# insert multiple values at a certain position\n",
        "arr3 = np.insert(arr, 0, [1,2,3])\n",
        "print(arr3)\n"
      ],
      "metadata": {
        "colab": {
          "base_uri": "https://localhost:8080/"
        },
        "id": "ZTVNbbCp3rmO",
        "outputId": "82903fbb-95ad-4543-dcf4-99f7f2dfa039"
      },
      "execution_count": 56,
      "outputs": [
        {
          "output_type": "stream",
          "name": "stdout",
          "text": [
            "[1 2 3 1 2 3]\n"
          ]
        }
      ]
    },
    {
      "cell_type": "markdown",
      "source": [
        "###delete elements from an array\n"
      ],
      "metadata": {
        "id": "HcEsauO63rzY"
      }
    },
    {
      "cell_type": "code",
      "source": [
        "# remove the element at position 0\n",
        "arr4 = np.delete(arr, 0)\n",
        "print(arr4)"
      ],
      "metadata": {
        "colab": {
          "base_uri": "https://localhost:8080/"
        },
        "id": "Zirumylk3r_Y",
        "outputId": "4579bf2a-5883-4978-ae5e-4e5d1675f3ea"
      },
      "execution_count": 57,
      "outputs": [
        {
          "output_type": "stream",
          "name": "stdout",
          "text": [
            "[2 3]\n"
          ]
        }
      ]
    },
    {
      "cell_type": "code",
      "source": [
        "# remove the element at multiple positions\n",
        "arr4 = np.delete(arr, [0,2])\n",
        "print(arr4)"
      ],
      "metadata": {
        "colab": {
          "base_uri": "https://localhost:8080/"
        },
        "id": "gzlJGYZ63QFF",
        "outputId": "5bb92caa-68cb-4e67-bbe7-ac5e9d9e7e13"
      },
      "execution_count": 58,
      "outputs": [
        {
          "output_type": "stream",
          "name": "stdout",
          "text": [
            "[2]\n"
          ]
        }
      ]
    },
    {
      "cell_type": "markdown",
      "source": [
        "###copy an array\n"
      ],
      "metadata": {
        "id": "Xr7JaJXc35bj"
      }
    },
    {
      "cell_type": "code",
      "source": [
        "arr = np.array([1,2,3])\n",
        "arr"
      ],
      "metadata": {
        "colab": {
          "base_uri": "https://localhost:8080/"
        },
        "id": "62JGkUBz35pO",
        "outputId": "e97bbf7e-ccc9-4af2-b7eb-c7d349ab8baf"
      },
      "execution_count": 59,
      "outputs": [
        {
          "output_type": "execute_result",
          "data": {
            "text/plain": [
              "array([1, 2, 3])"
            ]
          },
          "metadata": {},
          "execution_count": 59
        }
      ]
    },
    {
      "cell_type": "code",
      "source": [
        "# the following methods are all deep copy\n",
        "arr1 = np.copy(arr)\n",
        "# or\n",
        "arr1 = arr.copy()\n",
        "# or\n",
        "arr1 = np.array(arr, copy=True)"
      ],
      "metadata": {
        "id": "W561kscG352Q"
      },
      "execution_count": 60,
      "outputs": []
    },
    {
      "cell_type": "markdown",
      "source": [
        "# Combine & Split an Array"
      ],
      "metadata": {
        "id": "qdHm_MhW4MYS"
      }
    },
    {
      "cell_type": "code",
      "source": [
        "arr1 = np.array([[1,2,3,4], [1,2,3,4]])\n",
        "arr2 = np.array([[5,6,7,8], [5,6,7,8]])\n",
        "print(arr1)\n",
        "print('\\n')\n",
        "print(arr2)"
      ],
      "metadata": {
        "colab": {
          "base_uri": "https://localhost:8080/"
        },
        "id": "A4zKzVzb4W1v",
        "outputId": "4b2492bb-893b-44f8-f597-7c5fabe60ea7"
      },
      "execution_count": 63,
      "outputs": [
        {
          "output_type": "stream",
          "name": "stdout",
          "text": [
            "[[1 2 3 4]\n",
            " [1 2 3 4]]\n",
            "\n",
            "\n",
            "[[5 6 7 8]\n",
            " [5 6 7 8]]\n"
          ]
        }
      ]
    },
    {
      "cell_type": "markdown",
      "source": [
        "###np.concatenate((a, b), axis=0)\n"
      ],
      "metadata": {
        "id": "Z8KMeoFT4XD9"
      }
    },
    {
      "cell_type": "code",
      "source": [
        "# concat along the row\n",
        "cat = np.concatenate((arr1, arr2), axis=0)\n",
        "print(cat)"
      ],
      "metadata": {
        "colab": {
          "base_uri": "https://localhost:8080/"
        },
        "id": "InI_GuUG4XRV",
        "outputId": "7b06bc5d-fb1f-488d-efef-1ccd1227fbf6"
      },
      "execution_count": 64,
      "outputs": [
        {
          "output_type": "stream",
          "name": "stdout",
          "text": [
            "[[1 2 3 4]\n",
            " [1 2 3 4]\n",
            " [5 6 7 8]\n",
            " [5 6 7 8]]\n"
          ]
        }
      ]
    },
    {
      "cell_type": "code",
      "source": [
        "# concat along the column\n",
        "cat = np.concatenate((arr1, arr2), axis=1)\n",
        "print(cat)"
      ],
      "metadata": {
        "colab": {
          "base_uri": "https://localhost:8080/"
        },
        "id": "UCfMdDKM4XcB",
        "outputId": "870fbc12-9f4c-48a4-acd6-88455150a7b0"
      },
      "execution_count": 65,
      "outputs": [
        {
          "output_type": "stream",
          "name": "stdout",
          "text": [
            "[[1 2 3 4 5 6 7 8]\n",
            " [1 2 3 4 5 6 7 8]]\n"
          ]
        }
      ]
    },
    {
      "cell_type": "markdown",
      "source": [
        "###np.vstack((a, b))\n",
        "###np.r_[a, b]"
      ],
      "metadata": {
        "id": "CyayVzhy4Xmm"
      }
    },
    {
      "cell_type": "code",
      "source": [
        "print(arr1)\n",
        "print(\"\\n\")\n",
        "print(arr2)\n",
        "print(\"\\n\")\n",
        "# stack arrays vertically\n",
        "cat = np.vstack((arr1, arr2))\n",
        "print(cat)\n",
        "print(\"\\n\")\n",
        "# stack arrays horizantally\n",
        "cat = np.hstack((arr1, arr2))\n",
        "print(cat)"
      ],
      "metadata": {
        "colab": {
          "base_uri": "https://localhost:8080/"
        },
        "id": "UgmLGvoz4XwL",
        "outputId": "7060e270-e31c-4263-871e-a574dc3ccf95"
      },
      "execution_count": 79,
      "outputs": [
        {
          "output_type": "stream",
          "name": "stdout",
          "text": [
            "[[1 2 3 4]\n",
            " [1 2 3 4]]\n",
            "\n",
            "\n",
            "[[5 6 7 8]\n",
            " [5 6 7 8]]\n",
            "\n",
            "\n",
            "[[1 2 3 4]\n",
            " [1 2 3 4]\n",
            " [5 6 7 8]\n",
            " [5 6 7 8]]\n",
            "\n",
            "\n",
            "[[1 2 3 4 5 6 7 8]\n",
            " [1 2 3 4 5 6 7 8]]\n"
          ]
        }
      ]
    },
    {
      "cell_type": "code",
      "source": [
        "# stack arrays vertically\n",
        "cat = np.r_[arr1, arr2]\n",
        "print(cat)"
      ],
      "metadata": {
        "colab": {
          "base_uri": "https://localhost:8080/"
        },
        "id": "tV3Ar9s64X6G",
        "outputId": "f876152f-e776-4c92-ec67-bddeaf863ac8"
      },
      "execution_count": 80,
      "outputs": [
        {
          "output_type": "stream",
          "name": "stdout",
          "text": [
            "[[1 2 3 4]\n",
            " [1 2 3 4]\n",
            " [5 6 7 8]\n",
            " [5 6 7 8]]\n"
          ]
        }
      ]
    },
    {
      "cell_type": "markdown",
      "source": [
        "###np.hstack((a, b))\n",
        "###np.c_[a, b]"
      ],
      "metadata": {
        "id": "0iowEP2f4YD9"
      }
    },
    {
      "cell_type": "code",
      "source": [
        "# stack arrays horizontally\n",
        "cat = np.hstack((arr1, arr2))\n",
        "print(cat)"
      ],
      "metadata": {
        "colab": {
          "base_uri": "https://localhost:8080/"
        },
        "id": "7M5JBCp74YOE",
        "outputId": "2c16f632-89be-4f58-ad9a-2b12ab67a755"
      },
      "execution_count": 69,
      "outputs": [
        {
          "output_type": "stream",
          "name": "stdout",
          "text": [
            "[[1 2 3 4 5 6 7 8]\n",
            " [1 2 3 4 5 6 7 8]]\n"
          ]
        }
      ]
    },
    {
      "cell_type": "code",
      "source": [
        "# stack arrays horizontally\n",
        "cat = np.c_[arr1, arr2]\n",
        "print(cat)"
      ],
      "metadata": {
        "colab": {
          "base_uri": "https://localhost:8080/"
        },
        "id": "nTR8UVgu4YYU",
        "outputId": "3cc37820-eb22-45f9-c4f2-856440028005"
      },
      "execution_count": 70,
      "outputs": [
        {
          "output_type": "stream",
          "name": "stdout",
          "text": [
            "[[1 2 3 4 5 6 7 8]\n",
            " [1 2 3 4 5 6 7 8]]\n"
          ]
        }
      ]
    },
    {
      "cell_type": "markdown",
      "source": [
        "###split an array\n"
      ],
      "metadata": {
        "id": "Awvq2Zlz4YiR"
      }
    },
    {
      "cell_type": "code",
      "source": [
        "arr = np.random.rand(6,6)\n",
        "arr"
      ],
      "metadata": {
        "colab": {
          "base_uri": "https://localhost:8080/"
        },
        "id": "DvNMznl94YsY",
        "outputId": "acf8155b-d2d3-4bdf-d9a8-e244f2ddc924"
      },
      "execution_count": 81,
      "outputs": [
        {
          "output_type": "execute_result",
          "data": {
            "text/plain": [
              "array([[0.00542952, 0.3882514 , 0.50229952, 0.83204368, 0.99044219,\n",
              "        0.5914409 ],\n",
              "       [0.97450605, 0.65538444, 0.70860079, 0.21585609, 0.26437396,\n",
              "        0.13671545],\n",
              "       [0.03577253, 0.57151592, 0.50427399, 0.1196432 , 0.85483393,\n",
              "        0.46402458],\n",
              "       [0.09334254, 0.43709986, 0.59368707, 0.89142253, 0.47237316,\n",
              "        0.28988191],\n",
              "       [0.23672506, 0.65910367, 0.97944687, 0.19191698, 0.96622889,\n",
              "        0.6608749 ],\n",
              "       [0.84706266, 0.41731783, 0.32121581, 0.36853144, 0.55305737,\n",
              "        0.95145859]])"
            ]
          },
          "metadata": {},
          "execution_count": 81
        }
      ]
    },
    {
      "cell_type": "code",
      "source": [
        "# split the array vertically into n evenly spaced chunks\n",
        "arr1 = np.vsplit(arr, 2)\n",
        "print(arr1)"
      ],
      "metadata": {
        "colab": {
          "base_uri": "https://localhost:8080/"
        },
        "id": "n2BEz54f4Y2f",
        "outputId": "a28c5f60-cf36-4ce6-dcbe-f8f29e6b6241"
      },
      "execution_count": 82,
      "outputs": [
        {
          "output_type": "stream",
          "name": "stdout",
          "text": [
            "[array([[0.00542952, 0.3882514 , 0.50229952, 0.83204368, 0.99044219,\n",
            "        0.5914409 ],\n",
            "       [0.97450605, 0.65538444, 0.70860079, 0.21585609, 0.26437396,\n",
            "        0.13671545],\n",
            "       [0.03577253, 0.57151592, 0.50427399, 0.1196432 , 0.85483393,\n",
            "        0.46402458]]), array([[0.09334254, 0.43709986, 0.59368707, 0.89142253, 0.47237316,\n",
            "        0.28988191],\n",
            "       [0.23672506, 0.65910367, 0.97944687, 0.19191698, 0.96622889,\n",
            "        0.6608749 ],\n",
            "       [0.84706266, 0.41731783, 0.32121581, 0.36853144, 0.55305737,\n",
            "        0.95145859]])]\n"
          ]
        }
      ]
    },
    {
      "cell_type": "code",
      "source": [
        "# split the array horizontally into n evenly spaced chunks\n",
        "arr2 = np.hsplit(arr, 2)\n",
        "print(arr2)"
      ],
      "metadata": {
        "colab": {
          "base_uri": "https://localhost:8080/"
        },
        "id": "LKFteNKy4Y-Q",
        "outputId": "d2f586ee-d30e-4aea-9c32-eddec3b7b14a"
      },
      "execution_count": 83,
      "outputs": [
        {
          "output_type": "stream",
          "name": "stdout",
          "text": [
            "[array([[0.00542952, 0.3882514 , 0.50229952],\n",
            "       [0.97450605, 0.65538444, 0.70860079],\n",
            "       [0.03577253, 0.57151592, 0.50427399],\n",
            "       [0.09334254, 0.43709986, 0.59368707],\n",
            "       [0.23672506, 0.65910367, 0.97944687],\n",
            "       [0.84706266, 0.41731783, 0.32121581]]), array([[0.83204368, 0.99044219, 0.5914409 ],\n",
            "       [0.21585609, 0.26437396, 0.13671545],\n",
            "       [0.1196432 , 0.85483393, 0.46402458],\n",
            "       [0.89142253, 0.47237316, 0.28988191],\n",
            "       [0.19191698, 0.96622889, 0.6608749 ],\n",
            "       [0.36853144, 0.55305737, 0.95145859]])]\n"
          ]
        }
      ]
    },
    {
      "cell_type": "markdown",
      "source": [
        "#Set Operations"
      ],
      "metadata": {
        "id": "hCNbT8vZ4Mt3"
      }
    },
    {
      "cell_type": "markdown",
      "source": [
        "###select the unique elements from an array\n"
      ],
      "metadata": {
        "id": "oGRzt44q4M51"
      }
    },
    {
      "cell_type": "code",
      "source": [
        "arr = np.array([1,1,2,2,3,3,4,5,6])\n",
        "print(np.unique(arr))"
      ],
      "metadata": {
        "colab": {
          "base_uri": "https://localhost:8080/"
        },
        "id": "ZqsFreLQ4NGa",
        "outputId": "b5680f0f-6994-470b-a377-2032b510ce99"
      },
      "execution_count": 84,
      "outputs": [
        {
          "output_type": "stream",
          "name": "stdout",
          "text": [
            "[1 2 3 4 5 6]\n"
          ]
        }
      ]
    },
    {
      "cell_type": "code",
      "source": [
        "# return the number of times each unique item appears\n",
        "arr = np.array([1,1,2,2,3,3,4,5,6])\n",
        "uniques, counts = np.unique(arr, return_counts=True)\n",
        "print(uniques)\n",
        "print(counts)"
      ],
      "metadata": {
        "colab": {
          "base_uri": "https://localhost:8080/"
        },
        "id": "gz0XBsWV4NS_",
        "outputId": "0aa6dde7-8adf-43aa-cb20-56fea56ea801"
      },
      "execution_count": 85,
      "outputs": [
        {
          "output_type": "stream",
          "name": "stdout",
          "text": [
            "[1 2 3 4 5 6]\n",
            "[2 2 2 1 1 1]\n"
          ]
        }
      ]
    },
    {
      "cell_type": "markdown",
      "source": [
        "###compute the intersection & union of two arrays\n"
      ],
      "metadata": {
        "id": "4vwOMbx14NcD"
      }
    },
    {
      "cell_type": "code",
      "source": [
        "arr1 = np.array([1,2,3,4,5])\n",
        "arr2 = np.array([3,4,5,6,7])"
      ],
      "metadata": {
        "id": "1vkmLBkU4NlX"
      },
      "execution_count": 86,
      "outputs": []
    },
    {
      "cell_type": "code",
      "source": [
        "# intersection\n",
        "print(np.intersect1d(arr1, arr2))"
      ],
      "metadata": {
        "colab": {
          "base_uri": "https://localhost:8080/"
        },
        "id": "uK9_w1Cc4N0L",
        "outputId": "708cf3d8-957c-489f-b1c6-8d7aa7e481ec"
      },
      "execution_count": 87,
      "outputs": [
        {
          "output_type": "stream",
          "name": "stdout",
          "text": [
            "[3 4 5]\n"
          ]
        }
      ]
    },
    {
      "cell_type": "code",
      "source": [
        "# union\n",
        "print(np.union1d(arr1, arr2))"
      ],
      "metadata": {
        "colab": {
          "base_uri": "https://localhost:8080/"
        },
        "id": "8c7WHIac4Oxa",
        "outputId": "be2170ed-91be-4c05-a1cd-bd187337d1e3"
      },
      "execution_count": 88,
      "outputs": [
        {
          "output_type": "stream",
          "name": "stdout",
          "text": [
            "[1 2 3 4 5 6 7]\n"
          ]
        }
      ]
    },
    {
      "cell_type": "markdown",
      "source": [
        "###compute whether each element of an array is contained in another\n"
      ],
      "metadata": {
        "id": "Im_VcUoI4O_O"
      }
    },
    {
      "cell_type": "code",
      "source": [
        "print(np.in1d(arr1, arr2))"
      ],
      "metadata": {
        "colab": {
          "base_uri": "https://localhost:8080/"
        },
        "id": "43aOzNud4PK7",
        "outputId": "5669a51c-28ed-4c6b-cc24-b88625d86ded"
      },
      "execution_count": 89,
      "outputs": [
        {
          "output_type": "stream",
          "name": "stdout",
          "text": [
            "[False False  True  True  True]\n"
          ]
        }
      ]
    },
    {
      "cell_type": "code",
      "source": [
        "# preserve the shape of the array in the output, if the array is of higher dimensions\n",
        "print(np.isin(arr1, arr2))"
      ],
      "metadata": {
        "colab": {
          "base_uri": "https://localhost:8080/"
        },
        "id": "BWuG-UH74PWj",
        "outputId": "420730cf-ca45-48e8-a7a1-36e55dff97df"
      },
      "execution_count": 91,
      "outputs": [
        {
          "output_type": "stream",
          "name": "stdout",
          "text": [
            "[False False  True  True  True]\n"
          ]
        }
      ]
    },
    {
      "cell_type": "markdown",
      "source": [
        "###compute the elements in an array that are not in another\n"
      ],
      "metadata": {
        "id": "eUTxwbG84Pio"
      }
    },
    {
      "cell_type": "code",
      "source": [
        "print(np.setdiff1d(arr1, arr2))"
      ],
      "metadata": {
        "colab": {
          "base_uri": "https://localhost:8080/"
        },
        "id": "TktOLvdc4PvR",
        "outputId": "9c2f7631-10ce-43b1-df5b-9dc2ced7dfcb"
      },
      "execution_count": 92,
      "outputs": [
        {
          "output_type": "stream",
          "name": "stdout",
          "text": [
            "[1 2]\n"
          ]
        }
      ]
    },
    {
      "cell_type": "markdown",
      "source": [
        "###compute the elements in either of two arrays, but not both\n"
      ],
      "metadata": {
        "id": "QCaB3dTs4P7B"
      }
    },
    {
      "cell_type": "code",
      "source": [
        "print(np.setxor1d(arr1, arr2))"
      ],
      "metadata": {
        "colab": {
          "base_uri": "https://localhost:8080/"
        },
        "id": "fupr0b-54QIK",
        "outputId": "69cdfdf4-1f39-4fb8-f05a-3db6641903e1"
      },
      "execution_count": 93,
      "outputs": [
        {
          "output_type": "stream",
          "name": "stdout",
          "text": [
            "[1 2 6 7]\n"
          ]
        }
      ]
    },
    {
      "cell_type": "code",
      "source": [
        "#Generating a Dummy Dataset uisng Numpy & Pandas with faker library"
      ],
      "metadata": {
        "id": "PvL8echl8ZFN"
      },
      "execution_count": 111,
      "outputs": []
    },
    {
      "cell_type": "code",
      "source": [
        "import numpy as np\n",
        "import pandas as pd\n",
        "\n",
        "# Generate a 5X5 array with random values between 0 and 1\n",
        "random_array = np.random.rand(5,5)\n",
        "\n",
        "#print the randomly generated array of 5X5\n",
        "print(random_array)"
      ],
      "metadata": {
        "colab": {
          "base_uri": "https://localhost:8080/"
        },
        "id": "y2epHEj98ZSs",
        "outputId": "d54c2593-83ab-4c32-b84f-78a131995b77"
      },
      "execution_count": 94,
      "outputs": [
        {
          "output_type": "stream",
          "name": "stdout",
          "text": [
            "[[0.79049772 0.86068158 0.01021895 0.74498787 0.55789579]\n",
            " [0.96689392 0.20515608 0.53138327 0.13447621 0.4181213 ]\n",
            " [0.70642827 0.80683127 0.73424009 0.49455734 0.88068413]\n",
            " [0.42325194 0.12971934 0.12028095 0.67156349 0.93936868]\n",
            " [0.29444931 0.58460353 0.4144215  0.6924077  0.4386368 ]]\n"
          ]
        }
      ]
    },
    {
      "cell_type": "code",
      "source": [
        "# Generate a 5X5 array with random values between 0 and 1 with index from 2 to 11 and columns from list consisting Names\n",
        "df = pd.DataFrame(random_array,index=range(2,11,2),columns=list('ABCDE'))\n",
        "\n",
        "#print the data frame\n",
        "df"
      ],
      "metadata": {
        "colab": {
          "base_uri": "https://localhost:8080/",
          "height": 206
        },
        "id": "_o_yiu1k8ZrL",
        "outputId": "d12db7ac-f296-4bc5-e82c-2f289f0b62ec"
      },
      "execution_count": 95,
      "outputs": [
        {
          "output_type": "execute_result",
          "data": {
            "text/plain": [
              "           A         B         C         D         E\n",
              "2   0.790498  0.860682  0.010219  0.744988  0.557896\n",
              "4   0.966894  0.205156  0.531383  0.134476  0.418121\n",
              "6   0.706428  0.806831  0.734240  0.494557  0.880684\n",
              "8   0.423252  0.129719  0.120281  0.671563  0.939369\n",
              "10  0.294449  0.584604  0.414421  0.692408  0.438637"
            ],
            "text/html": [
              "\n",
              "  <div id=\"df-4367426b-49bf-4459-8b3b-5a81f43b9e3b\" class=\"colab-df-container\">\n",
              "    <div>\n",
              "<style scoped>\n",
              "    .dataframe tbody tr th:only-of-type {\n",
              "        vertical-align: middle;\n",
              "    }\n",
              "\n",
              "    .dataframe tbody tr th {\n",
              "        vertical-align: top;\n",
              "    }\n",
              "\n",
              "    .dataframe thead th {\n",
              "        text-align: right;\n",
              "    }\n",
              "</style>\n",
              "<table border=\"1\" class=\"dataframe\">\n",
              "  <thead>\n",
              "    <tr style=\"text-align: right;\">\n",
              "      <th></th>\n",
              "      <th>A</th>\n",
              "      <th>B</th>\n",
              "      <th>C</th>\n",
              "      <th>D</th>\n",
              "      <th>E</th>\n",
              "    </tr>\n",
              "  </thead>\n",
              "  <tbody>\n",
              "    <tr>\n",
              "      <th>2</th>\n",
              "      <td>0.790498</td>\n",
              "      <td>0.860682</td>\n",
              "      <td>0.010219</td>\n",
              "      <td>0.744988</td>\n",
              "      <td>0.557896</td>\n",
              "    </tr>\n",
              "    <tr>\n",
              "      <th>4</th>\n",
              "      <td>0.966894</td>\n",
              "      <td>0.205156</td>\n",
              "      <td>0.531383</td>\n",
              "      <td>0.134476</td>\n",
              "      <td>0.418121</td>\n",
              "    </tr>\n",
              "    <tr>\n",
              "      <th>6</th>\n",
              "      <td>0.706428</td>\n",
              "      <td>0.806831</td>\n",
              "      <td>0.734240</td>\n",
              "      <td>0.494557</td>\n",
              "      <td>0.880684</td>\n",
              "    </tr>\n",
              "    <tr>\n",
              "      <th>8</th>\n",
              "      <td>0.423252</td>\n",
              "      <td>0.129719</td>\n",
              "      <td>0.120281</td>\n",
              "      <td>0.671563</td>\n",
              "      <td>0.939369</td>\n",
              "    </tr>\n",
              "    <tr>\n",
              "      <th>10</th>\n",
              "      <td>0.294449</td>\n",
              "      <td>0.584604</td>\n",
              "      <td>0.414421</td>\n",
              "      <td>0.692408</td>\n",
              "      <td>0.438637</td>\n",
              "    </tr>\n",
              "  </tbody>\n",
              "</table>\n",
              "</div>\n",
              "    <div class=\"colab-df-buttons\">\n",
              "\n",
              "  <div class=\"colab-df-container\">\n",
              "    <button class=\"colab-df-convert\" onclick=\"convertToInteractive('df-4367426b-49bf-4459-8b3b-5a81f43b9e3b')\"\n",
              "            title=\"Convert this dataframe to an interactive table.\"\n",
              "            style=\"display:none;\">\n",
              "\n",
              "  <svg xmlns=\"http://www.w3.org/2000/svg\" height=\"24px\" viewBox=\"0 -960 960 960\">\n",
              "    <path d=\"M120-120v-720h720v720H120Zm60-500h600v-160H180v160Zm220 220h160v-160H400v160Zm0 220h160v-160H400v160ZM180-400h160v-160H180v160Zm440 0h160v-160H620v160ZM180-180h160v-160H180v160Zm440 0h160v-160H620v160Z\"/>\n",
              "  </svg>\n",
              "    </button>\n",
              "\n",
              "  <style>\n",
              "    .colab-df-container {\n",
              "      display:flex;\n",
              "      gap: 12px;\n",
              "    }\n",
              "\n",
              "    .colab-df-convert {\n",
              "      background-color: #E8F0FE;\n",
              "      border: none;\n",
              "      border-radius: 50%;\n",
              "      cursor: pointer;\n",
              "      display: none;\n",
              "      fill: #1967D2;\n",
              "      height: 32px;\n",
              "      padding: 0 0 0 0;\n",
              "      width: 32px;\n",
              "    }\n",
              "\n",
              "    .colab-df-convert:hover {\n",
              "      background-color: #E2EBFA;\n",
              "      box-shadow: 0px 1px 2px rgba(60, 64, 67, 0.3), 0px 1px 3px 1px rgba(60, 64, 67, 0.15);\n",
              "      fill: #174EA6;\n",
              "    }\n",
              "\n",
              "    .colab-df-buttons div {\n",
              "      margin-bottom: 4px;\n",
              "    }\n",
              "\n",
              "    [theme=dark] .colab-df-convert {\n",
              "      background-color: #3B4455;\n",
              "      fill: #D2E3FC;\n",
              "    }\n",
              "\n",
              "    [theme=dark] .colab-df-convert:hover {\n",
              "      background-color: #434B5C;\n",
              "      box-shadow: 0px 1px 3px 1px rgba(0, 0, 0, 0.15);\n",
              "      filter: drop-shadow(0px 1px 2px rgba(0, 0, 0, 0.3));\n",
              "      fill: #FFFFFF;\n",
              "    }\n",
              "  </style>\n",
              "\n",
              "    <script>\n",
              "      const buttonEl =\n",
              "        document.querySelector('#df-4367426b-49bf-4459-8b3b-5a81f43b9e3b button.colab-df-convert');\n",
              "      buttonEl.style.display =\n",
              "        google.colab.kernel.accessAllowed ? 'block' : 'none';\n",
              "\n",
              "      async function convertToInteractive(key) {\n",
              "        const element = document.querySelector('#df-4367426b-49bf-4459-8b3b-5a81f43b9e3b');\n",
              "        const dataTable =\n",
              "          await google.colab.kernel.invokeFunction('convertToInteractive',\n",
              "                                                    [key], {});\n",
              "        if (!dataTable) return;\n",
              "\n",
              "        const docLinkHtml = 'Like what you see? Visit the ' +\n",
              "          '<a target=\"_blank\" href=https://colab.research.google.com/notebooks/data_table.ipynb>data table notebook</a>'\n",
              "          + ' to learn more about interactive tables.';\n",
              "        element.innerHTML = '';\n",
              "        dataTable['output_type'] = 'display_data';\n",
              "        await google.colab.output.renderOutput(dataTable, element);\n",
              "        const docLink = document.createElement('div');\n",
              "        docLink.innerHTML = docLinkHtml;\n",
              "        element.appendChild(docLink);\n",
              "      }\n",
              "    </script>\n",
              "  </div>\n",
              "\n",
              "\n",
              "<div id=\"df-a7ebcf72-291f-4efb-a201-2121969cda06\">\n",
              "  <button class=\"colab-df-quickchart\" onclick=\"quickchart('df-a7ebcf72-291f-4efb-a201-2121969cda06')\"\n",
              "            title=\"Suggest charts\"\n",
              "            style=\"display:none;\">\n",
              "\n",
              "<svg xmlns=\"http://www.w3.org/2000/svg\" height=\"24px\"viewBox=\"0 0 24 24\"\n",
              "     width=\"24px\">\n",
              "    <g>\n",
              "        <path d=\"M19 3H5c-1.1 0-2 .9-2 2v14c0 1.1.9 2 2 2h14c1.1 0 2-.9 2-2V5c0-1.1-.9-2-2-2zM9 17H7v-7h2v7zm4 0h-2V7h2v10zm4 0h-2v-4h2v4z\"/>\n",
              "    </g>\n",
              "</svg>\n",
              "  </button>\n",
              "\n",
              "<style>\n",
              "  .colab-df-quickchart {\n",
              "      --bg-color: #E8F0FE;\n",
              "      --fill-color: #1967D2;\n",
              "      --hover-bg-color: #E2EBFA;\n",
              "      --hover-fill-color: #174EA6;\n",
              "      --disabled-fill-color: #AAA;\n",
              "      --disabled-bg-color: #DDD;\n",
              "  }\n",
              "\n",
              "  [theme=dark] .colab-df-quickchart {\n",
              "      --bg-color: #3B4455;\n",
              "      --fill-color: #D2E3FC;\n",
              "      --hover-bg-color: #434B5C;\n",
              "      --hover-fill-color: #FFFFFF;\n",
              "      --disabled-bg-color: #3B4455;\n",
              "      --disabled-fill-color: #666;\n",
              "  }\n",
              "\n",
              "  .colab-df-quickchart {\n",
              "    background-color: var(--bg-color);\n",
              "    border: none;\n",
              "    border-radius: 50%;\n",
              "    cursor: pointer;\n",
              "    display: none;\n",
              "    fill: var(--fill-color);\n",
              "    height: 32px;\n",
              "    padding: 0;\n",
              "    width: 32px;\n",
              "  }\n",
              "\n",
              "  .colab-df-quickchart:hover {\n",
              "    background-color: var(--hover-bg-color);\n",
              "    box-shadow: 0 1px 2px rgba(60, 64, 67, 0.3), 0 1px 3px 1px rgba(60, 64, 67, 0.15);\n",
              "    fill: var(--button-hover-fill-color);\n",
              "  }\n",
              "\n",
              "  .colab-df-quickchart-complete:disabled,\n",
              "  .colab-df-quickchart-complete:disabled:hover {\n",
              "    background-color: var(--disabled-bg-color);\n",
              "    fill: var(--disabled-fill-color);\n",
              "    box-shadow: none;\n",
              "  }\n",
              "\n",
              "  .colab-df-spinner {\n",
              "    border: 2px solid var(--fill-color);\n",
              "    border-color: transparent;\n",
              "    border-bottom-color: var(--fill-color);\n",
              "    animation:\n",
              "      spin 1s steps(1) infinite;\n",
              "  }\n",
              "\n",
              "  @keyframes spin {\n",
              "    0% {\n",
              "      border-color: transparent;\n",
              "      border-bottom-color: var(--fill-color);\n",
              "      border-left-color: var(--fill-color);\n",
              "    }\n",
              "    20% {\n",
              "      border-color: transparent;\n",
              "      border-left-color: var(--fill-color);\n",
              "      border-top-color: var(--fill-color);\n",
              "    }\n",
              "    30% {\n",
              "      border-color: transparent;\n",
              "      border-left-color: var(--fill-color);\n",
              "      border-top-color: var(--fill-color);\n",
              "      border-right-color: var(--fill-color);\n",
              "    }\n",
              "    40% {\n",
              "      border-color: transparent;\n",
              "      border-right-color: var(--fill-color);\n",
              "      border-top-color: var(--fill-color);\n",
              "    }\n",
              "    60% {\n",
              "      border-color: transparent;\n",
              "      border-right-color: var(--fill-color);\n",
              "    }\n",
              "    80% {\n",
              "      border-color: transparent;\n",
              "      border-right-color: var(--fill-color);\n",
              "      border-bottom-color: var(--fill-color);\n",
              "    }\n",
              "    90% {\n",
              "      border-color: transparent;\n",
              "      border-bottom-color: var(--fill-color);\n",
              "    }\n",
              "  }\n",
              "</style>\n",
              "\n",
              "  <script>\n",
              "    async function quickchart(key) {\n",
              "      const quickchartButtonEl =\n",
              "        document.querySelector('#' + key + ' button');\n",
              "      quickchartButtonEl.disabled = true;  // To prevent multiple clicks.\n",
              "      quickchartButtonEl.classList.add('colab-df-spinner');\n",
              "      try {\n",
              "        const charts = await google.colab.kernel.invokeFunction(\n",
              "            'suggestCharts', [key], {});\n",
              "      } catch (error) {\n",
              "        console.error('Error during call to suggestCharts:', error);\n",
              "      }\n",
              "      quickchartButtonEl.classList.remove('colab-df-spinner');\n",
              "      quickchartButtonEl.classList.add('colab-df-quickchart-complete');\n",
              "    }\n",
              "    (() => {\n",
              "      let quickchartButtonEl =\n",
              "        document.querySelector('#df-a7ebcf72-291f-4efb-a201-2121969cda06 button');\n",
              "      quickchartButtonEl.style.display =\n",
              "        google.colab.kernel.accessAllowed ? 'block' : 'none';\n",
              "    })();\n",
              "  </script>\n",
              "</div>\n",
              "\n",
              "  <div id=\"id_42a9b7a3-5e18-464c-8707-c1362c3b74ca\">\n",
              "    <style>\n",
              "      .colab-df-generate {\n",
              "        background-color: #E8F0FE;\n",
              "        border: none;\n",
              "        border-radius: 50%;\n",
              "        cursor: pointer;\n",
              "        display: none;\n",
              "        fill: #1967D2;\n",
              "        height: 32px;\n",
              "        padding: 0 0 0 0;\n",
              "        width: 32px;\n",
              "      }\n",
              "\n",
              "      .colab-df-generate:hover {\n",
              "        background-color: #E2EBFA;\n",
              "        box-shadow: 0px 1px 2px rgba(60, 64, 67, 0.3), 0px 1px 3px 1px rgba(60, 64, 67, 0.15);\n",
              "        fill: #174EA6;\n",
              "      }\n",
              "\n",
              "      [theme=dark] .colab-df-generate {\n",
              "        background-color: #3B4455;\n",
              "        fill: #D2E3FC;\n",
              "      }\n",
              "\n",
              "      [theme=dark] .colab-df-generate:hover {\n",
              "        background-color: #434B5C;\n",
              "        box-shadow: 0px 1px 3px 1px rgba(0, 0, 0, 0.15);\n",
              "        filter: drop-shadow(0px 1px 2px rgba(0, 0, 0, 0.3));\n",
              "        fill: #FFFFFF;\n",
              "      }\n",
              "    </style>\n",
              "    <button class=\"colab-df-generate\" onclick=\"generateWithVariable('df')\"\n",
              "            title=\"Generate code using this dataframe.\"\n",
              "            style=\"display:none;\">\n",
              "\n",
              "  <svg xmlns=\"http://www.w3.org/2000/svg\" height=\"24px\"viewBox=\"0 0 24 24\"\n",
              "       width=\"24px\">\n",
              "    <path d=\"M7,19H8.4L18.45,9,17,7.55,7,17.6ZM5,21V16.75L18.45,3.32a2,2,0,0,1,2.83,0l1.4,1.43a1.91,1.91,0,0,1,.58,1.4,1.91,1.91,0,0,1-.58,1.4L9.25,21ZM18.45,9,17,7.55Zm-12,3A5.31,5.31,0,0,0,4.9,8.1,5.31,5.31,0,0,0,1,6.5,5.31,5.31,0,0,0,4.9,4.9,5.31,5.31,0,0,0,6.5,1,5.31,5.31,0,0,0,8.1,4.9,5.31,5.31,0,0,0,12,6.5,5.46,5.46,0,0,0,6.5,12Z\"/>\n",
              "  </svg>\n",
              "    </button>\n",
              "    <script>\n",
              "      (() => {\n",
              "      const buttonEl =\n",
              "        document.querySelector('#id_42a9b7a3-5e18-464c-8707-c1362c3b74ca button.colab-df-generate');\n",
              "      buttonEl.style.display =\n",
              "        google.colab.kernel.accessAllowed ? 'block' : 'none';\n",
              "\n",
              "      buttonEl.onclick = () => {\n",
              "        google.colab.notebook.generateWithVariable('df');\n",
              "      }\n",
              "      })();\n",
              "    </script>\n",
              "  </div>\n",
              "\n",
              "    </div>\n",
              "  </div>\n"
            ],
            "application/vnd.google.colaboratory.intrinsic+json": {
              "type": "dataframe",
              "variable_name": "df",
              "summary": "{\n  \"name\": \"df\",\n  \"rows\": 5,\n  \"fields\": [\n    {\n      \"column\": \"A\",\n      \"properties\": {\n        \"dtype\": \"number\",\n        \"std\": 0.27397017197494017,\n        \"min\": 0.2944493120924606,\n        \"max\": 0.9668939236625639,\n        \"num_unique_values\": 5,\n        \"samples\": [\n          0.9668939236625639,\n          0.2944493120924606,\n          0.7064282701717733\n        ],\n        \"semantic_type\": \"\",\n        \"description\": \"\"\n      }\n    },\n    {\n      \"column\": \"B\",\n      \"properties\": {\n        \"dtype\": \"number\",\n        \"std\": 0.33686851191241496,\n        \"min\": 0.12971933737584063,\n        \"max\": 0.8606815778506186,\n        \"num_unique_values\": 5,\n        \"samples\": [\n          0.20515608097712734,\n          0.584603533644238,\n          0.8068312690785827\n        ],\n        \"semantic_type\": \"\",\n        \"description\": \"\"\n      }\n    },\n    {\n      \"column\": \"C\",\n      \"properties\": {\n        \"dtype\": \"number\",\n        \"std\": 0.2967234968120241,\n        \"min\": 0.010218953775593453,\n        \"max\": 0.734240091314295,\n        \"num_unique_values\": 5,\n        \"samples\": [\n          0.5313832707429631,\n          0.4144214956198037,\n          0.734240091314295\n        ],\n        \"semantic_type\": \"\",\n        \"description\": \"\"\n      }\n    },\n    {\n      \"column\": \"D\",\n      \"properties\": {\n        \"dtype\": \"number\",\n        \"std\": 0.24939074805098876,\n        \"min\": 0.13447620748462252,\n        \"max\": 0.7449878743902267,\n        \"num_unique_values\": 5,\n        \"samples\": [\n          0.13447620748462252,\n          0.6924076984758414,\n          0.4945573428130805\n        ],\n        \"semantic_type\": \"\",\n        \"description\": \"\"\n      }\n    },\n    {\n      \"column\": \"E\",\n      \"properties\": {\n        \"dtype\": \"number\",\n        \"std\": 0.2468946832148462,\n        \"min\": 0.4181213018685015,\n        \"max\": 0.9393686772051698,\n        \"num_unique_values\": 5,\n        \"samples\": [\n          0.4181213018685015,\n          0.4386368019469079,\n          0.880684127335974\n        ],\n        \"semantic_type\": \"\",\n        \"description\": \"\"\n      }\n    }\n  ]\n}"
            }
          },
          "metadata": {},
          "execution_count": 95
        }
      ]
    },
    {
      "cell_type": "code",
      "source": [
        "# Reshape the array into a single dimension\n",
        "flattened_array = random_array.reshape(-1)\n",
        "\n",
        "# Print the flattened array\n",
        "print(flattened_array)"
      ],
      "metadata": {
        "colab": {
          "base_uri": "https://localhost:8080/"
        },
        "id": "JDc_r6K38Z1v",
        "outputId": "6326ca17-8b2a-43c1-d87f-744702fb4915"
      },
      "execution_count": 96,
      "outputs": [
        {
          "output_type": "stream",
          "name": "stdout",
          "text": [
            "[0.79049772 0.86068158 0.01021895 0.74498787 0.55789579 0.96689392\n",
            " 0.20515608 0.53138327 0.13447621 0.4181213  0.70642827 0.80683127\n",
            " 0.73424009 0.49455734 0.88068413 0.42325194 0.12971934 0.12028095\n",
            " 0.67156349 0.93936868 0.29444931 0.58460353 0.4144215  0.6924077\n",
            " 0.4386368 ]\n"
          ]
        }
      ]
    },
    {
      "cell_type": "code",
      "source": [
        "# Reshape the flattened array back to 5X5\n",
        "to_original_shape = flattened_array.reshape(5,5)\n",
        "\n",
        "## Generate a 5X5 array with random values between 0 and 1 with index from 1 to 10 and columns from list consisting Names\n",
        "f = pd.DataFrame(to_original_shape,index=range(1,11,2),columns=tuple('EDCBA'))\n",
        "\n",
        "# print the dataframe\n",
        "df"
      ],
      "metadata": {
        "colab": {
          "base_uri": "https://localhost:8080/",
          "height": 206
        },
        "id": "Jbi1gPIH8aBE",
        "outputId": "1625de31-813d-4432-871a-95265262d238"
      },
      "execution_count": 98,
      "outputs": [
        {
          "output_type": "execute_result",
          "data": {
            "text/plain": [
              "          E         D         C         B         A\n",
              "1  0.790498  0.860682  0.010219  0.744988  0.557896\n",
              "3  0.966894  0.205156  0.531383  0.134476  0.418121\n",
              "5  0.706428  0.806831  0.734240  0.494557  0.880684\n",
              "7  0.423252  0.129719  0.120281  0.671563  0.939369\n",
              "9  0.294449  0.584604  0.414421  0.692408  0.438637"
            ],
            "text/html": [
              "\n",
              "  <div id=\"df-0ed3e450-b02f-4327-9ba8-61ad03a0a529\" class=\"colab-df-container\">\n",
              "    <div>\n",
              "<style scoped>\n",
              "    .dataframe tbody tr th:only-of-type {\n",
              "        vertical-align: middle;\n",
              "    }\n",
              "\n",
              "    .dataframe tbody tr th {\n",
              "        vertical-align: top;\n",
              "    }\n",
              "\n",
              "    .dataframe thead th {\n",
              "        text-align: right;\n",
              "    }\n",
              "</style>\n",
              "<table border=\"1\" class=\"dataframe\">\n",
              "  <thead>\n",
              "    <tr style=\"text-align: right;\">\n",
              "      <th></th>\n",
              "      <th>E</th>\n",
              "      <th>D</th>\n",
              "      <th>C</th>\n",
              "      <th>B</th>\n",
              "      <th>A</th>\n",
              "    </tr>\n",
              "  </thead>\n",
              "  <tbody>\n",
              "    <tr>\n",
              "      <th>1</th>\n",
              "      <td>0.790498</td>\n",
              "      <td>0.860682</td>\n",
              "      <td>0.010219</td>\n",
              "      <td>0.744988</td>\n",
              "      <td>0.557896</td>\n",
              "    </tr>\n",
              "    <tr>\n",
              "      <th>3</th>\n",
              "      <td>0.966894</td>\n",
              "      <td>0.205156</td>\n",
              "      <td>0.531383</td>\n",
              "      <td>0.134476</td>\n",
              "      <td>0.418121</td>\n",
              "    </tr>\n",
              "    <tr>\n",
              "      <th>5</th>\n",
              "      <td>0.706428</td>\n",
              "      <td>0.806831</td>\n",
              "      <td>0.734240</td>\n",
              "      <td>0.494557</td>\n",
              "      <td>0.880684</td>\n",
              "    </tr>\n",
              "    <tr>\n",
              "      <th>7</th>\n",
              "      <td>0.423252</td>\n",
              "      <td>0.129719</td>\n",
              "      <td>0.120281</td>\n",
              "      <td>0.671563</td>\n",
              "      <td>0.939369</td>\n",
              "    </tr>\n",
              "    <tr>\n",
              "      <th>9</th>\n",
              "      <td>0.294449</td>\n",
              "      <td>0.584604</td>\n",
              "      <td>0.414421</td>\n",
              "      <td>0.692408</td>\n",
              "      <td>0.438637</td>\n",
              "    </tr>\n",
              "  </tbody>\n",
              "</table>\n",
              "</div>\n",
              "    <div class=\"colab-df-buttons\">\n",
              "\n",
              "  <div class=\"colab-df-container\">\n",
              "    <button class=\"colab-df-convert\" onclick=\"convertToInteractive('df-0ed3e450-b02f-4327-9ba8-61ad03a0a529')\"\n",
              "            title=\"Convert this dataframe to an interactive table.\"\n",
              "            style=\"display:none;\">\n",
              "\n",
              "  <svg xmlns=\"http://www.w3.org/2000/svg\" height=\"24px\" viewBox=\"0 -960 960 960\">\n",
              "    <path d=\"M120-120v-720h720v720H120Zm60-500h600v-160H180v160Zm220 220h160v-160H400v160Zm0 220h160v-160H400v160ZM180-400h160v-160H180v160Zm440 0h160v-160H620v160ZM180-180h160v-160H180v160Zm440 0h160v-160H620v160Z\"/>\n",
              "  </svg>\n",
              "    </button>\n",
              "\n",
              "  <style>\n",
              "    .colab-df-container {\n",
              "      display:flex;\n",
              "      gap: 12px;\n",
              "    }\n",
              "\n",
              "    .colab-df-convert {\n",
              "      background-color: #E8F0FE;\n",
              "      border: none;\n",
              "      border-radius: 50%;\n",
              "      cursor: pointer;\n",
              "      display: none;\n",
              "      fill: #1967D2;\n",
              "      height: 32px;\n",
              "      padding: 0 0 0 0;\n",
              "      width: 32px;\n",
              "    }\n",
              "\n",
              "    .colab-df-convert:hover {\n",
              "      background-color: #E2EBFA;\n",
              "      box-shadow: 0px 1px 2px rgba(60, 64, 67, 0.3), 0px 1px 3px 1px rgba(60, 64, 67, 0.15);\n",
              "      fill: #174EA6;\n",
              "    }\n",
              "\n",
              "    .colab-df-buttons div {\n",
              "      margin-bottom: 4px;\n",
              "    }\n",
              "\n",
              "    [theme=dark] .colab-df-convert {\n",
              "      background-color: #3B4455;\n",
              "      fill: #D2E3FC;\n",
              "    }\n",
              "\n",
              "    [theme=dark] .colab-df-convert:hover {\n",
              "      background-color: #434B5C;\n",
              "      box-shadow: 0px 1px 3px 1px rgba(0, 0, 0, 0.15);\n",
              "      filter: drop-shadow(0px 1px 2px rgba(0, 0, 0, 0.3));\n",
              "      fill: #FFFFFF;\n",
              "    }\n",
              "  </style>\n",
              "\n",
              "    <script>\n",
              "      const buttonEl =\n",
              "        document.querySelector('#df-0ed3e450-b02f-4327-9ba8-61ad03a0a529 button.colab-df-convert');\n",
              "      buttonEl.style.display =\n",
              "        google.colab.kernel.accessAllowed ? 'block' : 'none';\n",
              "\n",
              "      async function convertToInteractive(key) {\n",
              "        const element = document.querySelector('#df-0ed3e450-b02f-4327-9ba8-61ad03a0a529');\n",
              "        const dataTable =\n",
              "          await google.colab.kernel.invokeFunction('convertToInteractive',\n",
              "                                                    [key], {});\n",
              "        if (!dataTable) return;\n",
              "\n",
              "        const docLinkHtml = 'Like what you see? Visit the ' +\n",
              "          '<a target=\"_blank\" href=https://colab.research.google.com/notebooks/data_table.ipynb>data table notebook</a>'\n",
              "          + ' to learn more about interactive tables.';\n",
              "        element.innerHTML = '';\n",
              "        dataTable['output_type'] = 'display_data';\n",
              "        await google.colab.output.renderOutput(dataTable, element);\n",
              "        const docLink = document.createElement('div');\n",
              "        docLink.innerHTML = docLinkHtml;\n",
              "        element.appendChild(docLink);\n",
              "      }\n",
              "    </script>\n",
              "  </div>\n",
              "\n",
              "\n",
              "<div id=\"df-999d37f4-7f79-4036-a91e-d0d45fd17c87\">\n",
              "  <button class=\"colab-df-quickchart\" onclick=\"quickchart('df-999d37f4-7f79-4036-a91e-d0d45fd17c87')\"\n",
              "            title=\"Suggest charts\"\n",
              "            style=\"display:none;\">\n",
              "\n",
              "<svg xmlns=\"http://www.w3.org/2000/svg\" height=\"24px\"viewBox=\"0 0 24 24\"\n",
              "     width=\"24px\">\n",
              "    <g>\n",
              "        <path d=\"M19 3H5c-1.1 0-2 .9-2 2v14c0 1.1.9 2 2 2h14c1.1 0 2-.9 2-2V5c0-1.1-.9-2-2-2zM9 17H7v-7h2v7zm4 0h-2V7h2v10zm4 0h-2v-4h2v4z\"/>\n",
              "    </g>\n",
              "</svg>\n",
              "  </button>\n",
              "\n",
              "<style>\n",
              "  .colab-df-quickchart {\n",
              "      --bg-color: #E8F0FE;\n",
              "      --fill-color: #1967D2;\n",
              "      --hover-bg-color: #E2EBFA;\n",
              "      --hover-fill-color: #174EA6;\n",
              "      --disabled-fill-color: #AAA;\n",
              "      --disabled-bg-color: #DDD;\n",
              "  }\n",
              "\n",
              "  [theme=dark] .colab-df-quickchart {\n",
              "      --bg-color: #3B4455;\n",
              "      --fill-color: #D2E3FC;\n",
              "      --hover-bg-color: #434B5C;\n",
              "      --hover-fill-color: #FFFFFF;\n",
              "      --disabled-bg-color: #3B4455;\n",
              "      --disabled-fill-color: #666;\n",
              "  }\n",
              "\n",
              "  .colab-df-quickchart {\n",
              "    background-color: var(--bg-color);\n",
              "    border: none;\n",
              "    border-radius: 50%;\n",
              "    cursor: pointer;\n",
              "    display: none;\n",
              "    fill: var(--fill-color);\n",
              "    height: 32px;\n",
              "    padding: 0;\n",
              "    width: 32px;\n",
              "  }\n",
              "\n",
              "  .colab-df-quickchart:hover {\n",
              "    background-color: var(--hover-bg-color);\n",
              "    box-shadow: 0 1px 2px rgba(60, 64, 67, 0.3), 0 1px 3px 1px rgba(60, 64, 67, 0.15);\n",
              "    fill: var(--button-hover-fill-color);\n",
              "  }\n",
              "\n",
              "  .colab-df-quickchart-complete:disabled,\n",
              "  .colab-df-quickchart-complete:disabled:hover {\n",
              "    background-color: var(--disabled-bg-color);\n",
              "    fill: var(--disabled-fill-color);\n",
              "    box-shadow: none;\n",
              "  }\n",
              "\n",
              "  .colab-df-spinner {\n",
              "    border: 2px solid var(--fill-color);\n",
              "    border-color: transparent;\n",
              "    border-bottom-color: var(--fill-color);\n",
              "    animation:\n",
              "      spin 1s steps(1) infinite;\n",
              "  }\n",
              "\n",
              "  @keyframes spin {\n",
              "    0% {\n",
              "      border-color: transparent;\n",
              "      border-bottom-color: var(--fill-color);\n",
              "      border-left-color: var(--fill-color);\n",
              "    }\n",
              "    20% {\n",
              "      border-color: transparent;\n",
              "      border-left-color: var(--fill-color);\n",
              "      border-top-color: var(--fill-color);\n",
              "    }\n",
              "    30% {\n",
              "      border-color: transparent;\n",
              "      border-left-color: var(--fill-color);\n",
              "      border-top-color: var(--fill-color);\n",
              "      border-right-color: var(--fill-color);\n",
              "    }\n",
              "    40% {\n",
              "      border-color: transparent;\n",
              "      border-right-color: var(--fill-color);\n",
              "      border-top-color: var(--fill-color);\n",
              "    }\n",
              "    60% {\n",
              "      border-color: transparent;\n",
              "      border-right-color: var(--fill-color);\n",
              "    }\n",
              "    80% {\n",
              "      border-color: transparent;\n",
              "      border-right-color: var(--fill-color);\n",
              "      border-bottom-color: var(--fill-color);\n",
              "    }\n",
              "    90% {\n",
              "      border-color: transparent;\n",
              "      border-bottom-color: var(--fill-color);\n",
              "    }\n",
              "  }\n",
              "</style>\n",
              "\n",
              "  <script>\n",
              "    async function quickchart(key) {\n",
              "      const quickchartButtonEl =\n",
              "        document.querySelector('#' + key + ' button');\n",
              "      quickchartButtonEl.disabled = true;  // To prevent multiple clicks.\n",
              "      quickchartButtonEl.classList.add('colab-df-spinner');\n",
              "      try {\n",
              "        const charts = await google.colab.kernel.invokeFunction(\n",
              "            'suggestCharts', [key], {});\n",
              "      } catch (error) {\n",
              "        console.error('Error during call to suggestCharts:', error);\n",
              "      }\n",
              "      quickchartButtonEl.classList.remove('colab-df-spinner');\n",
              "      quickchartButtonEl.classList.add('colab-df-quickchart-complete');\n",
              "    }\n",
              "    (() => {\n",
              "      let quickchartButtonEl =\n",
              "        document.querySelector('#df-999d37f4-7f79-4036-a91e-d0d45fd17c87 button');\n",
              "      quickchartButtonEl.style.display =\n",
              "        google.colab.kernel.accessAllowed ? 'block' : 'none';\n",
              "    })();\n",
              "  </script>\n",
              "</div>\n",
              "\n",
              "  <div id=\"id_8e5eb004-05ba-4f7a-b93f-65952811eb6e\">\n",
              "    <style>\n",
              "      .colab-df-generate {\n",
              "        background-color: #E8F0FE;\n",
              "        border: none;\n",
              "        border-radius: 50%;\n",
              "        cursor: pointer;\n",
              "        display: none;\n",
              "        fill: #1967D2;\n",
              "        height: 32px;\n",
              "        padding: 0 0 0 0;\n",
              "        width: 32px;\n",
              "      }\n",
              "\n",
              "      .colab-df-generate:hover {\n",
              "        background-color: #E2EBFA;\n",
              "        box-shadow: 0px 1px 2px rgba(60, 64, 67, 0.3), 0px 1px 3px 1px rgba(60, 64, 67, 0.15);\n",
              "        fill: #174EA6;\n",
              "      }\n",
              "\n",
              "      [theme=dark] .colab-df-generate {\n",
              "        background-color: #3B4455;\n",
              "        fill: #D2E3FC;\n",
              "      }\n",
              "\n",
              "      [theme=dark] .colab-df-generate:hover {\n",
              "        background-color: #434B5C;\n",
              "        box-shadow: 0px 1px 3px 1px rgba(0, 0, 0, 0.15);\n",
              "        filter: drop-shadow(0px 1px 2px rgba(0, 0, 0, 0.3));\n",
              "        fill: #FFFFFF;\n",
              "      }\n",
              "    </style>\n",
              "    <button class=\"colab-df-generate\" onclick=\"generateWithVariable('df')\"\n",
              "            title=\"Generate code using this dataframe.\"\n",
              "            style=\"display:none;\">\n",
              "\n",
              "  <svg xmlns=\"http://www.w3.org/2000/svg\" height=\"24px\"viewBox=\"0 0 24 24\"\n",
              "       width=\"24px\">\n",
              "    <path d=\"M7,19H8.4L18.45,9,17,7.55,7,17.6ZM5,21V16.75L18.45,3.32a2,2,0,0,1,2.83,0l1.4,1.43a1.91,1.91,0,0,1,.58,1.4,1.91,1.91,0,0,1-.58,1.4L9.25,21ZM18.45,9,17,7.55Zm-12,3A5.31,5.31,0,0,0,4.9,8.1,5.31,5.31,0,0,0,1,6.5,5.31,5.31,0,0,0,4.9,4.9,5.31,5.31,0,0,0,6.5,1,5.31,5.31,0,0,0,8.1,4.9,5.31,5.31,0,0,0,12,6.5,5.46,5.46,0,0,0,6.5,12Z\"/>\n",
              "  </svg>\n",
              "    </button>\n",
              "    <script>\n",
              "      (() => {\n",
              "      const buttonEl =\n",
              "        document.querySelector('#id_8e5eb004-05ba-4f7a-b93f-65952811eb6e button.colab-df-generate');\n",
              "      buttonEl.style.display =\n",
              "        google.colab.kernel.accessAllowed ? 'block' : 'none';\n",
              "\n",
              "      buttonEl.onclick = () => {\n",
              "        google.colab.notebook.generateWithVariable('df');\n",
              "      }\n",
              "      })();\n",
              "    </script>\n",
              "  </div>\n",
              "\n",
              "    </div>\n",
              "  </div>\n"
            ],
            "application/vnd.google.colaboratory.intrinsic+json": {
              "type": "dataframe",
              "variable_name": "df",
              "summary": "{\n  \"name\": \"df\",\n  \"rows\": 5,\n  \"fields\": [\n    {\n      \"column\": \"E\",\n      \"properties\": {\n        \"dtype\": \"number\",\n        \"std\": 0.27397017197494017,\n        \"min\": 0.2944493120924606,\n        \"max\": 0.9668939236625639,\n        \"num_unique_values\": 5,\n        \"samples\": [\n          0.9668939236625639,\n          0.2944493120924606,\n          0.7064282701717733\n        ],\n        \"semantic_type\": \"\",\n        \"description\": \"\"\n      }\n    },\n    {\n      \"column\": \"D\",\n      \"properties\": {\n        \"dtype\": \"number\",\n        \"std\": 0.33686851191241496,\n        \"min\": 0.12971933737584063,\n        \"max\": 0.8606815778506186,\n        \"num_unique_values\": 5,\n        \"samples\": [\n          0.20515608097712734,\n          0.584603533644238,\n          0.8068312690785827\n        ],\n        \"semantic_type\": \"\",\n        \"description\": \"\"\n      }\n    },\n    {\n      \"column\": \"C\",\n      \"properties\": {\n        \"dtype\": \"number\",\n        \"std\": 0.2967234968120241,\n        \"min\": 0.010218953775593453,\n        \"max\": 0.734240091314295,\n        \"num_unique_values\": 5,\n        \"samples\": [\n          0.5313832707429631,\n          0.4144214956198037,\n          0.734240091314295\n        ],\n        \"semantic_type\": \"\",\n        \"description\": \"\"\n      }\n    },\n    {\n      \"column\": \"B\",\n      \"properties\": {\n        \"dtype\": \"number\",\n        \"std\": 0.24939074805098876,\n        \"min\": 0.13447620748462252,\n        \"max\": 0.7449878743902267,\n        \"num_unique_values\": 5,\n        \"samples\": [\n          0.13447620748462252,\n          0.6924076984758414,\n          0.4945573428130805\n        ],\n        \"semantic_type\": \"\",\n        \"description\": \"\"\n      }\n    },\n    {\n      \"column\": \"A\",\n      \"properties\": {\n        \"dtype\": \"number\",\n        \"std\": 0.2468946832148462,\n        \"min\": 0.4181213018685015,\n        \"max\": 0.9393686772051698,\n        \"num_unique_values\": 5,\n        \"samples\": [\n          0.4181213018685015,\n          0.4386368019469079,\n          0.880684127335974\n        ],\n        \"semantic_type\": \"\",\n        \"description\": \"\"\n      }\n    }\n  ]\n}"
            }
          },
          "metadata": {},
          "execution_count": 98
        }
      ]
    },
    {
      "cell_type": "code",
      "source": [
        "# Flatten the array into a single dimension\n",
        "flattened_array = random_array.flatten()\n",
        "\n",
        "# Print the flattened array\n",
        "print(flattened_array)"
      ],
      "metadata": {
        "colab": {
          "base_uri": "https://localhost:8080/"
        },
        "id": "T1SRzm8R8aO9",
        "outputId": "9bed11b9-67a1-4488-eff5-d2c0db265b5c"
      },
      "execution_count": 99,
      "outputs": [
        {
          "output_type": "stream",
          "name": "stdout",
          "text": [
            "[0.79049772 0.86068158 0.01021895 0.74498787 0.55789579 0.96689392\n",
            " 0.20515608 0.53138327 0.13447621 0.4181213  0.70642827 0.80683127\n",
            " 0.73424009 0.49455734 0.88068413 0.42325194 0.12971934 0.12028095\n",
            " 0.67156349 0.93936868 0.29444931 0.58460353 0.4144215  0.6924077\n",
            " 0.4386368 ]\n"
          ]
        }
      ]
    },
    {
      "cell_type": "code",
      "source": [
        "!pip install faker[india]"
      ],
      "metadata": {
        "colab": {
          "base_uri": "https://localhost:8080/"
        },
        "id": "1qwvVGxs9Bmp",
        "outputId": "bf91e8c8-03ff-4b01-c9c6-8bf7edd37e2c"
      },
      "execution_count": 104,
      "outputs": [
        {
          "output_type": "stream",
          "name": "stdout",
          "text": [
            "Collecting faker[india]\n",
            "  Downloading Faker-36.1.1-py3-none-any.whl.metadata (15 kB)\n",
            "\u001b[33mWARNING: faker 36.1.1 does not provide the extra 'india'\u001b[0m\u001b[33m\n",
            "\u001b[0mRequirement already satisfied: tzdata in /usr/local/lib/python3.11/dist-packages (from faker[india]) (2025.1)\n",
            "Downloading Faker-36.1.1-py3-none-any.whl (1.9 MB)\n",
            "\u001b[?25l   \u001b[90m━━━━━━━━━━━━━━━━━━━━━━━━━━━━━━━━━━━━━━━━\u001b[0m \u001b[32m0.0/1.9 MB\u001b[0m \u001b[31m?\u001b[0m eta \u001b[36m-:--:--\u001b[0m\r\u001b[2K   \u001b[91m━━━━━\u001b[0m\u001b[91m╸\u001b[0m\u001b[90m━━━━━━━━━━━━━━━━━━━━━━━━━━━━━━━━━━\u001b[0m \u001b[32m0.3/1.9 MB\u001b[0m \u001b[31m8.4 MB/s\u001b[0m eta \u001b[36m0:00:01\u001b[0m\r\u001b[2K   \u001b[91m━━━━━━━━━━━━━━━━━━━━━━━━━━━━━━━━━━━━━━━\u001b[0m\u001b[91m╸\u001b[0m \u001b[32m1.9/1.9 MB\u001b[0m \u001b[31m29.2 MB/s\u001b[0m eta \u001b[36m0:00:01\u001b[0m\r\u001b[2K   \u001b[90m━━━━━━━━━━━━━━━━━━━━━━━━━━━━━━━━━━━━━━━━\u001b[0m \u001b[32m1.9/1.9 MB\u001b[0m \u001b[31m22.0 MB/s\u001b[0m eta \u001b[36m0:00:00\u001b[0m\n",
            "\u001b[?25hInstalling collected packages: faker\n",
            "Successfully installed faker-36.1.1\n"
          ]
        }
      ]
    },
    {
      "cell_type": "markdown",
      "source": [
        "### ***generating data using numpy for random generation , with pandas for creating dataset [ dataframe ] and generating random name with faker library***"
      ],
      "metadata": {
        "id": "9CS9hZf59LWO"
      }
    },
    {
      "cell_type": "code",
      "source": [
        "import numpy as np\n",
        "import pandas as pd\n",
        "from faker import Faker\n",
        "\n",
        "# Initialize Faker for name generation\n",
        "fake = Faker('en_IN')  # Specify 'en_IN' for Indian English\n",
        "\n",
        "# Define number of records\n",
        "num_records = 300\n",
        "\n",
        "# Generate random data using NumPy\n",
        "student_id = np.arange(1, num_records + 1)  # Student IDs\n",
        "age = np.random.randint(18, 25, size=num_records)  # Age between 18 and 24\n",
        "gender = np.random.choice(['Male', 'Female'], size=num_records)  # Gender\n",
        "grade = np.random.choice(['A', 'B', 'C', 'D', 'F'], size=num_records, p=[0.2, 0.3, 0.3, 0.15, 0.05])  # Grades with probabilities\n",
        "score1 = np.random.randn(num_records) * 10 + 70  # Score 1 (normal distribution)\n",
        "score2 = np.random.randn(num_records) * 10 + 70  # Score 2 (normal distribution)\n",
        "score3 = np.random.randn(num_records) * 10 + 70  # Score 3 (normal distribution)\n",
        "\n",
        "# Generate Indian names using Faker\n",
        "names = [fake.name() for _ in range(num_records)]\n",
        "\n",
        "# Generate Indian cities using Faker\n",
        "city = [fake.city() for _ in range(num_records)]\n",
        "\n",
        "# Generate Indian addresses using Faker\n",
        "address = [fake.address().replace('\\n', ' ') for _ in range(num_records)]\n",
        "\n",
        "# Create a Pandas DataFrame\n",
        "df = pd.DataFrame({\n",
        "    'StudentID': student_id,\n",
        "    'Name': names,\n",
        "    'Age': age,\n",
        "    'Gender': gender,\n",
        "    'Grade': grade,\n",
        "    'Score1': score1,\n",
        "    'Score2': score2,\n",
        "    'Score3': score3,\n",
        "    'City': city,\n",
        "    'Address': address\n",
        "})\n",
        "\n",
        "# Print the DataFrame\n",
        "df.head()"
      ],
      "metadata": {
        "colab": {
          "base_uri": "https://localhost:8080/",
          "height": 206
        },
        "id": "oCqWqa36q7Kl",
        "outputId": "32136cd8-1367-4f55-bc6f-770e81890f15"
      },
      "execution_count": 105,
      "outputs": [
        {
          "output_type": "execute_result",
          "data": {
            "text/plain": [
              "   StudentID          Name  Age  Gender Grade     Score1     Score2  \\\n",
              "0          1  Anmol Kalita   20  Female     C  67.593677  77.408134   \n",
              "1          2   Pranav Garg   19  Female     B  71.680500  61.080688   \n",
              "2          3   Rishi Garde   23  Female     C  59.986471  72.297643   \n",
              "3          4  Yatin Shroff   18    Male     A  49.591340  67.633760   \n",
              "4          5  Utkarsh Bumb   19  Female     B  79.071045  64.757384   \n",
              "\n",
              "      Score3        City                                   Address  \n",
              "0  78.899148      Tenali         37/32, Khosla Nagar Tenali 970461  \n",
              "1  79.332845  Jamshedpur          60/487, Guha Marg Aligarh 970829  \n",
              "2  57.961354    Rourkela       454 Kuruvilla Ganj Allahabad-715211  \n",
              "3  67.603388     Jodhpur  H.No. 954, Palan Street Dibrugarh-589445  \n",
              "4  75.032968     Bijapur    41/70 Srinivas Street, Motihari 917744  "
            ],
            "text/html": [
              "\n",
              "  <div id=\"df-e71a6135-5a51-437b-8037-3cffb2f17e39\" class=\"colab-df-container\">\n",
              "    <div>\n",
              "<style scoped>\n",
              "    .dataframe tbody tr th:only-of-type {\n",
              "        vertical-align: middle;\n",
              "    }\n",
              "\n",
              "    .dataframe tbody tr th {\n",
              "        vertical-align: top;\n",
              "    }\n",
              "\n",
              "    .dataframe thead th {\n",
              "        text-align: right;\n",
              "    }\n",
              "</style>\n",
              "<table border=\"1\" class=\"dataframe\">\n",
              "  <thead>\n",
              "    <tr style=\"text-align: right;\">\n",
              "      <th></th>\n",
              "      <th>StudentID</th>\n",
              "      <th>Name</th>\n",
              "      <th>Age</th>\n",
              "      <th>Gender</th>\n",
              "      <th>Grade</th>\n",
              "      <th>Score1</th>\n",
              "      <th>Score2</th>\n",
              "      <th>Score3</th>\n",
              "      <th>City</th>\n",
              "      <th>Address</th>\n",
              "    </tr>\n",
              "  </thead>\n",
              "  <tbody>\n",
              "    <tr>\n",
              "      <th>0</th>\n",
              "      <td>1</td>\n",
              "      <td>Anmol Kalita</td>\n",
              "      <td>20</td>\n",
              "      <td>Female</td>\n",
              "      <td>C</td>\n",
              "      <td>67.593677</td>\n",
              "      <td>77.408134</td>\n",
              "      <td>78.899148</td>\n",
              "      <td>Tenali</td>\n",
              "      <td>37/32, Khosla Nagar Tenali 970461</td>\n",
              "    </tr>\n",
              "    <tr>\n",
              "      <th>1</th>\n",
              "      <td>2</td>\n",
              "      <td>Pranav Garg</td>\n",
              "      <td>19</td>\n",
              "      <td>Female</td>\n",
              "      <td>B</td>\n",
              "      <td>71.680500</td>\n",
              "      <td>61.080688</td>\n",
              "      <td>79.332845</td>\n",
              "      <td>Jamshedpur</td>\n",
              "      <td>60/487, Guha Marg Aligarh 970829</td>\n",
              "    </tr>\n",
              "    <tr>\n",
              "      <th>2</th>\n",
              "      <td>3</td>\n",
              "      <td>Rishi Garde</td>\n",
              "      <td>23</td>\n",
              "      <td>Female</td>\n",
              "      <td>C</td>\n",
              "      <td>59.986471</td>\n",
              "      <td>72.297643</td>\n",
              "      <td>57.961354</td>\n",
              "      <td>Rourkela</td>\n",
              "      <td>454 Kuruvilla Ganj Allahabad-715211</td>\n",
              "    </tr>\n",
              "    <tr>\n",
              "      <th>3</th>\n",
              "      <td>4</td>\n",
              "      <td>Yatin Shroff</td>\n",
              "      <td>18</td>\n",
              "      <td>Male</td>\n",
              "      <td>A</td>\n",
              "      <td>49.591340</td>\n",
              "      <td>67.633760</td>\n",
              "      <td>67.603388</td>\n",
              "      <td>Jodhpur</td>\n",
              "      <td>H.No. 954, Palan Street Dibrugarh-589445</td>\n",
              "    </tr>\n",
              "    <tr>\n",
              "      <th>4</th>\n",
              "      <td>5</td>\n",
              "      <td>Utkarsh Bumb</td>\n",
              "      <td>19</td>\n",
              "      <td>Female</td>\n",
              "      <td>B</td>\n",
              "      <td>79.071045</td>\n",
              "      <td>64.757384</td>\n",
              "      <td>75.032968</td>\n",
              "      <td>Bijapur</td>\n",
              "      <td>41/70 Srinivas Street, Motihari 917744</td>\n",
              "    </tr>\n",
              "  </tbody>\n",
              "</table>\n",
              "</div>\n",
              "    <div class=\"colab-df-buttons\">\n",
              "\n",
              "  <div class=\"colab-df-container\">\n",
              "    <button class=\"colab-df-convert\" onclick=\"convertToInteractive('df-e71a6135-5a51-437b-8037-3cffb2f17e39')\"\n",
              "            title=\"Convert this dataframe to an interactive table.\"\n",
              "            style=\"display:none;\">\n",
              "\n",
              "  <svg xmlns=\"http://www.w3.org/2000/svg\" height=\"24px\" viewBox=\"0 -960 960 960\">\n",
              "    <path d=\"M120-120v-720h720v720H120Zm60-500h600v-160H180v160Zm220 220h160v-160H400v160Zm0 220h160v-160H400v160ZM180-400h160v-160H180v160Zm440 0h160v-160H620v160ZM180-180h160v-160H180v160Zm440 0h160v-160H620v160Z\"/>\n",
              "  </svg>\n",
              "    </button>\n",
              "\n",
              "  <style>\n",
              "    .colab-df-container {\n",
              "      display:flex;\n",
              "      gap: 12px;\n",
              "    }\n",
              "\n",
              "    .colab-df-convert {\n",
              "      background-color: #E8F0FE;\n",
              "      border: none;\n",
              "      border-radius: 50%;\n",
              "      cursor: pointer;\n",
              "      display: none;\n",
              "      fill: #1967D2;\n",
              "      height: 32px;\n",
              "      padding: 0 0 0 0;\n",
              "      width: 32px;\n",
              "    }\n",
              "\n",
              "    .colab-df-convert:hover {\n",
              "      background-color: #E2EBFA;\n",
              "      box-shadow: 0px 1px 2px rgba(60, 64, 67, 0.3), 0px 1px 3px 1px rgba(60, 64, 67, 0.15);\n",
              "      fill: #174EA6;\n",
              "    }\n",
              "\n",
              "    .colab-df-buttons div {\n",
              "      margin-bottom: 4px;\n",
              "    }\n",
              "\n",
              "    [theme=dark] .colab-df-convert {\n",
              "      background-color: #3B4455;\n",
              "      fill: #D2E3FC;\n",
              "    }\n",
              "\n",
              "    [theme=dark] .colab-df-convert:hover {\n",
              "      background-color: #434B5C;\n",
              "      box-shadow: 0px 1px 3px 1px rgba(0, 0, 0, 0.15);\n",
              "      filter: drop-shadow(0px 1px 2px rgba(0, 0, 0, 0.3));\n",
              "      fill: #FFFFFF;\n",
              "    }\n",
              "  </style>\n",
              "\n",
              "    <script>\n",
              "      const buttonEl =\n",
              "        document.querySelector('#df-e71a6135-5a51-437b-8037-3cffb2f17e39 button.colab-df-convert');\n",
              "      buttonEl.style.display =\n",
              "        google.colab.kernel.accessAllowed ? 'block' : 'none';\n",
              "\n",
              "      async function convertToInteractive(key) {\n",
              "        const element = document.querySelector('#df-e71a6135-5a51-437b-8037-3cffb2f17e39');\n",
              "        const dataTable =\n",
              "          await google.colab.kernel.invokeFunction('convertToInteractive',\n",
              "                                                    [key], {});\n",
              "        if (!dataTable) return;\n",
              "\n",
              "        const docLinkHtml = 'Like what you see? Visit the ' +\n",
              "          '<a target=\"_blank\" href=https://colab.research.google.com/notebooks/data_table.ipynb>data table notebook</a>'\n",
              "          + ' to learn more about interactive tables.';\n",
              "        element.innerHTML = '';\n",
              "        dataTable['output_type'] = 'display_data';\n",
              "        await google.colab.output.renderOutput(dataTable, element);\n",
              "        const docLink = document.createElement('div');\n",
              "        docLink.innerHTML = docLinkHtml;\n",
              "        element.appendChild(docLink);\n",
              "      }\n",
              "    </script>\n",
              "  </div>\n",
              "\n",
              "\n",
              "<div id=\"df-3224163d-b63f-44a1-8189-d9235333d867\">\n",
              "  <button class=\"colab-df-quickchart\" onclick=\"quickchart('df-3224163d-b63f-44a1-8189-d9235333d867')\"\n",
              "            title=\"Suggest charts\"\n",
              "            style=\"display:none;\">\n",
              "\n",
              "<svg xmlns=\"http://www.w3.org/2000/svg\" height=\"24px\"viewBox=\"0 0 24 24\"\n",
              "     width=\"24px\">\n",
              "    <g>\n",
              "        <path d=\"M19 3H5c-1.1 0-2 .9-2 2v14c0 1.1.9 2 2 2h14c1.1 0 2-.9 2-2V5c0-1.1-.9-2-2-2zM9 17H7v-7h2v7zm4 0h-2V7h2v10zm4 0h-2v-4h2v4z\"/>\n",
              "    </g>\n",
              "</svg>\n",
              "  </button>\n",
              "\n",
              "<style>\n",
              "  .colab-df-quickchart {\n",
              "      --bg-color: #E8F0FE;\n",
              "      --fill-color: #1967D2;\n",
              "      --hover-bg-color: #E2EBFA;\n",
              "      --hover-fill-color: #174EA6;\n",
              "      --disabled-fill-color: #AAA;\n",
              "      --disabled-bg-color: #DDD;\n",
              "  }\n",
              "\n",
              "  [theme=dark] .colab-df-quickchart {\n",
              "      --bg-color: #3B4455;\n",
              "      --fill-color: #D2E3FC;\n",
              "      --hover-bg-color: #434B5C;\n",
              "      --hover-fill-color: #FFFFFF;\n",
              "      --disabled-bg-color: #3B4455;\n",
              "      --disabled-fill-color: #666;\n",
              "  }\n",
              "\n",
              "  .colab-df-quickchart {\n",
              "    background-color: var(--bg-color);\n",
              "    border: none;\n",
              "    border-radius: 50%;\n",
              "    cursor: pointer;\n",
              "    display: none;\n",
              "    fill: var(--fill-color);\n",
              "    height: 32px;\n",
              "    padding: 0;\n",
              "    width: 32px;\n",
              "  }\n",
              "\n",
              "  .colab-df-quickchart:hover {\n",
              "    background-color: var(--hover-bg-color);\n",
              "    box-shadow: 0 1px 2px rgba(60, 64, 67, 0.3), 0 1px 3px 1px rgba(60, 64, 67, 0.15);\n",
              "    fill: var(--button-hover-fill-color);\n",
              "  }\n",
              "\n",
              "  .colab-df-quickchart-complete:disabled,\n",
              "  .colab-df-quickchart-complete:disabled:hover {\n",
              "    background-color: var(--disabled-bg-color);\n",
              "    fill: var(--disabled-fill-color);\n",
              "    box-shadow: none;\n",
              "  }\n",
              "\n",
              "  .colab-df-spinner {\n",
              "    border: 2px solid var(--fill-color);\n",
              "    border-color: transparent;\n",
              "    border-bottom-color: var(--fill-color);\n",
              "    animation:\n",
              "      spin 1s steps(1) infinite;\n",
              "  }\n",
              "\n",
              "  @keyframes spin {\n",
              "    0% {\n",
              "      border-color: transparent;\n",
              "      border-bottom-color: var(--fill-color);\n",
              "      border-left-color: var(--fill-color);\n",
              "    }\n",
              "    20% {\n",
              "      border-color: transparent;\n",
              "      border-left-color: var(--fill-color);\n",
              "      border-top-color: var(--fill-color);\n",
              "    }\n",
              "    30% {\n",
              "      border-color: transparent;\n",
              "      border-left-color: var(--fill-color);\n",
              "      border-top-color: var(--fill-color);\n",
              "      border-right-color: var(--fill-color);\n",
              "    }\n",
              "    40% {\n",
              "      border-color: transparent;\n",
              "      border-right-color: var(--fill-color);\n",
              "      border-top-color: var(--fill-color);\n",
              "    }\n",
              "    60% {\n",
              "      border-color: transparent;\n",
              "      border-right-color: var(--fill-color);\n",
              "    }\n",
              "    80% {\n",
              "      border-color: transparent;\n",
              "      border-right-color: var(--fill-color);\n",
              "      border-bottom-color: var(--fill-color);\n",
              "    }\n",
              "    90% {\n",
              "      border-color: transparent;\n",
              "      border-bottom-color: var(--fill-color);\n",
              "    }\n",
              "  }\n",
              "</style>\n",
              "\n",
              "  <script>\n",
              "    async function quickchart(key) {\n",
              "      const quickchartButtonEl =\n",
              "        document.querySelector('#' + key + ' button');\n",
              "      quickchartButtonEl.disabled = true;  // To prevent multiple clicks.\n",
              "      quickchartButtonEl.classList.add('colab-df-spinner');\n",
              "      try {\n",
              "        const charts = await google.colab.kernel.invokeFunction(\n",
              "            'suggestCharts', [key], {});\n",
              "      } catch (error) {\n",
              "        console.error('Error during call to suggestCharts:', error);\n",
              "      }\n",
              "      quickchartButtonEl.classList.remove('colab-df-spinner');\n",
              "      quickchartButtonEl.classList.add('colab-df-quickchart-complete');\n",
              "    }\n",
              "    (() => {\n",
              "      let quickchartButtonEl =\n",
              "        document.querySelector('#df-3224163d-b63f-44a1-8189-d9235333d867 button');\n",
              "      quickchartButtonEl.style.display =\n",
              "        google.colab.kernel.accessAllowed ? 'block' : 'none';\n",
              "    })();\n",
              "  </script>\n",
              "</div>\n",
              "\n",
              "    </div>\n",
              "  </div>\n"
            ],
            "application/vnd.google.colaboratory.intrinsic+json": {
              "type": "dataframe",
              "variable_name": "df",
              "summary": "{\n  \"name\": \"df\",\n  \"rows\": 300,\n  \"fields\": [\n    {\n      \"column\": \"StudentID\",\n      \"properties\": {\n        \"dtype\": \"number\",\n        \"std\": 86,\n        \"min\": 1,\n        \"max\": 300,\n        \"num_unique_values\": 300,\n        \"samples\": [\n          204,\n          267,\n          153\n        ],\n        \"semantic_type\": \"\",\n        \"description\": \"\"\n      }\n    },\n    {\n      \"column\": \"Name\",\n      \"properties\": {\n        \"dtype\": \"string\",\n        \"num_unique_values\": 300,\n        \"samples\": [\n          \"Teerth Sathe\",\n          \"Bhavna Sagar\",\n          \"Raksha Walia\"\n        ],\n        \"semantic_type\": \"\",\n        \"description\": \"\"\n      }\n    },\n    {\n      \"column\": \"Age\",\n      \"properties\": {\n        \"dtype\": \"number\",\n        \"std\": 2,\n        \"min\": 18,\n        \"max\": 24,\n        \"num_unique_values\": 7,\n        \"samples\": [\n          20,\n          19,\n          22\n        ],\n        \"semantic_type\": \"\",\n        \"description\": \"\"\n      }\n    },\n    {\n      \"column\": \"Gender\",\n      \"properties\": {\n        \"dtype\": \"category\",\n        \"num_unique_values\": 2,\n        \"samples\": [\n          \"Male\",\n          \"Female\"\n        ],\n        \"semantic_type\": \"\",\n        \"description\": \"\"\n      }\n    },\n    {\n      \"column\": \"Grade\",\n      \"properties\": {\n        \"dtype\": \"category\",\n        \"num_unique_values\": 5,\n        \"samples\": [\n          \"B\",\n          \"D\"\n        ],\n        \"semantic_type\": \"\",\n        \"description\": \"\"\n      }\n    },\n    {\n      \"column\": \"Score1\",\n      \"properties\": {\n        \"dtype\": \"number\",\n        \"std\": 10.375580120450785,\n        \"min\": 37.87005033199057,\n        \"max\": 100.5531672003989,\n        \"num_unique_values\": 300,\n        \"samples\": [\n          79.60827565861281,\n          45.91555828762525\n        ],\n        \"semantic_type\": \"\",\n        \"description\": \"\"\n      }\n    },\n    {\n      \"column\": \"Score2\",\n      \"properties\": {\n        \"dtype\": \"number\",\n        \"std\": 8.758171793412606,\n        \"min\": 48.10387800617214,\n        \"max\": 94.55923947214814,\n        \"num_unique_values\": 300,\n        \"samples\": [\n          73.21086025505278,\n          54.36228629781283\n        ],\n        \"semantic_type\": \"\",\n        \"description\": \"\"\n      }\n    },\n    {\n      \"column\": \"Score3\",\n      \"properties\": {\n        \"dtype\": \"number\",\n        \"std\": 9.221228047853787,\n        \"min\": 38.76817361907479,\n        \"max\": 93.33149695922589,\n        \"num_unique_values\": 300,\n        \"samples\": [\n          70.89653570056025,\n          63.98531622647182\n        ],\n        \"semantic_type\": \"\",\n        \"description\": \"\"\n      }\n    },\n    {\n      \"column\": \"City\",\n      \"properties\": {\n        \"dtype\": \"string\",\n        \"num_unique_values\": 203,\n        \"samples\": [\n          \"Nandyal\",\n          \"Karawal Nagar\"\n        ],\n        \"semantic_type\": \"\",\n        \"description\": \"\"\n      }\n    },\n    {\n      \"column\": \"Address\",\n      \"properties\": {\n        \"dtype\": \"string\",\n        \"num_unique_values\": 300,\n        \"samples\": [\n          \"H.No. 60 Sule Ganj, Durg-071274\",\n          \"55 Mishra Circle Suryapet 255150\"\n        ],\n        \"semantic_type\": \"\",\n        \"description\": \"\"\n      }\n    }\n  ]\n}"
            }
          },
          "metadata": {},
          "execution_count": 105
        }
      ]
    },
    {
      "cell_type": "code",
      "source": [
        "df.to_csv('data.txt', sep=',', index=False)"
      ],
      "metadata": {
        "id": "wYlQwvXP8abk"
      },
      "execution_count": 109,
      "outputs": []
    },
    {
      "cell_type": "markdown",
      "source": [
        "**Import io:** The io module is used to create an in-memory file-like object from your string data.\n",
        "\n",
        "**Create StringIO object:** A StringIO object is created from your data string, which acts like a file that Pandas can read from.\n",
        "\n",
        "**Use pd.read_csv:** This function is used to read the comma-separated values from the StringIO object and create the DataFrame. The sep=',' argument specifies that the values are separated by commas.\n",
        "\n",
        "**Set Column Names:** The columns= argument is used to define the column names for your DataFrame. You need to provide the correct column names here"
      ],
      "metadata": {
        "id": "P7gv88zm8avj"
      }
    },
    {
      "cell_type": "code",
      "source": [
        "import pandas as pd\n",
        "import io\n",
        "\n",
        "data = \"\"\"\n",
        "1,Sai Krishna,19,Male,A,74.06347136834738,56.116235231528634,77.64051430437854,Bhatpara,\"H.No. 43 Khatri Road, Phusro 451991\"\n",
        "2,Alexander Gole,20,Female,C,58.95443455101223,70.73364902517254,82.5377067826966,Pune,\"91/932, Grewal Marg, Panihati-051424\"\n",
        "3,Vinaya Naik,24,Female,B,77.8707658127084,58.04904175285642,65.3944009010486,Gopalpur,\"90 Gupta Circle, Pimpri-Chinchwad 957824\"\n",
        "4,Dalaja Majumdar,18,Female,B,74.90256098471947,69.36454622409912,68.25419582360608,Thoothukudi,65/663 Kant Road Adoni-883437\n",
        "5,Aarush Devi,20,Male,C,71.62871626948419,89.0563685404112,57.58425210823947,Arrah,34/999 Lad Ganj Jabalpur-863881\n",
        "6,Sachi Korpal,22,Female,D,70.19746422177616,69.15077260198619,69.79500605847586,Bihar Sharif,\"83 Ravel Chowk, Kirari Suleman Nagar-719890\"\n",
        "7,Avi Chaudry,22,Male,B,68.64355271271772,79.83232719217446,60.435393759724505,Korba,\"97, Krishnamurthy Nagar, Dharmavaram 334131\"\n",
        "8,Quincy Tiwari,24,Male,A,63.45646434053456,62.44801210596499,64.12819499417748,Karawal Nagar,\"98/627, Batra Circle, Nizamabad-935273\"\n",
        "9,Vasudha Kale,22,Male,B,70.58933130100976,62.644493588577376,67.38152126065323,Bidar,\"29, Ganesh Chowk, Mumbai-302116\"\n",
        "10,Sai Babu,23,Female,B,73.30005142520044,65.03219230403133,74.14455942350338,Nellore,\"28/391, Sabharwal Street Vijayawada 410182\"\n",
        "91,Aashi Yadav,22,Male,C,61.35669039241904,56.35609655578436,71.06873025087224,Bardhaman,95/86 Saraf Bhusawal 464547\n",
        "92,Sanya Bandi,23,Female,B,67.79538446056391,67.47728041242361,70.62915252043548,Avadi,\"87/14 Chand Circle, Orai-559650\"\n",
        "93,Irya Handa,19,Female,D,86.51710864645341,66.98854077502686,79.07856266463612,Aligarh,\"46/17, Nagar Nagar Nagpur-571963\"\n",
        "94,Anthony Bhatti,21,Male,C,51.2749223156523,58.612304136438496,70.68943456505589,Secunderabad,\"02, Datta Ganj, Jalna-465157\"\n",
        "95,Pranit Nigam,23,Female,A,92.82479180093895,65.33441772489351,80.21164632343056,Vellore,\"H.No. 624 Mutti Circle, Saharsa-227531\"\n",
        "96,Manan Mital,22,Female,C,81.03689363558578,76.13493312954682,65.63485012740111,Tiruchirappalli,\"H.No. 32, Lad Chowk Bulandshahr 914574\"\n",
        "97,Hardik Gade,18,Female,B,89.3525097754823,76.59182963625865,68.67302353876009,Ludhiana,\"71, Sachar Circle Gorakhpur-045411\"\n",
        "98,Rachit Issac,20,Male,B,75.42343891622843,81.05966191153823,67.23970298983096,Secunderabad,H.No. 520 Murthy Path Tiruvottiyur 643087\n",
        "99,Zansi Pau,20,Female,C,77.95367656330035,72.8010740298686,59.05305107465219,Firozabad,\"86/90, Sabharwal Road, Davanagere 078087\"\n",
        "100,Manan Khalsa,22,Female,D,59.901210433276006,77.35389546309241,69.28655531076302,Tiruppur,28/078 Sankar Zila Phagwara-265756\n",
        "\"\"\"\n",
        "column_names = [\"StudentID\", \"Name\", \"Age\", \"Gender\", \"Grade\", \"Score1\", \"Score2\", \"Score3\", \"City\", \"Address\"]\n",
        "\n",
        "data_io = io.StringIO(data)\n",
        "\n",
        "df = pd.read_csv(data_io, sep=',', header=None, names=column_names)\n",
        "df.head()"
      ],
      "metadata": {
        "colab": {
          "base_uri": "https://localhost:8080/",
          "height": 206
        },
        "id": "kBmonKG88bFD",
        "outputId": "932ecdc6-c706-45ac-c64d-1b62f309b06f"
      },
      "execution_count": 107,
      "outputs": [
        {
          "output_type": "execute_result",
          "data": {
            "text/plain": [
              "   StudentID             Name  Age  Gender Grade     Score1     Score2  \\\n",
              "0          1      Sai Krishna   19    Male     A  74.063471  56.116235   \n",
              "1          2   Alexander Gole   20  Female     C  58.954435  70.733649   \n",
              "2          3      Vinaya Naik   24  Female     B  77.870766  58.049042   \n",
              "3          4  Dalaja Majumdar   18  Female     B  74.902561  69.364546   \n",
              "4          5      Aarush Devi   20    Male     C  71.628716  89.056369   \n",
              "\n",
              "      Score3         City                                   Address  \n",
              "0  77.640514     Bhatpara       H.No. 43 Khatri Road, Phusro 451991  \n",
              "1  82.537707         Pune      91/932, Grewal Marg, Panihati-051424  \n",
              "2  65.394401     Gopalpur  90 Gupta Circle, Pimpri-Chinchwad 957824  \n",
              "3  68.254196  Thoothukudi             65/663 Kant Road Adoni-883437  \n",
              "4  57.584252        Arrah           34/999 Lad Ganj Jabalpur-863881  "
            ],
            "text/html": [
              "\n",
              "  <div id=\"df-63cddc8e-abc2-4776-a8bf-2396adf2c1ee\" class=\"colab-df-container\">\n",
              "    <div>\n",
              "<style scoped>\n",
              "    .dataframe tbody tr th:only-of-type {\n",
              "        vertical-align: middle;\n",
              "    }\n",
              "\n",
              "    .dataframe tbody tr th {\n",
              "        vertical-align: top;\n",
              "    }\n",
              "\n",
              "    .dataframe thead th {\n",
              "        text-align: right;\n",
              "    }\n",
              "</style>\n",
              "<table border=\"1\" class=\"dataframe\">\n",
              "  <thead>\n",
              "    <tr style=\"text-align: right;\">\n",
              "      <th></th>\n",
              "      <th>StudentID</th>\n",
              "      <th>Name</th>\n",
              "      <th>Age</th>\n",
              "      <th>Gender</th>\n",
              "      <th>Grade</th>\n",
              "      <th>Score1</th>\n",
              "      <th>Score2</th>\n",
              "      <th>Score3</th>\n",
              "      <th>City</th>\n",
              "      <th>Address</th>\n",
              "    </tr>\n",
              "  </thead>\n",
              "  <tbody>\n",
              "    <tr>\n",
              "      <th>0</th>\n",
              "      <td>1</td>\n",
              "      <td>Sai Krishna</td>\n",
              "      <td>19</td>\n",
              "      <td>Male</td>\n",
              "      <td>A</td>\n",
              "      <td>74.063471</td>\n",
              "      <td>56.116235</td>\n",
              "      <td>77.640514</td>\n",
              "      <td>Bhatpara</td>\n",
              "      <td>H.No. 43 Khatri Road, Phusro 451991</td>\n",
              "    </tr>\n",
              "    <tr>\n",
              "      <th>1</th>\n",
              "      <td>2</td>\n",
              "      <td>Alexander Gole</td>\n",
              "      <td>20</td>\n",
              "      <td>Female</td>\n",
              "      <td>C</td>\n",
              "      <td>58.954435</td>\n",
              "      <td>70.733649</td>\n",
              "      <td>82.537707</td>\n",
              "      <td>Pune</td>\n",
              "      <td>91/932, Grewal Marg, Panihati-051424</td>\n",
              "    </tr>\n",
              "    <tr>\n",
              "      <th>2</th>\n",
              "      <td>3</td>\n",
              "      <td>Vinaya Naik</td>\n",
              "      <td>24</td>\n",
              "      <td>Female</td>\n",
              "      <td>B</td>\n",
              "      <td>77.870766</td>\n",
              "      <td>58.049042</td>\n",
              "      <td>65.394401</td>\n",
              "      <td>Gopalpur</td>\n",
              "      <td>90 Gupta Circle, Pimpri-Chinchwad 957824</td>\n",
              "    </tr>\n",
              "    <tr>\n",
              "      <th>3</th>\n",
              "      <td>4</td>\n",
              "      <td>Dalaja Majumdar</td>\n",
              "      <td>18</td>\n",
              "      <td>Female</td>\n",
              "      <td>B</td>\n",
              "      <td>74.902561</td>\n",
              "      <td>69.364546</td>\n",
              "      <td>68.254196</td>\n",
              "      <td>Thoothukudi</td>\n",
              "      <td>65/663 Kant Road Adoni-883437</td>\n",
              "    </tr>\n",
              "    <tr>\n",
              "      <th>4</th>\n",
              "      <td>5</td>\n",
              "      <td>Aarush Devi</td>\n",
              "      <td>20</td>\n",
              "      <td>Male</td>\n",
              "      <td>C</td>\n",
              "      <td>71.628716</td>\n",
              "      <td>89.056369</td>\n",
              "      <td>57.584252</td>\n",
              "      <td>Arrah</td>\n",
              "      <td>34/999 Lad Ganj Jabalpur-863881</td>\n",
              "    </tr>\n",
              "  </tbody>\n",
              "</table>\n",
              "</div>\n",
              "    <div class=\"colab-df-buttons\">\n",
              "\n",
              "  <div class=\"colab-df-container\">\n",
              "    <button class=\"colab-df-convert\" onclick=\"convertToInteractive('df-63cddc8e-abc2-4776-a8bf-2396adf2c1ee')\"\n",
              "            title=\"Convert this dataframe to an interactive table.\"\n",
              "            style=\"display:none;\">\n",
              "\n",
              "  <svg xmlns=\"http://www.w3.org/2000/svg\" height=\"24px\" viewBox=\"0 -960 960 960\">\n",
              "    <path d=\"M120-120v-720h720v720H120Zm60-500h600v-160H180v160Zm220 220h160v-160H400v160Zm0 220h160v-160H400v160ZM180-400h160v-160H180v160Zm440 0h160v-160H620v160ZM180-180h160v-160H180v160Zm440 0h160v-160H620v160Z\"/>\n",
              "  </svg>\n",
              "    </button>\n",
              "\n",
              "  <style>\n",
              "    .colab-df-container {\n",
              "      display:flex;\n",
              "      gap: 12px;\n",
              "    }\n",
              "\n",
              "    .colab-df-convert {\n",
              "      background-color: #E8F0FE;\n",
              "      border: none;\n",
              "      border-radius: 50%;\n",
              "      cursor: pointer;\n",
              "      display: none;\n",
              "      fill: #1967D2;\n",
              "      height: 32px;\n",
              "      padding: 0 0 0 0;\n",
              "      width: 32px;\n",
              "    }\n",
              "\n",
              "    .colab-df-convert:hover {\n",
              "      background-color: #E2EBFA;\n",
              "      box-shadow: 0px 1px 2px rgba(60, 64, 67, 0.3), 0px 1px 3px 1px rgba(60, 64, 67, 0.15);\n",
              "      fill: #174EA6;\n",
              "    }\n",
              "\n",
              "    .colab-df-buttons div {\n",
              "      margin-bottom: 4px;\n",
              "    }\n",
              "\n",
              "    [theme=dark] .colab-df-convert {\n",
              "      background-color: #3B4455;\n",
              "      fill: #D2E3FC;\n",
              "    }\n",
              "\n",
              "    [theme=dark] .colab-df-convert:hover {\n",
              "      background-color: #434B5C;\n",
              "      box-shadow: 0px 1px 3px 1px rgba(0, 0, 0, 0.15);\n",
              "      filter: drop-shadow(0px 1px 2px rgba(0, 0, 0, 0.3));\n",
              "      fill: #FFFFFF;\n",
              "    }\n",
              "  </style>\n",
              "\n",
              "    <script>\n",
              "      const buttonEl =\n",
              "        document.querySelector('#df-63cddc8e-abc2-4776-a8bf-2396adf2c1ee button.colab-df-convert');\n",
              "      buttonEl.style.display =\n",
              "        google.colab.kernel.accessAllowed ? 'block' : 'none';\n",
              "\n",
              "      async function convertToInteractive(key) {\n",
              "        const element = document.querySelector('#df-63cddc8e-abc2-4776-a8bf-2396adf2c1ee');\n",
              "        const dataTable =\n",
              "          await google.colab.kernel.invokeFunction('convertToInteractive',\n",
              "                                                    [key], {});\n",
              "        if (!dataTable) return;\n",
              "\n",
              "        const docLinkHtml = 'Like what you see? Visit the ' +\n",
              "          '<a target=\"_blank\" href=https://colab.research.google.com/notebooks/data_table.ipynb>data table notebook</a>'\n",
              "          + ' to learn more about interactive tables.';\n",
              "        element.innerHTML = '';\n",
              "        dataTable['output_type'] = 'display_data';\n",
              "        await google.colab.output.renderOutput(dataTable, element);\n",
              "        const docLink = document.createElement('div');\n",
              "        docLink.innerHTML = docLinkHtml;\n",
              "        element.appendChild(docLink);\n",
              "      }\n",
              "    </script>\n",
              "  </div>\n",
              "\n",
              "\n",
              "<div id=\"df-05b0905a-1acd-4299-a8d3-b45f94964bb8\">\n",
              "  <button class=\"colab-df-quickchart\" onclick=\"quickchart('df-05b0905a-1acd-4299-a8d3-b45f94964bb8')\"\n",
              "            title=\"Suggest charts\"\n",
              "            style=\"display:none;\">\n",
              "\n",
              "<svg xmlns=\"http://www.w3.org/2000/svg\" height=\"24px\"viewBox=\"0 0 24 24\"\n",
              "     width=\"24px\">\n",
              "    <g>\n",
              "        <path d=\"M19 3H5c-1.1 0-2 .9-2 2v14c0 1.1.9 2 2 2h14c1.1 0 2-.9 2-2V5c0-1.1-.9-2-2-2zM9 17H7v-7h2v7zm4 0h-2V7h2v10zm4 0h-2v-4h2v4z\"/>\n",
              "    </g>\n",
              "</svg>\n",
              "  </button>\n",
              "\n",
              "<style>\n",
              "  .colab-df-quickchart {\n",
              "      --bg-color: #E8F0FE;\n",
              "      --fill-color: #1967D2;\n",
              "      --hover-bg-color: #E2EBFA;\n",
              "      --hover-fill-color: #174EA6;\n",
              "      --disabled-fill-color: #AAA;\n",
              "      --disabled-bg-color: #DDD;\n",
              "  }\n",
              "\n",
              "  [theme=dark] .colab-df-quickchart {\n",
              "      --bg-color: #3B4455;\n",
              "      --fill-color: #D2E3FC;\n",
              "      --hover-bg-color: #434B5C;\n",
              "      --hover-fill-color: #FFFFFF;\n",
              "      --disabled-bg-color: #3B4455;\n",
              "      --disabled-fill-color: #666;\n",
              "  }\n",
              "\n",
              "  .colab-df-quickchart {\n",
              "    background-color: var(--bg-color);\n",
              "    border: none;\n",
              "    border-radius: 50%;\n",
              "    cursor: pointer;\n",
              "    display: none;\n",
              "    fill: var(--fill-color);\n",
              "    height: 32px;\n",
              "    padding: 0;\n",
              "    width: 32px;\n",
              "  }\n",
              "\n",
              "  .colab-df-quickchart:hover {\n",
              "    background-color: var(--hover-bg-color);\n",
              "    box-shadow: 0 1px 2px rgba(60, 64, 67, 0.3), 0 1px 3px 1px rgba(60, 64, 67, 0.15);\n",
              "    fill: var(--button-hover-fill-color);\n",
              "  }\n",
              "\n",
              "  .colab-df-quickchart-complete:disabled,\n",
              "  .colab-df-quickchart-complete:disabled:hover {\n",
              "    background-color: var(--disabled-bg-color);\n",
              "    fill: var(--disabled-fill-color);\n",
              "    box-shadow: none;\n",
              "  }\n",
              "\n",
              "  .colab-df-spinner {\n",
              "    border: 2px solid var(--fill-color);\n",
              "    border-color: transparent;\n",
              "    border-bottom-color: var(--fill-color);\n",
              "    animation:\n",
              "      spin 1s steps(1) infinite;\n",
              "  }\n",
              "\n",
              "  @keyframes spin {\n",
              "    0% {\n",
              "      border-color: transparent;\n",
              "      border-bottom-color: var(--fill-color);\n",
              "      border-left-color: var(--fill-color);\n",
              "    }\n",
              "    20% {\n",
              "      border-color: transparent;\n",
              "      border-left-color: var(--fill-color);\n",
              "      border-top-color: var(--fill-color);\n",
              "    }\n",
              "    30% {\n",
              "      border-color: transparent;\n",
              "      border-left-color: var(--fill-color);\n",
              "      border-top-color: var(--fill-color);\n",
              "      border-right-color: var(--fill-color);\n",
              "    }\n",
              "    40% {\n",
              "      border-color: transparent;\n",
              "      border-right-color: var(--fill-color);\n",
              "      border-top-color: var(--fill-color);\n",
              "    }\n",
              "    60% {\n",
              "      border-color: transparent;\n",
              "      border-right-color: var(--fill-color);\n",
              "    }\n",
              "    80% {\n",
              "      border-color: transparent;\n",
              "      border-right-color: var(--fill-color);\n",
              "      border-bottom-color: var(--fill-color);\n",
              "    }\n",
              "    90% {\n",
              "      border-color: transparent;\n",
              "      border-bottom-color: var(--fill-color);\n",
              "    }\n",
              "  }\n",
              "</style>\n",
              "\n",
              "  <script>\n",
              "    async function quickchart(key) {\n",
              "      const quickchartButtonEl =\n",
              "        document.querySelector('#' + key + ' button');\n",
              "      quickchartButtonEl.disabled = true;  // To prevent multiple clicks.\n",
              "      quickchartButtonEl.classList.add('colab-df-spinner');\n",
              "      try {\n",
              "        const charts = await google.colab.kernel.invokeFunction(\n",
              "            'suggestCharts', [key], {});\n",
              "      } catch (error) {\n",
              "        console.error('Error during call to suggestCharts:', error);\n",
              "      }\n",
              "      quickchartButtonEl.classList.remove('colab-df-spinner');\n",
              "      quickchartButtonEl.classList.add('colab-df-quickchart-complete');\n",
              "    }\n",
              "    (() => {\n",
              "      let quickchartButtonEl =\n",
              "        document.querySelector('#df-05b0905a-1acd-4299-a8d3-b45f94964bb8 button');\n",
              "      quickchartButtonEl.style.display =\n",
              "        google.colab.kernel.accessAllowed ? 'block' : 'none';\n",
              "    })();\n",
              "  </script>\n",
              "</div>\n",
              "\n",
              "    </div>\n",
              "  </div>\n"
            ],
            "application/vnd.google.colaboratory.intrinsic+json": {
              "type": "dataframe",
              "variable_name": "df",
              "summary": "{\n  \"name\": \"df\",\n  \"rows\": 20,\n  \"fields\": [\n    {\n      \"column\": \"StudentID\",\n      \"properties\": {\n        \"dtype\": \"number\",\n        \"std\": 46,\n        \"min\": 1,\n        \"max\": 100,\n        \"num_unique_values\": 20,\n        \"samples\": [\n          1,\n          98,\n          96\n        ],\n        \"semantic_type\": \"\",\n        \"description\": \"\"\n      }\n    },\n    {\n      \"column\": \"Name\",\n      \"properties\": {\n        \"dtype\": \"string\",\n        \"num_unique_values\": 20,\n        \"samples\": [\n          \"Sai Krishna\",\n          \"Rachit Issac\",\n          \"Manan Mital\"\n        ],\n        \"semantic_type\": \"\",\n        \"description\": \"\"\n      }\n    },\n    {\n      \"column\": \"Age\",\n      \"properties\": {\n        \"dtype\": \"number\",\n        \"std\": 1,\n        \"min\": 18,\n        \"max\": 24,\n        \"num_unique_values\": 7,\n        \"samples\": [\n          19,\n          20,\n          23\n        ],\n        \"semantic_type\": \"\",\n        \"description\": \"\"\n      }\n    },\n    {\n      \"column\": \"Gender\",\n      \"properties\": {\n        \"dtype\": \"category\",\n        \"num_unique_values\": 2,\n        \"samples\": [\n          \"Female\",\n          \"Male\"\n        ],\n        \"semantic_type\": \"\",\n        \"description\": \"\"\n      }\n    },\n    {\n      \"column\": \"Grade\",\n      \"properties\": {\n        \"dtype\": \"category\",\n        \"num_unique_values\": 4,\n        \"samples\": [\n          \"C\",\n          \"D\"\n        ],\n        \"semantic_type\": \"\",\n        \"description\": \"\"\n      }\n    },\n    {\n      \"column\": \"Score1\",\n      \"properties\": {\n        \"dtype\": \"number\",\n        \"std\": 10.48158237054541,\n        \"min\": 51.2749223156523,\n        \"max\": 92.82479180093895,\n        \"num_unique_values\": 20,\n        \"samples\": [\n          74.06347136834738,\n          75.42343891622843\n        ],\n        \"semantic_type\": \"\",\n        \"description\": \"\"\n      }\n    },\n    {\n      \"column\": \"Score2\",\n      \"properties\": {\n        \"dtype\": \"number\",\n        \"std\": 8.983789643372145,\n        \"min\": 56.11623523152864,\n        \"max\": 89.0563685404112,\n        \"num_unique_values\": 20,\n        \"samples\": [\n          56.11623523152864,\n          81.05966191153823\n        ],\n        \"semantic_type\": \"\",\n        \"description\": \"\"\n      }\n    },\n    {\n      \"column\": \"Score3\",\n      \"properties\": {\n        \"dtype\": \"number\",\n        \"std\": 6.787385948206696,\n        \"min\": 57.58425210823947,\n        \"max\": 82.5377067826966,\n        \"num_unique_values\": 20,\n        \"samples\": [\n          77.64051430437854,\n          67.23970298983096\n        ],\n        \"semantic_type\": \"\",\n        \"description\": \"\"\n      }\n    },\n    {\n      \"column\": \"City\",\n      \"properties\": {\n        \"dtype\": \"string\",\n        \"num_unique_values\": 19,\n        \"samples\": [\n          \"Bhatpara\",\n          \"Bihar Sharif\"\n        ],\n        \"semantic_type\": \"\",\n        \"description\": \"\"\n      }\n    },\n    {\n      \"column\": \"Address\",\n      \"properties\": {\n        \"dtype\": \"string\",\n        \"num_unique_values\": 20,\n        \"samples\": [\n          \"H.No. 43 Khatri Road, Phusro 451991\",\n          \"H.No. 520 Murthy Path Tiruvottiyur 643087\"\n        ],\n        \"semantic_type\": \"\",\n        \"description\": \"\"\n      }\n    }\n  ]\n}"
            }
          },
          "metadata": {},
          "execution_count": 107
        }
      ]
    },
    {
      "cell_type": "code",
      "source": [],
      "metadata": {
        "id": "fIcevOTG-bf-"
      },
      "execution_count": null,
      "outputs": []
    }
  ]
}