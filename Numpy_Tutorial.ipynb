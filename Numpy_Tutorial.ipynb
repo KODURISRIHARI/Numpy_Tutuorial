{
  "nbformat": 4,
  "nbformat_minor": 0,
  "metadata": {
    "colab": {
      "provenance": [],
      "authorship_tag": "ABX9TyPceuSiQ3IkitBL4aCyYFA/",
      "include_colab_link": true
    },
    "kernelspec": {
      "name": "python3",
      "display_name": "Python 3"
    },
    "language_info": {
      "name": "python"
    }
  },
  "cells": [
    {
      "cell_type": "markdown",
      "metadata": {
        "id": "view-in-github",
        "colab_type": "text"
      },
      "source": [
        "<a href=\"https://colab.research.google.com/github/KODURISRIHARI/Numpy_Tutuorial/blob/main/Numpy_Tutorial.ipynb\" target=\"_parent\"><img src=\"https://colab.research.google.com/assets/colab-badge.svg\" alt=\"Open In Colab\"/></a>"
      ]
    },
    {
      "cell_type": "code",
      "execution_count": null,
      "metadata": {
        "id": "AtHaD3QaoPt0"
      },
      "outputs": [],
      "source": [
        "import numpy as np\n",
        "import pandas as pd"
      ]
    },
    {
      "cell_type": "markdown",
      "source": [
        "Numpy Data Types \\\n",
        "Numpy has the following data types:\n",
        "\n",
        "int\n",
        "\n",
        "float\n",
        "\n",
        "complex\n",
        "\n",
        "bool\n",
        "\n",
        "string\n",
        "\n",
        "unicode\n",
        "\n",
        "object"
      ],
      "metadata": {
        "id": "uRsRS2M_o_oe"
      }
    },
    {
      "cell_type": "markdown",
      "source": [
        "The numeric data types have various precisions like 32-bit or 64-bit.\n",
        "\n",
        "Numpy data types can be represented using either Type or Type Code"
      ],
      "metadata": {
        "id": "nb3CkFPLpjQy"
      }
    },
    {
      "cell_type": "code",
      "source": [
        "dtypes = pd.DataFrame(\n",
        "    {\n",
        "        'Type': [\n",
        "            'int8',\n",
        "            'uint8',\n",
        "            'int16',\n",
        "            'uint16',\n",
        "            'int or int32',\n",
        "            'uint32',\n",
        "            'int64',\n",
        "            'uint64',\n",
        "            'float16',\n",
        "            'float32',\n",
        "            'float or float64',\n",
        "            'float128',\n",
        "            'complex64',\n",
        "            'complex or complex128',\n",
        "            'bool',\n",
        "            'object',\n",
        "            'string_',\n",
        "            'unicode_',\n",
        "        ],\n",
        "\n",
        "        'Type Code': [\n",
        "            'i1',\n",
        "            'u1',\n",
        "            'i2',\n",
        "            'u2',\n",
        "            'i4 or i',\n",
        "            'u4',\n",
        "            'i8',\n",
        "            'u8',\n",
        "            'f2',\n",
        "            'f4 or f',\n",
        "            'f8 or d',\n",
        "            'f16 or g',\n",
        "            'c8',\n",
        "            'c16',\n",
        "            None,\n",
        "            'O',\n",
        "            'S',\n",
        "            'U',\n",
        "        ]\n",
        "    }\n",
        ")"
      ],
      "metadata": {
        "id": "CbPn6_mBpuji"
      },
      "execution_count": null,
      "outputs": []
    },
    {
      "cell_type": "code",
      "source": [
        "dtypes"
      ],
      "metadata": {
        "colab": {
          "base_uri": "https://localhost:8080/",
          "height": 614
        },
        "id": "JnmwnfsAqZZ-",
        "outputId": "011022b3-95c6-4f15-918c-bdad363e5787"
      },
      "execution_count": null,
      "outputs": [
        {
          "output_type": "execute_result",
          "data": {
            "text/plain": [
              "                     Type Type Code\n",
              "0                    int8        i1\n",
              "1                   uint8        u1\n",
              "2                   int16        i2\n",
              "3                  uint16        u2\n",
              "4            int or int32   i4 or i\n",
              "5                  uint32        u4\n",
              "6                   int64        i8\n",
              "7                  uint64        u8\n",
              "8                 float16        f2\n",
              "9                 float32   f4 or f\n",
              "10       float or float64   f8 or d\n",
              "11               float128  f16 or g\n",
              "12              complex64        c8\n",
              "13  complex or complex128       c16\n",
              "14                   bool      None\n",
              "15                 object         O\n",
              "16                string_         S\n",
              "17               unicode_         U"
            ],
            "text/html": [
              "\n",
              "  <div id=\"df-64e0ee6a-9949-4a86-8f84-fff7a7bc1412\" class=\"colab-df-container\">\n",
              "    <div>\n",
              "<style scoped>\n",
              "    .dataframe tbody tr th:only-of-type {\n",
              "        vertical-align: middle;\n",
              "    }\n",
              "\n",
              "    .dataframe tbody tr th {\n",
              "        vertical-align: top;\n",
              "    }\n",
              "\n",
              "    .dataframe thead th {\n",
              "        text-align: right;\n",
              "    }\n",
              "</style>\n",
              "<table border=\"1\" class=\"dataframe\">\n",
              "  <thead>\n",
              "    <tr style=\"text-align: right;\">\n",
              "      <th></th>\n",
              "      <th>Type</th>\n",
              "      <th>Type Code</th>\n",
              "    </tr>\n",
              "  </thead>\n",
              "  <tbody>\n",
              "    <tr>\n",
              "      <th>0</th>\n",
              "      <td>int8</td>\n",
              "      <td>i1</td>\n",
              "    </tr>\n",
              "    <tr>\n",
              "      <th>1</th>\n",
              "      <td>uint8</td>\n",
              "      <td>u1</td>\n",
              "    </tr>\n",
              "    <tr>\n",
              "      <th>2</th>\n",
              "      <td>int16</td>\n",
              "      <td>i2</td>\n",
              "    </tr>\n",
              "    <tr>\n",
              "      <th>3</th>\n",
              "      <td>uint16</td>\n",
              "      <td>u2</td>\n",
              "    </tr>\n",
              "    <tr>\n",
              "      <th>4</th>\n",
              "      <td>int or int32</td>\n",
              "      <td>i4 or i</td>\n",
              "    </tr>\n",
              "    <tr>\n",
              "      <th>5</th>\n",
              "      <td>uint32</td>\n",
              "      <td>u4</td>\n",
              "    </tr>\n",
              "    <tr>\n",
              "      <th>6</th>\n",
              "      <td>int64</td>\n",
              "      <td>i8</td>\n",
              "    </tr>\n",
              "    <tr>\n",
              "      <th>7</th>\n",
              "      <td>uint64</td>\n",
              "      <td>u8</td>\n",
              "    </tr>\n",
              "    <tr>\n",
              "      <th>8</th>\n",
              "      <td>float16</td>\n",
              "      <td>f2</td>\n",
              "    </tr>\n",
              "    <tr>\n",
              "      <th>9</th>\n",
              "      <td>float32</td>\n",
              "      <td>f4 or f</td>\n",
              "    </tr>\n",
              "    <tr>\n",
              "      <th>10</th>\n",
              "      <td>float or float64</td>\n",
              "      <td>f8 or d</td>\n",
              "    </tr>\n",
              "    <tr>\n",
              "      <th>11</th>\n",
              "      <td>float128</td>\n",
              "      <td>f16 or g</td>\n",
              "    </tr>\n",
              "    <tr>\n",
              "      <th>12</th>\n",
              "      <td>complex64</td>\n",
              "      <td>c8</td>\n",
              "    </tr>\n",
              "    <tr>\n",
              "      <th>13</th>\n",
              "      <td>complex or complex128</td>\n",
              "      <td>c16</td>\n",
              "    </tr>\n",
              "    <tr>\n",
              "      <th>14</th>\n",
              "      <td>bool</td>\n",
              "      <td>None</td>\n",
              "    </tr>\n",
              "    <tr>\n",
              "      <th>15</th>\n",
              "      <td>object</td>\n",
              "      <td>O</td>\n",
              "    </tr>\n",
              "    <tr>\n",
              "      <th>16</th>\n",
              "      <td>string_</td>\n",
              "      <td>S</td>\n",
              "    </tr>\n",
              "    <tr>\n",
              "      <th>17</th>\n",
              "      <td>unicode_</td>\n",
              "      <td>U</td>\n",
              "    </tr>\n",
              "  </tbody>\n",
              "</table>\n",
              "</div>\n",
              "    <div class=\"colab-df-buttons\">\n",
              "\n",
              "  <div class=\"colab-df-container\">\n",
              "    <button class=\"colab-df-convert\" onclick=\"convertToInteractive('df-64e0ee6a-9949-4a86-8f84-fff7a7bc1412')\"\n",
              "            title=\"Convert this dataframe to an interactive table.\"\n",
              "            style=\"display:none;\">\n",
              "\n",
              "  <svg xmlns=\"http://www.w3.org/2000/svg\" height=\"24px\" viewBox=\"0 -960 960 960\">\n",
              "    <path d=\"M120-120v-720h720v720H120Zm60-500h600v-160H180v160Zm220 220h160v-160H400v160Zm0 220h160v-160H400v160ZM180-400h160v-160H180v160Zm440 0h160v-160H620v160ZM180-180h160v-160H180v160Zm440 0h160v-160H620v160Z\"/>\n",
              "  </svg>\n",
              "    </button>\n",
              "\n",
              "  <style>\n",
              "    .colab-df-container {\n",
              "      display:flex;\n",
              "      gap: 12px;\n",
              "    }\n",
              "\n",
              "    .colab-df-convert {\n",
              "      background-color: #E8F0FE;\n",
              "      border: none;\n",
              "      border-radius: 50%;\n",
              "      cursor: pointer;\n",
              "      display: none;\n",
              "      fill: #1967D2;\n",
              "      height: 32px;\n",
              "      padding: 0 0 0 0;\n",
              "      width: 32px;\n",
              "    }\n",
              "\n",
              "    .colab-df-convert:hover {\n",
              "      background-color: #E2EBFA;\n",
              "      box-shadow: 0px 1px 2px rgba(60, 64, 67, 0.3), 0px 1px 3px 1px rgba(60, 64, 67, 0.15);\n",
              "      fill: #174EA6;\n",
              "    }\n",
              "\n",
              "    .colab-df-buttons div {\n",
              "      margin-bottom: 4px;\n",
              "    }\n",
              "\n",
              "    [theme=dark] .colab-df-convert {\n",
              "      background-color: #3B4455;\n",
              "      fill: #D2E3FC;\n",
              "    }\n",
              "\n",
              "    [theme=dark] .colab-df-convert:hover {\n",
              "      background-color: #434B5C;\n",
              "      box-shadow: 0px 1px 3px 1px rgba(0, 0, 0, 0.15);\n",
              "      filter: drop-shadow(0px 1px 2px rgba(0, 0, 0, 0.3));\n",
              "      fill: #FFFFFF;\n",
              "    }\n",
              "  </style>\n",
              "\n",
              "    <script>\n",
              "      const buttonEl =\n",
              "        document.querySelector('#df-64e0ee6a-9949-4a86-8f84-fff7a7bc1412 button.colab-df-convert');\n",
              "      buttonEl.style.display =\n",
              "        google.colab.kernel.accessAllowed ? 'block' : 'none';\n",
              "\n",
              "      async function convertToInteractive(key) {\n",
              "        const element = document.querySelector('#df-64e0ee6a-9949-4a86-8f84-fff7a7bc1412');\n",
              "        const dataTable =\n",
              "          await google.colab.kernel.invokeFunction('convertToInteractive',\n",
              "                                                    [key], {});\n",
              "        if (!dataTable) return;\n",
              "\n",
              "        const docLinkHtml = 'Like what you see? Visit the ' +\n",
              "          '<a target=\"_blank\" href=https://colab.research.google.com/notebooks/data_table.ipynb>data table notebook</a>'\n",
              "          + ' to learn more about interactive tables.';\n",
              "        element.innerHTML = '';\n",
              "        dataTable['output_type'] = 'display_data';\n",
              "        await google.colab.output.renderOutput(dataTable, element);\n",
              "        const docLink = document.createElement('div');\n",
              "        docLink.innerHTML = docLinkHtml;\n",
              "        element.appendChild(docLink);\n",
              "      }\n",
              "    </script>\n",
              "  </div>\n",
              "\n",
              "\n",
              "<div id=\"df-f684f713-4b4f-49ac-be2b-a8a981676b9a\">\n",
              "  <button class=\"colab-df-quickchart\" onclick=\"quickchart('df-f684f713-4b4f-49ac-be2b-a8a981676b9a')\"\n",
              "            title=\"Suggest charts\"\n",
              "            style=\"display:none;\">\n",
              "\n",
              "<svg xmlns=\"http://www.w3.org/2000/svg\" height=\"24px\"viewBox=\"0 0 24 24\"\n",
              "     width=\"24px\">\n",
              "    <g>\n",
              "        <path d=\"M19 3H5c-1.1 0-2 .9-2 2v14c0 1.1.9 2 2 2h14c1.1 0 2-.9 2-2V5c0-1.1-.9-2-2-2zM9 17H7v-7h2v7zm4 0h-2V7h2v10zm4 0h-2v-4h2v4z\"/>\n",
              "    </g>\n",
              "</svg>\n",
              "  </button>\n",
              "\n",
              "<style>\n",
              "  .colab-df-quickchart {\n",
              "      --bg-color: #E8F0FE;\n",
              "      --fill-color: #1967D2;\n",
              "      --hover-bg-color: #E2EBFA;\n",
              "      --hover-fill-color: #174EA6;\n",
              "      --disabled-fill-color: #AAA;\n",
              "      --disabled-bg-color: #DDD;\n",
              "  }\n",
              "\n",
              "  [theme=dark] .colab-df-quickchart {\n",
              "      --bg-color: #3B4455;\n",
              "      --fill-color: #D2E3FC;\n",
              "      --hover-bg-color: #434B5C;\n",
              "      --hover-fill-color: #FFFFFF;\n",
              "      --disabled-bg-color: #3B4455;\n",
              "      --disabled-fill-color: #666;\n",
              "  }\n",
              "\n",
              "  .colab-df-quickchart {\n",
              "    background-color: var(--bg-color);\n",
              "    border: none;\n",
              "    border-radius: 50%;\n",
              "    cursor: pointer;\n",
              "    display: none;\n",
              "    fill: var(--fill-color);\n",
              "    height: 32px;\n",
              "    padding: 0;\n",
              "    width: 32px;\n",
              "  }\n",
              "\n",
              "  .colab-df-quickchart:hover {\n",
              "    background-color: var(--hover-bg-color);\n",
              "    box-shadow: 0 1px 2px rgba(60, 64, 67, 0.3), 0 1px 3px 1px rgba(60, 64, 67, 0.15);\n",
              "    fill: var(--button-hover-fill-color);\n",
              "  }\n",
              "\n",
              "  .colab-df-quickchart-complete:disabled,\n",
              "  .colab-df-quickchart-complete:disabled:hover {\n",
              "    background-color: var(--disabled-bg-color);\n",
              "    fill: var(--disabled-fill-color);\n",
              "    box-shadow: none;\n",
              "  }\n",
              "\n",
              "  .colab-df-spinner {\n",
              "    border: 2px solid var(--fill-color);\n",
              "    border-color: transparent;\n",
              "    border-bottom-color: var(--fill-color);\n",
              "    animation:\n",
              "      spin 1s steps(1) infinite;\n",
              "  }\n",
              "\n",
              "  @keyframes spin {\n",
              "    0% {\n",
              "      border-color: transparent;\n",
              "      border-bottom-color: var(--fill-color);\n",
              "      border-left-color: var(--fill-color);\n",
              "    }\n",
              "    20% {\n",
              "      border-color: transparent;\n",
              "      border-left-color: var(--fill-color);\n",
              "      border-top-color: var(--fill-color);\n",
              "    }\n",
              "    30% {\n",
              "      border-color: transparent;\n",
              "      border-left-color: var(--fill-color);\n",
              "      border-top-color: var(--fill-color);\n",
              "      border-right-color: var(--fill-color);\n",
              "    }\n",
              "    40% {\n",
              "      border-color: transparent;\n",
              "      border-right-color: var(--fill-color);\n",
              "      border-top-color: var(--fill-color);\n",
              "    }\n",
              "    60% {\n",
              "      border-color: transparent;\n",
              "      border-right-color: var(--fill-color);\n",
              "    }\n",
              "    80% {\n",
              "      border-color: transparent;\n",
              "      border-right-color: var(--fill-color);\n",
              "      border-bottom-color: var(--fill-color);\n",
              "    }\n",
              "    90% {\n",
              "      border-color: transparent;\n",
              "      border-bottom-color: var(--fill-color);\n",
              "    }\n",
              "  }\n",
              "</style>\n",
              "\n",
              "  <script>\n",
              "    async function quickchart(key) {\n",
              "      const quickchartButtonEl =\n",
              "        document.querySelector('#' + key + ' button');\n",
              "      quickchartButtonEl.disabled = true;  // To prevent multiple clicks.\n",
              "      quickchartButtonEl.classList.add('colab-df-spinner');\n",
              "      try {\n",
              "        const charts = await google.colab.kernel.invokeFunction(\n",
              "            'suggestCharts', [key], {});\n",
              "      } catch (error) {\n",
              "        console.error('Error during call to suggestCharts:', error);\n",
              "      }\n",
              "      quickchartButtonEl.classList.remove('colab-df-spinner');\n",
              "      quickchartButtonEl.classList.add('colab-df-quickchart-complete');\n",
              "    }\n",
              "    (() => {\n",
              "      let quickchartButtonEl =\n",
              "        document.querySelector('#df-f684f713-4b4f-49ac-be2b-a8a981676b9a button');\n",
              "      quickchartButtonEl.style.display =\n",
              "        google.colab.kernel.accessAllowed ? 'block' : 'none';\n",
              "    })();\n",
              "  </script>\n",
              "</div>\n",
              "\n",
              "  <div id=\"id_d929464e-7b0e-47f6-93ee-49e0b31d78f6\">\n",
              "    <style>\n",
              "      .colab-df-generate {\n",
              "        background-color: #E8F0FE;\n",
              "        border: none;\n",
              "        border-radius: 50%;\n",
              "        cursor: pointer;\n",
              "        display: none;\n",
              "        fill: #1967D2;\n",
              "        height: 32px;\n",
              "        padding: 0 0 0 0;\n",
              "        width: 32px;\n",
              "      }\n",
              "\n",
              "      .colab-df-generate:hover {\n",
              "        background-color: #E2EBFA;\n",
              "        box-shadow: 0px 1px 2px rgba(60, 64, 67, 0.3), 0px 1px 3px 1px rgba(60, 64, 67, 0.15);\n",
              "        fill: #174EA6;\n",
              "      }\n",
              "\n",
              "      [theme=dark] .colab-df-generate {\n",
              "        background-color: #3B4455;\n",
              "        fill: #D2E3FC;\n",
              "      }\n",
              "\n",
              "      [theme=dark] .colab-df-generate:hover {\n",
              "        background-color: #434B5C;\n",
              "        box-shadow: 0px 1px 3px 1px rgba(0, 0, 0, 0.15);\n",
              "        filter: drop-shadow(0px 1px 2px rgba(0, 0, 0, 0.3));\n",
              "        fill: #FFFFFF;\n",
              "      }\n",
              "    </style>\n",
              "    <button class=\"colab-df-generate\" onclick=\"generateWithVariable('dtypes')\"\n",
              "            title=\"Generate code using this dataframe.\"\n",
              "            style=\"display:none;\">\n",
              "\n",
              "  <svg xmlns=\"http://www.w3.org/2000/svg\" height=\"24px\"viewBox=\"0 0 24 24\"\n",
              "       width=\"24px\">\n",
              "    <path d=\"M7,19H8.4L18.45,9,17,7.55,7,17.6ZM5,21V16.75L18.45,3.32a2,2,0,0,1,2.83,0l1.4,1.43a1.91,1.91,0,0,1,.58,1.4,1.91,1.91,0,0,1-.58,1.4L9.25,21ZM18.45,9,17,7.55Zm-12,3A5.31,5.31,0,0,0,4.9,8.1,5.31,5.31,0,0,0,1,6.5,5.31,5.31,0,0,0,4.9,4.9,5.31,5.31,0,0,0,6.5,1,5.31,5.31,0,0,0,8.1,4.9,5.31,5.31,0,0,0,12,6.5,5.46,5.46,0,0,0,6.5,12Z\"/>\n",
              "  </svg>\n",
              "    </button>\n",
              "    <script>\n",
              "      (() => {\n",
              "      const buttonEl =\n",
              "        document.querySelector('#id_d929464e-7b0e-47f6-93ee-49e0b31d78f6 button.colab-df-generate');\n",
              "      buttonEl.style.display =\n",
              "        google.colab.kernel.accessAllowed ? 'block' : 'none';\n",
              "\n",
              "      buttonEl.onclick = () => {\n",
              "        google.colab.notebook.generateWithVariable('dtypes');\n",
              "      }\n",
              "      })();\n",
              "    </script>\n",
              "  </div>\n",
              "\n",
              "    </div>\n",
              "  </div>\n"
            ],
            "application/vnd.google.colaboratory.intrinsic+json": {
              "type": "dataframe",
              "variable_name": "dtypes",
              "summary": "{\n  \"name\": \"dtypes\",\n  \"rows\": 18,\n  \"fields\": [\n    {\n      \"column\": \"Type\",\n      \"properties\": {\n        \"dtype\": \"string\",\n        \"num_unique_values\": 18,\n        \"samples\": [\n          \"int8\",\n          \"uint8\",\n          \"float16\"\n        ],\n        \"semantic_type\": \"\",\n        \"description\": \"\"\n      }\n    },\n    {\n      \"column\": \"Type Code\",\n      \"properties\": {\n        \"dtype\": \"string\",\n        \"num_unique_values\": 17,\n        \"samples\": [\n          \"i1\",\n          \"u1\",\n          \"u4\"\n        ],\n        \"semantic_type\": \"\",\n        \"description\": \"\"\n      }\n    }\n  ]\n}"
            }
          },
          "metadata": {},
          "execution_count": 3
        }
      ]
    },
    {
      "cell_type": "markdown",
      "source": [
        "Data types can be defined at creating the numpy array and converted to other types later.\n",
        "\n",
        "You can use either type, type code or np dot methods to define the data type of an array, but when you use np dot method to define the data type, it can only follow type rather than type code."
      ],
      "metadata": {
        "id": "X-LiEoDNqeP7"
      }
    },
    {
      "cell_type": "code",
      "source": [
        "arr = np.array([1,2,3], dtype='f4')\n",
        "arr.dtype"
      ],
      "metadata": {
        "colab": {
          "base_uri": "https://localhost:8080/"
        },
        "id": "xpAYsulCqwdK",
        "outputId": "8fabc9e0-997b-4095-8c61-85663797dcb9"
      },
      "execution_count": null,
      "outputs": [
        {
          "output_type": "execute_result",
          "data": {
            "text/plain": [
              "dtype('float32')"
            ]
          },
          "metadata": {},
          "execution_count": 4
        }
      ]
    },
    {
      "cell_type": "code",
      "source": [
        "# Identical to the above\n",
        "arr = np.array([1,2,3], dtype='float32')\n",
        "arr.dtype"
      ],
      "metadata": {
        "colab": {
          "base_uri": "https://localhost:8080/"
        },
        "id": "0xA1rNaJqzak",
        "outputId": "612b52b6-f89b-4f86-88e4-62bdd4c4ba8a"
      },
      "execution_count": null,
      "outputs": [
        {
          "output_type": "execute_result",
          "data": {
            "text/plain": [
              "dtype('float32')"
            ]
          },
          "metadata": {},
          "execution_count": 5
        }
      ]
    },
    {
      "cell_type": "code",
      "source": [
        "arr = np.array([1+2j, 3-4j], dtype=np.complex64)\n",
        "arr.dtype"
      ],
      "metadata": {
        "colab": {
          "base_uri": "https://localhost:8080/"
        },
        "id": "djEMvBBdq1fF",
        "outputId": "833a4e1e-50f0-488b-c739-0fdfab1a5375"
      },
      "execution_count": null,
      "outputs": [
        {
          "output_type": "execute_result",
          "data": {
            "text/plain": [
              "dtype('complex64')"
            ]
          },
          "metadata": {},
          "execution_count": 6
        }
      ]
    },
    {
      "cell_type": "code",
      "source": [
        "# Identical to the above\n",
        "arr = np.array([1+2j, 3-4j], dtype='c8')\n",
        "arr.dtype"
      ],
      "metadata": {
        "colab": {
          "base_uri": "https://localhost:8080/"
        },
        "id": "n_N1CXM3q35G",
        "outputId": "1a3ffbbc-8036-477c-f581-b76ca4e9a619"
      },
      "execution_count": null,
      "outputs": [
        {
          "output_type": "execute_result",
          "data": {
            "text/plain": [
              "dtype('complex64')"
            ]
          },
          "metadata": {},
          "execution_count": 7
        }
      ]
    },
    {
      "cell_type": "code",
      "source": [
        "# ERROR\n",
        "arr = np.array([1+2j, 3-4j], dtype=np.c8)\n",
        "arr.dtype"
      ],
      "metadata": {
        "colab": {
          "base_uri": "https://localhost:8080/",
          "height": 297
        },
        "id": "OWNwltpmq8Ft",
        "outputId": "3bfe9f2e-baba-4c74-e14e-3fd7f818ad3f"
      },
      "execution_count": null,
      "outputs": [
        {
          "output_type": "error",
          "ename": "AttributeError",
          "evalue": "module 'numpy' has no attribute 'c8'",
          "traceback": [
            "\u001b[0;31m---------------------------------------------------------------------------\u001b[0m",
            "\u001b[0;31mAttributeError\u001b[0m                            Traceback (most recent call last)",
            "\u001b[0;32m<ipython-input-8-a5f30f9069f2>\u001b[0m in \u001b[0;36m<cell line: 0>\u001b[0;34m()\u001b[0m\n\u001b[1;32m      1\u001b[0m \u001b[0;31m# ERROR\u001b[0m\u001b[0;34m\u001b[0m\u001b[0;34m\u001b[0m\u001b[0m\n\u001b[0;32m----> 2\u001b[0;31m \u001b[0marr\u001b[0m \u001b[0;34m=\u001b[0m \u001b[0mnp\u001b[0m\u001b[0;34m.\u001b[0m\u001b[0marray\u001b[0m\u001b[0;34m(\u001b[0m\u001b[0;34m[\u001b[0m\u001b[0;36m1\u001b[0m\u001b[0;34m+\u001b[0m\u001b[0;36m2j\u001b[0m\u001b[0;34m,\u001b[0m \u001b[0;36m3\u001b[0m\u001b[0;34m-\u001b[0m\u001b[0;36m4j\u001b[0m\u001b[0;34m]\u001b[0m\u001b[0;34m,\u001b[0m \u001b[0mdtype\u001b[0m\u001b[0;34m=\u001b[0m\u001b[0mnp\u001b[0m\u001b[0;34m.\u001b[0m\u001b[0mc8\u001b[0m\u001b[0;34m)\u001b[0m\u001b[0;34m\u001b[0m\u001b[0;34m\u001b[0m\u001b[0m\n\u001b[0m\u001b[1;32m      3\u001b[0m \u001b[0marr\u001b[0m\u001b[0;34m.\u001b[0m\u001b[0mdtype\u001b[0m\u001b[0;34m\u001b[0m\u001b[0;34m\u001b[0m\u001b[0m\n",
            "\u001b[0;32m/usr/local/lib/python3.11/dist-packages/numpy/__init__.py\u001b[0m in \u001b[0;36m__getattr__\u001b[0;34m(attr)\u001b[0m\n\u001b[1;32m    331\u001b[0m             \u001b[0;32mraise\u001b[0m \u001b[0mRuntimeError\u001b[0m\u001b[0;34m(\u001b[0m\u001b[0;34m\"Tester was removed in NumPy 1.25.\"\u001b[0m\u001b[0;34m)\u001b[0m\u001b[0;34m\u001b[0m\u001b[0;34m\u001b[0m\u001b[0m\n\u001b[1;32m    332\u001b[0m \u001b[0;34m\u001b[0m\u001b[0m\n\u001b[0;32m--> 333\u001b[0;31m         raise AttributeError(\"module {!r} has no attribute \"\n\u001b[0m\u001b[1;32m    334\u001b[0m                              \"{!r}\".format(__name__, attr))\n\u001b[1;32m    335\u001b[0m \u001b[0;34m\u001b[0m\u001b[0m\n",
            "\u001b[0;31mAttributeError\u001b[0m: module 'numpy' has no attribute 'c8'"
          ]
        }
      ]
    },
    {
      "cell_type": "markdown",
      "source": [
        "Type Conversion\n",
        "astype method: convert the data type of an array to other data types.\n",
        "\n",
        "Notice that astype returns a copy of the array instead of converting the data type in place. You need to assign the copy to the original array or a new array."
      ],
      "metadata": {
        "id": "imAMjht8rALh"
      }
    },
    {
      "cell_type": "code",
      "source": [
        "arr = np.array([1,2,3], dtype='int16')\n",
        "print('Original Data Type: ' + str(arr.dtype))\n",
        "\n",
        "arr = arr.astype(np.float32)\n",
        "print('Data Type After Conversion: ' + str(arr.dtype))"
      ],
      "metadata": {
        "colab": {
          "base_uri": "https://localhost:8080/"
        },
        "id": "1SWkNBxXrZQn",
        "outputId": "83367fd2-ab84-4942-9360-c6958607c692"
      },
      "execution_count": null,
      "outputs": [
        {
          "output_type": "stream",
          "name": "stdout",
          "text": [
            "Original Data Type: int16\n",
            "Data Type After Conversion: float32\n"
          ]
        }
      ]
    },
    {
      "cell_type": "markdown",
      "source": [
        "WARNING: be cautious about data overflow when you downcast the data type (from higher precision to lower precision). Some unexpected and undefined values might occur and it is usually difficult to debug such issues."
      ],
      "metadata": {
        "id": "brv4KutDrlTT"
      }
    },
    {
      "cell_type": "code",
      "source": [
        "# An example of integer overflow at downcasting\n",
        "arr = np.array([126,127,256], dtype='int16')\n",
        "print('np array before type conversion: ' + str(arr))\n",
        "\n",
        "# Range of int8 [-128, 127], 256 overflows after conversion\n",
        "arr = arr.astype('int8')\n",
        "print('np array after type conversion: ' + str(arr))"
      ],
      "metadata": {
        "colab": {
          "base_uri": "https://localhost:8080/"
        },
        "id": "yXq8aOTaroT2",
        "outputId": "1c4e65b2-0a76-480b-8f66-f70c042df8f1"
      },
      "execution_count": null,
      "outputs": [
        {
          "output_type": "stream",
          "name": "stdout",
          "text": [
            "np array before type conversion: [126 127 256]\n",
            "np array after type conversion: [126 127   0]\n"
          ]
        }
      ]
    },
    {
      "cell_type": "markdown",
      "source": [
        "String and Unicode Data Type\n",
        "The string_ and unicode_ data types are all implicitly fixed-length.\n",
        "\n",
        "The length of the string is given by their type code appended with a number. For example, S3 represents string of length 3; U10 represents unicode of length 10. Otherwise, the default length is the length of the longest string in the array.\n",
        "\n",
        "If the length of a string in the array is shorter than the length of the data type defined or converted to, the string will be truncated."
      ],
      "metadata": {
        "id": "O9DKlCVgr8My"
      }
    },
    {
      "cell_type": "code",
      "source": [
        "\n",
        "# An example of truncated string\n",
        "s = np.array(['abc', 'defg'], dtype='S3')\n",
        "print(s)\n",
        "\n",
        "# An example of truncated unicode\n",
        "s = np.array(['abcd', 'efghi'], dtype='U3')\n",
        "print(s)"
      ],
      "metadata": {
        "colab": {
          "base_uri": "https://localhost:8080/"
        },
        "id": "p0LJ8c2fsMr-",
        "outputId": "87ec4269-30ec-4f78-99e9-87325b5fb4d8"
      },
      "execution_count": null,
      "outputs": [
        {
          "output_type": "stream",
          "name": "stdout",
          "text": [
            "[b'abc' b'def']\n",
            "['abc' 'efg']\n"
          ]
        }
      ]
    },
    {
      "cell_type": "code",
      "source": [
        "arr = np.array(['a', 'ab', 'abc'], dtype=np.string_)\n",
        "print('The array is ' + str(arr))\n",
        "print('The data type is ' + str(arr.dtype) + ' because the longest string in the array is \"abc\" and its length is 3.')\n",
        "\n",
        "arr = np.array(['a', 'abc', 'abcd'], dtype=np.unicode_)\n",
        "print('The array is ' + str(arr))\n",
        "print('The data type is ' + str(arr.dtype) + ' because the longest unicode in the array is \"abcd\" and its length is 4.')"
      ],
      "metadata": {
        "colab": {
          "base_uri": "https://localhost:8080/"
        },
        "id": "qx8U1iv7sNdg",
        "outputId": "3d19680c-36ae-4d44-f43f-47f75f1ef594"
      },
      "execution_count": null,
      "outputs": [
        {
          "output_type": "stream",
          "name": "stdout",
          "text": [
            "The array is [b'a' b'ab' b'abc']\n",
            "The data type is |S3 because the longest string in the array is \"abc\" and its length is 3.\n",
            "The array is ['a' 'abc' 'abcd']\n",
            "The data type is <U4 because the longest unicode in the array is \"abcd\" and its length is 4.\n"
          ]
        }
      ]
    },
    {
      "cell_type": "markdown",
      "source": [
        "Create an array from an iterable\n",
        "Such as\n",
        "\n",
        "list\n",
        "\n",
        "tuple\n",
        "\n",
        "range iterator\n",
        "\n",
        "Notice that not all iterables can be used to create a numpy array, such as set and dict"
      ],
      "metadata": {
        "id": "xBJw08UCsSLY"
      }
    },
    {
      "cell_type": "code",
      "source": [
        "arr = np.array([1,2,3,4,5])\n",
        "print(arr)"
      ],
      "metadata": {
        "colab": {
          "base_uri": "https://localhost:8080/"
        },
        "id": "3hRe-_1RtGuD",
        "outputId": "860859a2-d6e8-4a45-cbc1-407a29dfce02"
      },
      "execution_count": null,
      "outputs": [
        {
          "output_type": "stream",
          "name": "stdout",
          "text": [
            "[1 2 3 4 5]\n"
          ]
        }
      ]
    },
    {
      "cell_type": "code",
      "source": [
        "arr = np.array((1,2,3,4,5))\n",
        "print(arr)"
      ],
      "metadata": {
        "colab": {
          "base_uri": "https://localhost:8080/"
        },
        "id": "wR_eNOyctJCf",
        "outputId": "866cf877-4549-4990-cd9c-c75a77097b21"
      },
      "execution_count": null,
      "outputs": [
        {
          "output_type": "stream",
          "name": "stdout",
          "text": [
            "[1 2 3 4 5]\n"
          ]
        }
      ]
    },
    {
      "cell_type": "code",
      "source": [
        "arr = np.array(range(10))\n",
        "print(arr)"
      ],
      "metadata": {
        "colab": {
          "base_uri": "https://localhost:8080/"
        },
        "id": "1FPUumFotKsr",
        "outputId": "321a3fd3-376b-44c5-d6d3-912b1f53e97b"
      },
      "execution_count": null,
      "outputs": [
        {
          "output_type": "stream",
          "name": "stdout",
          "text": [
            "[0 1 2 3 4 5 6 7 8 9]\n"
          ]
        }
      ]
    },
    {
      "cell_type": "markdown",
      "source": [
        "Create an array with specified data type"
      ],
      "metadata": {
        "id": "tEhTuNxXtOAs"
      }
    },
    {
      "cell_type": "code",
      "source": [
        "arr = np.array([[1,2,3], [4,5,6]], dtype='i2')\n",
        "print(arr)\n",
        "print('Data Type: ' + str(arr.dtype))"
      ],
      "metadata": {
        "colab": {
          "base_uri": "https://localhost:8080/"
        },
        "id": "g0nwlq-3tRQn",
        "outputId": "4531162a-699e-457f-f9ec-720c982ebf8c"
      },
      "execution_count": null,
      "outputs": [
        {
          "output_type": "stream",
          "name": "stdout",
          "text": [
            "[[1 2 3]\n",
            " [4 5 6]]\n",
            "Data Type: int16\n"
          ]
        }
      ]
    },
    {
      "cell_type": "markdown",
      "source": [
        "Create an aray within specified range \\\n",
        "np.arange() method can be used to replace np.array(range()) method"
      ],
      "metadata": {
        "id": "JRnK2W4ttVsJ"
      }
    },
    {
      "cell_type": "code",
      "source": [
        "# np.arange(start, stop, step)\n",
        "arr = np.arange(0, 20, 2)\n",
        "print(arr)"
      ],
      "metadata": {
        "colab": {
          "base_uri": "https://localhost:8080/"
        },
        "id": "XFhOr8fKteV4",
        "outputId": "6c2819c3-9c3f-47c2-db2e-f7e7cea0c822"
      },
      "execution_count": null,
      "outputs": [
        {
          "output_type": "stream",
          "name": "stdout",
          "text": [
            "[ 0  2  4  6  8 10 12 14 16 18]\n"
          ]
        }
      ]
    },
    {
      "cell_type": "markdown",
      "source": [
        "Create an array of evenly spaced numbers within specified range\n",
        "np.linspace(start, stop, num_of_elements, endpoint=True, retstep=False) has 5\n",
        "parameters:\n",
        "\n",
        "start: start number (inclusive) \\\n",
        "stop: end number (inclusive unless endpoint set to False) \\\n",
        "num_of_elements: number of elements contained in the array \\\n",
        "endpoint: boolean value representing whether the stop number is inclusive or not \\\n",
        "retstep: boolean value representing whether to return the step size"
      ],
      "metadata": {
        "id": "sMrhBcTktggu"
      }
    },
    {
      "cell_type": "code",
      "source": [
        "arr, step_size = np.linspace(0, 5, 8, endpoint=False, retstep=True)\n",
        "print(arr)\n",
        "print('The step size is ' + str(step_size))"
      ],
      "metadata": {
        "colab": {
          "base_uri": "https://localhost:8080/"
        },
        "id": "hZ74y_LYti4e",
        "outputId": "bcd188b0-024a-4e9a-938d-02f9abf7bc57"
      },
      "execution_count": null,
      "outputs": [
        {
          "output_type": "stream",
          "name": "stdout",
          "text": [
            "[0.    0.625 1.25  1.875 2.5   3.125 3.75  4.375]\n",
            "The step size is 0.625\n"
          ]
        }
      ]
    },
    {
      "cell_type": "markdown",
      "source": [
        "Create an array of random values of given shape\n",
        "np.random.rand() method returns values in the range [0,1)"
      ],
      "metadata": {
        "id": "XJ7b01lyt5PO"
      }
    },
    {
      "cell_type": "code",
      "source": [
        "arr = np.random.rand(3, 3)\n",
        "print(arr)"
      ],
      "metadata": {
        "colab": {
          "base_uri": "https://localhost:8080/"
        },
        "id": "3HuIvkx2uHRM",
        "outputId": "3b64dbe2-1a70-447a-e481-f38ff37f4d9f"
      },
      "execution_count": null,
      "outputs": [
        {
          "output_type": "stream",
          "name": "stdout",
          "text": [
            "[[0.88118799 0.694348   0.87219205]\n",
            " [0.88229357 0.57906044 0.83140587]\n",
            " [0.02211234 0.70500482 0.57218232]]\n"
          ]
        }
      ]
    },
    {
      "cell_type": "markdown",
      "source": [
        "Create an array of zeros of given shape \\\n",
        "\n",
        "np.zeros(): create array of all zeros in given shape \\\n",
        "np.zeros_like(): create array of all zeros with the same shape and data type as the given input array"
      ],
      "metadata": {
        "id": "anSts4BmuKoK"
      }
    },
    {
      "cell_type": "code",
      "source": [
        "import numpy as np\n",
        "import pandas as pd\n",
        "\n",
        "# Generate a 5X5 array with random values between 0 and 1\n",
        "random_array = np.random.rand(5,5)\n",
        "\n",
        "#print the randomly generated array of 5X5\n",
        "print(random_array)"
      ],
      "metadata": {
        "colab": {
          "base_uri": "https://localhost:8080/"
        },
        "id": "xh2GV1ZPcbmt",
        "outputId": "a353626a-1aaf-48a6-c7f5-86138a36d363"
      },
      "execution_count": 29,
      "outputs": [
        {
          "output_type": "stream",
          "name": "stdout",
          "text": [
            "[[0.94997842 0.86526444 0.68841642 0.98015932 0.62550575]\n",
            " [0.9139665  0.8244655  0.45360428 0.42603491 0.78621239]\n",
            " [0.21631082 0.25397593 0.80054287 0.32895958 0.516694  ]\n",
            " [0.54455894 0.60214757 0.54748836 0.46250365 0.3727329 ]\n",
            " [0.7567476  0.87662343 0.09422193 0.75049821 0.34010073]]\n"
          ]
        }
      ]
    },
    {
      "cell_type": "code",
      "source": [
        "# Generate a 5X5 array with random values between 0 and 1 with index from 2 to 11 and columns from list consisting Names\n",
        "df = pd.DataFrame(random_array,index=range(2,11,2),columns=list('ABCDE'))\n",
        "\n",
        "#print the data frame\n",
        "df"
      ],
      "metadata": {
        "colab": {
          "base_uri": "https://localhost:8080/",
          "height": 206
        },
        "id": "z-C1Fo66e_W5",
        "outputId": "25433205-0104-41a1-da59-aa06d7150dda"
      },
      "execution_count": 30,
      "outputs": [
        {
          "output_type": "execute_result",
          "data": {
            "text/plain": [
              "           A         B         C         D         E\n",
              "2   0.949978  0.865264  0.688416  0.980159  0.625506\n",
              "4   0.913966  0.824465  0.453604  0.426035  0.786212\n",
              "6   0.216311  0.253976  0.800543  0.328960  0.516694\n",
              "8   0.544559  0.602148  0.547488  0.462504  0.372733\n",
              "10  0.756748  0.876623  0.094222  0.750498  0.340101"
            ],
            "text/html": [
              "\n",
              "  <div id=\"df-66539613-98cd-419d-94d2-9b66783a15d7\" class=\"colab-df-container\">\n",
              "    <div>\n",
              "<style scoped>\n",
              "    .dataframe tbody tr th:only-of-type {\n",
              "        vertical-align: middle;\n",
              "    }\n",
              "\n",
              "    .dataframe tbody tr th {\n",
              "        vertical-align: top;\n",
              "    }\n",
              "\n",
              "    .dataframe thead th {\n",
              "        text-align: right;\n",
              "    }\n",
              "</style>\n",
              "<table border=\"1\" class=\"dataframe\">\n",
              "  <thead>\n",
              "    <tr style=\"text-align: right;\">\n",
              "      <th></th>\n",
              "      <th>A</th>\n",
              "      <th>B</th>\n",
              "      <th>C</th>\n",
              "      <th>D</th>\n",
              "      <th>E</th>\n",
              "    </tr>\n",
              "  </thead>\n",
              "  <tbody>\n",
              "    <tr>\n",
              "      <th>2</th>\n",
              "      <td>0.949978</td>\n",
              "      <td>0.865264</td>\n",
              "      <td>0.688416</td>\n",
              "      <td>0.980159</td>\n",
              "      <td>0.625506</td>\n",
              "    </tr>\n",
              "    <tr>\n",
              "      <th>4</th>\n",
              "      <td>0.913966</td>\n",
              "      <td>0.824465</td>\n",
              "      <td>0.453604</td>\n",
              "      <td>0.426035</td>\n",
              "      <td>0.786212</td>\n",
              "    </tr>\n",
              "    <tr>\n",
              "      <th>6</th>\n",
              "      <td>0.216311</td>\n",
              "      <td>0.253976</td>\n",
              "      <td>0.800543</td>\n",
              "      <td>0.328960</td>\n",
              "      <td>0.516694</td>\n",
              "    </tr>\n",
              "    <tr>\n",
              "      <th>8</th>\n",
              "      <td>0.544559</td>\n",
              "      <td>0.602148</td>\n",
              "      <td>0.547488</td>\n",
              "      <td>0.462504</td>\n",
              "      <td>0.372733</td>\n",
              "    </tr>\n",
              "    <tr>\n",
              "      <th>10</th>\n",
              "      <td>0.756748</td>\n",
              "      <td>0.876623</td>\n",
              "      <td>0.094222</td>\n",
              "      <td>0.750498</td>\n",
              "      <td>0.340101</td>\n",
              "    </tr>\n",
              "  </tbody>\n",
              "</table>\n",
              "</div>\n",
              "    <div class=\"colab-df-buttons\">\n",
              "\n",
              "  <div class=\"colab-df-container\">\n",
              "    <button class=\"colab-df-convert\" onclick=\"convertToInteractive('df-66539613-98cd-419d-94d2-9b66783a15d7')\"\n",
              "            title=\"Convert this dataframe to an interactive table.\"\n",
              "            style=\"display:none;\">\n",
              "\n",
              "  <svg xmlns=\"http://www.w3.org/2000/svg\" height=\"24px\" viewBox=\"0 -960 960 960\">\n",
              "    <path d=\"M120-120v-720h720v720H120Zm60-500h600v-160H180v160Zm220 220h160v-160H400v160Zm0 220h160v-160H400v160ZM180-400h160v-160H180v160Zm440 0h160v-160H620v160ZM180-180h160v-160H180v160Zm440 0h160v-160H620v160Z\"/>\n",
              "  </svg>\n",
              "    </button>\n",
              "\n",
              "  <style>\n",
              "    .colab-df-container {\n",
              "      display:flex;\n",
              "      gap: 12px;\n",
              "    }\n",
              "\n",
              "    .colab-df-convert {\n",
              "      background-color: #E8F0FE;\n",
              "      border: none;\n",
              "      border-radius: 50%;\n",
              "      cursor: pointer;\n",
              "      display: none;\n",
              "      fill: #1967D2;\n",
              "      height: 32px;\n",
              "      padding: 0 0 0 0;\n",
              "      width: 32px;\n",
              "    }\n",
              "\n",
              "    .colab-df-convert:hover {\n",
              "      background-color: #E2EBFA;\n",
              "      box-shadow: 0px 1px 2px rgba(60, 64, 67, 0.3), 0px 1px 3px 1px rgba(60, 64, 67, 0.15);\n",
              "      fill: #174EA6;\n",
              "    }\n",
              "\n",
              "    .colab-df-buttons div {\n",
              "      margin-bottom: 4px;\n",
              "    }\n",
              "\n",
              "    [theme=dark] .colab-df-convert {\n",
              "      background-color: #3B4455;\n",
              "      fill: #D2E3FC;\n",
              "    }\n",
              "\n",
              "    [theme=dark] .colab-df-convert:hover {\n",
              "      background-color: #434B5C;\n",
              "      box-shadow: 0px 1px 3px 1px rgba(0, 0, 0, 0.15);\n",
              "      filter: drop-shadow(0px 1px 2px rgba(0, 0, 0, 0.3));\n",
              "      fill: #FFFFFF;\n",
              "    }\n",
              "  </style>\n",
              "\n",
              "    <script>\n",
              "      const buttonEl =\n",
              "        document.querySelector('#df-66539613-98cd-419d-94d2-9b66783a15d7 button.colab-df-convert');\n",
              "      buttonEl.style.display =\n",
              "        google.colab.kernel.accessAllowed ? 'block' : 'none';\n",
              "\n",
              "      async function convertToInteractive(key) {\n",
              "        const element = document.querySelector('#df-66539613-98cd-419d-94d2-9b66783a15d7');\n",
              "        const dataTable =\n",
              "          await google.colab.kernel.invokeFunction('convertToInteractive',\n",
              "                                                    [key], {});\n",
              "        if (!dataTable) return;\n",
              "\n",
              "        const docLinkHtml = 'Like what you see? Visit the ' +\n",
              "          '<a target=\"_blank\" href=https://colab.research.google.com/notebooks/data_table.ipynb>data table notebook</a>'\n",
              "          + ' to learn more about interactive tables.';\n",
              "        element.innerHTML = '';\n",
              "        dataTable['output_type'] = 'display_data';\n",
              "        await google.colab.output.renderOutput(dataTable, element);\n",
              "        const docLink = document.createElement('div');\n",
              "        docLink.innerHTML = docLinkHtml;\n",
              "        element.appendChild(docLink);\n",
              "      }\n",
              "    </script>\n",
              "  </div>\n",
              "\n",
              "\n",
              "<div id=\"df-b39ae5cf-8381-4b8f-89c4-e2138d32c1e0\">\n",
              "  <button class=\"colab-df-quickchart\" onclick=\"quickchart('df-b39ae5cf-8381-4b8f-89c4-e2138d32c1e0')\"\n",
              "            title=\"Suggest charts\"\n",
              "            style=\"display:none;\">\n",
              "\n",
              "<svg xmlns=\"http://www.w3.org/2000/svg\" height=\"24px\"viewBox=\"0 0 24 24\"\n",
              "     width=\"24px\">\n",
              "    <g>\n",
              "        <path d=\"M19 3H5c-1.1 0-2 .9-2 2v14c0 1.1.9 2 2 2h14c1.1 0 2-.9 2-2V5c0-1.1-.9-2-2-2zM9 17H7v-7h2v7zm4 0h-2V7h2v10zm4 0h-2v-4h2v4z\"/>\n",
              "    </g>\n",
              "</svg>\n",
              "  </button>\n",
              "\n",
              "<style>\n",
              "  .colab-df-quickchart {\n",
              "      --bg-color: #E8F0FE;\n",
              "      --fill-color: #1967D2;\n",
              "      --hover-bg-color: #E2EBFA;\n",
              "      --hover-fill-color: #174EA6;\n",
              "      --disabled-fill-color: #AAA;\n",
              "      --disabled-bg-color: #DDD;\n",
              "  }\n",
              "\n",
              "  [theme=dark] .colab-df-quickchart {\n",
              "      --bg-color: #3B4455;\n",
              "      --fill-color: #D2E3FC;\n",
              "      --hover-bg-color: #434B5C;\n",
              "      --hover-fill-color: #FFFFFF;\n",
              "      --disabled-bg-color: #3B4455;\n",
              "      --disabled-fill-color: #666;\n",
              "  }\n",
              "\n",
              "  .colab-df-quickchart {\n",
              "    background-color: var(--bg-color);\n",
              "    border: none;\n",
              "    border-radius: 50%;\n",
              "    cursor: pointer;\n",
              "    display: none;\n",
              "    fill: var(--fill-color);\n",
              "    height: 32px;\n",
              "    padding: 0;\n",
              "    width: 32px;\n",
              "  }\n",
              "\n",
              "  .colab-df-quickchart:hover {\n",
              "    background-color: var(--hover-bg-color);\n",
              "    box-shadow: 0 1px 2px rgba(60, 64, 67, 0.3), 0 1px 3px 1px rgba(60, 64, 67, 0.15);\n",
              "    fill: var(--button-hover-fill-color);\n",
              "  }\n",
              "\n",
              "  .colab-df-quickchart-complete:disabled,\n",
              "  .colab-df-quickchart-complete:disabled:hover {\n",
              "    background-color: var(--disabled-bg-color);\n",
              "    fill: var(--disabled-fill-color);\n",
              "    box-shadow: none;\n",
              "  }\n",
              "\n",
              "  .colab-df-spinner {\n",
              "    border: 2px solid var(--fill-color);\n",
              "    border-color: transparent;\n",
              "    border-bottom-color: var(--fill-color);\n",
              "    animation:\n",
              "      spin 1s steps(1) infinite;\n",
              "  }\n",
              "\n",
              "  @keyframes spin {\n",
              "    0% {\n",
              "      border-color: transparent;\n",
              "      border-bottom-color: var(--fill-color);\n",
              "      border-left-color: var(--fill-color);\n",
              "    }\n",
              "    20% {\n",
              "      border-color: transparent;\n",
              "      border-left-color: var(--fill-color);\n",
              "      border-top-color: var(--fill-color);\n",
              "    }\n",
              "    30% {\n",
              "      border-color: transparent;\n",
              "      border-left-color: var(--fill-color);\n",
              "      border-top-color: var(--fill-color);\n",
              "      border-right-color: var(--fill-color);\n",
              "    }\n",
              "    40% {\n",
              "      border-color: transparent;\n",
              "      border-right-color: var(--fill-color);\n",
              "      border-top-color: var(--fill-color);\n",
              "    }\n",
              "    60% {\n",
              "      border-color: transparent;\n",
              "      border-right-color: var(--fill-color);\n",
              "    }\n",
              "    80% {\n",
              "      border-color: transparent;\n",
              "      border-right-color: var(--fill-color);\n",
              "      border-bottom-color: var(--fill-color);\n",
              "    }\n",
              "    90% {\n",
              "      border-color: transparent;\n",
              "      border-bottom-color: var(--fill-color);\n",
              "    }\n",
              "  }\n",
              "</style>\n",
              "\n",
              "  <script>\n",
              "    async function quickchart(key) {\n",
              "      const quickchartButtonEl =\n",
              "        document.querySelector('#' + key + ' button');\n",
              "      quickchartButtonEl.disabled = true;  // To prevent multiple clicks.\n",
              "      quickchartButtonEl.classList.add('colab-df-spinner');\n",
              "      try {\n",
              "        const charts = await google.colab.kernel.invokeFunction(\n",
              "            'suggestCharts', [key], {});\n",
              "      } catch (error) {\n",
              "        console.error('Error during call to suggestCharts:', error);\n",
              "      }\n",
              "      quickchartButtonEl.classList.remove('colab-df-spinner');\n",
              "      quickchartButtonEl.classList.add('colab-df-quickchart-complete');\n",
              "    }\n",
              "    (() => {\n",
              "      let quickchartButtonEl =\n",
              "        document.querySelector('#df-b39ae5cf-8381-4b8f-89c4-e2138d32c1e0 button');\n",
              "      quickchartButtonEl.style.display =\n",
              "        google.colab.kernel.accessAllowed ? 'block' : 'none';\n",
              "    })();\n",
              "  </script>\n",
              "</div>\n",
              "\n",
              "  <div id=\"id_af6c8f2b-2e6b-4b2f-ab8a-66b4297e51c2\">\n",
              "    <style>\n",
              "      .colab-df-generate {\n",
              "        background-color: #E8F0FE;\n",
              "        border: none;\n",
              "        border-radius: 50%;\n",
              "        cursor: pointer;\n",
              "        display: none;\n",
              "        fill: #1967D2;\n",
              "        height: 32px;\n",
              "        padding: 0 0 0 0;\n",
              "        width: 32px;\n",
              "      }\n",
              "\n",
              "      .colab-df-generate:hover {\n",
              "        background-color: #E2EBFA;\n",
              "        box-shadow: 0px 1px 2px rgba(60, 64, 67, 0.3), 0px 1px 3px 1px rgba(60, 64, 67, 0.15);\n",
              "        fill: #174EA6;\n",
              "      }\n",
              "\n",
              "      [theme=dark] .colab-df-generate {\n",
              "        background-color: #3B4455;\n",
              "        fill: #D2E3FC;\n",
              "      }\n",
              "\n",
              "      [theme=dark] .colab-df-generate:hover {\n",
              "        background-color: #434B5C;\n",
              "        box-shadow: 0px 1px 3px 1px rgba(0, 0, 0, 0.15);\n",
              "        filter: drop-shadow(0px 1px 2px rgba(0, 0, 0, 0.3));\n",
              "        fill: #FFFFFF;\n",
              "      }\n",
              "    </style>\n",
              "    <button class=\"colab-df-generate\" onclick=\"generateWithVariable('df')\"\n",
              "            title=\"Generate code using this dataframe.\"\n",
              "            style=\"display:none;\">\n",
              "\n",
              "  <svg xmlns=\"http://www.w3.org/2000/svg\" height=\"24px\"viewBox=\"0 0 24 24\"\n",
              "       width=\"24px\">\n",
              "    <path d=\"M7,19H8.4L18.45,9,17,7.55,7,17.6ZM5,21V16.75L18.45,3.32a2,2,0,0,1,2.83,0l1.4,1.43a1.91,1.91,0,0,1,.58,1.4,1.91,1.91,0,0,1-.58,1.4L9.25,21ZM18.45,9,17,7.55Zm-12,3A5.31,5.31,0,0,0,4.9,8.1,5.31,5.31,0,0,0,1,6.5,5.31,5.31,0,0,0,4.9,4.9,5.31,5.31,0,0,0,6.5,1,5.31,5.31,0,0,0,8.1,4.9,5.31,5.31,0,0,0,12,6.5,5.46,5.46,0,0,0,6.5,12Z\"/>\n",
              "  </svg>\n",
              "    </button>\n",
              "    <script>\n",
              "      (() => {\n",
              "      const buttonEl =\n",
              "        document.querySelector('#id_af6c8f2b-2e6b-4b2f-ab8a-66b4297e51c2 button.colab-df-generate');\n",
              "      buttonEl.style.display =\n",
              "        google.colab.kernel.accessAllowed ? 'block' : 'none';\n",
              "\n",
              "      buttonEl.onclick = () => {\n",
              "        google.colab.notebook.generateWithVariable('df');\n",
              "      }\n",
              "      })();\n",
              "    </script>\n",
              "  </div>\n",
              "\n",
              "    </div>\n",
              "  </div>\n"
            ],
            "application/vnd.google.colaboratory.intrinsic+json": {
              "type": "dataframe",
              "variable_name": "df",
              "summary": "{\n  \"name\": \"df\",\n  \"rows\": 5,\n  \"fields\": [\n    {\n      \"column\": \"A\",\n      \"properties\": {\n        \"dtype\": \"number\",\n        \"std\": 0.30282123792015286,\n        \"min\": 0.2163108243725287,\n        \"max\": 0.9499784237483694,\n        \"num_unique_values\": 5,\n        \"samples\": [\n          0.9139664983538206,\n          0.7567476004981732,\n          0.2163108243725287\n        ],\n        \"semantic_type\": \"\",\n        \"description\": \"\"\n      }\n    },\n    {\n      \"column\": \"B\",\n      \"properties\": {\n        \"dtype\": \"number\",\n        \"std\": 0.2651935310220372,\n        \"min\": 0.2539759257006481,\n        \"max\": 0.8766234295564085,\n        \"num_unique_values\": 5,\n        \"samples\": [\n          0.8244654979516732,\n          0.8766234295564085,\n          0.2539759257006481\n        ],\n        \"semantic_type\": \"\",\n        \"description\": \"\"\n      }\n    },\n    {\n      \"column\": \"C\",\n      \"properties\": {\n        \"dtype\": \"number\",\n        \"std\": 0.27086431229253655,\n        \"min\": 0.09422192718591405,\n        \"max\": 0.8005428743874127,\n        \"num_unique_values\": 5,\n        \"samples\": [\n          0.45360428322144186,\n          0.09422192718591405,\n          0.8005428743874127\n        ],\n        \"semantic_type\": \"\",\n        \"description\": \"\"\n      }\n    },\n    {\n      \"column\": \"D\",\n      \"properties\": {\n        \"dtype\": \"number\",\n        \"std\": 0.26891693076010476,\n        \"min\": 0.32895957961771827,\n        \"max\": 0.9801593199995338,\n        \"num_unique_values\": 5,\n        \"samples\": [\n          0.4260349098920355,\n          0.7504982146969427,\n          0.32895957961771827\n        ],\n        \"semantic_type\": \"\",\n        \"description\": \"\"\n      }\n    },\n    {\n      \"column\": \"E\",\n      \"properties\": {\n        \"dtype\": \"number\",\n        \"std\": 0.1842026984427458,\n        \"min\": 0.3401007307142475,\n        \"max\": 0.7862123940402078,\n        \"num_unique_values\": 5,\n        \"samples\": [\n          0.7862123940402078,\n          0.3401007307142475,\n          0.5166939966564433\n        ],\n        \"semantic_type\": \"\",\n        \"description\": \"\"\n      }\n    }\n  ]\n}"
            }
          },
          "metadata": {},
          "execution_count": 30
        }
      ]
    },
    {
      "cell_type": "code",
      "source": [
        "# Reshape the array into a single dimension\n",
        "flattened_array = random_array.reshape(-1)\n",
        "\n",
        "# Print the flattened array\n",
        "print(flattened_array)"
      ],
      "metadata": {
        "colab": {
          "base_uri": "https://localhost:8080/"
        },
        "id": "QR54YJk6ffqz",
        "outputId": "bc0262b2-0688-4039-9241-434aa15831aa"
      },
      "execution_count": 31,
      "outputs": [
        {
          "output_type": "stream",
          "name": "stdout",
          "text": [
            "[0.94997842 0.86526444 0.68841642 0.98015932 0.62550575 0.9139665\n",
            " 0.8244655  0.45360428 0.42603491 0.78621239 0.21631082 0.25397593\n",
            " 0.80054287 0.32895958 0.516694   0.54455894 0.60214757 0.54748836\n",
            " 0.46250365 0.3727329  0.7567476  0.87662343 0.09422193 0.75049821\n",
            " 0.34010073]\n"
          ]
        }
      ]
    },
    {
      "cell_type": "code",
      "source": [
        "# Reshape the flattened array back to 5X5\n",
        "to_original_shape = flattened_array.reshape(5,5)\n",
        "\n",
        "## Generate a 5X5 array with random values between 0 and 1 with index from 1 to 10 and columns from list consisting Names\n",
        "df = pd.DataFrame(to_original_shape,index=range(1,11,2),columns=tuple('EDCBA'))\n",
        "\n",
        "# print the dataframe\n",
        "df"
      ],
      "metadata": {
        "colab": {
          "base_uri": "https://localhost:8080/",
          "height": 206
        },
        "id": "IRHfjXlYiHoH",
        "outputId": "a3bb7d13-a1c1-435c-fe5b-7f7e1791e970"
      },
      "execution_count": 32,
      "outputs": [
        {
          "output_type": "execute_result",
          "data": {
            "text/plain": [
              "          E         D         C         B         A\n",
              "1  0.949978  0.865264  0.688416  0.980159  0.625506\n",
              "3  0.913966  0.824465  0.453604  0.426035  0.786212\n",
              "5  0.216311  0.253976  0.800543  0.328960  0.516694\n",
              "7  0.544559  0.602148  0.547488  0.462504  0.372733\n",
              "9  0.756748  0.876623  0.094222  0.750498  0.340101"
            ],
            "text/html": [
              "\n",
              "  <div id=\"df-804bf63a-1d5a-4c9b-97c9-ea41d0a77ccb\" class=\"colab-df-container\">\n",
              "    <div>\n",
              "<style scoped>\n",
              "    .dataframe tbody tr th:only-of-type {\n",
              "        vertical-align: middle;\n",
              "    }\n",
              "\n",
              "    .dataframe tbody tr th {\n",
              "        vertical-align: top;\n",
              "    }\n",
              "\n",
              "    .dataframe thead th {\n",
              "        text-align: right;\n",
              "    }\n",
              "</style>\n",
              "<table border=\"1\" class=\"dataframe\">\n",
              "  <thead>\n",
              "    <tr style=\"text-align: right;\">\n",
              "      <th></th>\n",
              "      <th>E</th>\n",
              "      <th>D</th>\n",
              "      <th>C</th>\n",
              "      <th>B</th>\n",
              "      <th>A</th>\n",
              "    </tr>\n",
              "  </thead>\n",
              "  <tbody>\n",
              "    <tr>\n",
              "      <th>1</th>\n",
              "      <td>0.949978</td>\n",
              "      <td>0.865264</td>\n",
              "      <td>0.688416</td>\n",
              "      <td>0.980159</td>\n",
              "      <td>0.625506</td>\n",
              "    </tr>\n",
              "    <tr>\n",
              "      <th>3</th>\n",
              "      <td>0.913966</td>\n",
              "      <td>0.824465</td>\n",
              "      <td>0.453604</td>\n",
              "      <td>0.426035</td>\n",
              "      <td>0.786212</td>\n",
              "    </tr>\n",
              "    <tr>\n",
              "      <th>5</th>\n",
              "      <td>0.216311</td>\n",
              "      <td>0.253976</td>\n",
              "      <td>0.800543</td>\n",
              "      <td>0.328960</td>\n",
              "      <td>0.516694</td>\n",
              "    </tr>\n",
              "    <tr>\n",
              "      <th>7</th>\n",
              "      <td>0.544559</td>\n",
              "      <td>0.602148</td>\n",
              "      <td>0.547488</td>\n",
              "      <td>0.462504</td>\n",
              "      <td>0.372733</td>\n",
              "    </tr>\n",
              "    <tr>\n",
              "      <th>9</th>\n",
              "      <td>0.756748</td>\n",
              "      <td>0.876623</td>\n",
              "      <td>0.094222</td>\n",
              "      <td>0.750498</td>\n",
              "      <td>0.340101</td>\n",
              "    </tr>\n",
              "  </tbody>\n",
              "</table>\n",
              "</div>\n",
              "    <div class=\"colab-df-buttons\">\n",
              "\n",
              "  <div class=\"colab-df-container\">\n",
              "    <button class=\"colab-df-convert\" onclick=\"convertToInteractive('df-804bf63a-1d5a-4c9b-97c9-ea41d0a77ccb')\"\n",
              "            title=\"Convert this dataframe to an interactive table.\"\n",
              "            style=\"display:none;\">\n",
              "\n",
              "  <svg xmlns=\"http://www.w3.org/2000/svg\" height=\"24px\" viewBox=\"0 -960 960 960\">\n",
              "    <path d=\"M120-120v-720h720v720H120Zm60-500h600v-160H180v160Zm220 220h160v-160H400v160Zm0 220h160v-160H400v160ZM180-400h160v-160H180v160Zm440 0h160v-160H620v160ZM180-180h160v-160H180v160Zm440 0h160v-160H620v160Z\"/>\n",
              "  </svg>\n",
              "    </button>\n",
              "\n",
              "  <style>\n",
              "    .colab-df-container {\n",
              "      display:flex;\n",
              "      gap: 12px;\n",
              "    }\n",
              "\n",
              "    .colab-df-convert {\n",
              "      background-color: #E8F0FE;\n",
              "      border: none;\n",
              "      border-radius: 50%;\n",
              "      cursor: pointer;\n",
              "      display: none;\n",
              "      fill: #1967D2;\n",
              "      height: 32px;\n",
              "      padding: 0 0 0 0;\n",
              "      width: 32px;\n",
              "    }\n",
              "\n",
              "    .colab-df-convert:hover {\n",
              "      background-color: #E2EBFA;\n",
              "      box-shadow: 0px 1px 2px rgba(60, 64, 67, 0.3), 0px 1px 3px 1px rgba(60, 64, 67, 0.15);\n",
              "      fill: #174EA6;\n",
              "    }\n",
              "\n",
              "    .colab-df-buttons div {\n",
              "      margin-bottom: 4px;\n",
              "    }\n",
              "\n",
              "    [theme=dark] .colab-df-convert {\n",
              "      background-color: #3B4455;\n",
              "      fill: #D2E3FC;\n",
              "    }\n",
              "\n",
              "    [theme=dark] .colab-df-convert:hover {\n",
              "      background-color: #434B5C;\n",
              "      box-shadow: 0px 1px 3px 1px rgba(0, 0, 0, 0.15);\n",
              "      filter: drop-shadow(0px 1px 2px rgba(0, 0, 0, 0.3));\n",
              "      fill: #FFFFFF;\n",
              "    }\n",
              "  </style>\n",
              "\n",
              "    <script>\n",
              "      const buttonEl =\n",
              "        document.querySelector('#df-804bf63a-1d5a-4c9b-97c9-ea41d0a77ccb button.colab-df-convert');\n",
              "      buttonEl.style.display =\n",
              "        google.colab.kernel.accessAllowed ? 'block' : 'none';\n",
              "\n",
              "      async function convertToInteractive(key) {\n",
              "        const element = document.querySelector('#df-804bf63a-1d5a-4c9b-97c9-ea41d0a77ccb');\n",
              "        const dataTable =\n",
              "          await google.colab.kernel.invokeFunction('convertToInteractive',\n",
              "                                                    [key], {});\n",
              "        if (!dataTable) return;\n",
              "\n",
              "        const docLinkHtml = 'Like what you see? Visit the ' +\n",
              "          '<a target=\"_blank\" href=https://colab.research.google.com/notebooks/data_table.ipynb>data table notebook</a>'\n",
              "          + ' to learn more about interactive tables.';\n",
              "        element.innerHTML = '';\n",
              "        dataTable['output_type'] = 'display_data';\n",
              "        await google.colab.output.renderOutput(dataTable, element);\n",
              "        const docLink = document.createElement('div');\n",
              "        docLink.innerHTML = docLinkHtml;\n",
              "        element.appendChild(docLink);\n",
              "      }\n",
              "    </script>\n",
              "  </div>\n",
              "\n",
              "\n",
              "<div id=\"df-9001ca60-35af-4b0b-9b77-30fa9792fe65\">\n",
              "  <button class=\"colab-df-quickchart\" onclick=\"quickchart('df-9001ca60-35af-4b0b-9b77-30fa9792fe65')\"\n",
              "            title=\"Suggest charts\"\n",
              "            style=\"display:none;\">\n",
              "\n",
              "<svg xmlns=\"http://www.w3.org/2000/svg\" height=\"24px\"viewBox=\"0 0 24 24\"\n",
              "     width=\"24px\">\n",
              "    <g>\n",
              "        <path d=\"M19 3H5c-1.1 0-2 .9-2 2v14c0 1.1.9 2 2 2h14c1.1 0 2-.9 2-2V5c0-1.1-.9-2-2-2zM9 17H7v-7h2v7zm4 0h-2V7h2v10zm4 0h-2v-4h2v4z\"/>\n",
              "    </g>\n",
              "</svg>\n",
              "  </button>\n",
              "\n",
              "<style>\n",
              "  .colab-df-quickchart {\n",
              "      --bg-color: #E8F0FE;\n",
              "      --fill-color: #1967D2;\n",
              "      --hover-bg-color: #E2EBFA;\n",
              "      --hover-fill-color: #174EA6;\n",
              "      --disabled-fill-color: #AAA;\n",
              "      --disabled-bg-color: #DDD;\n",
              "  }\n",
              "\n",
              "  [theme=dark] .colab-df-quickchart {\n",
              "      --bg-color: #3B4455;\n",
              "      --fill-color: #D2E3FC;\n",
              "      --hover-bg-color: #434B5C;\n",
              "      --hover-fill-color: #FFFFFF;\n",
              "      --disabled-bg-color: #3B4455;\n",
              "      --disabled-fill-color: #666;\n",
              "  }\n",
              "\n",
              "  .colab-df-quickchart {\n",
              "    background-color: var(--bg-color);\n",
              "    border: none;\n",
              "    border-radius: 50%;\n",
              "    cursor: pointer;\n",
              "    display: none;\n",
              "    fill: var(--fill-color);\n",
              "    height: 32px;\n",
              "    padding: 0;\n",
              "    width: 32px;\n",
              "  }\n",
              "\n",
              "  .colab-df-quickchart:hover {\n",
              "    background-color: var(--hover-bg-color);\n",
              "    box-shadow: 0 1px 2px rgba(60, 64, 67, 0.3), 0 1px 3px 1px rgba(60, 64, 67, 0.15);\n",
              "    fill: var(--button-hover-fill-color);\n",
              "  }\n",
              "\n",
              "  .colab-df-quickchart-complete:disabled,\n",
              "  .colab-df-quickchart-complete:disabled:hover {\n",
              "    background-color: var(--disabled-bg-color);\n",
              "    fill: var(--disabled-fill-color);\n",
              "    box-shadow: none;\n",
              "  }\n",
              "\n",
              "  .colab-df-spinner {\n",
              "    border: 2px solid var(--fill-color);\n",
              "    border-color: transparent;\n",
              "    border-bottom-color: var(--fill-color);\n",
              "    animation:\n",
              "      spin 1s steps(1) infinite;\n",
              "  }\n",
              "\n",
              "  @keyframes spin {\n",
              "    0% {\n",
              "      border-color: transparent;\n",
              "      border-bottom-color: var(--fill-color);\n",
              "      border-left-color: var(--fill-color);\n",
              "    }\n",
              "    20% {\n",
              "      border-color: transparent;\n",
              "      border-left-color: var(--fill-color);\n",
              "      border-top-color: var(--fill-color);\n",
              "    }\n",
              "    30% {\n",
              "      border-color: transparent;\n",
              "      border-left-color: var(--fill-color);\n",
              "      border-top-color: var(--fill-color);\n",
              "      border-right-color: var(--fill-color);\n",
              "    }\n",
              "    40% {\n",
              "      border-color: transparent;\n",
              "      border-right-color: var(--fill-color);\n",
              "      border-top-color: var(--fill-color);\n",
              "    }\n",
              "    60% {\n",
              "      border-color: transparent;\n",
              "      border-right-color: var(--fill-color);\n",
              "    }\n",
              "    80% {\n",
              "      border-color: transparent;\n",
              "      border-right-color: var(--fill-color);\n",
              "      border-bottom-color: var(--fill-color);\n",
              "    }\n",
              "    90% {\n",
              "      border-color: transparent;\n",
              "      border-bottom-color: var(--fill-color);\n",
              "    }\n",
              "  }\n",
              "</style>\n",
              "\n",
              "  <script>\n",
              "    async function quickchart(key) {\n",
              "      const quickchartButtonEl =\n",
              "        document.querySelector('#' + key + ' button');\n",
              "      quickchartButtonEl.disabled = true;  // To prevent multiple clicks.\n",
              "      quickchartButtonEl.classList.add('colab-df-spinner');\n",
              "      try {\n",
              "        const charts = await google.colab.kernel.invokeFunction(\n",
              "            'suggestCharts', [key], {});\n",
              "      } catch (error) {\n",
              "        console.error('Error during call to suggestCharts:', error);\n",
              "      }\n",
              "      quickchartButtonEl.classList.remove('colab-df-spinner');\n",
              "      quickchartButtonEl.classList.add('colab-df-quickchart-complete');\n",
              "    }\n",
              "    (() => {\n",
              "      let quickchartButtonEl =\n",
              "        document.querySelector('#df-9001ca60-35af-4b0b-9b77-30fa9792fe65 button');\n",
              "      quickchartButtonEl.style.display =\n",
              "        google.colab.kernel.accessAllowed ? 'block' : 'none';\n",
              "    })();\n",
              "  </script>\n",
              "</div>\n",
              "\n",
              "  <div id=\"id_e179c983-f478-475a-9e11-bce226c6f28b\">\n",
              "    <style>\n",
              "      .colab-df-generate {\n",
              "        background-color: #E8F0FE;\n",
              "        border: none;\n",
              "        border-radius: 50%;\n",
              "        cursor: pointer;\n",
              "        display: none;\n",
              "        fill: #1967D2;\n",
              "        height: 32px;\n",
              "        padding: 0 0 0 0;\n",
              "        width: 32px;\n",
              "      }\n",
              "\n",
              "      .colab-df-generate:hover {\n",
              "        background-color: #E2EBFA;\n",
              "        box-shadow: 0px 1px 2px rgba(60, 64, 67, 0.3), 0px 1px 3px 1px rgba(60, 64, 67, 0.15);\n",
              "        fill: #174EA6;\n",
              "      }\n",
              "\n",
              "      [theme=dark] .colab-df-generate {\n",
              "        background-color: #3B4455;\n",
              "        fill: #D2E3FC;\n",
              "      }\n",
              "\n",
              "      [theme=dark] .colab-df-generate:hover {\n",
              "        background-color: #434B5C;\n",
              "        box-shadow: 0px 1px 3px 1px rgba(0, 0, 0, 0.15);\n",
              "        filter: drop-shadow(0px 1px 2px rgba(0, 0, 0, 0.3));\n",
              "        fill: #FFFFFF;\n",
              "      }\n",
              "    </style>\n",
              "    <button class=\"colab-df-generate\" onclick=\"generateWithVariable('df')\"\n",
              "            title=\"Generate code using this dataframe.\"\n",
              "            style=\"display:none;\">\n",
              "\n",
              "  <svg xmlns=\"http://www.w3.org/2000/svg\" height=\"24px\"viewBox=\"0 0 24 24\"\n",
              "       width=\"24px\">\n",
              "    <path d=\"M7,19H8.4L18.45,9,17,7.55,7,17.6ZM5,21V16.75L18.45,3.32a2,2,0,0,1,2.83,0l1.4,1.43a1.91,1.91,0,0,1,.58,1.4,1.91,1.91,0,0,1-.58,1.4L9.25,21ZM18.45,9,17,7.55Zm-12,3A5.31,5.31,0,0,0,4.9,8.1,5.31,5.31,0,0,0,1,6.5,5.31,5.31,0,0,0,4.9,4.9,5.31,5.31,0,0,0,6.5,1,5.31,5.31,0,0,0,8.1,4.9,5.31,5.31,0,0,0,12,6.5,5.46,5.46,0,0,0,6.5,12Z\"/>\n",
              "  </svg>\n",
              "    </button>\n",
              "    <script>\n",
              "      (() => {\n",
              "      const buttonEl =\n",
              "        document.querySelector('#id_e179c983-f478-475a-9e11-bce226c6f28b button.colab-df-generate');\n",
              "      buttonEl.style.display =\n",
              "        google.colab.kernel.accessAllowed ? 'block' : 'none';\n",
              "\n",
              "      buttonEl.onclick = () => {\n",
              "        google.colab.notebook.generateWithVariable('df');\n",
              "      }\n",
              "      })();\n",
              "    </script>\n",
              "  </div>\n",
              "\n",
              "    </div>\n",
              "  </div>\n"
            ],
            "application/vnd.google.colaboratory.intrinsic+json": {
              "type": "dataframe",
              "variable_name": "df",
              "summary": "{\n  \"name\": \"df\",\n  \"rows\": 5,\n  \"fields\": [\n    {\n      \"column\": \"E\",\n      \"properties\": {\n        \"dtype\": \"number\",\n        \"std\": 0.30282123792015286,\n        \"min\": 0.2163108243725287,\n        \"max\": 0.9499784237483694,\n        \"num_unique_values\": 5,\n        \"samples\": [\n          0.9139664983538206,\n          0.7567476004981732,\n          0.2163108243725287\n        ],\n        \"semantic_type\": \"\",\n        \"description\": \"\"\n      }\n    },\n    {\n      \"column\": \"D\",\n      \"properties\": {\n        \"dtype\": \"number\",\n        \"std\": 0.2651935310220372,\n        \"min\": 0.2539759257006481,\n        \"max\": 0.8766234295564085,\n        \"num_unique_values\": 5,\n        \"samples\": [\n          0.8244654979516732,\n          0.8766234295564085,\n          0.2539759257006481\n        ],\n        \"semantic_type\": \"\",\n        \"description\": \"\"\n      }\n    },\n    {\n      \"column\": \"C\",\n      \"properties\": {\n        \"dtype\": \"number\",\n        \"std\": 0.27086431229253655,\n        \"min\": 0.09422192718591405,\n        \"max\": 0.8005428743874127,\n        \"num_unique_values\": 5,\n        \"samples\": [\n          0.45360428322144186,\n          0.09422192718591405,\n          0.8005428743874127\n        ],\n        \"semantic_type\": \"\",\n        \"description\": \"\"\n      }\n    },\n    {\n      \"column\": \"B\",\n      \"properties\": {\n        \"dtype\": \"number\",\n        \"std\": 0.26891693076010476,\n        \"min\": 0.32895957961771827,\n        \"max\": 0.9801593199995338,\n        \"num_unique_values\": 5,\n        \"samples\": [\n          0.4260349098920355,\n          0.7504982146969427,\n          0.32895957961771827\n        ],\n        \"semantic_type\": \"\",\n        \"description\": \"\"\n      }\n    },\n    {\n      \"column\": \"A\",\n      \"properties\": {\n        \"dtype\": \"number\",\n        \"std\": 0.1842026984427458,\n        \"min\": 0.3401007307142475,\n        \"max\": 0.7862123940402078,\n        \"num_unique_values\": 5,\n        \"samples\": [\n          0.7862123940402078,\n          0.3401007307142475,\n          0.5166939966564433\n        ],\n        \"semantic_type\": \"\",\n        \"description\": \"\"\n      }\n    }\n  ]\n}"
            }
          },
          "metadata": {},
          "execution_count": 32
        }
      ]
    },
    {
      "cell_type": "code",
      "source": [
        "# Flatten the array into a single dimension\n",
        "flattened_array = random_array.flatten()\n",
        "\n",
        "# Print the flattened array\n",
        "print(flattened_array)"
      ],
      "metadata": {
        "colab": {
          "base_uri": "https://localhost:8080/"
        },
        "id": "zhmAW1RoiXO0",
        "outputId": "f7fa3759-d6e5-4116-bfed-e581d39439cf"
      },
      "execution_count": 33,
      "outputs": [
        {
          "output_type": "stream",
          "name": "stdout",
          "text": [
            "[0.94997842 0.86526444 0.68841642 0.98015932 0.62550575 0.9139665\n",
            " 0.8244655  0.45360428 0.42603491 0.78621239 0.21631082 0.25397593\n",
            " 0.80054287 0.32895958 0.516694   0.54455894 0.60214757 0.54748836\n",
            " 0.46250365 0.3727329  0.7567476  0.87662343 0.09422193 0.75049821\n",
            " 0.34010073]\n"
          ]
        }
      ]
    },
    {
      "cell_type": "code",
      "source": [
        "!pip install faker[india]"
      ],
      "metadata": {
        "colab": {
          "base_uri": "https://localhost:8080/"
        },
        "id": "ZG_f3h-hmG2e",
        "outputId": "5fc158fe-9c07-4bcf-e4b3-ad73132f4cd2"
      },
      "execution_count": 37,
      "outputs": [
        {
          "output_type": "stream",
          "name": "stdout",
          "text": [
            "Requirement already satisfied: faker[india] in /usr/local/lib/python3.11/dist-packages (36.1.1)\n",
            "\u001b[33mWARNING: faker 36.1.1 does not provide the extra 'india'\u001b[0m\u001b[33m\n",
            "\u001b[0mRequirement already satisfied: tzdata in /usr/local/lib/python3.11/dist-packages (from faker[india]) (2025.1)\n"
          ]
        }
      ]
    },
    {
      "cell_type": "code",
      "source": [
        "import numpy as np\n",
        "import pandas as pd\n",
        "from faker import Faker\n",
        "\n",
        "# Initialize Faker for name generation\n",
        "fake = Faker('en_IN')  # Specify 'en_IN' for Indian English\n",
        "\n",
        "# Define number of records\n",
        "num_records = 300\n",
        "\n",
        "# Generate random data using NumPy\n",
        "student_id = np.arange(1, num_records + 1)  # Student IDs\n",
        "age = np.random.randint(18, 25, size=num_records)  # Age between 18 and 24\n",
        "gender = np.random.choice(['Male', 'Female'], size=num_records)  # Gender\n",
        "grade = np.random.choice(['A', 'B', 'C', 'D', 'F'], size=num_records, p=[0.2, 0.3, 0.3, 0.15, 0.05])  # Grades with probabilities\n",
        "score1 = np.random.randn(num_records) * 10 + 70  # Score 1 (normal distribution)\n",
        "score2 = np.random.randn(num_records) * 10 + 70  # Score 2 (normal distribution)\n",
        "score3 = np.random.randn(num_records) * 10 + 70  # Score 3 (normal distribution)\n",
        "\n",
        "# Generate Indian names using Faker\n",
        "names = [fake.name() for _ in range(num_records)]\n",
        "\n",
        "# Generate Indian cities using Faker\n",
        "city = [fake.city() for _ in range(num_records)]\n",
        "\n",
        "# Generate Indian addresses using Faker\n",
        "address = [fake.address().replace('\\n', ' ') for _ in range(num_records)]\n",
        "\n",
        "# Create a Pandas DataFrame\n",
        "df = pd.DataFrame({\n",
        "    'StudentID': student_id,\n",
        "    'Name': names,\n",
        "    'Age': age,\n",
        "    'Gender': gender,\n",
        "    'Grade': grade,\n",
        "    'Score1': score1,\n",
        "    'Score2': score2,\n",
        "    'Score3': score3,\n",
        "    'City': city,\n",
        "    'Address': address\n",
        "})\n",
        "\n",
        "# Print the DataFrame\n",
        "df.head()"
      ],
      "metadata": {
        "colab": {
          "base_uri": "https://localhost:8080/",
          "height": 206
        },
        "id": "N-xhzWXomI9H",
        "outputId": "4764bb62-198f-4804-ae58-f95ecf43117a"
      },
      "execution_count": 38,
      "outputs": [
        {
          "output_type": "execute_result",
          "data": {
            "text/plain": [
              "   StudentID              Name  Age  Gender Grade     Score1     Score2  \\\n",
              "0          1       Lohit Golla   20    Male     B  68.485466  62.723625   \n",
              "1          2   Yamini Yohannan   18    Male     B  70.805411  65.819673   \n",
              "2          3       Triya Gopal   20  Female     C  79.655417  82.333836   \n",
              "3          4  Champak Deshmukh   24  Female     B  65.574213  45.543566   \n",
              "4          5      Samar Thaker   19  Female     A  75.423740  62.523475   \n",
              "\n",
              "      Score3          City                                   Address  \n",
              "0  65.119350     Ahmedabad      18 Rastogi Ganj, North Dumdum 322239  \n",
              "1  74.315888    Gandhidham             842 Gopal Path, Hospet 528518  \n",
              "2  78.528221  Tiruvottiyur  H.No. 651, Bhakta Marg, Moradabad-011851  \n",
              "3  72.487622  Secunderabad      H.No. 123 Manne Zila, Gurgaon-791161  \n",
              "4  74.862938          Agra        935, Yogi Chowk, Vijayawada-435113  "
            ],
            "text/html": [
              "\n",
              "  <div id=\"df-07d2d085-b323-47fb-a0b8-0d92f0254956\" class=\"colab-df-container\">\n",
              "    <div>\n",
              "<style scoped>\n",
              "    .dataframe tbody tr th:only-of-type {\n",
              "        vertical-align: middle;\n",
              "    }\n",
              "\n",
              "    .dataframe tbody tr th {\n",
              "        vertical-align: top;\n",
              "    }\n",
              "\n",
              "    .dataframe thead th {\n",
              "        text-align: right;\n",
              "    }\n",
              "</style>\n",
              "<table border=\"1\" class=\"dataframe\">\n",
              "  <thead>\n",
              "    <tr style=\"text-align: right;\">\n",
              "      <th></th>\n",
              "      <th>StudentID</th>\n",
              "      <th>Name</th>\n",
              "      <th>Age</th>\n",
              "      <th>Gender</th>\n",
              "      <th>Grade</th>\n",
              "      <th>Score1</th>\n",
              "      <th>Score2</th>\n",
              "      <th>Score3</th>\n",
              "      <th>City</th>\n",
              "      <th>Address</th>\n",
              "    </tr>\n",
              "  </thead>\n",
              "  <tbody>\n",
              "    <tr>\n",
              "      <th>0</th>\n",
              "      <td>1</td>\n",
              "      <td>Lohit Golla</td>\n",
              "      <td>20</td>\n",
              "      <td>Male</td>\n",
              "      <td>B</td>\n",
              "      <td>68.485466</td>\n",
              "      <td>62.723625</td>\n",
              "      <td>65.119350</td>\n",
              "      <td>Ahmedabad</td>\n",
              "      <td>18 Rastogi Ganj, North Dumdum 322239</td>\n",
              "    </tr>\n",
              "    <tr>\n",
              "      <th>1</th>\n",
              "      <td>2</td>\n",
              "      <td>Yamini Yohannan</td>\n",
              "      <td>18</td>\n",
              "      <td>Male</td>\n",
              "      <td>B</td>\n",
              "      <td>70.805411</td>\n",
              "      <td>65.819673</td>\n",
              "      <td>74.315888</td>\n",
              "      <td>Gandhidham</td>\n",
              "      <td>842 Gopal Path, Hospet 528518</td>\n",
              "    </tr>\n",
              "    <tr>\n",
              "      <th>2</th>\n",
              "      <td>3</td>\n",
              "      <td>Triya Gopal</td>\n",
              "      <td>20</td>\n",
              "      <td>Female</td>\n",
              "      <td>C</td>\n",
              "      <td>79.655417</td>\n",
              "      <td>82.333836</td>\n",
              "      <td>78.528221</td>\n",
              "      <td>Tiruvottiyur</td>\n",
              "      <td>H.No. 651, Bhakta Marg, Moradabad-011851</td>\n",
              "    </tr>\n",
              "    <tr>\n",
              "      <th>3</th>\n",
              "      <td>4</td>\n",
              "      <td>Champak Deshmukh</td>\n",
              "      <td>24</td>\n",
              "      <td>Female</td>\n",
              "      <td>B</td>\n",
              "      <td>65.574213</td>\n",
              "      <td>45.543566</td>\n",
              "      <td>72.487622</td>\n",
              "      <td>Secunderabad</td>\n",
              "      <td>H.No. 123 Manne Zila, Gurgaon-791161</td>\n",
              "    </tr>\n",
              "    <tr>\n",
              "      <th>4</th>\n",
              "      <td>5</td>\n",
              "      <td>Samar Thaker</td>\n",
              "      <td>19</td>\n",
              "      <td>Female</td>\n",
              "      <td>A</td>\n",
              "      <td>75.423740</td>\n",
              "      <td>62.523475</td>\n",
              "      <td>74.862938</td>\n",
              "      <td>Agra</td>\n",
              "      <td>935, Yogi Chowk, Vijayawada-435113</td>\n",
              "    </tr>\n",
              "  </tbody>\n",
              "</table>\n",
              "</div>\n",
              "    <div class=\"colab-df-buttons\">\n",
              "\n",
              "  <div class=\"colab-df-container\">\n",
              "    <button class=\"colab-df-convert\" onclick=\"convertToInteractive('df-07d2d085-b323-47fb-a0b8-0d92f0254956')\"\n",
              "            title=\"Convert this dataframe to an interactive table.\"\n",
              "            style=\"display:none;\">\n",
              "\n",
              "  <svg xmlns=\"http://www.w3.org/2000/svg\" height=\"24px\" viewBox=\"0 -960 960 960\">\n",
              "    <path d=\"M120-120v-720h720v720H120Zm60-500h600v-160H180v160Zm220 220h160v-160H400v160Zm0 220h160v-160H400v160ZM180-400h160v-160H180v160Zm440 0h160v-160H620v160ZM180-180h160v-160H180v160Zm440 0h160v-160H620v160Z\"/>\n",
              "  </svg>\n",
              "    </button>\n",
              "\n",
              "  <style>\n",
              "    .colab-df-container {\n",
              "      display:flex;\n",
              "      gap: 12px;\n",
              "    }\n",
              "\n",
              "    .colab-df-convert {\n",
              "      background-color: #E8F0FE;\n",
              "      border: none;\n",
              "      border-radius: 50%;\n",
              "      cursor: pointer;\n",
              "      display: none;\n",
              "      fill: #1967D2;\n",
              "      height: 32px;\n",
              "      padding: 0 0 0 0;\n",
              "      width: 32px;\n",
              "    }\n",
              "\n",
              "    .colab-df-convert:hover {\n",
              "      background-color: #E2EBFA;\n",
              "      box-shadow: 0px 1px 2px rgba(60, 64, 67, 0.3), 0px 1px 3px 1px rgba(60, 64, 67, 0.15);\n",
              "      fill: #174EA6;\n",
              "    }\n",
              "\n",
              "    .colab-df-buttons div {\n",
              "      margin-bottom: 4px;\n",
              "    }\n",
              "\n",
              "    [theme=dark] .colab-df-convert {\n",
              "      background-color: #3B4455;\n",
              "      fill: #D2E3FC;\n",
              "    }\n",
              "\n",
              "    [theme=dark] .colab-df-convert:hover {\n",
              "      background-color: #434B5C;\n",
              "      box-shadow: 0px 1px 3px 1px rgba(0, 0, 0, 0.15);\n",
              "      filter: drop-shadow(0px 1px 2px rgba(0, 0, 0, 0.3));\n",
              "      fill: #FFFFFF;\n",
              "    }\n",
              "  </style>\n",
              "\n",
              "    <script>\n",
              "      const buttonEl =\n",
              "        document.querySelector('#df-07d2d085-b323-47fb-a0b8-0d92f0254956 button.colab-df-convert');\n",
              "      buttonEl.style.display =\n",
              "        google.colab.kernel.accessAllowed ? 'block' : 'none';\n",
              "\n",
              "      async function convertToInteractive(key) {\n",
              "        const element = document.querySelector('#df-07d2d085-b323-47fb-a0b8-0d92f0254956');\n",
              "        const dataTable =\n",
              "          await google.colab.kernel.invokeFunction('convertToInteractive',\n",
              "                                                    [key], {});\n",
              "        if (!dataTable) return;\n",
              "\n",
              "        const docLinkHtml = 'Like what you see? Visit the ' +\n",
              "          '<a target=\"_blank\" href=https://colab.research.google.com/notebooks/data_table.ipynb>data table notebook</a>'\n",
              "          + ' to learn more about interactive tables.';\n",
              "        element.innerHTML = '';\n",
              "        dataTable['output_type'] = 'display_data';\n",
              "        await google.colab.output.renderOutput(dataTable, element);\n",
              "        const docLink = document.createElement('div');\n",
              "        docLink.innerHTML = docLinkHtml;\n",
              "        element.appendChild(docLink);\n",
              "      }\n",
              "    </script>\n",
              "  </div>\n",
              "\n",
              "\n",
              "<div id=\"df-826870ec-4f0e-445a-89a7-367018c30ee0\">\n",
              "  <button class=\"colab-df-quickchart\" onclick=\"quickchart('df-826870ec-4f0e-445a-89a7-367018c30ee0')\"\n",
              "            title=\"Suggest charts\"\n",
              "            style=\"display:none;\">\n",
              "\n",
              "<svg xmlns=\"http://www.w3.org/2000/svg\" height=\"24px\"viewBox=\"0 0 24 24\"\n",
              "     width=\"24px\">\n",
              "    <g>\n",
              "        <path d=\"M19 3H5c-1.1 0-2 .9-2 2v14c0 1.1.9 2 2 2h14c1.1 0 2-.9 2-2V5c0-1.1-.9-2-2-2zM9 17H7v-7h2v7zm4 0h-2V7h2v10zm4 0h-2v-4h2v4z\"/>\n",
              "    </g>\n",
              "</svg>\n",
              "  </button>\n",
              "\n",
              "<style>\n",
              "  .colab-df-quickchart {\n",
              "      --bg-color: #E8F0FE;\n",
              "      --fill-color: #1967D2;\n",
              "      --hover-bg-color: #E2EBFA;\n",
              "      --hover-fill-color: #174EA6;\n",
              "      --disabled-fill-color: #AAA;\n",
              "      --disabled-bg-color: #DDD;\n",
              "  }\n",
              "\n",
              "  [theme=dark] .colab-df-quickchart {\n",
              "      --bg-color: #3B4455;\n",
              "      --fill-color: #D2E3FC;\n",
              "      --hover-bg-color: #434B5C;\n",
              "      --hover-fill-color: #FFFFFF;\n",
              "      --disabled-bg-color: #3B4455;\n",
              "      --disabled-fill-color: #666;\n",
              "  }\n",
              "\n",
              "  .colab-df-quickchart {\n",
              "    background-color: var(--bg-color);\n",
              "    border: none;\n",
              "    border-radius: 50%;\n",
              "    cursor: pointer;\n",
              "    display: none;\n",
              "    fill: var(--fill-color);\n",
              "    height: 32px;\n",
              "    padding: 0;\n",
              "    width: 32px;\n",
              "  }\n",
              "\n",
              "  .colab-df-quickchart:hover {\n",
              "    background-color: var(--hover-bg-color);\n",
              "    box-shadow: 0 1px 2px rgba(60, 64, 67, 0.3), 0 1px 3px 1px rgba(60, 64, 67, 0.15);\n",
              "    fill: var(--button-hover-fill-color);\n",
              "  }\n",
              "\n",
              "  .colab-df-quickchart-complete:disabled,\n",
              "  .colab-df-quickchart-complete:disabled:hover {\n",
              "    background-color: var(--disabled-bg-color);\n",
              "    fill: var(--disabled-fill-color);\n",
              "    box-shadow: none;\n",
              "  }\n",
              "\n",
              "  .colab-df-spinner {\n",
              "    border: 2px solid var(--fill-color);\n",
              "    border-color: transparent;\n",
              "    border-bottom-color: var(--fill-color);\n",
              "    animation:\n",
              "      spin 1s steps(1) infinite;\n",
              "  }\n",
              "\n",
              "  @keyframes spin {\n",
              "    0% {\n",
              "      border-color: transparent;\n",
              "      border-bottom-color: var(--fill-color);\n",
              "      border-left-color: var(--fill-color);\n",
              "    }\n",
              "    20% {\n",
              "      border-color: transparent;\n",
              "      border-left-color: var(--fill-color);\n",
              "      border-top-color: var(--fill-color);\n",
              "    }\n",
              "    30% {\n",
              "      border-color: transparent;\n",
              "      border-left-color: var(--fill-color);\n",
              "      border-top-color: var(--fill-color);\n",
              "      border-right-color: var(--fill-color);\n",
              "    }\n",
              "    40% {\n",
              "      border-color: transparent;\n",
              "      border-right-color: var(--fill-color);\n",
              "      border-top-color: var(--fill-color);\n",
              "    }\n",
              "    60% {\n",
              "      border-color: transparent;\n",
              "      border-right-color: var(--fill-color);\n",
              "    }\n",
              "    80% {\n",
              "      border-color: transparent;\n",
              "      border-right-color: var(--fill-color);\n",
              "      border-bottom-color: var(--fill-color);\n",
              "    }\n",
              "    90% {\n",
              "      border-color: transparent;\n",
              "      border-bottom-color: var(--fill-color);\n",
              "    }\n",
              "  }\n",
              "</style>\n",
              "\n",
              "  <script>\n",
              "    async function quickchart(key) {\n",
              "      const quickchartButtonEl =\n",
              "        document.querySelector('#' + key + ' button');\n",
              "      quickchartButtonEl.disabled = true;  // To prevent multiple clicks.\n",
              "      quickchartButtonEl.classList.add('colab-df-spinner');\n",
              "      try {\n",
              "        const charts = await google.colab.kernel.invokeFunction(\n",
              "            'suggestCharts', [key], {});\n",
              "      } catch (error) {\n",
              "        console.error('Error during call to suggestCharts:', error);\n",
              "      }\n",
              "      quickchartButtonEl.classList.remove('colab-df-spinner');\n",
              "      quickchartButtonEl.classList.add('colab-df-quickchart-complete');\n",
              "    }\n",
              "    (() => {\n",
              "      let quickchartButtonEl =\n",
              "        document.querySelector('#df-826870ec-4f0e-445a-89a7-367018c30ee0 button');\n",
              "      quickchartButtonEl.style.display =\n",
              "        google.colab.kernel.accessAllowed ? 'block' : 'none';\n",
              "    })();\n",
              "  </script>\n",
              "</div>\n",
              "\n",
              "    </div>\n",
              "  </div>\n"
            ],
            "application/vnd.google.colaboratory.intrinsic+json": {
              "type": "dataframe",
              "variable_name": "df",
              "summary": "{\n  \"name\": \"df\",\n  \"rows\": 300,\n  \"fields\": [\n    {\n      \"column\": \"StudentID\",\n      \"properties\": {\n        \"dtype\": \"number\",\n        \"std\": 86,\n        \"min\": 1,\n        \"max\": 300,\n        \"num_unique_values\": 300,\n        \"samples\": [\n          204,\n          267,\n          153\n        ],\n        \"semantic_type\": \"\",\n        \"description\": \"\"\n      }\n    },\n    {\n      \"column\": \"Name\",\n      \"properties\": {\n        \"dtype\": \"string\",\n        \"num_unique_values\": 298,\n        \"samples\": [\n          \"Karan Bedi\",\n          \"Eshana Mistry\",\n          \"Samaksh Shan\"\n        ],\n        \"semantic_type\": \"\",\n        \"description\": \"\"\n      }\n    },\n    {\n      \"column\": \"Age\",\n      \"properties\": {\n        \"dtype\": \"number\",\n        \"std\": 2,\n        \"min\": 18,\n        \"max\": 24,\n        \"num_unique_values\": 7,\n        \"samples\": [\n          20,\n          18,\n          23\n        ],\n        \"semantic_type\": \"\",\n        \"description\": \"\"\n      }\n    },\n    {\n      \"column\": \"Gender\",\n      \"properties\": {\n        \"dtype\": \"category\",\n        \"num_unique_values\": 2,\n        \"samples\": [\n          \"Female\",\n          \"Male\"\n        ],\n        \"semantic_type\": \"\",\n        \"description\": \"\"\n      }\n    },\n    {\n      \"column\": \"Grade\",\n      \"properties\": {\n        \"dtype\": \"category\",\n        \"num_unique_values\": 5,\n        \"samples\": [\n          \"C\",\n          \"F\"\n        ],\n        \"semantic_type\": \"\",\n        \"description\": \"\"\n      }\n    },\n    {\n      \"column\": \"Score1\",\n      \"properties\": {\n        \"dtype\": \"number\",\n        \"std\": 10.14535874219378,\n        \"min\": 44.599966830706,\n        \"max\": 97.04791413763608,\n        \"num_unique_values\": 300,\n        \"samples\": [\n          72.00463658374177,\n          52.123731235495626\n        ],\n        \"semantic_type\": \"\",\n        \"description\": \"\"\n      }\n    },\n    {\n      \"column\": \"Score2\",\n      \"properties\": {\n        \"dtype\": \"number\",\n        \"std\": 9.371346035720187,\n        \"min\": 45.54356600865672,\n        \"max\": 98.88266614191866,\n        \"num_unique_values\": 300,\n        \"samples\": [\n          82.28669588337682,\n          69.09422104513473\n        ],\n        \"semantic_type\": \"\",\n        \"description\": \"\"\n      }\n    },\n    {\n      \"column\": \"Score3\",\n      \"properties\": {\n        \"dtype\": \"number\",\n        \"std\": 9.777946615012707,\n        \"min\": 38.94981513928124,\n        \"max\": 99.03135624628342,\n        \"num_unique_values\": 300,\n        \"samples\": [\n          81.73329198864208,\n          56.36867372126929\n        ],\n        \"semantic_type\": \"\",\n        \"description\": \"\"\n      }\n    },\n    {\n      \"column\": \"City\",\n      \"properties\": {\n        \"dtype\": \"string\",\n        \"num_unique_values\": 202,\n        \"samples\": [\n          \"Mathura\",\n          \"Pallavaram\"\n        ],\n        \"semantic_type\": \"\",\n        \"description\": \"\"\n      }\n    },\n    {\n      \"column\": \"Address\",\n      \"properties\": {\n        \"dtype\": \"string\",\n        \"num_unique_values\": 300,\n        \"samples\": [\n          \"609 Dayal Ganj, Sambalpur-179315\",\n          \"H.No. 60 Krish Path, Bikaner-222605\"\n        ],\n        \"semantic_type\": \"\",\n        \"description\": \"\"\n      }\n    }\n  ]\n}"
            }
          },
          "metadata": {},
          "execution_count": 38
        }
      ]
    },
    {
      "cell_type": "code",
      "source": [
        "import numpy as np\n",
        "\n",
        "arr = np.array([1, 2, 3, 4, 5, 6])\n",
        "\n",
        "# Reshape to a 2x3 array\n",
        "reshaped_arr = np.reshape(arr, (2, 3),order='F')\n",
        "\n",
        "print(reshaped_arr)  # Output: [[1 2 3]\n",
        "                   #          [4 5 6]]"
      ],
      "metadata": {
        "colab": {
          "base_uri": "https://localhost:8080/"
        },
        "id": "co53A5yVhC10",
        "outputId": "80e4aa1a-c8d9-4b04-8285-b5ed6f282819"
      },
      "execution_count": 22,
      "outputs": [
        {
          "output_type": "stream",
          "name": "stdout",
          "text": [
            "[[1 3 5]\n",
            " [2 4 6]]\n"
          ]
        }
      ]
    },
    {
      "cell_type": "code",
      "source": [
        "zeros = np.zeros((2,3))\n",
        "print(zeros)"
      ],
      "metadata": {
        "colab": {
          "base_uri": "https://localhost:8080/"
        },
        "id": "b5adIfaquTO7",
        "outputId": "f7864d68-dbb1-43a5-a41d-1441a3ae1c82"
      },
      "execution_count": null,
      "outputs": [
        {
          "output_type": "stream",
          "name": "stdout",
          "text": [
            "[[0. 0. 0.]\n",
            " [0. 0. 0.]]\n"
          ]
        }
      ]
    },
    {
      "cell_type": "code",
      "source": [],
      "metadata": {
        "id": "oK0m7Hkscavg"
      },
      "execution_count": null,
      "outputs": []
    },
    {
      "cell_type": "code",
      "source": [
        "arr = np.array([[1,2], [3,4],[5,6]], dtype=np.complex64)\n",
        "zeros = np.zeros_like(arr)\n",
        "print(zeros)\n",
        "print('Data Type: ' + str(zeros.dtype))"
      ],
      "metadata": {
        "colab": {
          "base_uri": "https://localhost:8080/"
        },
        "id": "ScFP2cGzucZw",
        "outputId": "3075c6dc-1b0c-4c3f-d69e-8caf53b1f330"
      },
      "execution_count": null,
      "outputs": [
        {
          "output_type": "stream",
          "name": "stdout",
          "text": [
            "[[0.+0.j 0.+0.j]\n",
            " [0.+0.j 0.+0.j]\n",
            " [0.+0.j 0.+0.j]]\n",
            "Data Type: complex64\n"
          ]
        }
      ]
    },
    {
      "cell_type": "markdown",
      "source": [
        "\n",
        "Create an array of ones of given shape\n",
        "\n",
        "np.ones(): create array of all ones in given shape \\\n",
        "np.ones_like(): create array of all ones with the same shape and data type as the given input array"
      ],
      "metadata": {
        "id": "AhegA_byu4GN"
      }
    },
    {
      "cell_type": "code",
      "source": [
        "ones = np.ones((3,2))\n",
        "print(ones)"
      ],
      "metadata": {
        "colab": {
          "base_uri": "https://localhost:8080/"
        },
        "id": "tOe1M7asvEPY",
        "outputId": "fbbf0a80-efae-4ebe-f9f8-05de375c44fc"
      },
      "execution_count": null,
      "outputs": [
        {
          "output_type": "stream",
          "name": "stdout",
          "text": [
            "[[1. 1.]\n",
            " [1. 1.]\n",
            " [1. 1.]]\n"
          ]
        }
      ]
    },
    {
      "cell_type": "code",
      "source": [
        "arr = [[1,2,3], [4,5,6]]\n",
        "ones = np.ones_like(arr)\n",
        "print(ones)\n",
        "print('Data Type: ' + str(ones.dtype))"
      ],
      "metadata": {
        "colab": {
          "base_uri": "https://localhost:8080/"
        },
        "id": "cqh42-QIvGTw",
        "outputId": "ffcfb93a-daf5-409d-c185-58fba8ab9150"
      },
      "execution_count": null,
      "outputs": [
        {
          "output_type": "stream",
          "name": "stdout",
          "text": [
            "[[1 1 1]\n",
            " [1 1 1]]\n",
            "Data Type: int64\n"
          ]
        }
      ]
    },
    {
      "cell_type": "markdown",
      "source": [
        "Create an empty array of given shape\n",
        "\n",
        "np.empty(): create array of empty values in given shape\n",
        "\n",
        "np.empty_like(): create array of empty values with the same shape and data type as the given input array\n",
        "\n",
        "Notice that the initial values are not necessarily set to zeroes.\n",
        "\n",
        "They are just some garbage values in random memory addresses."
      ],
      "metadata": {
        "id": "aDVyd9Y_vI0h"
      }
    },
    {
      "cell_type": "code",
      "source": [
        "empty = np.empty((5,5))\n",
        "print(empty)"
      ],
      "metadata": {
        "colab": {
          "base_uri": "https://localhost:8080/"
        },
        "id": "hvOy3Rbeveux",
        "outputId": "abbe3980-437b-4bee-c019-a8a61f771d0b"
      },
      "execution_count": null,
      "outputs": [
        {
          "output_type": "stream",
          "name": "stdout",
          "text": [
            "[[ 4.00743058e-316  0.00000000e+000  1.24362093e-033  7.71867738e-304\n",
            "  -2.01346939e-197]\n",
            " [-1.99439970e-114  9.82328242e-082  1.96956953e-208  8.97831878e-227\n",
            "   1.64304299e-265]\n",
            " [-8.37524292e-114 -1.16615712e-230  1.41034535e-026  8.97509015e-171\n",
            "   1.51976236e-091]\n",
            " [ 6.81487694e-106 -1.07546223e-172  3.68302919e-304  1.24425812e+268\n",
            "   3.23611948e-188]\n",
            " [ 1.10081394e-289  9.06092918e-312  2.22507386e-307  1.95649823e-316\n",
            "   6.93788656e-310]]\n"
          ]
        }
      ]
    },
    {
      "cell_type": "code",
      "source": [
        "arr = np.array([[1,2,3], [4,5,6]], dtype=np.int64)\n",
        "empty = np.empty_like(arr)\n",
        "print(empty)\n",
        "print('Data Type: ' + str(empty.dtype))"
      ],
      "metadata": {
        "colab": {
          "base_uri": "https://localhost:8080/"
        },
        "id": "kPS5PnrBvhsm",
        "outputId": "3b2e7589-04ba-47b0-e11e-96cf77ac5db6"
      },
      "execution_count": null,
      "outputs": [
        {
          "output_type": "stream",
          "name": "stdout",
          "text": [
            "[[1065353216 1073741824 1077936128]\n",
            " [1082130432 1084227584 1086324736]]\n",
            "Data Type: int64\n"
          ]
        }
      ]
    },
    {
      "cell_type": "markdown",
      "source": [
        "Create an array of constant values of given shape\n",
        "\n",
        "np.full(): create array of constant values in given shape\n",
        "\n",
        "np.full_like(): create array of constant values with the same shape and data type as the given input array"
      ],
      "metadata": {
        "id": "v7ojIfWGvyUO"
      }
    },
    {
      "cell_type": "code",
      "source": [
        "full = np.full((4,4), 5)\n",
        "print(full)\n"
      ],
      "metadata": {
        "colab": {
          "base_uri": "https://localhost:8080/"
        },
        "id": "diuinLtBwHL6",
        "outputId": "d480bc22-2879-4791-a4bf-84e2dfbc82c2"
      },
      "execution_count": null,
      "outputs": [
        {
          "output_type": "stream",
          "name": "stdout",
          "text": [
            "[[5 5 5 5]\n",
            " [5 5 5 5]\n",
            " [5 5 5 5]\n",
            " [5 5 5 5]]\n"
          ]
        }
      ]
    },
    {
      "cell_type": "code",
      "source": [
        "arr = np.array([[1,2], [3,4]], dtype=np.float64)\n",
        "full = np.full_like(arr, 5)\n",
        "print(full)\n",
        "print('Data Type: ' + str(full.dtype))"
      ],
      "metadata": {
        "colab": {
          "base_uri": "https://localhost:8080/"
        },
        "id": "dLqO7HfjwO3V",
        "outputId": "f048e8d0-0f4a-4928-e964-1945bb63de02"
      },
      "execution_count": null,
      "outputs": [
        {
          "output_type": "stream",
          "name": "stdout",
          "text": [
            "[[5. 5.]\n",
            " [5. 5.]]\n",
            "Data Type: float64\n"
          ]
        }
      ]
    },
    {
      "cell_type": "markdown",
      "source": [
        "Create an array in a repetitive manner \\\n",
        "np.repeat(iterable, reps, axis=None): repeat each element by n times \\\n",
        "iterable: input array \\\n",
        "reps: number of repetitions\\\n",
        "axis: which axis to repeat\n",
        "along, default is None which will flatten the input array and then repeat\n",
        "np.tile(): repeat the whole array by n times\n",
        "iterable: input array\n",
        "reps: number of repetitions, it can be a tuple to represent repetitions along x-axis and y-axis"
      ],
      "metadata": {
        "id": "OV0OrD3FwRmX"
      }
    },
    {
      "cell_type": "code",
      "source": [
        "# No axis specified, then flatten the input array first and repeat\n",
        "arr = [[0, 1, 2], [3, 4, 5]]\n",
        "print(np.repeat(arr, 3))"
      ],
      "metadata": {
        "colab": {
          "base_uri": "https://localhost:8080/"
        },
        "id": "RCvGVZplwf8H",
        "outputId": "60801445-d7b2-41e5-9deb-725273723831"
      },
      "execution_count": null,
      "outputs": [
        {
          "output_type": "stream",
          "name": "stdout",
          "text": [
            "[0 0 0 1 1 1 2 2 2 3 3 3 4 4 4 5 5 5]\n"
          ]
        }
      ]
    },
    {
      "cell_type": "code",
      "source": [
        "# An example of repeating along x-axis\n",
        "arr = [[0, 1, 2], [3, 4, 5]]\n",
        "print(np.repeat(arr, 3, axis=0))"
      ],
      "metadata": {
        "colab": {
          "base_uri": "https://localhost:8080/"
        },
        "id": "nElTl_yzwkxf",
        "outputId": "d7eef8ef-2091-4e57-ab18-6ad4b454b249"
      },
      "execution_count": null,
      "outputs": [
        {
          "output_type": "stream",
          "name": "stdout",
          "text": [
            "[[0 1 2]\n",
            " [0 1 2]\n",
            " [0 1 2]\n",
            " [3 4 5]\n",
            " [3 4 5]\n",
            " [3 4 5]]\n"
          ]
        }
      ]
    },
    {
      "cell_type": "code",
      "source": [
        "# An example of repeating along y-axis\n",
        "arr = [[0, 1, 2], [3, 4, 5]]\n",
        "print(np.repeat(arr, 3, axis=1))"
      ],
      "metadata": {
        "colab": {
          "base_uri": "https://localhost:8080/"
        },
        "id": "ZfQZA7DmwoZz",
        "outputId": "e10a8ef8-ba48-4967-ec5d-dc51bc45df27"
      },
      "execution_count": null,
      "outputs": [
        {
          "output_type": "stream",
          "name": "stdout",
          "text": [
            "[[0 0 0 1 1 1 2 2 2]\n",
            " [3 3 3 4 4 4 5 5 5]]\n"
          ]
        }
      ]
    },
    {
      "cell_type": "code",
      "source": [
        "# Repeat the whole array by a specified number of times\n",
        "arr = [0, 1, 2]\n",
        "print(np.tile(arr, 3))"
      ],
      "metadata": {
        "colab": {
          "base_uri": "https://localhost:8080/"
        },
        "id": "QNh4FuQcwrqc",
        "outputId": "2fe7d96b-ebbd-45fd-bccc-e029465a1674"
      },
      "execution_count": null,
      "outputs": [
        {
          "output_type": "stream",
          "name": "stdout",
          "text": [
            "[0 1 2 0 1 2 0 1 2]\n"
          ]
        }
      ]
    },
    {
      "cell_type": "code",
      "source": [
        "# Repeat along specified axes\n",
        "print(np.tile(arr, (2,2)))"
      ],
      "metadata": {
        "colab": {
          "base_uri": "https://localhost:8080/"
        },
        "id": "Byu_MUf3wubT",
        "outputId": "6175ef68-6ed0-45fa-fcbe-5d515fd54a13"
      },
      "execution_count": null,
      "outputs": [
        {
          "output_type": "stream",
          "name": "stdout",
          "text": [
            "[[0 1 2 0 1 2]\n",
            " [0 1 2 0 1 2]]\n"
          ]
        }
      ]
    },
    {
      "cell_type": "markdown",
      "source": [
        "###Create an identity matrix of given size\n",
        "\n",
        "np.eye(size, k=0): create an identity matrix of given size \\\n",
        "size: the size of the identity matrix \\\n",
        "k: the diagonal offset\\\n",
        "np.identity(): same as np.eye() but does not carry parameters"
      ],
      "metadata": {
        "id": "2HKV8rpPw7WH"
      }
    },
    {
      "cell_type": "code",
      "source": [
        "identity_matrix = np.eye(5)\n",
        "print(identity_matrix)"
      ],
      "metadata": {
        "colab": {
          "base_uri": "https://localhost:8080/"
        },
        "id": "skBmdzmcxKy4",
        "outputId": "2378d240-bf7e-4296-a693-a4877541b2ef"
      },
      "execution_count": null,
      "outputs": [
        {
          "output_type": "stream",
          "name": "stdout",
          "text": [
            "[[1. 0. 0. 0. 0.]\n",
            " [0. 1. 0. 0. 0.]\n",
            " [0. 0. 1. 0. 0.]\n",
            " [0. 0. 0. 1. 0.]\n",
            " [0. 0. 0. 0. 1.]]\n"
          ]
        }
      ]
    },
    {
      "cell_type": "code",
      "source": [
        "\n",
        "# An example of diagonal offset\n",
        "identity_matrix = np.eye(5, k=-1)\n",
        "print(identity_matrix)"
      ],
      "metadata": {
        "colab": {
          "base_uri": "https://localhost:8080/"
        },
        "id": "7aQAyybdxOmU",
        "outputId": "242071c9-d080-4bae-ff44-e28440f6d083"
      },
      "execution_count": null,
      "outputs": [
        {
          "output_type": "stream",
          "name": "stdout",
          "text": [
            "[[0. 0. 0. 0. 0.]\n",
            " [1. 0. 0. 0. 0.]\n",
            " [0. 1. 0. 0. 0.]\n",
            " [0. 0. 1. 0. 0.]\n",
            " [0. 0. 0. 1. 0.]]\n"
          ]
        }
      ]
    },
    {
      "cell_type": "code",
      "source": [
        "\n",
        "identity_matrix = np.identity(5)\n",
        "print(identity_matrix)"
      ],
      "metadata": {
        "colab": {
          "base_uri": "https://localhost:8080/"
        },
        "id": "LE-0rSpmxQ0M",
        "outputId": "ca85f679-7993-48e6-bd5f-e2a30ee724c4"
      },
      "execution_count": null,
      "outputs": [
        {
          "output_type": "stream",
          "name": "stdout",
          "text": [
            "[[1. 0. 0. 0. 0.]\n",
            " [0. 1. 0. 0. 0.]\n",
            " [0. 0. 1. 0. 0.]\n",
            " [0. 0. 0. 1. 0.]\n",
            " [0. 0. 0. 0. 1.]]\n"
          ]
        }
      ]
    },
    {
      "cell_type": "markdown",
      "source": [
        "Create an array with given values on the diagonal\n"
      ],
      "metadata": {
        "id": "Dc-u-hUAxVTD"
      }
    },
    {
      "cell_type": "code",
      "source": [
        "arr = np.random.rand(5,5)\n",
        "print(arr)\n",
        "# Extract values on the diagonal\n",
        "print('Values on the diagonal: ' + str(np.diag(arr)))"
      ],
      "metadata": {
        "colab": {
          "base_uri": "https://localhost:8080/"
        },
        "id": "NEiPSo0-xi30",
        "outputId": "ee0f7b8b-077c-4f83-c79e-74f3affe74f1"
      },
      "execution_count": null,
      "outputs": [
        {
          "output_type": "stream",
          "name": "stdout",
          "text": [
            "[[0.39106592 0.353825   0.09099307 0.92465065 0.28040603]\n",
            " [0.26532197 0.41893426 0.85148129 0.13806684 0.37116812]\n",
            " [0.4594456  0.82279367 0.36026414 0.05825279 0.25613669]\n",
            " [0.87786486 0.12550069 0.69445054 0.36757315 0.56933979]\n",
            " [0.65778642 0.20595904 0.71285681 0.49282037 0.95949298]]\n",
            "Values on the diagonal: [0.39106592 0.41893426 0.36026414 0.36757315 0.95949298]\n"
          ]
        }
      ]
    },
    {
      "cell_type": "code",
      "source": [
        "# Not necessarily to be a square matrix\n",
        "arr = np.random.rand(10,3)\n",
        "print(arr)\n",
        "# Extract values on the diagonal\n",
        "print('Values on the diagonal: ' + str(np.diag(arr)))"
      ],
      "metadata": {
        "colab": {
          "base_uri": "https://localhost:8080/"
        },
        "id": "Tc40ijo-xz4n",
        "outputId": "7b3342b7-6b53-4c4c-c443-4284f8bfaed3"
      },
      "execution_count": null,
      "outputs": [
        {
          "output_type": "stream",
          "name": "stdout",
          "text": [
            "[[0.13165709 0.43783742 0.87964397]\n",
            " [0.35180048 0.15918997 0.6635004 ]\n",
            " [0.28681795 0.59359901 0.22264161]\n",
            " [0.49594462 0.24085257 0.26764839]\n",
            " [0.30931607 0.44172183 0.43832435]\n",
            " [0.99572881 0.76206396 0.15561091]\n",
            " [0.56270279 0.24953673 0.79925299]\n",
            " [0.44504887 0.07542262 0.03403838]\n",
            " [0.35135974 0.80517607 0.42319845]\n",
            " [0.17429636 0.62140564 0.58156008]]\n",
            "Values on the diagonal: [0.13165709 0.15918997 0.22264161]\n"
          ]
        }
      ]
    },
    {
      "cell_type": "code",
      "source": [
        "# Create a matrix given values on the diagonal\n",
        "# All non-diagonal values set to zeros\n",
        "arr = np.diag([1,2,3,4,5])\n",
        "print(arr)"
      ],
      "metadata": {
        "colab": {
          "base_uri": "https://localhost:8080/"
        },
        "id": "cFTJkNMkx51m",
        "outputId": "7a803ca1-d47e-4d84-dd51-f83106ca9041"
      },
      "execution_count": null,
      "outputs": [
        {
          "output_type": "stream",
          "name": "stdout",
          "text": [
            "[[1 0 0 0 0]\n",
            " [0 2 0 0 0]\n",
            " [0 0 3 0 0]\n",
            " [0 0 0 4 0]\n",
            " [0 0 0 0 5]]\n"
          ]
        }
      ]
    },
    {
      "cell_type": "markdown",
      "source": [
        "set random state which is independent from the global seed\n"
      ],
      "metadata": {
        "id": "5QZjo7zKx9EJ"
      }
    },
    {
      "cell_type": "code",
      "source": [
        "rs = np.random.RandomState(321)\n",
        "rs.rand(10)"
      ],
      "metadata": {
        "colab": {
          "base_uri": "https://localhost:8080/"
        },
        "id": "i8ob1pEey9dd",
        "outputId": "1d136b26-ec30-40f8-d345-9f5082cc3ba2"
      },
      "execution_count": null,
      "outputs": [
        {
          "output_type": "execute_result",
          "data": {
            "text/plain": [
              "array([0.88594794, 0.07791236, 0.97964616, 0.24767146, 0.75288472,\n",
              "       0.52667564, 0.90755375, 0.8840703 , 0.08926896, 0.5173446 ])"
            ]
          },
          "metadata": {},
          "execution_count": 45
        }
      ]
    },
    {
      "cell_type": "markdown",
      "source": [
        "\n",
        "generate a random sample from interval [0, 1) in a given shape"
      ],
      "metadata": {
        "id": "p04Uaidzy-EJ"
      }
    },
    {
      "cell_type": "code",
      "source": [
        "# generate a random scalar\n",
        "print(np.random.rand())"
      ],
      "metadata": {
        "colab": {
          "base_uri": "https://localhost:8080/"
        },
        "id": "_R2rqelqzCQp",
        "outputId": "a6bd73c4-15f4-4382-a0e9-772abcf11a6c"
      },
      "execution_count": null,
      "outputs": [
        {
          "output_type": "stream",
          "name": "stdout",
          "text": [
            "0.5699849330879277\n"
          ]
        }
      ]
    },
    {
      "cell_type": "code",
      "source": [
        "# generate a 1-D array\n",
        "print(np.random.rand(3))"
      ],
      "metadata": {
        "colab": {
          "base_uri": "https://localhost:8080/"
        },
        "id": "SNDxJRmyzIAM",
        "outputId": "b0b8e111-ba3a-43f7-84ae-d2a162165114"
      },
      "execution_count": null,
      "outputs": [
        {
          "output_type": "stream",
          "name": "stdout",
          "text": [
            "[0.0101435  0.02510073 0.21741478]\n"
          ]
        }
      ]
    },
    {
      "cell_type": "code",
      "source": [
        "# generate a 2-D array\n",
        "print(np.random.rand(3,3))"
      ],
      "metadata": {
        "colab": {
          "base_uri": "https://localhost:8080/"
        },
        "id": "PNoPZ3udzKy1",
        "outputId": "8fc28823-58a7-4071-e3db-31c66c281e20"
      },
      "execution_count": null,
      "outputs": [
        {
          "output_type": "stream",
          "name": "stdout",
          "text": [
            "[[0.75524275 0.03920224 0.18570446]\n",
            " [0.50721628 0.92080329 0.52894868]\n",
            " [0.95217287 0.49321175 0.04724005]]\n"
          ]
        }
      ]
    },
    {
      "cell_type": "markdown",
      "source": [
        "\n",
        "generate a sample from the standard normal distribution (mean = 0, var = 1)"
      ],
      "metadata": {
        "id": "UEeDkpcRzQdM"
      }
    },
    {
      "cell_type": "code",
      "source": [
        "print(np.random.randn(3,3))"
      ],
      "metadata": {
        "colab": {
          "base_uri": "https://localhost:8080/"
        },
        "id": "01S9z1ltzloD",
        "outputId": "3b40f547-41d1-40e5-9a24-504c740cd0ff"
      },
      "execution_count": null,
      "outputs": [
        {
          "output_type": "stream",
          "name": "stdout",
          "text": [
            "[[ 1.33793709 -0.29277249 -0.3342595 ]\n",
            " [ 1.20744967  1.38838595 -0.67430609]\n",
            " [ 1.35899867 -0.26409987 -0.35140804]]\n"
          ]
        }
      ]
    },
    {
      "cell_type": "markdown",
      "source": [
        "generate an array of random integers in a given interval [low, high)\n"
      ],
      "metadata": {
        "id": "7MrVyKcizrtq"
      }
    },
    {
      "cell_type": "code",
      "source": [
        "# np.ranodm.randint(low, high, size, dtype)\n",
        "print(np.random.randint(1, 10, 3, 'i8'))"
      ],
      "metadata": {
        "colab": {
          "base_uri": "https://localhost:8080/"
        },
        "id": "PDlenWMfzvs4",
        "outputId": "e67f7300-1fb6-4d8e-8b46-020863206cd9"
      },
      "execution_count": null,
      "outputs": [
        {
          "output_type": "stream",
          "name": "stdout",
          "text": [
            "[2 4 7]\n"
          ]
        }
      ]
    },
    {
      "cell_type": "markdown",
      "source": [
        "generate an array of random floating-point numbers in the interval [0.0, 1.0)\n"
      ],
      "metadata": {
        "id": "hWAIIp95z8g4"
      }
    },
    {
      "cell_type": "code",
      "source": [
        "# the following methods are the same as np.random.rand()\n",
        "print(np.random.random_sample(10))\n",
        "print(np.random.random(10))\n",
        "print(np.random.ranf(10))\n",
        "print(np.random.sample(10))"
      ],
      "metadata": {
        "colab": {
          "base_uri": "https://localhost:8080/"
        },
        "id": "9HK3OCE80NMJ",
        "outputId": "80f1d508-86e9-4673-f7d7-cd74d11873a0"
      },
      "execution_count": null,
      "outputs": [
        {
          "output_type": "stream",
          "name": "stdout",
          "text": [
            "[0.78623564 0.12225665 0.62124533 0.69620687 0.44737251 0.8891414\n",
            " 0.41439759 0.92380641 0.68998013 0.16117871]\n",
            "[0.35153323 0.89134335 0.8319148  0.04258719 0.45332023 0.73815446\n",
            " 0.25381082 0.8967563  0.46430358 0.43895692]\n",
            "[0.78858326 0.39429354 0.44282151 0.35643505 0.46215881 0.99248193\n",
            " 0.51356675 0.79853416 0.52550416 0.47092887]\n",
            "[0.16726054 0.27636035 0.35540647 0.4254086  0.77120075 0.04435212\n",
            " 0.02742692 0.02096286 0.33309364 0.18015601]\n"
          ]
        }
      ]
    },
    {
      "cell_type": "markdown",
      "source": [
        "generate a random sample from a given 1-D array\n"
      ],
      "metadata": {
        "id": "TIMytCgP0bc1"
      }
    },
    {
      "cell_type": "code",
      "source": [
        "\n",
        "# np.random.choice(iterable_or_int, size, replace=True, p=weights)\n",
        "print(np.random.choice(range(3), 10, replace=True, p=[0.1, 0.8, 0.1]))"
      ],
      "metadata": {
        "colab": {
          "base_uri": "https://localhost:8080/"
        },
        "id": "dMUfVfHN0eRP",
        "outputId": "b214d8a9-a357-45c2-aa96-32ac4a5c1741"
      },
      "execution_count": null,
      "outputs": [
        {
          "output_type": "stream",
          "name": "stdout",
          "text": [
            "[1 1 0 1 2 1 1 1 1 1]\n"
          ]
        }
      ]
    },
    {
      "cell_type": "code",
      "source": [
        "print(np.random.choice(3, 10))"
      ],
      "metadata": {
        "colab": {
          "base_uri": "https://localhost:8080/"
        },
        "id": "f2YJVRcP0hwH",
        "outputId": "c00c9e5a-efee-469d-9725-36a46a72e31e"
      },
      "execution_count": null,
      "outputs": [
        {
          "output_type": "stream",
          "name": "stdout",
          "text": [
            "[2 1 0 2 1 2 1 1 2 0]\n"
          ]
        }
      ]
    },
    {
      "cell_type": "code",
      "source": [
        "print(np.random.choice([1,2,3], 10))"
      ],
      "metadata": {
        "colab": {
          "base_uri": "https://localhost:8080/"
        },
        "id": "fVOO7yKv1B0a",
        "outputId": "65af21c7-0dc2-481b-f760-f36fd82eece6"
      },
      "execution_count": null,
      "outputs": [
        {
          "output_type": "stream",
          "name": "stdout",
          "text": [
            "[2 2 2 1 2 2 3 1 1 2]\n"
          ]
        }
      ]
    },
    {
      "cell_type": "markdown",
      "source": [
        "shuffle an array in place\n"
      ],
      "metadata": {
        "id": "h7DvoXqt1Dl2"
      }
    },
    {
      "cell_type": "code",
      "source": [
        "arr = np.array(range(10))\n",
        "print(arr)"
      ],
      "metadata": {
        "colab": {
          "base_uri": "https://localhost:8080/"
        },
        "id": "T2W5LFcY1IpM",
        "outputId": "29d3139c-f8ff-4cb9-db06-08dafe375e5a"
      },
      "execution_count": null,
      "outputs": [
        {
          "output_type": "stream",
          "name": "stdout",
          "text": [
            "[0 1 2 3 4 5 6 7 8 9]\n"
          ]
        }
      ]
    },
    {
      "cell_type": "code",
      "source": [
        "np.random.shuffle(arr)\n",
        "print(arr)"
      ],
      "metadata": {
        "colab": {
          "base_uri": "https://localhost:8080/"
        },
        "id": "BBo3Dw2O1Jd7",
        "outputId": "f05a4c4d-7a4c-46dd-fd31-72f0fce79c9d"
      },
      "execution_count": null,
      "outputs": [
        {
          "output_type": "stream",
          "name": "stdout",
          "text": [
            "[9 0 7 8 6 5 4 3 2 1]\n"
          ]
        }
      ]
    },
    {
      "cell_type": "markdown",
      "source": [
        "generate a permutation of an array\n"
      ],
      "metadata": {
        "id": "5Ws9FlSV1L88"
      }
    },
    {
      "cell_type": "code",
      "source": [
        "# similar to np.random.shuffle(), but it returns a copy rather than making changes in place\n",
        "arr = np.array(range(10))\n",
        "print('The initial array: ', arr)\n",
        "print('A permutation of the array: ', np.random.permutation(arr))"
      ],
      "metadata": {
        "colab": {
          "base_uri": "https://localhost:8080/"
        },
        "id": "LLT9_nmP1bQ1",
        "outputId": "3ca28d00-7530-4681-8ed7-4bd9ce55d0b5"
      },
      "execution_count": null,
      "outputs": [
        {
          "output_type": "stream",
          "name": "stdout",
          "text": [
            "The initial array:  [0 1 2 3 4 5 6 7 8 9]\n",
            "A permutation of the array:  [1 7 4 5 2 6 9 3 8 0]\n"
          ]
        }
      ]
    },
    {
      "cell_type": "markdown",
      "source": [
        "#2. Inspect Arrays\n"
      ],
      "metadata": {
        "id": "HeFKhDhn1e7B"
      }
    },
    {
      "cell_type": "code",
      "source": [
        "arr = np.array([[1,2,3], [4,5,6]], dtype=np.int64)\n"
      ],
      "metadata": {
        "id": "wN7y3KLJ2bgC"
      },
      "execution_count": null,
      "outputs": []
    },
    {
      "cell_type": "code",
      "source": [
        "\n",
        "print(np.info(arr))"
      ],
      "metadata": {
        "colab": {
          "base_uri": "https://localhost:8080/"
        },
        "id": "pPYSBwaW2eOT",
        "outputId": "c931e02d-5524-4fc3-c3a8-fdafcc992d4f"
      },
      "execution_count": null,
      "outputs": [
        {
          "output_type": "stream",
          "name": "stdout",
          "text": [
            "class:  ndarray\n",
            "shape:  (2, 3)\n",
            "strides:  (24, 8)\n",
            "itemsize:  8\n",
            "aligned:  True\n",
            "contiguous:  True\n",
            "fortran:  False\n",
            "data pointer: 0x4ed14b0\n",
            "byteorder:  little\n",
            "byteswap:  False\n",
            "type: int64\n",
            "None\n"
          ]
        }
      ]
    },
    {
      "cell_type": "markdown",
      "source": [
        "inspect the data type of an array\n"
      ],
      "metadata": {
        "id": "HkkjoLY63fif"
      }
    },
    {
      "cell_type": "code",
      "source": [
        "print(arr.dtype)"
      ],
      "metadata": {
        "colab": {
          "base_uri": "https://localhost:8080/"
        },
        "id": "vpXIZesw2gBS",
        "outputId": "418a406f-d19e-4a40-f3c6-dd7ede612b18"
      },
      "execution_count": null,
      "outputs": [
        {
          "output_type": "stream",
          "name": "stdout",
          "text": [
            "int64\n"
          ]
        }
      ]
    },
    {
      "cell_type": "markdown",
      "source": [
        "inspect the dimension of an array\n"
      ],
      "metadata": {
        "id": "JZ1fiSyK3m-7"
      }
    },
    {
      "cell_type": "code",
      "source": [
        "print(arr.shape)"
      ],
      "metadata": {
        "colab": {
          "base_uri": "https://localhost:8080/"
        },
        "id": "sn_m-zws26id",
        "outputId": "38b13632-0e0d-4aac-d361-5469a904d02e"
      },
      "execution_count": null,
      "outputs": [
        {
          "output_type": "stream",
          "name": "stdout",
          "text": [
            "(2, 3)\n"
          ]
        }
      ]
    },
    {
      "cell_type": "markdown",
      "source": [
        "inspect the length of an array\n"
      ],
      "metadata": {
        "id": "hx-Wiy2D3p71"
      }
    },
    {
      "cell_type": "code",
      "source": [
        "print(len(arr))"
      ],
      "metadata": {
        "colab": {
          "base_uri": "https://localhost:8080/"
        },
        "id": "eB-0Y8Iy2_57",
        "outputId": "88477569-4527-4208-824a-8f0fbd4acea4"
      },
      "execution_count": null,
      "outputs": [
        {
          "output_type": "stream",
          "name": "stdout",
          "text": [
            "2\n"
          ]
        }
      ]
    },
    {
      "cell_type": "markdown",
      "source": [
        "inspect the number of elements of an array\n"
      ],
      "metadata": {
        "id": "m0R0odGJ3uYO"
      }
    },
    {
      "cell_type": "code",
      "source": [
        "print(arr.size)"
      ],
      "metadata": {
        "colab": {
          "base_uri": "https://localhost:8080/"
        },
        "id": "sR5p9Er_3Cno",
        "outputId": "5e0523e8-1460-4082-caa0-db3b9bb6348b"
      },
      "execution_count": null,
      "outputs": [
        {
          "output_type": "stream",
          "name": "stdout",
          "text": [
            "6\n"
          ]
        }
      ]
    },
    {
      "cell_type": "markdown",
      "source": [
        "inspect the no of bytes for every individual of an array\n"
      ],
      "metadata": {
        "id": "WEyp6K1E4uMo"
      }
    },
    {
      "cell_type": "code",
      "source": [
        "print(arr.itemsize)"
      ],
      "metadata": {
        "colab": {
          "base_uri": "https://localhost:8080/"
        },
        "id": "VhnbgeiY3FhT",
        "outputId": "af80d8b4-2bcf-4796-87b6-c10079f534ee"
      },
      "execution_count": null,
      "outputs": [
        {
          "output_type": "stream",
          "name": "stdout",
          "text": [
            "8\n"
          ]
        }
      ]
    },
    {
      "cell_type": "markdown",
      "source": [
        "inspect the memory size of an array (in byte)\n"
      ],
      "metadata": {
        "id": "JfMgY9H45FUa"
      }
    },
    {
      "cell_type": "code",
      "source": [
        "print(arr.nbytes)"
      ],
      "metadata": {
        "colab": {
          "base_uri": "https://localhost:8080/"
        },
        "id": "OEkEXoiv3Irv",
        "outputId": "080e3d34-af23-44ab-c01d-b53792e98e52"
      },
      "execution_count": null,
      "outputs": [
        {
          "output_type": "stream",
          "name": "stdout",
          "text": [
            "48\n"
          ]
        }
      ]
    },
    {
      "cell_type": "markdown",
      "source": [
        "inspect the no of  dimensions an array (in byte)\n"
      ],
      "metadata": {
        "id": "ane12AEO5ZmP"
      }
    },
    {
      "cell_type": "code",
      "source": [
        "print(arr.ndim)"
      ],
      "metadata": {
        "colab": {
          "base_uri": "https://localhost:8080/"
        },
        "id": "dwo2p_uq3ZDU",
        "outputId": "4771d70e-a55c-4e2b-83aa-5408fadc2e42"
      },
      "execution_count": null,
      "outputs": [
        {
          "output_type": "stream",
          "name": "stdout",
          "text": [
            "2\n"
          ]
        }
      ]
    },
    {
      "cell_type": "markdown",
      "source": [
        "#4. Math Functions"
      ],
      "metadata": {
        "id": "U5qi-97T5YP4"
      }
    },
    {
      "cell_type": "markdown",
      "source": [
        "element-wise addition, subtraction, multiplication and division\n"
      ],
      "metadata": {
        "id": "-so8ct6w5qwX"
      }
    },
    {
      "cell_type": "code",
      "source": [
        "print(arr + 10)\n",
        "print(arr - 10)\n",
        "print(arr * 10)\n",
        "print(arr / 10)"
      ],
      "metadata": {
        "colab": {
          "base_uri": "https://localhost:8080/"
        },
        "id": "itiTfsu75tS0",
        "outputId": "c98767f1-0d55-4947-c09b-9a197832e0bc"
      },
      "execution_count": null,
      "outputs": [
        {
          "output_type": "stream",
          "name": "stdout",
          "text": [
            "[[11 12 13]\n",
            " [14 15 16]]\n",
            "[[-9 -8 -7]\n",
            " [-6 -5 -4]]\n",
            "[[10 20 30]\n",
            " [40 50 60]]\n",
            "[[0.1 0.2 0.3]\n",
            " [0.4 0.5 0.6]]\n"
          ]
        }
      ]
    },
    {
      "cell_type": "code",
      "source": [
        "arr1 = np.array([1,2,3])\n",
        "# the above operations can be performed using numpy built-in functions\n",
        "# which can save memory as the output can be stored in the original array rather than assigning new memoryarr = np.array([1,2,3])\n",
        "np.add(arr1, [8,9,10], out=arr1)\n",
        "print(arr1)\n",
        "\n",
        "np.subtract(arr1, [8,9,10], out=arr1)\n",
        "print(arr1)\n",
        "\n",
        "np.multiply(arr1, [1,2,3], out=arr1)\n",
        "print(arr1)"
      ],
      "metadata": {
        "colab": {
          "base_uri": "https://localhost:8080/"
        },
        "id": "0NRUYeAG5v64",
        "outputId": "6febf3ee-058f-4f9d-c620-f01996d84ee5"
      },
      "execution_count": null,
      "outputs": [
        {
          "output_type": "stream",
          "name": "stdout",
          "text": [
            "[ 9 11 13]\n",
            "[1 2 3]\n",
            "[1 4 9]\n"
          ]
        }
      ]
    },
    {
      "cell_type": "markdown",
      "source": [
        "element-wise exponentiation\n"
      ],
      "metadata": {
        "id": "kOOMY5Sy50fo"
      }
    },
    {
      "cell_type": "code",
      "source": [
        "print(np.exp(arr))"
      ],
      "metadata": {
        "colab": {
          "base_uri": "https://localhost:8080/"
        },
        "id": "J6yE35FP55nu",
        "outputId": "39af8236-fd08-453b-f3f1-9b28be7c4edf"
      },
      "execution_count": null,
      "outputs": [
        {
          "output_type": "stream",
          "name": "stdout",
          "text": [
            "[[  2.71828183   7.3890561   20.08553692]\n",
            " [ 54.59815003 148.4131591  403.42879349]]\n"
          ]
        }
      ]
    },
    {
      "cell_type": "markdown",
      "source": [
        "\n",
        "element-wise logorithm"
      ],
      "metadata": {
        "id": "HIF_GbFU56kY"
      }
    },
    {
      "cell_type": "code",
      "source": [
        "\n",
        "# natural log\n",
        "print(np.log(arr))"
      ],
      "metadata": {
        "colab": {
          "base_uri": "https://localhost:8080/"
        },
        "id": "GIwLPlkO6imw",
        "outputId": "d4058538-7f09-47fb-dce5-d713c6843f28"
      },
      "execution_count": null,
      "outputs": [
        {
          "output_type": "stream",
          "name": "stdout",
          "text": [
            "[[0.         0.69314718 1.09861229]\n",
            " [1.38629436 1.60943791 1.79175947]]\n"
          ]
        }
      ]
    },
    {
      "cell_type": "code",
      "source": [
        "# base 2\n",
        "print(np.log2(arr))"
      ],
      "metadata": {
        "colab": {
          "base_uri": "https://localhost:8080/"
        },
        "id": "1kew518k6kx2",
        "outputId": "a4c62bde-62b7-4757-941e-7764114a59f0"
      },
      "execution_count": null,
      "outputs": [
        {
          "output_type": "stream",
          "name": "stdout",
          "text": [
            "[[0.         1.         1.5849625 ]\n",
            " [2.         2.32192809 2.5849625 ]]\n"
          ]
        }
      ]
    },
    {
      "cell_type": "code",
      "source": [
        "# base 10\n",
        "print(np.log10(arr))"
      ],
      "metadata": {
        "colab": {
          "base_uri": "https://localhost:8080/"
        },
        "id": "fG8QOFzs60eh",
        "outputId": "bffac471-039d-4a66-840e-2195bbff1a6a"
      },
      "execution_count": null,
      "outputs": [
        {
          "output_type": "stream",
          "name": "stdout",
          "text": [
            "[[0.         0.30103    0.47712125]\n",
            " [0.60205999 0.69897    0.77815125]]\n"
          ]
        }
      ]
    },
    {
      "cell_type": "code",
      "source": [
        "\n"
      ],
      "metadata": {
        "id": "-3vnGiyY62om"
      },
      "execution_count": null,
      "outputs": []
    }
  ]
}